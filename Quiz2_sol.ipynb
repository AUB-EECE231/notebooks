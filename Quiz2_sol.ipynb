{
 "cells": [
  {
   "cell_type": "markdown",
   "metadata": {},
   "source": [
    "<center>\n",
    "\n",
    "# EECE 231 - Intr. to Programming & Comp. with Applications\n",
    "\n",
    "# Fall 2021-2022\n",
    "\n",
    "## Quiz - II\n",
    "  \n",
    "</center>\n",
    "\n",
    "* **Place your AUB photo ID** on your desk.\n",
    "\n",
    "* You have **2 hours and 30 minutes** to complete the exam.\n",
    "\n",
    "* There are **5 problems** on this exam. The problems are **not in order of difficulty**. Please read fully the problems before starting.\n",
    "\n",
    "* Next to each problem you find our estimate on how many minutes it should take you to solve it.\n",
    "\n",
    "* For each problem, you may describe at the beginning of your program –appropriately commented out– the main idea of your solution. A description of how you break the problem into various pieces is for example valuable. Be sure to use comments to explain what you are doing. A program that does not run may be worth significant partial credit if your algorithm is correct and your ideas are sensible.\n",
    "\n",
    "* The exam is **closed book**, except for what was provided to you on the desktop.\n",
    "\n",
    "* **Use of cell-phones is NOT allowed.**\n",
    "\n",
    "* If you violate the above rules or if you communicate with a person other than the exam proctors during the exam, you will immediately get zero and you will be referred to the appropriate disciplinary committee."
   ]
  },
  {
   "cell_type": "markdown",
   "metadata": {},
   "source": [
    "## Problem 1 (30 min)"
   ]
  },
  {
   "cell_type": "markdown",
   "metadata": {},
   "source": [
    "Given a list of strings `L`, and a string `inStr`, we want to search `L` for two strings `str1` and `str2` such that their concatenation is equal to `inStr` (i.e., the characters in `str1` followed by those in `str2` will form `inStr`). If these two strings are found in `L`, the function should return a tuple of their ordered indices; otherwise, if they are not found, the function should return None (see the sample input-outputs below).\n",
    "\n",
    "\n",
    "<center>\n",
    "    <img src = \"StringSearch.png\", width =\"600\">\n",
    "</center>\n",
    "\n",
    "\n",
    "Assume that `L` is of size $n$ (i.e., includes $n$ strings), we want to write three versions of the solution with different complexities in terms of $n$. Here, the complexity analysis only depends on the size of `L`, and is independent of the size of the strings. In other words, you can assume that the `inStr` and the individual strings in `L` are small so that any string operations (e.g., iterating over the characters in `inStr`) are assumed to be done in constant time. "
   ]
  },
  {
   "cell_type": "markdown",
   "metadata": {},
   "source": [
    "#### (a) Version 1\n",
    "\n",
    "Write the function `strSearchV1(L, inStr)`, which searches for `str1` and `str2` as described above by taking all pairs of strings in `L`, concatenating them, and checking if the result is equal to the `inStr`. Your solution should be done in $O(n^2)$ time. \n",
    "\n",
    "*Note: the returned indices don’t have to be distinct, i.e., $(i,i)$ is a valid answer if the string at index $i$ concatenated with itself gives the* `inStr`."
   ]
  },
  {
   "cell_type": "code",
   "execution_count": 2,
   "metadata": {},
   "outputs": [],
   "source": [
    "# Problem 1 - (a) Solutions\n",
    "\n",
    "def strSearchV1(L, inStr):\n",
    "    for i, str1 in enumerate(L):\n",
    "        for j, str2 in enumerate(L):\n",
    "            if str1 + str2 == inStr:\n",
    "                return (i,j)"
   ]
  },
  {
   "cell_type": "markdown",
   "metadata": {},
   "source": [
    "#### (b) Version 2\n",
    "\n",
    "Write the function `strSearchV2(L, inStr)`, which solves the same problem but in $O(n \\log n)$ time. You can achieve this by using a sorted copy of `L`, and then for each `str1` in `L`, use binary search to find the complement `str2`. Note that the list `L` should not be modified, and the returned tuple should hold the indices relevant to the original unordered `L` (i.e., not relevant to the sorted copy); thus, the output of `strSearchV2` should match that of `strSearchV1`."
   ]
  },
  {
   "cell_type": "code",
   "execution_count": 3,
   "metadata": {},
   "outputs": [],
   "source": [
    "# Problem 1 - (b) Solutions\n",
    "\n",
    "def binary_search(L,target): #assumes L is sorted\n",
    "    lower=0            \n",
    "    upper=len(L)-1\n",
    "    while lower<=upper:\n",
    "        mid = (lower+upper)//2\n",
    "        if L[mid]==target:  \n",
    "            return mid\n",
    "        if target<L[mid]:\n",
    "            upper = mid-1\n",
    "        else:\n",
    "            lower=mid+1\n",
    "            \n",
    "def strSearchV2(L, inStr):\n",
    "    L2 = sorted(L) \n",
    "    \n",
    "    for i, str1 in enumerate(L2):  \n",
    "        s_len = len(str1)\n",
    "        if str1 == inStr[:s_len]:\n",
    "            str2 = inStr[s_len:] \n",
    "            idx = binary_search(L2,str2)   \n",
    "            if idx is not None:\n",
    "                # search for str1 and str2 in L\n",
    "                # We can use our own linear search function/logic or simply use the built-in list.index method\n",
    "                return (L.index(str1), L.index(str2)) # L.index is a linear time operation"
   ]
  },
  {
   "cell_type": "markdown",
   "metadata": {},
   "source": [
    "#### (c) Version 3\n",
    "\n",
    "In `strSearchV3(L, inStr)`, use a dictionary to solve the same problem in linear expected time."
   ]
  },
  {
   "cell_type": "code",
   "execution_count": 4,
   "metadata": {},
   "outputs": [
    {
     "name": "stdout",
     "output_type": "stream",
     "text": [
      "(2, 3)\n",
      "(2, 3)\n",
      "(2, 3)\n",
      " \n",
      "(0, 1)\n",
      "(0, 1)\n",
      "(0, 1)\n",
      " \n",
      "(1, 0)\n",
      "(1, 0)\n",
      "(1, 0)\n",
      " \n",
      "None\n",
      "None\n",
      "None\n",
      " \n",
      "(0, 3)\n",
      "(0, 3)\n",
      "(0, 3)\n",
      " \n",
      "None\n",
      "None\n",
      "None\n"
     ]
    }
   ],
   "source": [
    "# Problem 1 - (c) Solutions\n",
    "\n",
    "\n",
    "def strSearchV3(L, inStr): \n",
    "    d = {} \n",
    "    for i, s in enumerate(L):\n",
    "        d[s] = i\n",
    "        \n",
    "    for j, str1 in enumerate(L):\n",
    "        s_len = len(str1)\n",
    "        if str1 == inStr[:s_len]:  # if str1 in input_str\n",
    "            str2 = inStr[s_len:] \n",
    "            if str2 in d:\n",
    "                idx = d[str2]\n",
    "                return(j,idx)\n",
    "        \n",
    "L = ['head','shoulders ','knees and ','toes!']\n",
    "print(strSearchV1(L,'knees and toes!'))\n",
    "print(strSearchV2(L,'knees and toes!'))\n",
    "print(strSearchV3(L,'knees and toes!'))\n",
    "print(' ')\n",
    "\n",
    "L = ['hi ','there']\n",
    "print(strSearchV1(L,'hi there'))\n",
    "print(strSearchV2(L,'hi there'))\n",
    "print(strSearchV3(L,'hi there'))\n",
    "print(' ')\n",
    "\n",
    "L = ['there','hi ']\n",
    "print(strSearchV1(L,'hi there'))\n",
    "print(strSearchV2(L,'hi there'))\n",
    "print(strSearchV3(L,'hi there'))\n",
    "print(' ')\n",
    "\n",
    "L = ['hi','there'] #No space after 'hi' \n",
    "print(strSearchV1(L,'hi there'))\n",
    "print(strSearchV2(L,'hi there'))\n",
    "print(strSearchV3(L,'hi there'))\n",
    "print(' ')      \n",
    "        \n",
    "L = ['kn','h','shoulders ','ees and toes!']\n",
    "print(strSearchV1(L,'knees and toes!'))\n",
    "print(strSearchV2(L,'knees and toes!'))\n",
    "print(strSearchV3(L,'knees and toes!'))    \n",
    " \n",
    "print(' ')           \n",
    "L = []\n",
    "print(strSearchV1(L,'knees and toes!'))\n",
    "print(strSearchV2(L,'knees and toes!'))\n",
    "print(strSearchV3(L,'knees and toes!'))               "
   ]
  },
  {
   "cell_type": "markdown",
   "metadata": {},
   "source": [
    "## Problem 2 (30 min)"
   ]
  },
  {
   "cell_type": "markdown",
   "metadata": {},
   "source": [
    "#### Part (a):\n",
    "\n",
    "Write a **recursive** function `ListMinimum(A)` that uses a *divide and conquer* approach to find the minimum element of a list A."
   ]
  },
  {
   "cell_type": "code",
   "execution_count": 5,
   "metadata": {},
   "outputs": [
    {
     "name": "stdout",
     "output_type": "stream",
     "text": [
      "3\n",
      "3\n"
     ]
    }
   ],
   "source": [
    "# Problem 2 (a) - Solutions\n",
    "\n",
    "def ListMinimum(A):\n",
    "    # returns the index of the min element\n",
    "    n = len(A)\n",
    "    if n == 0:\n",
    "        return None\n",
    "    elif n == 1:\n",
    "        return 0\n",
    "    else:\n",
    "        mn1 = ListMinimum(A[:n//2])\n",
    "        mn2 = ListMinimum(A[n//2:n])\n",
    "        if A[mn1] < A[mn2 + n//2]:\n",
    "            return mn1\n",
    "        else: \n",
    "            return mn2 + n//2\n",
    "def LM(A,start,end):\n",
    "    \n",
    "    if start==end:\n",
    "        return start\n",
    "    else:\n",
    "        m=(start+end)//2\n",
    "        mn1 = LM(A,start,m)\n",
    "        mn2 = LM(A,m+1,end)\n",
    "        if A[mn1] < A[mn2]:\n",
    "            return mn1\n",
    "        else: \n",
    "            return mn2 \n",
    " \n",
    "L = [3, -1, 6, -8, 4, 2, 0, 4]\n",
    "print(ListMinimum(L))\n",
    "print(LM(L,0,len(L)-1))"
   ]
  },
  {
   "cell_type": "markdown",
   "metadata": {},
   "source": [
    "#### Part (b): \n",
    "\n",
    "Analyze the running time of your solution and write below the recurrence for the worst case running time of your algorithm on a size-$n$ list. Using asymptotic notation, specify the solution of this recurrence."
   ]
  },
  {
   "cell_type": "markdown",
   "metadata": {},
   "source": [
    "Problem 2 (b) - Solutions\n",
    "\n",
    "In what is presented in (a), the problem is divided into two, one of size $n$//2 and one of size ($n$ - $n$//2). After conquering each problem, the \"combine\" time is constant. Hence\n",
    "\n",
    "$$\n",
    "T(n) = T \\left( \\lfloor \\frac{n}{2} \\rfloor \\right) + T \\left( \\lceil \\frac{n}{2} \\rceil \\right) + c\n",
    "$$\n",
    "\n",
    "which is simplified to \n",
    "\n",
    "$$\n",
    "T(n) = 2 T(n/2) + c\n",
    "$$\n",
    "\n",
    "Applying the Master Thorem, $log_b (a) = 1$ and the solution is $T(n) = \\Theta(n)$"
   ]
  },
  {
   "cell_type": "markdown",
   "metadata": {},
   "source": [
    "#### Part (c): \n",
    "\n",
    "Write the **recursive** function `powerSet` that takes a set of **unique** numbers, represented as a list **L** and returns all the subsets (including empty), in no particular order,  of **L**.\n",
    "\n",
    "Example: on input L=[1,'a',3], `powerSet(L)` returns \n",
    "\n",
    "[[],[1],['a'],[1,'a'],[3],[1,3],['a',3],[1,'a',3]]"
   ]
  },
  {
   "cell_type": "code",
   "execution_count": 12,
   "metadata": {},
   "outputs": [
    {
     "data": {
      "text/plain": [
       "[[], [1], ['a'], [1, 'a'], [3], [1, 3], ['a', 3], [1, 'a', 3]]"
      ]
     },
     "execution_count": 12,
     "metadata": {},
     "output_type": "execute_result"
    }
   ],
   "source": [
    "# Problem 2 (c) - Solutions\n",
    "\n",
    "def powerSet(nums):\n",
    "    if len(nums) == 0:\n",
    "        return [[]]\n",
    "    smaller = powerSet(nums[:-1])\n",
    "    smallerPlus = smaller.copy()\n",
    "    for i in range(len(smallerPlus)):\n",
    "        smallerPlus[i] = smallerPlus[i]+[nums[-1]]\n",
    "    return smaller+smallerPlus\n",
    "\n",
    "a=powerSet([1,'a',3])\n",
    "a"
   ]
  },
  {
   "cell_type": "markdown",
   "metadata": {},
   "source": [
    "## Problem 3 (30 min)"
   ]
  },
  {
   "cell_type": "markdown",
   "metadata": {},
   "source": [
    "#### Part (a):\n",
    "\n",
    "Consider the sequence: ${\\displaystyle a_{0},a_{1},a_{2}\\dots }$ defined as:\n",
    "\n",
    "$${\\displaystyle a_{n}={\\begin{cases}0&&{\\text{if }}n=0\\\\a_{n-1}+n&&{\\text{otherwise}}\\end{cases}}}$$\n",
    "\n",
    "The first terms of the sequence are: 0, 1, 3, 6, 10, 15, ...\n",
    "\n",
    "Write the **recursive** function `mySeries(n)` that computes $a_n$."
   ]
  },
  {
   "cell_type": "code",
   "execution_count": 16,
   "metadata": {},
   "outputs": [
    {
     "data": {
      "text/plain": [
       "6"
      ]
     },
     "execution_count": 16,
     "metadata": {},
     "output_type": "execute_result"
    }
   ],
   "source": [
    "# Problem 3 (a) - Solutions\n",
    "\n",
    "def mySeries(n):\n",
    "    assert n >= 0, 'The input argument should be non-negative'\n",
    "    if n == 0:\n",
    "        return 0\n",
    "    else:\n",
    "        return n + mySeries(n-1)\n",
    "    \n",
    "mySeries(3)"
   ]
  },
  {
   "cell_type": "markdown",
   "metadata": {},
   "source": [
    "#### Part (b):\n",
    "\n",
    "Quoting *Wikipedia*: The Recaman sequence: ${\\displaystyle a_{0},a_{1},a_{2}\\dots }$ is defined as:\n",
    "\n",
    "$${\\displaystyle a_{n}={\\begin{cases}0&&{\\text{if }}n=0\\\\a_{n-1}-n&&{\\text{if }}(a_{n-1}-n)>0{\\text{ and is not already in the sequence}}\\\\a_{n-1}+n&&{\\text{otherwise}}\\end{cases}}}$$\n",
    "\n",
    "The first terms of the sequence are: 0, 1, 3, 6, 2, 7, 13, 20, 12, 21, 11, 22, 10, 23, 9, 24 ...\n",
    "\n",
    "Write an efficient function `Recaman(n)` that computes and returns all sequence values upto $a_n$. \n",
    "\n",
    "Additionally, **plot** the values: $a_0, \\cdots, a_{100}$ and make sure you label you axes and provide a title to your plot."
   ]
  },
  {
   "cell_type": "code",
   "execution_count": 34,
   "metadata": {},
   "outputs": [
    {
     "name": "stdout",
     "output_type": "stream",
     "text": [
      "[0, 1, 3, 6, 2, 7, 13, 20, 12, 21, 11, 22, 10, 23, 9, 24]\n"
     ]
    },
    {
     "data": {
      "image/png": "[encoded data removed]",
      "text/plain": [
       "<Figure size 432x288 with 1 Axes>"
      ]
     },
     "metadata": {
      "needs_background": "light"
     },
     "output_type": "display_data"
    }
   ],
   "source": [
    "# Problem 3 (b) - Solutions\n",
    "\n",
    "def Recaman(n):\n",
    "    assert n >= 0, 'The input argument should be non-negative'\n",
    "    L = [0]*(n+1)\n",
    "    for j in range(1,n+1):\n",
    "        tmp = L[j-1] - j\n",
    "        if (tmp not in L) and (tmp > 0):\n",
    "            L[j] = tmp\n",
    "        else:\n",
    "            L[j] = L[j-1] + j\n",
    "    return L\n",
    "\n",
    "L = Recaman(15)\n",
    "print(L)\n",
    "\n",
    "import matplotlib.pyplot as plt\n",
    "L = Recaman(100)\n",
    "plt.plot(L)\n",
    "plt.xlabel('Index n')\n",
    "plt.ylabel('a_n')\n",
    "plt.title('Recaman sequence 0 to 100')\n",
    "plt.show()"
   ]
  },
  {
   "cell_type": "markdown",
   "metadata": {},
   "source": [
    "#### Part (c) (Bonus)\n",
    "\n",
    "Write the function `checkRecaman(k)` that returns `True` if $k$ appears in the Recaman sequence and `False` otherwise."
   ]
  },
  {
   "cell_type": "code",
   "execution_count": null,
   "metadata": {},
   "outputs": [],
   "source": [
    "# Problem 3 (c) - Solutions\n",
    "\n",
    "# It is believed that all numbers will eventually appear in a Recaman sequence. \n",
    "# This is an unproven statement (An open problem) which means that the function checkRecaman is \n",
    "# probably not feasible. Will keep an eye on your solution to see if you have indirectly contributed \n",
    "# to the solution to an open problem.\n",
    "#\n",
    "# In these solutions, we check for example whether \"k\" appears in the sequence up to n\n",
    "\n",
    "def checkRecaman(k,n):\n",
    "    L = Recaman(n)\n",
    "    if k in L:\n",
    "        return True\n",
    "    return False\n",
    "\n",
    "checkRecaman(254,100)"
   ]
  },
  {
   "cell_type": "markdown",
   "metadata": {},
   "source": [
    "## Problem 4 (30 min)"
   ]
  },
  {
   "cell_type": "markdown",
   "metadata": {},
   "source": [
    "#### Part (a): \n",
    "\n",
    "In his efforts to detect cheating, the instructor decides the following: Two solutions s1 and s2 are deemed **identical if s2 can be formed by permuting characters of s1**.\n",
    "\n",
    "For example:\n",
    "```python\n",
    "a = 0\n",
    "a += 1\n",
    "return a*a\n",
    "```\n",
    "\n",
    "and\n",
    "```python\n",
    "b = 0\n",
    "b += 1\n",
    "return b*b\n",
    "```\n",
    "\n",
    "are deemed identical and the second solution (string) is the first where `a` is replaced by `b` (you can think that `a` and `b` are permuted.)\n",
    "\n",
    "Write a function `isSame(s1,s2)`, which given two solutions (i.e., strings) s1 and s2, returns `True` if they are identical (as per the definition above), and `False` otherwise.\n",
    "\n",
    "*Note: Full grade is give to O(n1 + n2) (expected) time solutions*"
   ]
  },
  {
   "cell_type": "code",
   "execution_count": 4,
   "metadata": {},
   "outputs": [
    {
     "name": "stdout",
     "output_type": "stream",
     "text": [
      "{'b': 1, 'a': 1, 's': 2, 'e': 1}\n",
      "{1: 3, 2: 1}\n"
     ]
    },
    {
     "data": {
      "text/plain": [
       "True"
      ]
     },
     "execution_count": 4,
     "metadata": {},
     "output_type": "execute_result"
    }
   ],
   "source": [
    "# Problem 4 (a) - Solutions\n",
    "\n",
    "def chCount(st):\n",
    "    dict = {}\n",
    "    for j in st:\n",
    "        if j in dict:\n",
    "            dict[j] += 1\n",
    "        else:\n",
    "            dict[j] = 1\n",
    "    return dict\n",
    "\n",
    "D = chCount('bases')\n",
    "print(D)\n",
    "\n",
    "def counts(d):\n",
    "    dd = {}\n",
    "    for k in d:\n",
    "        if d[k] in dd:\n",
    "            dd[d[k]] += 1\n",
    "        else:\n",
    "            dd[d[k]] = 1\n",
    "    return dd\n",
    "\n",
    "DD = counts(D)\n",
    "print(DD)\n",
    "\n",
    "def isSame(s1, s2):\n",
    "    d1 = chCount(s1)\n",
    "    d2 = chCount(s2)\n",
    "    dd1 = counts(d1)\n",
    "    dd2 = counts(d2)\n",
    "    if dd1 == dd2:\n",
    "        return True\n",
    "    else:\n",
    "        return False\n",
    "\n",
    "isSame('return a+1', 'return b+1')"
   ]
  },
  {
   "cell_type": "markdown",
   "metadata": {},
   "source": [
    "#### Part (b):\n",
    "\n",
    "Noticing that this tester produces identical results for codes such as \n",
    "```python\n",
    "a = 0 \n",
    "```\n",
    "\n",
    "and\n",
    "```python\n",
    "b > 1\n",
    "```\n",
    "\n",
    "which are clearly different, help the instructor fine tune his method by improving the code in **(a)**. "
   ]
  },
  {
   "cell_type": "code",
   "execution_count": 1,
   "metadata": {},
   "outputs": [
    {
     "name": "stdout",
     "output_type": "stream",
     "text": [
      "{'b': 1, 'a': 1, 's': 2, 'e': 1}\n"
     ]
    }
   ],
   "source": [
    "# Problem 4 (b) - Solutions\n",
    "\n",
    "# One can elminiate operators; numbers such as integers from the decision mechanism\n",
    "def chCount(st):\n",
    "    dict = {}\n",
    "    for j in st:\n",
    "        try:\n",
    "            int(j)\n",
    "        except ValueError:\n",
    "            t = ((j == '=') or (j == '>') or (j =='<') or (j == '+') or (j == '-') or (j == ' '))\n",
    "            if t == False:\n",
    "                if j in dict:\n",
    "                    dict[j] += 1\n",
    "                else:\n",
    "                    dict[j] = 1\n",
    "    return dict\n",
    "\n",
    "D = chCount('bases += 1')\n",
    "print(D)"
   ]
  },
  {
   "cell_type": "markdown",
   "metadata": {},
   "source": [
    "## Problem 5 (30 min)\n",
    "\n",
    "In this problem we would like to implement a *Linked Sequence* (LS) data structure. A `LS` is a sequence of `Node`s connected to each other. Each `Node` has two components: a value and a `Node` next to it. \n",
    "\n",
    "For example, the `LS`: \n",
    "\n",
    "$\\qquad$ 3 -> 2 -> 7 \n",
    "\n",
    "has three `Node`s: \n",
    "* the first one has value 3 and its next `Node` is the one with value 2, \n",
    "* the `Node` with value 2; its next is the node with value 7,\n",
    "* the `Node` with value 7 has NO next, (i.e. None).\n",
    "\n",
    "1. Write a class `Node` that has two member elements\n",
    "    - `val` denoting an integer value\n",
    "    - `next` is a reference to the `Node` next to (to the right of) it\n",
    "\n",
    "\n",
    "2. Write a class `LS`:\n",
    "    - Has a **start** and **end** `Node`. In the example above, the start `Node` is the one with value 3 and the end `Node` the one with value 7 (for an empty `LS` or a list with one `Node` **start**=**end**)\n",
    "    - Write method `append` that takes a number as a parameter and appends to the list a `Node` with that value\n",
    "    - Write the appropriate method to allow us to print the values of the `LS` in order. \n",
    "    \n",
    "    Example:\n",
    "    ```python\n",
    "    a = LL()\n",
    "    a.append(3)\n",
    "    a.append(7)\n",
    "    print(a)\n",
    "    [3, 7]\n",
    "    ```\n",
    "    \n",
    "3. Write the appropriate method to concatenate two `LS` lists (through the add operator)\n",
    "```python\n",
    "b = LL(999)\n",
    "b.append(333)\n",
    "c = a+b\n",
    "print(c)\n",
    "[3, 7, 999, 333]\n",
    "```"
   ]
  },
  {
   "cell_type": "code",
   "execution_count": null,
   "metadata": {},
   "outputs": [],
   "source": [
    "# Problem 5 - Solutions\n",
    "\n",
    "\n",
    "class Node:\n",
    "    def __init__(self, val, next=None):\n",
    "        self.val, self.next = val, next\n",
    "    def __str__(self):\n",
    "        return str(self.val)\n",
    "\n",
    "class LS:\n",
    "    def __init__(self, val=None):\n",
    "        if val != None:\n",
    "            self.start = Node(val)\n",
    "            self.end   = self.start\n",
    "        else:\n",
    "            self.start = self.end = None\n",
    "\n",
    "    def append(self, val):\n",
    "        n = Node(val)\n",
    "\n",
    "        if self.start == None:\n",
    "            self.start = n\n",
    "            self.end   = n\n",
    "        else:\n",
    "            self.end.next = n\n",
    "            self.end = n\n",
    "   ...:\n",
    "    def __add__(self, other):\n",
    "        new  = LS()\n",
    "        node = self.start\n",
    "        while node != None:\n",
    "            new.append(node.val)\n",
    "            node = node.next\n",
    "        node = other.start\n",
    "        while node != None:\n",
    "            new.append(node.val)\n",
    "            node = node.next\n",
    "\n",
    "        return new\n",
    "\n",
    "    def __str__(self):\n",
    "        n = self.start\n",
    "        s = \"\"\n",
    "        while n!= None:\n",
    "            s = s+str(n.val)\n",
    "            n = n.next\n",
    "            if n != None:\n",
    "                s = s+\",\"\n",
    "        return \"[\"+s+\"]\"\n",
    "\n",
    "\n",
    "a = LS(1)\n",
    "a.append(18)\n",
    "print(a)\n",
    "b = LS()\n",
    "b.append(10)\n",
    "print(b)\n",
    "c = a+b\n",
    "a.append(33)\n",
    "print(a)\n",
    "print(c)"
   ]
  }
 ],
 "metadata": {
  "kernelspec": {
   "display_name": "Python 3",
   "language": "python",
   "name": "python3"
  },
  "language_info": {
   "codemirror_mode": {
    "name": "ipython",
    "version": 3
   },
   "file_extension": ".py",
   "mimetype": "text/x-python",
   "name": "python",
   "nbconvert_exporter": "python",
   "pygments_lexer": "ipython3",
   "version": "3.9.6"
  }
 },
 "nbformat": 4,
 "nbformat_minor": 4
}
