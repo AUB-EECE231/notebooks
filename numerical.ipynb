{
 "cells": [
  {
   "cell_type": "markdown",
   "metadata": {},
   "source": [
    "# Root Finding\n",
    "1. Bisection method\n",
    "1. Newton method\n",
    "1. Secant method"
   ]
  },
  {
   "cell_type": "markdown",
   "metadata": {},
   "source": [
    "## Bisection Method"
   ]
  },
  {
   "cell_type": "code",
   "execution_count": null,
   "metadata": {},
   "outputs": [],
   "source": [
    "%matplotlib inline\n",
    "import matplotlib.pyplot as plt\n"
   ]
  },
  {
   "cell_type": "code",
   "execution_count": null,
   "metadata": {},
   "outputs": [],
   "source": [
    "def fct(x):\n",
    "    return x**3\n",
    "def fctPrime(x):\n",
    "    return 3*x**2\n"
   ]
  },
  {
   "cell_type": "code",
   "execution_count": null,
   "metadata": {},
   "outputs": [],
   "source": [
    "from numpy import sign\n",
    "def bisection(f,low,high,x_tol,y_tol):\n",
    "    s_low=sign(f(low))\n",
    "    s_high=sign(f(high))\n",
    "    if s_low*s_high!=-1:\n",
    "        print('Error: Initial values of the function must have different signs')\n",
    "        return \n",
    "    m=(low+high)/2\n",
    "    while (high-low)>=(2*x_tol): # When false the answer is between m-x_tol and m+x_tol\n",
    "        fm=f(m)\n",
    "        # Not very accurate unless y_tol is extremely small\n",
    "        if abs(fm)<=y_tol: # the value of the function is between 0-y_tol and 0+y_tol\n",
    "            return m\n",
    "        s_m=sign(fm)\n",
    "        if s_m==s_low: # When true the answer is between m and high\n",
    "            low=m\n",
    "        else:          # the answer is between low and m\n",
    "            high=m     \n",
    "        m=(low+high)/2\n",
    "\n",
    "    return m\n",
    "\n",
    "root=bisection(fct,-2,9,10e-6,10e-12) \n",
    "print(root)\n",
    "from math import sin\n",
    "root=bisection(sin,-1,2,10e-6,10e-6)\n",
    "print(root)\n"
   ]
  },
  {
   "cell_type": "code",
   "execution_count": null,
   "metadata": {},
   "outputs": [],
   "source": [
    "from numpy import random,pi\n",
    "def findInterval(f,low=-100,high=100,repeat=100):\n",
    "  \n",
    "    for i in range(repeat):\n",
    "        x,y=random.uniform(low=low,high=high,size=2)\n",
    "        if sign(f(x))!=sign(f(y)):\n",
    "            if x<0:\n",
    "                return x,y\n",
    "            else:\n",
    "                return y,x\n",
    "\n",
    "r=findInterval(sin)\n",
    "if r!=None:\n",
    "    root=bisection(sin,r[0],r[1],10e-5,10e-5)\n",
    "print(root/pi)"
   ]
  },
  {
   "cell_type": "code",
   "execution_count": null,
   "metadata": {},
   "outputs": [],
   "source": [
    "import numpy as np\n",
    "def func(x):\n",
    "    return 10*x**2-x**3+18\n",
    "\n",
    "r=findInterval(func)\n",
    "if r!=None:\n",
    "    root=bisection(func,r[0],r[1],10e-8,10e-12)\n",
    "print(root)\n",
    "print(func(root))\n",
    "\n",
    "x=np.linspace(-5,12)\n",
    "y=[func(v) for v in x]\n",
    "plt.plot(x,y)\n",
    "plt.plot([-5,12],[0,0])\n",
    "plt.show()"
   ]
  },
  {
   "cell_type": "markdown",
   "metadata": {},
   "source": [
    "## Newton-Ralphson Method\n",
    "\n",
    "- Our goal is to find the root of a function $f(x)$, i.e. find $x$ for which $f(x)=0$\n",
    "- Starting from an initial guess $x_i$, the equation of the tangent to $f(x)$ at $x=x_i$ is\n",
    "$$y=f'(x_i)(x-x_i)+f(x_i)$$\n",
    "- Where $f'(x_i)$ is the derivative of $f(x)$ evaluated at $x_i$\n",
    "- The tangent crosses the x-axis when $y=0$ thus\n",
    "$$x=x_i-\\frac{f(x_i)}{f'(x_i)}$$\n",
    "- That point is closer to the root than $x_i$."
   ]
  },
  {
   "cell_type": "code",
   "execution_count": null,
   "metadata": {},
   "outputs": [],
   "source": [
    "def func(x):\n",
    "    return 10*x**2-x**3+18\n",
    "def funcPrime(x):\n",
    "    return 20*x-3*x**2\n",
    "\n",
    "plt.figure(1)\n",
    "x_i=8.5\n",
    "x_i_1=x_i-func(x_i)/funcPrime(x_i)\n",
    "x=np.linspace(7.5,12)\n",
    "y=[func(v) for v in x]\n",
    "plt.plot([x_i,x_i_1],[func(x_i),0],label=\"tangent\")\n",
    "plt.plot(x,y,label=\"f(x)\")\n",
    "plt.plot([7.5,12],[0,0],\"k\")\n",
    "plt.legend(loc=0)\n",
    "plt.text(x_i,-20,\"$x_i$\")\n",
    "plt.text(x_i,130,\"$f(x_i)$\")\n",
    "\n",
    "plt.text(x_i_1,-20,\"$x_{i+1}$\")\n",
    "plt.plot([7.5,x_i],[func(x_i),func(x_i)],\"--g\")\n",
    "plt.plot([x_i,x_i],[func(x_i),0],\"--g\")\n",
    "\n",
    "#plt.show()\n",
    "plt.figure(2)\n",
    "x_i=x_i_1\n",
    "x_i_1=x_i-func(x_i)/funcPrime(x_i)\n",
    "x=np.linspace(7.5,12)\n",
    "y=[func(v) for v in x]\n",
    "plt.plot([x_i,x_i_1],[func(x_i),0],label=\"tangent\")\n",
    "plt.plot(x,y,label=\"f(x)\")\n",
    "plt.plot([7.5,12],[0,0],\"k\")\n",
    "plt.legend(loc=0)\n",
    "plt.text(x_i,20,\"$x_i$\")\n",
    "plt.text(x_i,-130,\"$f(x_i)$\")\n",
    "\n",
    "plt.text(x_i_1,20,\"$x_{i+1}$\")\n",
    "plt.plot([7.5,x_i],[func(x_i),func(x_i)],\"--g\")\n",
    "plt.plot([x_i,x_i],[func(x_i),0],\"--g\")"
   ]
  },
  {
   "cell_type": "code",
   "execution_count": null,
   "metadata": {},
   "outputs": [],
   "source": [
    "\n",
    "def newton(f,fprime,guess,maxIter,y_tol):\n",
    "    n,x=0,guess\n",
    "\n",
    "    while n<=maxIter:\n",
    "        fx=f(x)\n",
    "        fpx=fprime(x)\n",
    "        if abs(fx)<y_tol:\n",
    "            return x\n",
    "        x=x-fx/fpx\n",
    "        n+=1\n",
    "    return x\n",
    "\n",
    "root=newton(func,funcPrime,4,1000,10e-5)\n",
    "print(root)\n",
    "func(root)"
   ]
  },
  {
   "cell_type": "markdown",
   "metadata": {},
   "source": [
    "### Example 2\n",
    "\n",
    "- Find $x$ such that $x=2\\sin x$\n",
    "- First we rewrite $f(x)=x-2\\sin x$. Now we are looking for the root of $f(x)$\n",
    "- $f'(x)=1-2\\cos x$"
   ]
  },
  {
   "cell_type": "code",
   "execution_count": null,
   "metadata": {},
   "outputs": [],
   "source": [
    "from numpy import sin,cos\n",
    "\n",
    "def f(x):\n",
    "    return x-2*sin(x)\n",
    "def fprime(x):\n",
    "    return 1-2*cos(x)\n",
    "\n",
    "x=np.linspace(0,20)\n",
    "y=[f(v) for v in x]\n",
    "plt.plot(x,y)\n",
    "plt.plot([0,6],[0,0])\n",
    "root=newton(f,fprime,1,1000,10e-5)\n",
    "print(root)\n",
    "f(root)"
   ]
  },
  {
   "cell_type": "markdown",
   "metadata": {},
   "source": [
    "### Secant Method"
   ]
  },
  {
   "cell_type": "code",
   "execution_count": null,
   "metadata": {},
   "outputs": [],
   "source": [
    "from numpy import sin\n",
    "def f(x):\n",
    "    return x-2*sin(x)\n",
    "def secant(f,x0,x1,maxIter,y_tol):\n",
    "    n=0\n",
    "\n",
    "    while n<=maxIter:\n",
    "\n",
    "        fx0=f(x0)\n",
    "        fx1=f(x1)\n",
    "        fpx=(fx1-fx0)/(x1-x0)\n",
    "        if abs(fx1)<y_tol:\n",
    "            return x1\n",
    "        x2=x1-fx1/fpx\n",
    "        x0=x1\n",
    "        x1=x2\n",
    "        n+=1\n",
    "    return x1\n",
    "\n",
    "root=secant(f,1,1.1,1000,10e-5)\n",
    "print(root)\n",
    "#f(root)"
   ]
  },
  {
   "cell_type": "markdown",
   "metadata": {},
   "source": [
    "### Example 3\n",
    "- Estimate the value of _e_. We know that\n",
    "$$\\ln e=1$$\n",
    "- Root of $$\\ln x -1 =0$$"
   ]
  },
  {
   "cell_type": "code",
   "execution_count": null,
   "metadata": {},
   "outputs": [],
   "source": [
    "from numpy import log,e\n",
    "def f(x):\n",
    "    return log(x)-1\n",
    "def fp(x):\n",
    "    return 1/x\n",
    "\n",
    "root=newton(f,fp,8,1000,10e-5)\n",
    "print(f'value={e:.4f},computed={root:.4f}')"
   ]
  },
  {
   "cell_type": "code",
   "execution_count": null,
   "metadata": {},
   "outputs": [],
   "source": [
    "x=np.linspace(0.1,10)\n",
    "y=[log(v) for v in x]\n",
    "plt.plot(x,y)"
   ]
  },
  {
   "cell_type": "markdown",
   "metadata": {},
   "source": [
    "## Symbolic Computation\n",
    "\n",
    "- Symbolic computation allow us to manipulate and evaluate mathematical expression in a symbolic way\n",
    "- We will be using sympy to perform symbolic computation"
   ]
  },
  {
   "cell_type": "code",
   "execution_count": 1,
   "metadata": {},
   "outputs": [],
   "source": [
    "import sympy as sym\n"
   ]
  },
  {
   "cell_type": "markdown",
   "metadata": {},
   "source": [
    "### Expressions\n",
    "\n",
    "- Sympy manipulations are based on the concept of (mathematical) **expression**\n",
    "- An expression can be\n",
    "     1. A number\n",
    "     1. A symbol (or variable)\n",
    "     1. A combination of the above using **operators**\n",
    "     1. Others (later)\n"
   ]
  },
  {
   "cell_type": "markdown",
   "metadata": {},
   "source": [
    "### Numbers\n",
    "1. Integers\n",
    "1. Rationals\n",
    "1. Floats"
   ]
  },
  {
   "cell_type": "code",
   "execution_count": 2,
   "metadata": {},
   "outputs": [
    {
     "name": "stdout",
     "output_type": "stream",
     "text": [
      "numerator=1,denominator=2\n",
      "8 1/2 0.400000000000000\n"
     ]
    }
   ],
   "source": [
    "x=sym.Integer(8)\n",
    "y=sym.Rational(1/2)\n",
    "z=sym.Float(0.4)\n",
    "print(x,y,z)\n"
   ]
  },
  {
   "cell_type": "code",
   "execution_count": 8,
   "metadata": {
    "scrolled": true
   },
   "outputs": [
    {
     "name": "stdout",
     "output_type": "stream",
     "text": [
      "<class 'sympy.core.mul.Mul'>\n"
     ]
    },
    {
     "data": {
      "text/latex": [
       "$\\displaystyle \\frac{\\sqrt{2}}{2}$"
      ],
      "text/plain": [
       "sqrt(2)/2"
      ]
     },
     "metadata": {},
     "output_type": "display_data"
    },
    {
     "name": "stdout",
     "output_type": "stream",
     "text": [
      "sqrt(2)/2\n",
      "1/2\n"
     ]
    }
   ],
   "source": [
    "x=sym.sqrt(y)\n",
    "z=sym.sqrt(sym.Rational(2,3))\n",
    "display(x)\n",
    "print(x)\n",
    "print(x**2)"
   ]
  },
  {
   "cell_type": "markdown",
   "metadata": {},
   "source": [
    "#### Evaluate an expression"
   ]
  },
  {
   "cell_type": "code",
   "execution_count": 20,
   "metadata": {},
   "outputs": [
    {
     "name": "stdout",
     "output_type": "stream",
     "text": [
      "sqrt(2)/2 evaluates to real as 0.707106781186548\n",
      "1/2 evalutes to real as 0.500\n"
     ]
    },
    {
     "data": {
      "text/latex": [
       "$\\displaystyle \\frac{\\sqrt{6}}{3}$"
      ],
      "text/plain": [
       "sqrt(6)/3"
      ]
     },
     "metadata": {},
     "output_type": "display_data"
    },
    {
     "name": "stdout",
     "output_type": "stream",
     "text": [
      "evaluates to read as 0.81650\n"
     ]
    }
   ],
   "source": [
    "print(f'{x} evaluates to real as {x.evalf()}')\n",
    "print(f'{y} evalutes to real as {y.evalf():.3f}')\n",
    "display(z)\n",
    "print(f'evaluates to read as {z.evalf():.5f}')\n"
   ]
  },
  {
   "cell_type": "markdown",
   "metadata": {},
   "source": [
    "### Symbols\n",
    "\n",
    "The basic concepts in sympy are **Symbols** and **Constants**. Symbols are combined using operators to form expressions"
   ]
  },
  {
   "cell_type": "code",
   "execution_count": 21,
   "metadata": {},
   "outputs": [
    {
     "name": "stdout",
     "output_type": "stream",
     "text": [
      "<class 'sympy.core.mul.Mul'>\n",
      "<class 'sympy.core.add.Add'>\n"
     ]
    }
   ],
   "source": [
    "## Python variable x is bound to symbol x\n",
    "\n",
    "x=sym.Symbol('x')\n",
    "\n",
    "## it is convenient to have the var name ans symbols be the same\n",
    "## but it is not necessary\n",
    "y=sym.Symbol('Z')\n",
    "expr1=x/y\n",
    "expr2=expr1+x\n",
    "print(type(expr1))\n",
    "print(type(expr2))"
   ]
  },
  {
   "cell_type": "code",
   "execution_count": 22,
   "metadata": {},
   "outputs": [
    {
     "name": "stdout",
     "output_type": "stream",
     "text": [
      "<class 'sympy.core.numbers.Float'>\n",
      "<class 'sympy.core.numbers.Integer'>\n",
      "<class 'sympy.core.add.Add'>\n",
      "14\n",
      "x + 8 + x/Z\n"
     ]
    }
   ],
   "source": [
    "r=expr1.subs({x:3.2,y:2})\n",
    "print(type(r))\n",
    "a=sym.Integer(8)\n",
    "print(type(a))\n",
    "expr3=expr2+a\n",
    "print(type(expr3))\n",
    "r=expr3.subs({x:4,y:2})\n",
    "type(r)\n",
    "print(r)\n",
    "print(expr3)"
   ]
  },
  {
   "cell_type": "code",
   "execution_count": null,
   "metadata": {},
   "outputs": [],
   "source": [
    "print(sym.Integer(8))\n",
    "print(sym.Rational(1,2))"
   ]
  },
  {
   "cell_type": "markdown",
   "metadata": {},
   "source": []
  },
  {
   "cell_type": "code",
   "execution_count": null,
   "metadata": {},
   "outputs": [],
   "source": [
    "\n",
    "a=sym.Rational(1,3)\n",
    "a*3\n",
    "b=2/3\n",
    "b\n",
    "b*3"
   ]
  },
  {
   "cell_type": "markdown",
   "metadata": {},
   "source": [
    "## Constructing and Manipulating Expressions"
   ]
  },
  {
   "cell_type": "markdown",
   "metadata": {},
   "source": [
    "### Automatic simplification\n",
    "\n",
    "- When an expression is defined or manipulated, sympy automatically simplifies it"
   ]
  },
  {
   "cell_type": "code",
   "execution_count": null,
   "metadata": {},
   "outputs": [],
   "source": [
    "x=sym.Symbol('x')\n",
    "y=sym.Symbol('y')\n",
    "expr1=2*x+y+y\n",
    "print(expr1)\n",
    "expr2=expr1-x\n",
    "print(expr2)"
   ]
  },
  {
   "cell_type": "markdown",
   "metadata": {},
   "source": [
    "### Substitution\n",
    "\n",
    "- Symbols in an expression can be substituted with values or other symbols\n",
    "- the method ```expr.subs()``` takes either **one** or **two** parameters\n",
    "   1. When **One** parameter is used is must be a dictionary\n",
    "   1. When **two** parameters are used: the first is the symbol and the second is the substitution\n",
    "\n"
   ]
  },
  {
   "cell_type": "code",
   "execution_count": null,
   "metadata": {},
   "outputs": [],
   "source": [
    "print(expr2)\n",
    "expr2.subs(x,1)"
   ]
  },
  {
   "cell_type": "code",
   "execution_count": null,
   "metadata": {},
   "outputs": [],
   "source": [
    "print(expr2)\n",
    "expr2.subs({x:2,y:2})"
   ]
  },
  {
   "cell_type": "code",
   "execution_count": null,
   "metadata": {},
   "outputs": [],
   "source": [
    "expr2.subs(x,sym.sqrt(y))"
   ]
  },
  {
   "cell_type": "code",
   "execution_count": null,
   "metadata": {},
   "outputs": [],
   "source": [
    "print(expr2)\n",
    "expr2.subs({x:sym.sqrt(y),y:4})"
   ]
  },
  {
   "cell_type": "code",
   "execution_count": null,
   "metadata": {},
   "outputs": [],
   "source": [
    "expr3=(x-y)**2\n",
    "print(expr3)"
   ]
  },
  {
   "cell_type": "code",
   "execution_count": null,
   "metadata": {},
   "outputs": [],
   "source": [
    "expr3.expand()"
   ]
  },
  {
   "cell_type": "markdown",
   "metadata": {},
   "source": [
    "### Simplification\n"
   ]
  },
  {
   "cell_type": "code",
   "execution_count": null,
   "metadata": {},
   "outputs": [],
   "source": [
    "expr=(x+x*y)/x\n",
    "print(expr)"
   ]
  },
  {
   "cell_type": "code",
   "execution_count": null,
   "metadata": {},
   "outputs": [],
   "source": [
    "expr.expand()"
   ]
  },
  {
   "cell_type": "code",
   "execution_count": null,
   "metadata": {},
   "outputs": [],
   "source": [
    "expr.simplify()"
   ]
  },
  {
   "cell_type": "markdown",
   "metadata": {},
   "source": [
    "- So far the symbols _x_ and _y_ were treated as \"regular\" numbers which is the default\n",
    "- We can tell sympy that they represent complex numbers, or expand trig functions"
   ]
  },
  {
   "cell_type": "code",
   "execution_count": null,
   "metadata": {},
   "outputs": [],
   "source": [
    "expr=(x+y)**2\n",
    "expr.expand(complex=True)## x=re(x)+i im(x), y=re(y)+i im(y)\n",
    "expr=sym.cos(x+y)\n",
    "expr.expand(trig=True)"
   ]
  },
  {
   "cell_type": "markdown",
   "metadata": {},
   "source": [
    "#### What is the difference between expand and simplify?\n",
    "\n",
    "- expand is one way sympy simplifies an expressions that is why we got the same answer sometimes.\n",
    "- there are others like factor, collect..."
   ]
  },
  {
   "cell_type": "code",
   "execution_count": null,
   "metadata": {},
   "outputs": [],
   "source": [
    "expr=x**2+y*x**2\n",
    "print(expr)\n",
    "print(expr.simplify()) # uses collect, i.e. collects all factors of x together\n"
   ]
  },
  {
   "cell_type": "code",
   "execution_count": null,
   "metadata": {},
   "outputs": [],
   "source": [
    "expr=x**2+y*x**2+y\n",
    "# this will not work since there are two choices and sympy doesn't know what to do: collect x or collect y\n",
    "print(expr.simplify())\n",
    "# we can tell it what to do\n",
    "expr.collect(x)"
   ]
  },
  {
   "cell_type": "markdown",
   "metadata": {},
   "source": [
    "#### other simplifications"
   ]
  },
  {
   "cell_type": "code",
   "execution_count": null,
   "metadata": {},
   "outputs": [],
   "source": [
    "expr=sym.sin(x)**2+sym.cos(x)**2\n",
    "print(expr.simplify())\n",
    "## sometimes simplification is automatic\n",
    "expr=(x**2/x**1)**2+y**3*y**4\n",
    "print(expr)"
   ]
  },
  {
   "cell_type": "markdown",
   "metadata": {},
   "source": [
    "## Calculus"
   ]
  },
  {
   "cell_type": "markdown",
   "metadata": {},
   "source": [
    "### Limits"
   ]
  },
  {
   "cell_type": "code",
   "execution_count": null,
   "metadata": {},
   "outputs": [],
   "source": [
    "x=sym.Symbol('x')\n",
    "expr=sym.sin(x)/x\n",
    "expr"
   ]
  },
  {
   "cell_type": "code",
   "execution_count": null,
   "metadata": {},
   "outputs": [],
   "source": [
    "print(expr.limit(x,0))\n",
    "print(expr.limit(x,sym.oo))\n",
    "sym.limit(1/x,x,0)\n"
   ]
  },
  {
   "cell_type": "markdown",
   "metadata": {},
   "source": [
    "### Differentiation"
   ]
  },
  {
   "cell_type": "code",
   "execution_count": null,
   "metadata": {},
   "outputs": [],
   "source": [
    "expr=x**2+y\n",
    "## derivative with respect to x\n",
    "print(expr.diff(x))\n",
    "## derivative with respect to y\n",
    "print(expr.diff(y))\n",
    "## second derivative with respect to x\n",
    "expr.diff(x,2)"
   ]
  },
  {
   "cell_type": "markdown",
   "metadata": {},
   "source": [
    "### Integration\n"
   ]
  },
  {
   "cell_type": "code",
   "execution_count": null,
   "metadata": {},
   "outputs": [],
   "source": [
    "expr=x\n",
    "expr.integrate(x)\n",
    "sym.integrate(expr,x)"
   ]
  },
  {
   "cell_type": "code",
   "execution_count": null,
   "metadata": {},
   "outputs": [],
   "source": [
    "expr=x*sym.exp(x**2)\n",
    "display(expr.integrate())\n",
    "expr=x*sym.sin(x)\n",
    "expr.integrate()"
   ]
  },
  {
   "cell_type": "code",
   "execution_count": null,
   "metadata": {},
   "outputs": [],
   "source": [
    "## definite integral\n",
    "\n",
    "expr=sym.exp(-x**2)\n",
    "r=expr.integrate((x,-sym.oo,sym.oo))\n",
    "display(r)## uses latex to render the output\n",
    "print(r) ## plain string representation, i.e. calls __str__\n",
    "expr=x*sym.sin(x)\n",
    "expr.integrate((x,0,sym.pi))"
   ]
  },
  {
   "cell_type": "markdown",
   "metadata": {},
   "source": [
    "### Series expansion\n",
    "\n"
   ]
  },
  {
   "cell_type": "code",
   "execution_count": null,
   "metadata": {},
   "outputs": [],
   "source": [
    "expr=sym.exp(x)\n",
    "display(expr.series(x))\n",
    "expr=sym.sin(x)\n",
    "expr.series(x)"
   ]
  },
  {
   "cell_type": "markdown",
   "metadata": {},
   "source": []
  },
  {
   "cell_type": "code",
   "execution_count": 2,
   "metadata": {},
   "outputs": [
    {
     "data": {
      "text/plain": [
       "(x, y)"
      ]
     },
     "execution_count": 2,
     "metadata": {},
     "output_type": "execute_result"
    }
   ],
   "source": [
    "import sympy as sym\n",
    "y=sym.Rational(2,3)\n",
    "sym.symbols('x y')\n",
    "\n"
   ]
  },
  {
   "cell_type": "markdown",
   "metadata": {},
   "source": [
    "## Equation Solving\n"
   ]
  },
  {
   "cell_type": "code",
   "execution_count": 258,
   "metadata": {},
   "outputs": [
    {
     "data": {
      "text/latex": [
       "$\\displaystyle \\left\\{- \\sqrt{2}, \\sqrt{2}\\right\\}$"
      ],
      "text/plain": [
       "FiniteSet(sqrt(2), -sqrt(2))"
      ]
     },
     "metadata": {},
     "output_type": "display_data"
    },
    {
     "data": {
      "text/latex": [
       "$\\displaystyle \\left\\{-1, 1, - i, i\\right\\}$"
      ],
      "text/plain": [
       "FiniteSet(-1, 1, I, -I)"
      ]
     },
     "metadata": {},
     "output_type": "display_data"
    },
    {
     "data": {
      "text/latex": [
       "$\\displaystyle \\left\\{-1, 1\\right\\}$"
      ],
      "text/plain": [
       "FiniteSet(-1, 1)"
      ]
     },
     "metadata": {},
     "output_type": "display_data"
    }
   ],
   "source": [
    "import sympy as sym\n",
    "\n",
    "x=sym.symbols('x')\n",
    "## defines an equality relations\n",
    "eq=sym.Eq(x**2,2)\n",
    "display(sym.solveset(eq))\n",
    "\n",
    "## alternatively we can pass an expression which is assumed to be equal to 0\n",
    "r1=sym.solveset(x**4-1,x)\n",
    "r2=sym.solveset(x**4-1,x,domain=sym.Reals)\n",
    "display(r1)\n",
    "display(r2)\n"
   ]
  },
  {
   "cell_type": "markdown",
   "metadata": {},
   "source": [
    "#### Solving a system of equations"
   ]
  },
  {
   "cell_type": "code",
   "execution_count": 96,
   "metadata": {},
   "outputs": [
    {
     "data": {
      "text/plain": [
       "{x: -3, y: 1}"
      ]
     },
     "execution_count": 96,
     "metadata": {},
     "output_type": "execute_result"
    }
   ],
   "source": [
    "sym.solve((x+5*y-2,-3*x+6*y-15),(x,y))\n"
   ]
  },
  {
   "cell_type": "code",
   "execution_count": 260,
   "metadata": {},
   "outputs": [
    {
     "data": {
      "text/latex": [
       "$\\displaystyle \\left(x^{2} - x - 1\\right) \\left(x^{2} + x - 1\\right)$"
      ],
      "text/plain": [
       "(x**2 - x - 1)*(x**2 + x - 1)"
      ]
     },
     "metadata": {},
     "output_type": "display_data"
    },
    {
     "data": {
      "text/latex": [
       "$\\displaystyle \\left\\{- \\frac{1}{2} + \\frac{\\sqrt{5}}{2}, \\frac{1}{2} - \\frac{\\sqrt{5}}{2}, \\frac{1}{2} + \\frac{\\sqrt{5}}{2}, - \\frac{\\sqrt{5}}{2} - \\frac{1}{2}\\right\\}$"
      ],
      "text/plain": [
       "FiniteSet(-1/2 + sqrt(5)/2, 1/2 - sqrt(5)/2, 1/2 + sqrt(5)/2, -sqrt(5)/2 - 1/2)"
      ]
     },
     "metadata": {},
     "output_type": "display_data"
    },
    {
     "data": {
      "text/latex": [
       "$\\displaystyle \\left\\{\\frac{1}{2} - \\frac{\\sqrt{5}}{2}, \\frac{1}{2} + \\frac{\\sqrt{5}}{2}\\right\\}$"
      ],
      "text/plain": [
       "FiniteSet(1/2 - sqrt(5)/2, 1/2 + sqrt(5)/2)"
      ]
     },
     "metadata": {},
     "output_type": "display_data"
    }
   ],
   "source": [
    "f=x**4-3*x**2+1\n",
    "r1=sym.factor(f)\n",
    "\n",
    "r2=sym.solveset(f)\n",
    "r3=sym.solveset(x**2-x-1)\n",
    "\n",
    "display(r1)\n",
    "display(r2)\n",
    "display(r3)"
   ]
  },
  {
   "cell_type": "code",
   "execution_count": 261,
   "metadata": {},
   "outputs": [
    {
     "data": {
      "text/latex": [
       "$\\displaystyle \\left(x - 2\\right)^{2} \\left(x + 2\\right)^{2}$"
      ],
      "text/plain": [
       "(x - 2)**2*(x + 2)**2"
      ]
     },
     "execution_count": 261,
     "metadata": {},
     "output_type": "execute_result"
    }
   ],
   "source": [
    "r=sym.factor(f,modulus=5)\n",
    "r"
   ]
  },
  {
   "cell_type": "markdown",
   "metadata": {},
   "source": [
    "To see why $x=2$ is a solution modulo 5 just perform the operations modulo 5"
   ]
  },
  {
   "cell_type": "code",
   "execution_count": 194,
   "metadata": {},
   "outputs": [
    {
     "data": {
      "text/latex": [
       "$\\displaystyle x^{4} - 3 x^{2} + 1$"
      ],
      "text/plain": [
       "x**4 - 3*x**2 + 1"
      ]
     },
     "metadata": {},
     "output_type": "display_data"
    },
    {
     "data": {
      "text/latex": [
       "$\\displaystyle \\left(x^{4} - 3 x^{2} + 1\\right)\\bmod{5}$"
      ],
      "text/plain": [
       "Mod(x**4 - 3*x**2 + 1, 5)"
      ]
     },
     "metadata": {},
     "output_type": "display_data"
    },
    {
     "data": {
      "text/latex": [
       "$\\displaystyle 0$"
      ],
      "text/plain": [
       "0"
      ]
     },
     "execution_count": 194,
     "metadata": {},
     "output_type": "execute_result"
    }
   ],
   "source": [
    "x=sym.symbols('x')\n",
    "f=x**4-3*x**2+1\n",
    "display(f)\n",
    "fmod5=(x**4-3*x**2+1)%5\n",
    "display(fmod5)\n",
    "fmod5.subs(x,-2)\n",
    "#v**4%5-3*v**2%5+1"
   ]
  },
  {
   "cell_type": "markdown",
   "metadata": {},
   "source": [
    "#### No solution and unsolvable "
   ]
  },
  {
   "cell_type": "code",
   "execution_count": 265,
   "metadata": {},
   "outputs": [
    {
     "data": {
      "text/latex": [
       "$\\displaystyle \\emptyset$"
      ],
      "text/plain": [
       "EmptySet"
      ]
     },
     "metadata": {},
     "output_type": "display_data"
    },
    {
     "data": {
      "text/latex": [
       "$\\displaystyle \\left\\{x\\; \\middle|\\; x \\in \\mathbb{C} \\wedge - x + \\cos{\\left(x \\right)} = 0 \\right\\}$"
      ],
      "text/plain": [
       "ConditionSet(x, Eq(-x + cos(x), 0), Complexes)"
      ]
     },
     "metadata": {},
     "output_type": "display_data"
    },
    {
     "data": {
      "text/latex": [
       "$\\displaystyle -2.48813116188185 \\cdot 10^{-5}$"
      ],
      "text/plain": [
       "-2.48813116188185e-5"
      ]
     },
     "execution_count": 265,
     "metadata": {},
     "output_type": "execute_result"
    }
   ],
   "source": [
    "x=sym.symbols('x')\n",
    "## no solution\n",
    "r1=sym.solveset(sym.exp(x),x)\n",
    "display(r1)\n",
    "\n",
    "## sympy cannot solve this\n",
    "r2=sym.solveset(sym.cos(x)-x,x)\n",
    "display(r2)\n",
    "\n",
    "## A solution for the above exists. It is around 0.7391\n",
    "x=0.7391\n",
    "sym.cos(x)-x\n",
    "\n",
    "## Check out the plot below"
   ]
  },
  {
   "cell_type": "code",
   "execution_count": 266,
   "metadata": {},
   "outputs": [
    {
     "data": {
      "text/plain": [
       "[<matplotlib.lines.Line2D at 0x1b659f4b4f0>,\n",
       " <matplotlib.lines.Line2D at 0x1b659f4b520>]"
      ]
     },
     "execution_count": 266,
     "metadata": {},
     "output_type": "execute_result"
    },
    {
     "data": {
      "image/png": "[encoded data removed]",
      "text/plain": [
       "<Figure size 432x288 with 1 Axes>"
      ]
     },
     "metadata": {
      "needs_background": "light"
     },
     "output_type": "display_data"
    }
   ],
   "source": [
    "import numpy as np\n",
    "import matplotlib.pyplot as plt \n",
    "\n",
    "x=np.linspace(0,1)\n",
    "y=[np.cos(v) for v in x]\n",
    "plt.plot(x,y,x,x)"
   ]
  },
  {
   "cell_type": "markdown",
   "metadata": {},
   "source": [
    "#### Infinite number of solutions"
   ]
  },
  {
   "cell_type": "code",
   "execution_count": 31,
   "metadata": {},
   "outputs": [
    {
     "data": {
      "text/latex": [
       "$\\displaystyle \\mathbb{C}$"
      ],
      "text/plain": [
       "S.Complexes"
      ]
     },
     "metadata": {},
     "output_type": "display_data"
    },
    {
     "data": {
      "text/latex": [
       "$\\displaystyle \\mathbb{R}$"
      ],
      "text/plain": [
       "Reals"
      ]
     },
     "metadata": {},
     "output_type": "display_data"
    },
    {
     "data": {
      "text/latex": [
       "$\\displaystyle \\left\\{-1, 1\\right\\}$"
      ],
      "text/plain": [
       "FiniteSet(-1, 1)"
      ]
     },
     "metadata": {},
     "output_type": "display_data"
    }
   ],
   "source": [
    "r1=sym.solveset(x-x,x)\n",
    "r2=sym.solveset(x-x,x,domain=sym.Reals)\n",
    "display(r1)\n",
    "display(r2)\n"
   ]
  },
  {
   "cell_type": "code",
   "execution_count": 98,
   "metadata": {},
   "outputs": [
    {
     "data": {
      "text/latex": [
       "$\\displaystyle \\left\\{2 n \\pi + \\frac{\\pi}{2}\\; \\middle|\\; n \\in \\mathbb{Z}\\right\\}$"
      ],
      "text/plain": [
       "ImageSet(Lambda(_n, 2*_n*pi + pi/2), Integers)"
      ]
     },
     "metadata": {},
     "output_type": "display_data"
    }
   ],
   "source": [
    "r1=sym.solveset(sym.sin(x)-1)\n",
    "display(r1)"
   ]
  },
  {
   "cell_type": "code",
   "execution_count": 99,
   "metadata": {},
   "outputs": [
    {
     "data": {
      "text/latex": [
       "$\\displaystyle \\emptyset$"
      ],
      "text/plain": [
       "EmptySet"
      ]
     },
     "execution_count": 99,
     "metadata": {},
     "output_type": "execute_result"
    }
   ],
   "source": [
    "sym.solveset(x**2+1,domain=sym.Reals)"
   ]
  },
  {
   "cell_type": "markdown",
   "metadata": {},
   "source": [
    "#### Multiple equations with constraints"
   ]
  },
  {
   "cell_type": "code",
   "execution_count": 103,
   "metadata": {},
   "outputs": [
    {
     "data": {
      "text/plain": [
       "[{y: pi, x: pi/2}, {y: pi, x: 3*pi/2}]"
      ]
     },
     "execution_count": 103,
     "metadata": {},
     "output_type": "execute_result"
    }
   ],
   "source": [
    "sym.solve((sym.cos(x-y),y-sym.pi))"
   ]
  },
  {
   "cell_type": "markdown",
   "metadata": {},
   "source": [
    "### Satisfiability"
   ]
  },
  {
   "cell_type": "code",
   "execution_count": 267,
   "metadata": {},
   "outputs": [
    {
     "data": {
      "text/plain": [
       "{y: True, x: True}"
      ]
     },
     "execution_count": 267,
     "metadata": {},
     "output_type": "execute_result"
    }
   ],
   "source": [
    "x,y=sym.symbols('x y')\n",
    "sym.satisfiable(x & y)"
   ]
  },
  {
   "cell_type": "code",
   "execution_count": 134,
   "metadata": {},
   "outputs": [
    {
     "data": {
      "text/plain": [
       "False"
      ]
     },
     "execution_count": 134,
     "metadata": {},
     "output_type": "execute_result"
    }
   ],
   "source": [
    "x,y=sym.symbols('x y')\n",
    "sym.satisfiable((x& ~y) &(~x & y))"
   ]
  },
  {
   "cell_type": "markdown",
   "metadata": {},
   "source": [
    "#### Example"
   ]
  },
  {
   "cell_type": "markdown",
   "metadata": {},
   "source": [
    "\n",
    "| Name  | Availability |\n",
    "|-------|--------------|\n",
    "|  Adam | Available Monday and Wednesday and Friday|\n",
    "|  Eve  | Not available on Tuesday |\n",
    "|  John | Not available on Monday |\n",
    "| Omar  | Available  Wednesday, Thursday and Friday |\n",
    "|  Donald | Available on Tuesday and Friday |\n"
   ]
  },
  {
   "cell_type": "code",
   "execution_count": 202,
   "metadata": {},
   "outputs": [
    {
     "data": {
      "text/plain": [
       "{f: True, m: False, w: False, t: False, r: False}"
      ]
     },
     "execution_count": 202,
     "metadata": {},
     "output_type": "execute_result"
    }
   ],
   "source": [
    "m,t,w,r,f=sym.symbols('m t w r f')\n",
    "expr=( ~ t & ~ r)  & (~ t) & (~m) & (~m & ~t) & (~m & ~w & ~r )\n",
    "expr=expr & (m | t | w | r |f )\n",
    "sym.satisfiable(expr)"
   ]
  },
  {
   "cell_type": "markdown",
   "metadata": {},
   "source": [
    "#### Matrices"
   ]
  },
  {
   "cell_type": "code",
   "execution_count": 268,
   "metadata": {},
   "outputs": [
    {
     "data": {
      "text/latex": [
       "$\\displaystyle \\left[\\begin{matrix}3 x + 1 & 4 x + 2\\\\x + 3 & 2 x + 4\\end{matrix}\\right]$"
      ],
      "text/plain": [
       "Matrix([\n",
       "[3*x + 1, 4*x + 2],\n",
       "[  x + 3, 2*x + 4]])"
      ]
     },
     "metadata": {},
     "output_type": "display_data"
    }
   ],
   "source": [
    "A=sym.Matrix([[1,x],[x,1]])\n",
    "B=sym.Matrix([[1,2],[3,4]])\n",
    "display(A*B)\n"
   ]
  },
  {
   "cell_type": "code",
   "execution_count": 278,
   "metadata": {},
   "outputs": [
    {
     "data": {
      "text/latex": [
       "$\\displaystyle \\left[\\begin{matrix}x + 2 y\\\\3 x + 4 y\\end{matrix}\\right]$"
      ],
      "text/plain": [
       "Matrix([\n",
       "[  x + 2*y],\n",
       "[3*x + 4*y]])"
      ]
     },
     "metadata": {},
     "output_type": "display_data"
    },
    {
     "data": {
      "text/latex": [
       "$\\displaystyle \\left[\\begin{matrix}1\\\\2\\end{matrix}\\right]$"
      ],
      "text/plain": [
       "Matrix([\n",
       "[1],\n",
       "[2]])"
      ]
     },
     "metadata": {},
     "output_type": "display_data"
    },
    {
     "data": {
      "text/plain": [
       "{x: 0, y: 1/2}"
      ]
     },
     "execution_count": 278,
     "metadata": {},
     "output_type": "execute_result"
    }
   ],
   "source": [
    "x,y=sym.symbols('x y')\n",
    "A=sym.Matrix([[x,y]])\n",
    "C=sym.Matrix([[1,2]])\n",
    "display(B*A.T)\n",
    "display(C.T)\n",
    "sym.solve(sym.Eq(B*A.T,C.T))\n"
   ]
  },
  {
   "cell_type": "markdown",
   "metadata": {},
   "source": [
    "## Differential Equations"
   ]
  },
  {
   "cell_type": "code",
   "execution_count": 60,
   "metadata": {},
   "outputs": [
    {
     "data": {
      "text/latex": [
       "$\\displaystyle f{\\left(x \\right)}$"
      ],
      "text/plain": [
       "f(x)"
      ]
     },
     "execution_count": 60,
     "metadata": {},
     "output_type": "execute_result"
    }
   ],
   "source": [
    "x,y=sym.symbols('x y')\n",
    "\n",
    "## define a function\n",
    "f=sym.symbols('f',cls=sym.Function)\n",
    "f(x)"
   ]
  },
  {
   "cell_type": "code",
   "execution_count": 62,
   "metadata": {},
   "outputs": [
    {
     "data": {
      "text/latex": [
       "$\\displaystyle f{\\left(x \\right)} + \\frac{d^{2}}{d x^{2}} f{\\left(x \\right)}$"
      ],
      "text/plain": [
       "f(x) + Derivative(f(x), (x, 2))"
      ]
     },
     "execution_count": 62,
     "metadata": {},
     "output_type": "execute_result"
    }
   ],
   "source": [
    "f(x).diff(x,2)+f(x)"
   ]
  },
  {
   "cell_type": "code",
   "execution_count": 63,
   "metadata": {},
   "outputs": [
    {
     "data": {
      "text/latex": [
       "$\\displaystyle f{\\left(x \\right)} = C_{1} \\sin{\\left(x \\right)} + C_{2} \\cos{\\left(x \\right)}$"
      ],
      "text/plain": [
       "Eq(f(x), C1*sin(x) + C2*cos(x))"
      ]
     },
     "execution_count": 63,
     "metadata": {},
     "output_type": "execute_result"
    }
   ],
   "source": [
    "sym.dsolve(f(x).diff(x,2)+f(x),f(x))"
   ]
  },
  {
   "cell_type": "code",
   "execution_count": 240,
   "metadata": {},
   "outputs": [
    {
     "data": {
      "text/latex": [
       "$\\displaystyle h{\\left(x \\right)} = C_{1} + C_{2} x + \\frac{g x^{2}}{2}$"
      ],
      "text/plain": [
       "Eq(h(x), C1 + C2*x + g*x**2/2)"
      ]
     },
     "metadata": {},
     "output_type": "display_data"
    }
   ],
   "source": [
    "h=sym.symbols('h',cls=sym.Function)\n",
    "g=sym.Symbol('g')\n",
    "r=sym.dsolve(h(x).diff(x,2)-g,h(x))\n",
    "display(r)\n"
   ]
  },
  {
   "cell_type": "markdown",
   "metadata": {},
   "source": [
    "#### Using boundary conditions"
   ]
  },
  {
   "cell_type": "code",
   "execution_count": 283,
   "metadata": {},
   "outputs": [
    {
     "data": {
      "text/latex": [
       "$\\displaystyle h{\\left(x \\right)} = - \\frac{g x^{2}}{2} + 10$"
      ],
      "text/plain": [
       "Eq(h(x), -g*x**2/2 + 10)"
      ]
     },
     "metadata": {},
     "output_type": "display_data"
    },
    {
     "data": {
      "text/plain": [
       "[-1.42784312292706, 1.42784312292706]"
      ]
     },
     "execution_count": 283,
     "metadata": {},
     "output_type": "execute_result"
    }
   ],
   "source": [
    "## Object initially at height 10m with initial velocity of 0\n",
    "r=sym.dsolve(h(x).diff(x,2)+g,h(x),ics={h(x).subs(x,0):10,h(x).diff(x).subs(x,0):0})\n",
    "display(r)\n",
    "## gravitational constant, direction downwards\n",
    "r=r.subs(g,9.81)\n",
    "r.rhs\n",
    "## At what time it hits the ground\n",
    "sym.solve(r.rhs)\n"
   ]
  },
  {
   "cell_type": "code",
   "execution_count": null,
   "metadata": {},
   "outputs": [],
   "source": []
  }
 ],
 "metadata": {
  "interpreter": {
   "hash": "63fd5069d213b44bf678585dea6b12cceca9941eaf7f819626cde1f2670de90d"
  },
  "kernelspec": {
   "display_name": "Python 3",
   "language": "python",
   "name": "python3"
  },
  "language_info": {
   "codemirror_mode": {
    "name": "ipython",
    "version": 3
   },
   "file_extension": ".py",
   "mimetype": "text/x-python",
   "name": "python",
   "nbconvert_exporter": "python",
   "pygments_lexer": "ipython3",
   "version": "3.9.6"
  }
 },
 "nbformat": 4,
 "nbformat_minor": 2
}
