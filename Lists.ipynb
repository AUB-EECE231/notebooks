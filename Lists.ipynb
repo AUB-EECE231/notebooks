{
 "cells": [
  {
   "cell_type": "markdown",
   "id": "0654b7e9",
   "metadata": {
    "slideshow": {
     "slide_type": "slide"
    }
   },
   "source": [
    "## String indexing\n",
    "\n",
    "- Unlike int and float, the str data type has **internal** structure\n",
    "- One can access individual/group of characters in a string using **indexing**\n",
    "- One can compute the **length** of a string\n"
   ]
  },
  {
   "cell_type": "code",
   "execution_count": null,
   "id": "549654fa",
   "metadata": {
    "scrolled": true,
    "slideshow": {
     "slide_type": "slide"
    }
   },
   "outputs": [],
   "source": [
    "### EXAMPLE\n",
    "\n",
    "st=\"EECE231 sections 1,2,3\"\n",
    "\n",
    "#indexing starts at 0\n",
    "print(st[0])  # access the first element\n",
    "print(st[1])  #access the second element    \n",
    "print(st[len(st)-1]) # access the last element\n",
    "\n"
   ]
  },
  {
   "cell_type": "markdown",
   "id": "134f73b7",
   "metadata": {
    "slideshow": {
     "slide_type": "slide"
    }
   },
   "source": [
    "### Slicing\n",
    "- We can also access a **slice** of the string (a substring)"
   ]
  },
  {
   "cell_type": "code",
   "execution_count": null,
   "id": "34abdcde",
   "metadata": {
    "slideshow": {
     "slide_type": "fragment"
    }
   },
   "outputs": [],
   "source": [
    "st=\"EECE231 sections 1,2,3\"\n",
    "print(st[0:4]) # first index inclusive, the second exclusive\n",
    "print(st[4:7])"
   ]
  },
  {
   "cell_type": "code",
   "execution_count": null,
   "id": "5b9742e9",
   "metadata": {
    "scrolled": true,
    "slideshow": {
     "slide_type": "fragment"
    }
   },
   "outputs": [],
   "source": [
    "## We can omit one or both of the indices\n",
    "st=\"EECE231 sections 1,2,3\"\n",
    "print(st[8:])\n",
    "print(st[:3])"
   ]
  },
  {
   "cell_type": "markdown",
   "id": "a35d0222",
   "metadata": {
    "slideshow": {
     "slide_type": "slide"
    }
   },
   "source": [
    "### Reverse indexing"
   ]
  },
  {
   "cell_type": "code",
   "execution_count": null,
   "id": "30cbb8b5",
   "metadata": {
    "slideshow": {
     "slide_type": "fragment"
    }
   },
   "outputs": [],
   "source": [
    "### Reverse indexing\n",
    "st=\"EECE231 sections 1,2,3\"\n",
    "#print(st[-1]) # the last element is at -1\n",
    "## element before the last -2 and so on\n",
    "print(st[-1])\n",
    "print(st[-2])\n",
    "print(st[-3:]) #print the"
   ]
  },
  {
   "cell_type": "markdown",
   "id": "183ed9bf",
   "metadata": {
    "slideshow": {
     "slide_type": "slide"
    }
   },
   "source": [
    "### Extended slicing\n",
    "\n",
    "- So far the slicing \"increment\" was 1\n",
    "- We can extend that to arbitrary increments"
   ]
  },
  {
   "cell_type": "code",
   "execution_count": null,
   "id": "7e28d79f",
   "metadata": {
    "slideshow": {
     "slide_type": "fragment"
    }
   },
   "outputs": [],
   "source": [
    "st=\"EECE231 sections 1,2,3\"\n",
    "a=st[::2]\n",
    "print(a)\n",
    "print(st[-1:-4:-1])"
   ]
  },
  {
   "cell_type": "markdown",
   "id": "455c3ba0",
   "metadata": {
    "slideshow": {
     "slide_type": "slide"
    }
   },
   "source": [
    "### Immutability\n",
    "\n",
    "- Once created, a string cannot be changed"
   ]
  },
  {
   "cell_type": "code",
   "execution_count": null,
   "id": "243c3076",
   "metadata": {
    "scrolled": false,
    "slideshow": {
     "slide_type": "fragment"
    }
   },
   "outputs": [],
   "source": [
    "st=\"EECE231 sections 1,2,3\"\n",
    "st[0]='A'"
   ]
  },
  {
   "cell_type": "markdown",
   "id": "0f3efa44",
   "metadata": {
    "slideshow": {
     "slide_type": "slide"
    }
   },
   "source": [
    "## Lists\n",
    "\n",
    "- Lists are similar to strings but can composed of arbitrary objects\n",
    "- **many** of the operations on string carry over to lists"
   ]
  },
  {
   "cell_type": "code",
   "execution_count": null,
   "id": "c27b28d3",
   "metadata": {
    "scrolled": false,
    "slideshow": {
     "slide_type": "slide"
    }
   },
   "outputs": [],
   "source": [
    "from IPython.display import IFrame,HTML\n",
    "src=\"https://pythontutor.com/visualize.html#code=L%3D%5B10,2,%22ab%22,4.4%5D%0Aprint%28L%29%0AL%5B1%5D%3D7%0Aprint%28L%29%0Aprint%28L%5B0%5D%29%0Aprint%28len%28L%29%29%0A&cumulative=false&curInstr=0&heapPrimitives=nevernest&mode=display&origin=opt-frontend.js&py=3&rawInputLstJSON=%5B%5D&textReferences=false\"\n",
    "IFrame(width=900, height=800, src=src)\n"
   ]
  },
  {
   "cell_type": "code",
   "execution_count": 8,
   "id": "735184c8",
   "metadata": {
    "scrolled": true,
    "slideshow": {
     "slide_type": "slide"
    }
   },
   "outputs": [
    {
     "name": "stdout",
     "output_type": "stream",
     "text": [
      "1\n",
      "[4, 39, 5]\n",
      "5\n",
      "[39, 5]\n"
     ]
    },
    {
     "data": {
      "text/plain": [
       "13.4"
      ]
     },
     "execution_count": 8,
     "metadata": {},
     "output_type": "execute_result"
    }
   ],
   "source": [
    "A=[1,18,4,39,5]\n",
    "print(A[0])\n",
    "print(A[2:])\n",
    "print(A[-1])\n",
    "print(A[-2:])\n",
    "sum(A)/len(A)"
   ]
  },
  {
   "cell_type": "markdown",
   "id": "23e26f5b",
   "metadata": {
    "slideshow": {
     "slide_type": "slide"
    }
   },
   "source": [
    "### Creating a list from a string\n",
    "\n",
    "- Given a string, the **split** function returns a list of **tokens**\n",
    "- By default, it returns all substrings separated by space "
   ]
  },
  {
   "cell_type": "code",
   "execution_count": 9,
   "id": "dffa7f58",
   "metadata": {
    "slideshow": {
     "slide_type": "fragment"
    }
   },
   "outputs": [
    {
     "name": "stdout",
     "output_type": "stream",
     "text": [
      "['one', 'two', 'three']\n",
      "['four', 'five', 'six']\n"
     ]
    }
   ],
   "source": [
    "st=\"one two three\"\n",
    "print(st.split())\n",
    "## we can use any separator\n",
    "st=\"four,five,six\"\n",
    "print(st.split(','))\n"
   ]
  },
  {
   "cell_type": "markdown",
   "id": "d9c6553a",
   "metadata": {
    "slideshow": {
     "slide_type": "slide"
    }
   },
   "source": [
    "### Inhomogeneous lists\n",
    "\n",
    "- The elements of a list **don't have** to be of the same type"
   ]
  },
  {
   "cell_type": "code",
   "execution_count": 10,
   "id": "8c49de6c",
   "metadata": {
    "scrolled": true,
    "slideshow": {
     "slide_type": "fragment"
    }
   },
   "outputs": [
    {
     "name": "stdout",
     "output_type": "stream",
     "text": [
      "a\n",
      "[2.2, 'hello']\n",
      "['hello', 2.2, 'a']\n"
     ]
    }
   ],
   "source": [
    "B=['a',2.2,'hello']\n",
    "print(B[0])\n",
    "print(B[1:])\n",
    "print(B[-1::-1])"
   ]
  },
  {
   "cell_type": "markdown",
   "id": "91832457",
   "metadata": {
    "slideshow": {
     "slide_type": "slide"
    }
   },
   "source": [
    "### Elements can be lists or lists of lists"
   ]
  },
  {
   "cell_type": "code",
   "execution_count": 11,
   "id": "61a5a18f",
   "metadata": {
    "slideshow": {
     "slide_type": "fragment"
    }
   },
   "outputs": [
    {
     "name": "stdout",
     "output_type": "stream",
     "text": [
      "['a', 3.1, 17]\n",
      "3.1\n"
     ]
    }
   ],
   "source": [
    "A=[['a',3.1,17],'string']\n",
    "print(A[0])\n",
    "# think of it as index operator applied sequentially\n",
    "# e.g. (A[0])[1]\n",
    "print(A[0][1]) "
   ]
  },
  {
   "cell_type": "markdown",
   "id": "61d30045",
   "metadata": {
    "slideshow": {
     "slide_type": "slide"
    }
   },
   "source": [
    "### (some) Operations on lists"
   ]
  },
  {
   "cell_type": "code",
   "execution_count": 12,
   "id": "b2affc55",
   "metadata": {
    "scrolled": true,
    "slideshow": {
     "slide_type": "fragment"
    }
   },
   "outputs": [
    {
     "name": "stdout",
     "output_type": "stream",
     "text": [
      "[1, 18, 4, 39, 5, 1, 18, 4, 39, 5]\n",
      "[1, 18, 4, 39, 5, 200, 210, 220, 230]\n",
      "[5, 39, 4, 18, 1]\n"
     ]
    }
   ],
   "source": [
    "A=[1,18,4,39,5]\n",
    "B=[200,210,220,230]\n",
    "C=2*A  ## repetition\n",
    "print(C)\n",
    "D=A+B ## concatenation\n",
    "print(D)  \n",
    "A.reverse()\n",
    "print(A)"
   ]
  },
  {
   "cell_type": "markdown",
   "id": "52a49fa3",
   "metadata": {
    "slideshow": {
     "slide_type": "slide"
    }
   },
   "source": [
    "#### Click on the link below to see a visualization\n",
    "[visualize it](https://pythontutor.com/visualize.html#code=A%3D%5B1,18,4,39,5%5D%0AB%3D%5B200,210,220,230%5D%0AC%3D2*A%20%20%23%23%20repetition%0Aprint%28C%29%0AD%3DA%2BB%20%23%23%20concatenation%0Aprint%28D%29%20%20%0AA.reverse%28%29%0Aprint%28A%29&cumulative=false&curInstr=7&heapPrimitives=nevernest&mode=display&origin=opt-frontend.js&py=3&rawInputLstJSON=%5B%5D&textReferences=false)"
   ]
  },
  {
   "cell_type": "markdown",
   "id": "bb57af44",
   "metadata": {
    "slideshow": {
     "slide_type": "slide"
    }
   },
   "source": [
    "### Iteration\n",
    "\n",
    "- One can iterate over the elements of the list with a for loop"
   ]
  },
  {
   "cell_type": "code",
   "execution_count": 13,
   "id": "738698c1",
   "metadata": {
    "slideshow": {
     "slide_type": "fragment"
    }
   },
   "outputs": [
    {
     "name": "stdout",
     "output_type": "stream",
     "text": [
      "[2, 19, 5, 40, 6]\n"
     ]
    }
   ],
   "source": [
    "A=[1,18,4,39,5]\n",
    "for i in range(len(A)):\n",
    "    A[i]+=1\n",
    "for v in A: \n",
    "    v+=1    #does not change values of A\n",
    "print(A)"
   ]
  },
  {
   "cell_type": "code",
   "execution_count": 14,
   "id": "4a19dfe0",
   "metadata": {
    "slideshow": {
     "slide_type": "fragment"
    }
   },
   "outputs": [
    {
     "name": "stdout",
     "output_type": "stream",
     "text": [
      "A[0]=2\n",
      "A[1]=19\n",
      "A[2]=5\n",
      "A[3]=40\n",
      "A[4]=6\n"
     ]
    }
   ],
   "source": [
    "for i,v in enumerate(A):\n",
    "    print(f'A[{i}]={v}')"
   ]
  },
  {
   "cell_type": "markdown",
   "id": "aa0fa9f7",
   "metadata": {
    "slideshow": {
     "slide_type": "slide"
    }
   },
   "source": [
    "### Exercise\n",
    "\n",
    "- Create a list containing 5 elements\n",
    "- Each element a list with 3 elements equal to zero\n",
    "- i.e. [ [1,1,1],[1,1,1],[1,1,1],[1,1,1],[1,1,1] ]"
   ]
  },
  {
   "cell_type": "code",
   "execution_count": 15,
   "id": "222d09a1",
   "metadata": {
    "scrolled": false,
    "slideshow": {
     "slide_type": "slide"
    }
   },
   "outputs": [
    {
     "name": "stdout",
     "output_type": "stream",
     "text": [
      "[[1, 1, 1], [1, 1, 1], [1, 1, 1], [1, 1, 1], [1, 1, 1]]\n",
      "3\n",
      "3\n",
      "3\n",
      "3\n",
      "3\n",
      "[[[1, 1], [1, 1]], [[1, 1], [1, 1]], [[1, 1], [1, 1]], [[1, 1], [1, 1]], [[1, 1], [1, 1]]]\n"
     ]
    }
   ],
   "source": [
    "A=5*[3*[1]]\n",
    "print(A)\n",
    "for i in range(len(A)):\n",
    "    print(sum(A[i]))\n",
    "# 3-d list\n",
    "#each element of B is a list of list\n",
    "B=5*[2*[2*[1]]]\n",
    "print(B)\n"
   ]
  },
  {
   "cell_type": "markdown",
   "id": "b3756108",
   "metadata": {
    "slideshow": {
     "slide_type": "slide"
    }
   },
   "source": [
    "### Exercise\n",
    "\n",
    "- We are given a list of students' grades\n",
    "- Each student has grades for 3 exams\n",
    "- We want to compute the average grade for each student\n",
    "- Store the result in a new list"
   ]
  },
  {
   "cell_type": "code",
   "execution_count": 7,
   "id": "1071d40d",
   "metadata": {
    "slideshow": {
     "slide_type": "fragment"
    }
   },
   "outputs": [
    {
     "name": "stdout",
     "output_type": "stream",
     "text": [
      "[80.66666666666667, 80.33333333333333, 86.66666666666667]\n"
     ]
    }
   ],
   "source": [
    "G=[[60,94,88],[93,76,72],[100,67,93]]\n",
    "average=[]\n",
    "for g in G:\n",
    "    x=sum(g)/len(g)\n",
    "    average.append(x)\n",
    "print(average)"
   ]
  },
  {
   "cell_type": "markdown",
   "id": "3fcec06d",
   "metadata": {
    "slideshow": {
     "slide_type": "slide"
    }
   },
   "source": [
    "### Two sum problem (Special case of subset sum)\n",
    "\n",
    "- You are given\n",
    "   1. A list of integers x\n",
    "   1. A number target\n",
    "- You need to check if two **distinct** elements of x add up to target\n",
    "- For example\n",
    "  - x=[17,3,22,5,13,2], target=8\n",
    "  - returns [1,3]"
   ]
  },
  {
   "cell_type": "code",
   "execution_count": null,
   "id": "36f00d41",
   "metadata": {
    "slideshow": {
     "slide_type": "slide"
    }
   },
   "outputs": [],
   "source": [
    "x=[17,3,22,5,13,2]\n",
    "target=8\n",
    "low,high=None,None\n",
    "for i in range(0,len(x)):\n",
    "    for j in range(i+1,len(x)):\n",
    "        if x[i]+x[j]==target:\n",
    "            low,high=i,j\n",
    "print(low,high)"
   ]
  },
  {
   "cell_type": "markdown",
   "id": "241f36b9",
   "metadata": {
    "slideshow": {
     "slide_type": "slide"
    }
   },
   "source": [
    "#### Discussion\n",
    "\n",
    "- The above code continues after we find a solution, if any\n",
    "- It would be nice to stop if we find a solution\n",
    "- Cannot break from a nested loop. \n",
    "- One way is to use a flag"
   ]
  },
  {
   "cell_type": "code",
   "execution_count": null,
   "id": "cf81c160",
   "metadata": {
    "slideshow": {
     "slide_type": "slide"
    }
   },
   "outputs": [],
   "source": [
    "x=[17,3,22,5,13,2]\n",
    "target=9\n",
    "low,high,done=None,None,False\n",
    "for i in range(0,len(x)):\n",
    "    for j in range(i+1,len(x)):\n",
    "        if x[i]+x[j]==target:\n",
    "            low,high,done=i,j,True\n",
    "            break\n",
    "    if done:\n",
    "        break\n",
    "print(low,high)"
   ]
  },
  {
   "cell_type": "markdown",
   "id": "adb19aff",
   "metadata": {
    "slideshow": {
     "slide_type": "slide"
    }
   },
   "source": [
    "### Longest common prefix\n",
    "\n",
    "- Given a list of strings, e.g. [\"flower\",\"flow\",\"flout\"]\n",
    "- Find the longest common prefix, in the above it is \"flo\"\n",
    "- Strategy\n",
    "    1. Consider the characters of the first string (\"flower\") in sequence\n",
    "    1. For each such character check that all the other strings have the same character at that position\n",
    "    1. if not then stop\n",
    "    1. otherwise consider the next character\n"
   ]
  },
  {
   "cell_type": "markdown",
   "id": "3f4bf6dc",
   "metadata": {
    "slideshow": {
     "slide_type": "subslide"
    }
   },
   "source": [
    "- Example [\"flower\",\"flow\",\"flout\"]\n",
    "  1. **'f'**,  2nd has 'f'? yes, 3rd has 'f' yes then **continue**\n",
    "  1. **'l'**, 2nd has 'l'?yes, 3rd has 'l' yes then **continue**\n",
    "  1. **'o'**, 2nd has 'o'?yes, 3rd has 'o' yes then **continue**\n",
    "  1. **'w'**, 2nd has 'w'?yes, 3rd has 'w' **NO** then **STOP**\n",
    "- <u>**Make sure we don't go out of bounds in any of the strings**</u>"
   ]
  },
  {
   "cell_type": "code",
   "execution_count": null,
   "id": "841012af",
   "metadata": {
    "slideshow": {
     "slide_type": "slide"
    }
   },
   "outputs": [],
   "source": [
    "strs=[\"flower\",\"flow\",\"flout\"]\n",
    "mismatch=False\n",
    "# underscore=ignore value\n",
    "# why use it? Learning    \n",
    "for i,_ in enumerate(strs[0]):\n",
    "    for s in strs[1:]:\n",
    "        if i>= len(s) or s[i]!=strs[0][i]:\n",
    "            mismatch=True\n",
    "            break\n",
    "    if mismatch:\n",
    "        break\n",
    "if not mismatch:\n",
    "        result=strs[0]    \n",
    "else:\n",
    "        result=strs[0][0:i]\n",
    "print(result)        "
   ]
  },
  {
   "cell_type": "markdown",
   "id": "6d4371bc",
   "metadata": {
    "slideshow": {
     "slide_type": "slide"
    }
   },
   "source": [
    "#### Edge cases"
   ]
  },
  {
   "cell_type": "code",
   "execution_count": null,
   "id": "106b09fd",
   "metadata": {
    "slideshow": {
     "slide_type": "fragment"
    }
   },
   "outputs": [],
   "source": [
    "strs=[\"flower\",\"flow\",\"flight\"]\n",
    "mismatch=False\n",
    "if len(strs)==0:\n",
    "    result=\"\"\n",
    "elif len(strs)==1:\n",
    "    result=strs[0]\n",
    "else:\n",
    "    for i,v in enumerate(strs[0]):\n",
    "        for s in strs[1:]:\n",
    "            if i>= len(s) or s[i]!=strs[0][i]:\n",
    "                mismatch=True\n",
    "                break\n",
    "            if done:\n",
    "                break\n",
    "    if not mismatch:\n",
    "        result=strs[0]    \n",
    "    else:\n",
    "        result=strs[0][0:i]\n",
    "print(f'result={result}')"
   ]
  },
  {
   "cell_type": "markdown",
   "id": "16f56d2a",
   "metadata": {
    "slideshow": {
     "slide_type": "slide"
    }
   },
   "source": [
    "#### Mutability\n",
    "\n",
    "- Unlike strings, lists are mutable"
   ]
  },
  {
   "cell_type": "code",
   "execution_count": null,
   "id": "0729e06b",
   "metadata": {
    "slideshow": {
     "slide_type": "fragment"
    }
   },
   "outputs": [],
   "source": [
    "A=[1,18,4,39,5]\n",
    "print(A)\n",
    "A[3]=999\n",
    "print(A)\n",
    "A[2:4]=111,111,111,111,111,111\n",
    "print(A)"
   ]
  },
  {
   "cell_type": "code",
   "execution_count": null,
   "id": "511be216",
   "metadata": {
    "scrolled": true,
    "slideshow": {
     "slide_type": "fragment"
    }
   },
   "outputs": [],
   "source": [
    "A=[3.4,77,'eece','231']\n",
    "print(A)\n",
    "A[2]='EECE'\n",
    "print(A)\n",
    "print(A[-1::-1])\n",
    "A[1:2]=1111,1111,111,111\n",
    "print(A)"
   ]
  },
  {
   "cell_type": "markdown",
   "id": "32beec27",
   "metadata": {
    "slideshow": {
     "slide_type": "slide"
    }
   },
   "source": [
    "## Tuples\n",
    "\n",
    "- Tuples are similar to lists but are **immutable**. Once created its elements cannot be **changed**"
   ]
  },
  {
   "cell_type": "code",
   "execution_count": null,
   "id": "6a7273cf",
   "metadata": {
    "slideshow": {
     "slide_type": "fragment"
    }
   },
   "outputs": [],
   "source": [
    "tupleA=(7,'a')\n",
    "print(tupleA[0])\n",
    "print(len(tupleA))\n",
    "tupleB=(\"EECE\",231)\n",
    "tupleC=tupleA+tupleB\n",
    "print(tupleC)"
   ]
  },
  {
   "cell_type": "code",
   "execution_count": 2,
   "id": "5f0e008c",
   "metadata": {
    "scrolled": false,
    "slideshow": {
     "slide_type": "fragment"
    }
   },
   "outputs": [
    {
     "ename": "TypeError",
     "evalue": "'tuple' object does not support item assignment",
     "output_type": "error",
     "traceback": [
      "\u001b[1;31m---------------------------------------------------------------------------\u001b[0m",
      "\u001b[1;31mTypeError\u001b[0m                                 Traceback (most recent call last)",
      "\u001b[1;32m<ipython-input-2-d9e4770f21a5>\u001b[0m in \u001b[0;36m<module>\u001b[1;34m\u001b[0m\n\u001b[0;32m      1\u001b[0m \u001b[1;31m### cannot change the value of elements\u001b[0m\u001b[1;33m\u001b[0m\u001b[1;33m\u001b[0m\u001b[1;33m\u001b[0m\u001b[0m\n\u001b[1;32m----> 2\u001b[1;33m \u001b[0mtupleA\u001b[0m\u001b[1;33m[\u001b[0m\u001b[1;36m0\u001b[0m\u001b[1;33m]\u001b[0m\u001b[1;33m=\u001b[0m\u001b[1;36m8\u001b[0m\u001b[1;33m\u001b[0m\u001b[1;33m\u001b[0m\u001b[0m\n\u001b[0m",
      "\u001b[1;31mTypeError\u001b[0m: 'tuple' object does not support item assignment"
     ]
    }
   ],
   "source": [
    "### cannot change the value of elements\n",
    "tupleA[0]=8"
   ]
  },
  {
   "cell_type": "code",
   "execution_count": 3,
   "id": "c8172bfa",
   "metadata": {
    "slideshow": {
     "slide_type": "slide"
    }
   },
   "outputs": [
    {
     "name": "stdout",
     "output_type": "stream",
     "text": [
      "<class 'tuple'>\n",
      "<class 'int'>\n",
      "<class 'tuple'>\n"
     ]
    }
   ],
   "source": [
    "## empty tuple\n",
    "tupleA=()\n",
    "print(type(tupleA))\n",
    "## (e) is not a tuple since it is a valid expression\n",
    "x=(1)\n",
    "print(type(x))\n",
    "## a tuple with a single item is create like this\n",
    "x=1,\n",
    "print(type(x))"
   ]
  },
  {
   "cell_type": "markdown",
   "id": "2212601c",
   "metadata": {
    "slideshow": {
     "slide_type": "slide"
    }
   },
   "source": [
    "### Packing and unpacking tuples"
   ]
  },
  {
   "cell_type": "code",
   "execution_count": 14,
   "id": "c366a82b",
   "metadata": {
    "slideshow": {
     "slide_type": "fragment"
    }
   },
   "outputs": [
    {
     "name": "stdout",
     "output_type": "stream",
     "text": [
      "('EECE', 231, 1)\n",
      "EECE\n",
      "231\n",
      "1\n"
     ]
    }
   ],
   "source": [
    "#packing\n",
    "section1=\"EECE\",231,1\n",
    "print(section1)\n",
    "#unpacking\n",
    "dept,course,sec=section1\n",
    "print(dept)\n",
    "print(course)\n",
    "print(sec)"
   ]
  },
  {
   "cell_type": "markdown",
   "id": "95fdfd8f",
   "metadata": {
    "slideshow": {
     "slide_type": "slide"
    }
   },
   "source": [
    "**NOTE**: unpacking can be performed, but **usually is not**, on lists "
   ]
  },
  {
   "cell_type": "code",
   "execution_count": 16,
   "id": "227e6012",
   "metadata": {
    "slideshow": {
     "slide_type": "fragment"
    }
   },
   "outputs": [
    {
     "name": "stdout",
     "output_type": "stream",
     "text": [
      "EECE\n",
      "231\n",
      "1\n"
     ]
    }
   ],
   "source": [
    "listA=[\"EECE\",231,1]\n",
    "dept,course,sec=listA\n",
    "print(dept)\n",
    "print(course)\n",
    "print(sec)"
   ]
  },
  {
   "cell_type": "markdown",
   "id": "c0a0b2a6",
   "metadata": {
    "slideshow": {
     "slide_type": "slide"
    }
   },
   "source": [
    "### Alias and clone\n",
    "\n",
    "- the assignment $y=x$ is interpreted differently depending on the type of $x$\n",
    "1. if $x$ is int,float or str then $y$ is a **clone** (a copy) of $x$\n",
    "2. otherwise $y$ is an **alias**. If the values of $x$ or $y$ change they **both** change"
   ]
  },
  {
   "cell_type": "code",
   "execution_count": null,
   "id": "15b10616",
   "metadata": {
    "slideshow": {
     "slide_type": "slide"
    }
   },
   "outputs": [],
   "source": [
    "x=17\n",
    "p=3.14\n",
    "s=\"EECE\"\n",
    "listA=[1,2]\n",
    "tupleA=([7,'a'],[8,'b'])\n",
    "### assignments\n",
    "y=x\n",
    "q=p\n",
    "t=s\n",
    "listB=listA\n",
    "tupleB=tupleA\n",
    "listA[0]=99\n",
    "print(listA)\n",
    "print(listB)\n",
    "\n",
    "tupleB[0][1]='Z'\n",
    "print(tupleA)\n",
    "print(tupleB)"
   ]
  },
  {
   "cell_type": "markdown",
   "id": "5d024744",
   "metadata": {
    "slideshow": {
     "slide_type": "fragment"
    }
   },
   "source": [
    "[visualize it](https://pythontutor.com/visualize.html#code=x%3D17%0Ap%3D3.14%0As%3D%22EECE%22%0AlistA%3D%5B1,2%5D%0AtupleA%3D%28%5B7,'a'%5D,%5B8,'b'%5D%29%0A%23%23%23%20assignments%0Ay%3Dx%0Aq%3Dp%0At%3Ds%0AlistB%3DlistA%0AtupleB%3DtupleA%0AlistA%5B0%5D%3D99%0Aprint%28listA%29%0Aprint%28listB%29%0A%0AtupleB%5B0%5D%5B1%5D%3D'Z'%0Aprint%28tupleA%29%0Aprint%28tupleB%29&cumulative=false&curInstr=0&heapPrimitives=nevernest&mode=display&origin=opt-frontend.js&py=3&rawInputLstJSON=%5B%5D&textReferences=false)"
   ]
  },
  {
   "cell_type": "markdown",
   "id": "dccf254b",
   "metadata": {
    "slideshow": {
     "slide_type": "slide"
    }
   },
   "source": [
    "### copy\n",
    "\n",
    "- If we want a clone of a list we use the copy method\n",
    "``` \n",
    "listA=[\"EECE\",231]\n",
    "listB=listA.copy()\n"
   ]
  },
  {
   "cell_type": "code",
   "execution_count": 20,
   "id": "a2c2a07b",
   "metadata": {
    "slideshow": {
     "slide_type": "fragment"
    }
   },
   "outputs": [
    {
     "name": "stdout",
     "output_type": "stream",
     "text": [
      "['EECE', 231]\n",
      "['EEXE', 231]\n"
     ]
    }
   ],
   "source": [
    "listA=[\"EEXE\",231]\n",
    "listB=listA.copy()\n",
    "listA[0]=\"EECE\"\n",
    "print(listA)\n",
    "print(listB)\n",
    "## no copy method (not needed, why?) exists for tuples"
   ]
  },
  {
   "cell_type": "markdown",
   "id": "c28380f8",
   "metadata": {
    "slideshow": {
     "slide_type": "slide"
    }
   },
   "source": [
    "### Slicing creates new objects"
   ]
  },
  {
   "cell_type": "code",
   "execution_count": 22,
   "id": "9789916a",
   "metadata": {
    "slideshow": {
     "slide_type": "fragment"
    }
   },
   "outputs": [
    {
     "name": "stdout",
     "output_type": "stream",
     "text": [
      "2357652548416 2357653509248\n",
      "['a', 'b', 3] ['Z', 'b']\n",
      "2357631423168 2357652534592\n"
     ]
    }
   ],
   "source": [
    "listA=['a','b',3]\n",
    "listB=listA[0:2]\n",
    "print(id(listA),id(listB))\n",
    "listB[0]='Z'\n",
    "print(listA,listB)\n",
    "tupleA=\"EEXE\",231,1\n",
    "tupleB=tupleA[0:2]\n",
    "print(id(tupleA),id(tupleB))"
   ]
  },
  {
   "cell_type": "markdown",
   "id": "2a9bb56c",
   "metadata": {
    "slideshow": {
     "slide_type": "fragment"
    }
   },
   "source": [
    "[visualize it](https://pythontutor.com/visualize.html#code=listA%3D%5B'a','b',3%5D%0AlistB%3DlistA%5B0%3A2%5D%0Aprint%28id%28listA%29,id%28listB%29%29%0AlistB%5B0%5D%3D'Z'%0Aprint%28listA,listB%29%0AtupleA%3D%22EEXE%22,231,1%0AtupleB%3DtupleA%5B0%3A2%5D%0Aprint%28id%28tupleA%29,id%28tupleB%29%29&cumulative=false&curInstr=0&heapPrimitives=nevernest&mode=display&origin=opt-frontend.js&py=3&rawInputLstJSON=%5B%5D&textReferences=false)"
   ]
  },
  {
   "cell_type": "code",
   "execution_count": null,
   "id": "52854cc3",
   "metadata": {
    "slideshow": {
     "slide_type": "slide"
    }
   },
   "outputs": [],
   "source": [
    "#shallow copy\n",
    "listA=[['a','b',3],[7,'d',5],[\"hello\",\"there\"]]\n",
    "listB=listA[0:2]\n",
    "listB[0][0]='Z'\n",
    "print(listA)\n",
    "print(listB)"
   ]
  },
  {
   "cell_type": "markdown",
   "id": "20ede098",
   "metadata": {
    "slideshow": {
     "slide_type": "slide"
    }
   },
   "source": [
    "#### Deep copy"
   ]
  },
  {
   "cell_type": "code",
   "execution_count": null,
   "id": "d5649987",
   "metadata": {
    "slideshow": {
     "slide_type": "fragment"
    }
   },
   "outputs": [],
   "source": [
    "from copy import deepcopy\n",
    "listA=[['a','b',3],[7,'d',5],[\"hello\",\"there\"]]\n",
    "listAcopy=deepcopy(listA)\n",
    "\n",
    "listA[0][0]='Z'\n",
    "print(listA)\n",
    "print(listAcopy)"
   ]
  },
  {
   "cell_type": "markdown",
   "id": "772ebc4c",
   "metadata": {
    "slideshow": {
     "slide_type": "fragment"
    }
   },
   "source": [
    "[visualize](https://pythontutor.com/visualize.html#code=from%20copy%20import%20deepcopy%0AlistA%3D%5B%5B'a','b',3%5D,%5B7,'d',5%5D,%5B%22hello%22,%22there%22%5D%5D%0AlistAcopy%3Ddeepcopy%28listA%29%0A%0AlistA%5B0%5D%5B0%5D%3D'Z'%0Aprint%28listA%29%0Aprint%28listAcopy%29&cumulative=false&curInstr=0&heapPrimitives=nevernest&mode=display&origin=opt-frontend.js&py=3&rawInputLstJSON=%5B%5D&textReferences=false)"
   ]
  },
  {
   "cell_type": "markdown",
   "id": "2becd199",
   "metadata": {
    "slideshow": {
     "slide_type": "slide"
    }
   },
   "source": [
    "#### List comprehension\n",
    "\n",
    "- A concise way of creating lists\n"
   ]
  },
  {
   "cell_type": "code",
   "execution_count": 8,
   "id": "a1017563",
   "metadata": {
    "slideshow": {
     "slide_type": "fragment"
    }
   },
   "outputs": [
    {
     "name": "stdout",
     "output_type": "stream",
     "text": [
      "[0, 1, 4, 9, 16, 25, 36, 49, 64, 81]\n",
      "[36, 64]\n"
     ]
    }
   ],
   "source": [
    "squares=[x**2 for x in range(10)]\n",
    "print(squares)\n",
    "even_squares=[x**2 for x in range(10) if x%2==0 and x>4]\n",
    "print(even_squares)"
   ]
  },
  {
   "cell_type": "code",
   "execution_count": 12,
   "id": "f35d2f89",
   "metadata": {
    "slideshow": {
     "slide_type": "slide"
    }
   },
   "outputs": [
    {
     "name": "stdout",
     "output_type": "stream",
     "text": [
      "[(0, 0), (0, 3), (0, 6), (0, 9), (2, 0), (2, 3), (2, 6), (2, 9), (4, 0), (4, 3), (4, 6), (4, 9)]\n"
     ]
    }
   ],
   "source": [
    "listA=[(x,y) for x in range(6) if x%2==0 for y in range(10) if y%3==0]\n",
    "print(listA)"
   ]
  },
  {
   "cell_type": "code",
   "execution_count": 14,
   "id": "e1132e47",
   "metadata": {
    "slideshow": {
     "slide_type": "fragment"
    }
   },
   "outputs": [
    {
     "name": "stdout",
     "output_type": "stream",
     "text": [
      "[[(0, 0), (2, 0), (4, 0)], [(0, 3), (2, 3), (4, 3)]]\n"
     ]
    }
   ],
   "source": [
    "listA=[[(x,y) for x in range(6) if x%2==0] for y in range(6) if y%3==0]\n",
    "print(listA)"
   ]
  },
  {
   "cell_type": "markdown",
   "id": "a79c07dd",
   "metadata": {
    "slideshow": {
     "slide_type": "slide"
    }
   },
   "source": [
    "### Removing elements from lists"
   ]
  },
  {
   "cell_type": "code",
   "execution_count": 11,
   "id": "4cea3393",
   "metadata": {
    "slideshow": {
     "slide_type": "fragment"
    }
   },
   "outputs": [
    {
     "name": "stdout",
     "output_type": "stream",
     "text": [
      "['a', 17, 'b']\n",
      "a\n",
      "[17, 'b']\n"
     ]
    }
   ],
   "source": [
    "A=['a',3,17,'b']\n",
    "## no return value\n",
    "A.remove(3)\n",
    "print(A)\n",
    "## remove element at index and returns it\n",
    "result=A.pop(0)\n",
    "print(result)\n",
    "print(A)"
   ]
  },
  {
   "cell_type": "markdown",
   "id": "7d972e9e",
   "metadata": {
    "slideshow": {
     "slide_type": "slide"
    }
   },
   "source": [
    "### Common mistake"
   ]
  },
  {
   "cell_type": "code",
   "execution_count": null,
   "id": "4a7580e8",
   "metadata": {
    "scrolled": true,
    "slideshow": {
     "slide_type": "fragment"
    }
   },
   "outputs": [],
   "source": [
    "A=[0,1,2,3,4,5,6]\n",
    "for i in range(len(A)):\n",
    "    if A[i]%2==0:\n",
    "        A.pop(i)\n",
    "print(A)"
   ]
  },
  {
   "cell_type": "markdown",
   "id": "8e50b5da",
   "metadata": {
    "slideshow": {
     "slide_type": "fragment"
    }
   },
   "source": [
    "[visualize](https://pythontutor.com/visualize.html#code=A%3D%5B0,1,2,3,4,5,6%5D%0Afor%20i%20in%20range%28len%28A%29%29%3A%0A%20%20%20%20if%20A%5Bi%5D%252%3D%3D0%3A%0A%20%20%20%20%20%20%20%20A.pop%28i%29%0Aprint%28A%29&cumulative=false&curInstr=0&heapPrimitives=nevernest&mode=display&origin=opt-frontend.js&py=3&rawInputLstJSON=%5B%5D&textReferences=false)"
   ]
  },
  {
   "cell_type": "code",
   "execution_count": 15,
   "id": "41bb56ec",
   "metadata": {
    "slideshow": {
     "slide_type": "fragment"
    }
   },
   "outputs": [
    {
     "name": "stdout",
     "output_type": "stream",
     "text": [
      "[1, 3, 5, 7, 9]\n"
     ]
    }
   ],
   "source": [
    "# list comprehension more efficient\n",
    "\n",
    "A=[0,1,2,3,4,5,6,7,8,9,10]\n",
    "A=[i for i in A if i%2==1]\n",
    "print(A)"
   ]
  }
 ],
 "metadata": {
  "celltoolbar": "Slideshow",
  "kernelspec": {
   "display_name": "Python 3",
   "language": "python",
   "name": "python3"
  },
  "language_info": {
   "codemirror_mode": {
    "name": "ipython",
    "version": 3
   },
   "file_extension": ".py",
   "mimetype": "text/x-python",
   "name": "python",
   "nbconvert_exporter": "python",
   "pygments_lexer": "ipython3",
   "version": "3.9.6"
  }
 },
 "nbformat": 4,
 "nbformat_minor": 5
}
