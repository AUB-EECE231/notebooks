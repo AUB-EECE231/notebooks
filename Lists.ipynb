{
 "cells": [
  {
   "cell_type": "markdown",
   "id": "4742dbcf",
   "metadata": {},
   "source": [
    "##### Max subarray sum\n",
    "- Give an array of numbers, e.g. A=[9,-12,5,17,4,-6,2,3]\n",
    "- Find the **subarray** whose sum is the largest possible.\n",
    "- In the above the answer is 26 which is the sum of [5,17,4]"
   ]
  },
  {
   "cell_type": "markdown",
   "id": "54e0fa19",
   "metadata": {},
   "source": [
    "- iterate over all possible subarrays\n",
    "- for each one compute the sum\n",
    "- select the largest one\n",
    "- very similar to finding the largest number in a sequence\n",
    "   - Assume the first number is max\n",
    "   - iterate over the remaining numbers\n",
    "   - for each such number x if x> max then max=x"
   ]
  }
 ],
 "metadata": {
  "kernelspec": {
   "display_name": "Python 3",
   "language": "python",
   "name": "python3"
  },
  "language_info": {
   "codemirror_mode": {
    "name": "ipython",
    "version": 3
   },
   "file_extension": ".py",
   "mimetype": "text/x-python",
   "name": "python",
   "nbconvert_exporter": "python",
   "pygments_lexer": "ipython3",
   "version": "3.9.6"
  }
 },
 "nbformat": 4,
 "nbformat_minor": 5
}
