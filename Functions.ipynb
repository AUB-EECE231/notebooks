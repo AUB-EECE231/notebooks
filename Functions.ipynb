{
 "cells": [
  {
   "cell_type": "markdown",
   "id": "bec74795",
   "metadata": {},
   "source": [
    "## Some builtin functions\n",
    "\n",
    "- We already have seen some builtin (predefined) functions\n",
    "- Some **return** a value some don't\n"
   ]
  },
  {
   "cell_type": "code",
   "execution_count": null,
   "id": "cc969d66",
   "metadata": {},
   "outputs": [],
   "source": [
    "## returns absolute value\n",
    "a=abs(-12)\n",
    "print(f'abs(-112) returns {a}')\n",
    "## print doesn't return anything\n",
    "x=print()\n",
    "print(f'print returns {x}')"
   ]
  },
  {
   "cell_type": "code",
   "execution_count": null,
   "id": "5e831a34",
   "metadata": {},
   "outputs": [],
   "source": [
    "names=['Joe','Rania',\"Ahmad\"]\n",
    "grades=[90,95,90]\n",
    "\n",
    "z=zip(names,grades) #iterable object\n",
    "listA=list(z)  #create a list from iterable object\n",
    "\n",
    "print(listA)\n",
    "print(f'length of listA is {len(listA)}')\n",
    "print(f'sum of grades= {sum(grades)}')\n",
    "for n,v in zip(names,grades): #iterate over iterable object\n",
    "    print(f'{n} has {v}')\n"
   ]
  },
  {
   "cell_type": "markdown",
   "id": "dfcdb9c2",
   "metadata": {},
   "source": [
    "### Defining new functions\n",
    "\n",
    "- Functions are a convenient way to wrap code that is used repeatedly \n"
   ]
  },
  {
   "cell_type": "code",
   "execution_count": 6,
   "id": "fde5b383",
   "metadata": {},
   "outputs": [],
   "source": [
    "def maxVal(x,y):\n",
    "    if x>y:\n",
    "        return x\n",
    "    else:\n",
    "        return y"
   ]
  },
  {
   "cell_type": "code",
   "execution_count": null,
   "id": "a8f07ed1",
   "metadata": {
    "scrolled": false
   },
   "outputs": [],
   "source": [
    "maxVal(2,19)\n",
    "maxVal(45,-1)"
   ]
  },
  {
   "cell_type": "markdown",
   "id": "42dcbe80",
   "metadata": {},
   "source": [
    "Think of the call maxVal(2,19) **as if** the following code is executed\n",
    "```\n",
    "x=2\n",
    "y=19\n",
    "if x>y:\n",
    "   return x\n",
    "else:\n",
    "  return y\n",
    "```"
   ]
  },
  {
   "cell_type": "markdown",
   "id": "a3164e46",
   "metadata": {},
   "source": [
    "### Stack frames\n",
    "\n",
    "- Every time a function is called the system reserves a portion of memory called frame\n",
    "- The frame remains active during the execution of the function\n",
    "- When the function **returns** the frame is destroyed"
   ]
  },
  {
   "cell_type": "code",
   "execution_count": 8,
   "id": "0c6a3ec4",
   "metadata": {},
   "outputs": [
    {
     "name": "stdout",
     "output_type": "stream",
     "text": [
      "maximum is 3\n"
     ]
    }
   ],
   "source": [
    "def maxVal3(x,y,z):\n",
    "    a=maxVal(x,y)\n",
    "    b=maxVal(a,z)\n",
    "    return b\n",
    "\n",
    "r=maxVal3(1,2,3)\n",
    "print(f\"maximum is {r}\")"
   ]
  },
  {
   "cell_type": "markdown",
   "id": "1c0433a1",
   "metadata": {},
   "source": [
    "[visualize it](https://pythontutor.com/visualize.html#code=def%20maxVal%28x,y%29%3A%0A%20%20%20%20if%20x%3Ey%3A%0A%20%20%20%20%20%20%20%20return%20x%0A%20%20%20%20else%3A%0A%20%20%20%20%20%20%20%20return%20y%0A%20%20%20%20%20%20%20%20%0Adef%20maxVal3%28x,y,z%29%3A%0A%20%20%20%20a%3DmaxVal%28x,y%29%0A%20%20%20%20b%3DmaxVal%28a,z%29%0A%20%20%20%20return%20b%0A%20%20%20%20%0A%20%20%20%20%0Ar%3DmaxVal3%281,2,3%29%0Aprint%28f'maximum%20value%20is%20%7Br%7D'%29&cumulative=false&curInstr=17&heapPrimitives=nevernest&mode=display&origin=opt-frontend.js&py=3&rawInputLstJSON=%5B%5D&textReferences=false)"
   ]
  },
  {
   "cell_type": "markdown",
   "id": "6a9d9128",
   "metadata": {},
   "source": [
    "### Example: Computing the nth root\n",
    "\n",
    "- We already did the square root using bisection method\n",
    "- Recall that given a value $c$ we want to find the root of the function\n",
    "$$ x-\\sqrt[n]{c}=0$$\n",
    "- or\n",
    "$$x^n-c=0$$\n"
   ]
  },
  {
   "cell_type": "code",
   "execution_count": 18,
   "id": "f400d5f1",
   "metadata": {},
   "outputs": [],
   "source": [
    "\n",
    "def pth_root(num,root_power,accuracy):\n",
    "    '''\n",
    "        for simplicity we don't accept odd roots of \n",
    "        negative numbers\n",
    "    '''\n",
    "    if num<0:\n",
    "        return None\n",
    "\n",
    "    low=0.00000001\n",
    "    high=num\n",
    "    x=(low+high)/2\n",
    "###start of bisection \n",
    "    while abs(x**root_power -num)>accuracy:\n",
    "        if x**root_power-num<0:\n",
    "            low=x\n",
    "        else:\n",
    "            high=x\n",
    "        x=(low+high)/2\n",
    "    return x\n"
   ]
  },
  {
   "cell_type": "code",
   "execution_count": 19,
   "id": "8678d057",
   "metadata": {},
   "outputs": [
    {
     "name": "stdout",
     "output_type": "stream",
     "text": [
      "1.4142150908195497\n",
      "1.7320518535917286\n",
      "2.0000000075\n"
     ]
    }
   ],
   "source": [
    "tolerance=0.00001\n",
    "root2of2=pth_root(2,2,tolerance)\n",
    "root2of3=pth_root(3,2,tolerance)\n",
    "root3of8=pth_root(8,3,tolerance)\n",
    "print(root2of2)\n",
    "print(root2of3)\n",
    "print(root3of8)"
   ]
  },
  {
   "cell_type": "markdown",
   "id": "7eb25b58",
   "metadata": {},
   "source": [
    "### Positional and keyword arguments\n",
    "\n",
    "- Sometimes it is hard to remember the order of arguments\n",
    "- In the pth_root function should we pass the number then root? or the opposite?"
   ]
  },
  {
   "cell_type": "code",
   "execution_count": 118,
   "id": "e1a43221",
   "metadata": {},
   "outputs": [
    {
     "data": {
      "text/plain": [
       "2.0"
      ]
     },
     "execution_count": 118,
     "metadata": {},
     "output_type": "execute_result"
    }
   ],
   "source": [
    "pth_root(num=16,root_power=4,accuracy=0.0001)"
   ]
  },
  {
   "cell_type": "markdown",
   "id": "2ab302fe",
   "metadata": {},
   "source": [
    "### Default values"
   ]
  },
  {
   "cell_type": "code",
   "execution_count": 120,
   "id": "ebdd675b",
   "metadata": {},
   "outputs": [],
   "source": [
    "def pth_root(num,root_power,accuracy=0.01):\n",
    "    if num<0:\n",
    "        return None\n",
    "    low=0\n",
    "    high=num\n",
    "    x=(low+high)/2\n",
    "    while abs(x**root_power -num)>accuracy:\n",
    "        if x**root_power-num<0:\n",
    "            low=x\n",
    "        else:\n",
    "            high=x\n",
    "        x=(low+high)/2\n",
    "    return x"
   ]
  },
  {
   "cell_type": "code",
   "execution_count": 124,
   "id": "b06fbcf6",
   "metadata": {},
   "outputs": [
    {
     "name": "stdout",
     "output_type": "stream",
     "text": [
      "0.002324192431122807\n",
      "1.0417963571818234e-06\n"
     ]
    }
   ],
   "source": [
    "from math import sqrt\n",
    "\n",
    "x=pth_root(num=3,root_power=2)\n",
    "y=pth_root(num=3,root_power=2,accuracy=0.00001)\n",
    "z=sqrt(3)\n",
    "print(abs(x-z))\n",
    "print(abs(y-z))"
   ]
  },
  {
   "cell_type": "markdown",
   "id": "b8863d99",
   "metadata": {},
   "source": [
    "### Scope: local and global variables"
   ]
  },
  {
   "cell_type": "code",
   "execution_count": 128,
   "id": "1b7f32fb",
   "metadata": {},
   "outputs": [
    {
     "name": "stdout",
     "output_type": "stream",
     "text": [
      "2\n",
      "3\n"
     ]
    }
   ],
   "source": [
    "x=3  # x is a global variable\n",
    "def fun():\n",
    "    x=2      ## x is local variable different than the global\n",
    "             ## it 'hides' the global one\n",
    "    print(x)\n",
    "fun()\n",
    "print(x)"
   ]
  },
  {
   "cell_type": "markdown",
   "id": "bac39c60",
   "metadata": {},
   "source": [
    "[visualize it](https://pythontutor.com/visualize.html#code=x%3D3%20%20%23%20x%20is%20a%20global%20variable%0Adef%20fun%28%29%3A%0A%20%20%20%20x%3D2%20%20%20%20%20%20%23%23%20x%20is%20local%20variable%20different%20than%20the%20global%0A%20%20%20%20print%28x%29%0Afun%28%29%0Aprint%28x%29&cumulative=false&curInstr=8&heapPrimitives=nevernest&mode=display&origin=opt-frontend.js&py=3&rawInputLstJSON=%5B%5D&textReferences=false)"
   ]
  },
  {
   "cell_type": "code",
   "execution_count": null,
   "id": "64c6a68a",
   "metadata": {
    "scrolled": true
   },
   "outputs": [],
   "source": [
    "x=17\n",
    "def fun():\n",
    "    x=x+2    #undefined local variable\n",
    "    print(x)\n",
    "fun()\n",
    "print(x)"
   ]
  },
  {
   "cell_type": "markdown",
   "id": "320fec09",
   "metadata": {},
   "source": [
    "### Access by value and by reference\n",
    "\n"
   ]
  },
  {
   "cell_type": "markdown",
   "id": "7fc34c45",
   "metadata": {},
   "source": [
    "- Recall that using the assignment operator '=' **defines** a local variable\n",
    "- Once the interpreter 'sees' var= it **forgets** everything about var \n",
    "    - if defined globally\n",
    "    - or passed as a parameter"
   ]
  },
  {
   "cell_type": "code",
   "execution_count": 128,
   "id": "19d3dc61",
   "metadata": {},
   "outputs": [
    {
     "name": "stdout",
     "output_type": "stream",
     "text": [
      "[1, 2, 3]\n",
      "[1, 2, 3, 17]\n"
     ]
    }
   ],
   "source": [
    "a=[1,2,3]\n",
    "def f():\n",
    "    a=[]          #now it is local a, not global a\n",
    "    a.append(17)  #change local a not global a\n",
    "                 \n",
    "def g():\n",
    "    a.append(17)\n",
    "f()\n",
    "print(a)\n",
    "g()\n",
    "print(a)"
   ]
  },
  {
   "cell_type": "code",
   "execution_count": 135,
   "id": "fa0d3afc",
   "metadata": {},
   "outputs": [
    {
     "name": "stdout",
     "output_type": "stream",
     "text": [
      "a=[1, 2, 3]\n",
      "b=[28, 30, 'z']\n",
      "c=['u', 17]\n",
      "d=['v']\n"
     ]
    }
   ],
   "source": [
    "## better approach with no side effects\n",
    "a=[1,2,3]\n",
    "b=[28,30,'z']\n",
    "def g(a,b):      ## at function call a is an alias for c, b local\n",
    "    a.append(17)\n",
    "    b=[999]      ## b is no longer an alias for c\n",
    "c=['u']\n",
    "d=['v']\n",
    "g(c,d)\n",
    "print(f'a={a}')\n",
    "print(f'b={b}')\n",
    "print(f'c={c}')\n",
    "print(f'd={d}')"
   ]
  },
  {
   "cell_type": "code",
   "execution_count": 134,
   "id": "04897f98",
   "metadata": {},
   "outputs": [
    {
     "name": "stdout",
     "output_type": "stream",
     "text": [
      "[1, 2, 3, 4]\n"
     ]
    }
   ],
   "source": [
    "a=[1,2,3]\n",
    "def doit(a):  ## a points to [1,2,3] when function is called\n",
    "    a.append(4) ## a points to [1,2,3,4]\n",
    "    a=[4,5,6]  ## NEW local a\n",
    "doit(a)\n",
    "print(a)"
   ]
  },
  {
   "cell_type": "markdown",
   "id": "36eeecef",
   "metadata": {},
   "source": [
    "### Bubble sort\n",
    "\n",
    "- scan the list, every time we encounter two consecutive entries out of order, swap them\n",
    "- after the first iteration the largest value will be the last element\n",
    "- after the second iteration the second largest value will be the before the last element\n",
    "- ...\n",
    "- perform the above n-1 times where n is the length of the list"
   ]
  },
  {
   "cell_type": "code",
   "execution_count": 68,
   "id": "d29c238b",
   "metadata": {},
   "outputs": [
    {
     "name": "stdout",
     "output_type": "stream",
     "text": [
      "[12, 2, 6, 5, 4, 8, 3, 13, 8, 20]\n",
      "[2, 3, 4, 5, 6, 8, 8, 12, 13, 20]\n"
     ]
    }
   ],
   "source": [
    "from random import randint\n",
    "a=[randint(1,20) for i in range(10)]\n",
    "print(a)\n",
    "def bubble(a):\n",
    "    for i in range(len(a)-1):\n",
    "        for j in range(len(a)-1):\n",
    "            if a[j]>a[j+1]:\n",
    "                a[j],a[j+1]=a[j+1],a[j]\n",
    "\n",
    "bubble(a)\n",
    "print(a)\n",
    "        "
   ]
  },
  {
   "cell_type": "markdown",
   "id": "4d5bac2c",
   "metadata": {},
   "source": [
    "### Maximize stock profit\n",
    "\n",
    "- You are given the values of a certain stock at different times\n",
    "- You need to decide when to buy and when to cell (obviously must buy before selling)"
   ]
  },
  {
   "cell_type": "code",
   "execution_count": 11,
   "id": "351b028c",
   "metadata": {},
   "outputs": [
    {
     "name": "stdout",
     "output_type": "stream",
     "text": [
      "87 0 4\n"
     ]
    }
   ],
   "source": [
    "stock=[13,19,40,22,100,50,12,6]\n",
    "n=len(stock)\n",
    "max=stock[0]\n",
    "def max_stock(seq):\n",
    "    max=seq[0]\n",
    "    n=len(seq)\n",
    "    for i in range(n):\n",
    "        for j in range(i+1,n):\n",
    "            diff=seq[j]-seq[i]\n",
    "            if diff>max:\n",
    "                max=diff\n",
    "                buy=i\n",
    "                sell=j\n",
    "    return max,buy,sell\n",
    "val,buy,sell=max_stock(stock)\n",
    "print(val,buy,sell)"
   ]
  },
  {
   "cell_type": "markdown",
   "id": "231e1d30",
   "metadata": {},
   "source": [
    "### Inner functions"
   ]
  },
  {
   "cell_type": "code",
   "execution_count": null,
   "id": "478de03b",
   "metadata": {},
   "outputs": [],
   "source": [
    "# Assuming the function is monotonically increasing\n",
    "\n",
    "def find_bounds(num,root_power):\n",
    "    low=0.00000001\n",
    "    while low**root_power-num<0:\n",
    "        low=low+1\n",
    "    high=low\n",
    "    low=low-1\n",
    "    return low,high\n",
    "    \n",
    "\n",
    "def pth_root(num,root_power,accuracy):\n",
    "    '''\n",
    "        for simplicity we don't accept odd roots of \n",
    "        negative numbers\n",
    "    '''\n",
    "    if num<0:\n",
    "        return None\n",
    "    ## bisection algorithm\n",
    "    x=(low+high)/2\n",
    "###start of bisection \n",
    "    while abs(x**root_power -num)>accuracy:\n",
    "        if x**root_power-num<0:\n",
    "            low=x\n",
    "        else:\n",
    "            high=x\n",
    "        x=(low+high)/2\n",
    "    return x"
   ]
  },
  {
   "cell_type": "code",
   "execution_count": 38,
   "id": "c494b161",
   "metadata": {},
   "outputs": [
    {
     "name": "stdout",
     "output_type": "stream",
     "text": [
      "1.414215097890625 1.7320480446679687 1.9999995331628417\n"
     ]
    }
   ],
   "source": [
    "\n",
    "tolerance=0.00001\n",
    "low,high=find_bounds(2,2)\n",
    "a=pth_root(2,2,tolerance)\n",
    "low,high=find_bounds(3,2)\n",
    "b=pth_root(3,2,tolerance)\n",
    "low,high=find_bounds(8,3)\n",
    "\n",
    "c=pth_root(8,3,tolerance)\n",
    "print(a,b,c)"
   ]
  },
  {
   "cell_type": "markdown",
   "id": "c62737cb",
   "metadata": {},
   "source": [
    "### More convenient to use inner function"
   ]
  },
  {
   "cell_type": "code",
   "execution_count": 41,
   "id": "e582fe14",
   "metadata": {},
   "outputs": [],
   "source": [
    "def pth_root(num,root_power,accuracy=0.0001):\n",
    "    '''\n",
    "        for simplicity we don't accept odd roots of \n",
    "        negative numbers\n",
    "    '''\n",
    "    if num<0:\n",
    "        return None\n",
    "    def find_bounds():\n",
    "      ##Inner function\n",
    "        low=0.00000001\n",
    "        while low**root_power-num<0:\n",
    "            low=low+1\n",
    "        high=low\n",
    "        low=low-1\n",
    "        return low,high\n",
    "    low,high=find_bounds()\n",
    "    ## bisection algorithm\n",
    "    x=(low+high)/2\n",
    "###start of bisection \n",
    "    while abs(x**root_power -num)>accuracy:\n",
    "        if x**root_power-num<0:\n",
    "            low=x\n",
    "        else:\n",
    "            high=x\n",
    "        x=(low+high)/2\n",
    "    return x"
   ]
  },
  {
   "cell_type": "code",
   "execution_count": 44,
   "id": "03979454",
   "metadata": {
    "scrolled": true
   },
   "outputs": [
    {
     "name": "stdout",
     "output_type": "stream",
     "text": [
      "square root of 2 is 1.4141845803125\n",
      "square root of 3 is 1.7320556740625\n",
      "cubic root of 8 is 1.9999995331628417\n"
     ]
    }
   ],
   "source": [
    "a=pth_root(2,2)\n",
    "b=pth_root(3,2)\n",
    "c=pth_root(8,3,tolerance)\n",
    "print(f'square root of 2 is {a}')\n",
    "print(f'square root of 3 is {b}')\n",
    "print(f'cubic root of 8 is {c}')"
   ]
  },
  {
   "cell_type": "markdown",
   "id": "52ba950f",
   "metadata": {},
   "source": [
    "### Reversing a list multiple times\n",
    "\n",
    "- We illustrate inner function with list reversal\n",
    "- Obviously reversing a list an even number of time will get us the same list\n",
    "- Reversing it an odd number of times is equivalent to reversing it once"
   ]
  },
  {
   "cell_type": "code",
   "execution_count": 8,
   "id": "a6738aea",
   "metadata": {},
   "outputs": [
    {
     "name": "stdout",
     "output_type": "stream",
     "text": [
      "[5, 4, 3, 2, 1]\n"
     ]
    }
   ],
   "source": [
    "def listReverse(L,k):\n",
    "    def _listReverse(L):\n",
    "        for i in range(len(L)//2):\n",
    "            L[i],L[-(i+1)]=L[-(i+1)],L[i]\n",
    "    for i in range(k):\n",
    "        _listReverse(L)\n",
    "            \n",
    "a=[1,2,3,4,5]\n",
    "listReverse(a,3)\n",
    "print(a)"
   ]
  },
  {
   "cell_type": "markdown",
   "id": "da02b067",
   "metadata": {},
   "source": [
    "### Functions as first class objects"
   ]
  },
  {
   "cell_type": "markdown",
   "id": "6ebad4cf",
   "metadata": {},
   "source": [
    "#### Functions can be returned from other functions"
   ]
  },
  {
   "cell_type": "code",
   "execution_count": 31,
   "id": "033a3cff",
   "metadata": {},
   "outputs": [
    {
     "name": "stdout",
     "output_type": "stream",
     "text": [
      "4 8\n"
     ]
    }
   ],
   "source": [
    "def generate_power(exponent):\n",
    "    def power(base):\n",
    "        return base ** exponent\n",
    "    return power\n",
    "square=generate_power(2)\n",
    "cube=generate_power(3)\n",
    "print(square(2),cube(2))\n"
   ]
  },
  {
   "cell_type": "code",
   "execution_count": 1,
   "id": "2e45d77f",
   "metadata": {},
   "outputs": [
    {
     "name": "stdout",
     "output_type": "stream",
     "text": [
      "[1, 4, 9, 16]\n"
     ]
    }
   ],
   "source": [
    "def my_map(seq,func):\n",
    "    for i,_ in enumerate(seq):\n",
    "        seq[i]=func(seq[i])\n",
    "def square(x):\n",
    "    return x*x\n",
    "x=[1,2,3,4]\n",
    "my_map(x,square)\n",
    "print(x)"
   ]
  },
  {
   "cell_type": "code",
   "execution_count": 70,
   "id": "7ce0dac1",
   "metadata": {},
   "outputs": [
    {
     "name": "stdout",
     "output_type": "stream",
     "text": [
      "[1, 2, 3, 4]\n"
     ]
    }
   ],
   "source": [
    "## Obviously the above can be done using list comprehension\n",
    "x=[1,2,3,4]\n",
    "y=[i**2 for i in x]\n",
    "print(x)"
   ]
  },
  {
   "cell_type": "code",
   "execution_count": 30,
   "id": "09f699f5",
   "metadata": {},
   "outputs": [
    {
     "data": {
      "text/plain": [
       "True"
      ]
     },
     "execution_count": 30,
     "metadata": {},
     "output_type": "execute_result"
    }
   ],
   "source": [
    "def my_reduce(f,seq,init=None):\n",
    "    if init!=None:\n",
    "        t=init\n",
    "        start=0\n",
    "    else:\n",
    "        t=seq[0]\n",
    "        start=1\n",
    "\n",
    "    for i in range(start,len(seq)):\n",
    "        t=f(t,seq[i])\n",
    "    return t\n",
    "\n",
    "def any_of(pred,seq):\n",
    "    return my_reduce(lambda x,y:bool(x or pred(y)),seq,False)\n",
    "def all_of(pred,seq):\n",
    "    return my_reduce(lambda x,y:bool (x and pred(y)),seq,True)\n",
    "\n",
    "\n",
    "my_reduce(lambda x,y:x+y,[1,2,3,5])\n",
    "any_of(lambda x: x>3,[1,2,2])\n",
    "all_of(lambda x: x<3,[1,2,2])"
   ]
  },
  {
   "cell_type": "code",
   "execution_count": 45,
   "id": "1303483a",
   "metadata": {
    "scrolled": true
   },
   "outputs": [
    {
     "name": "stdout",
     "output_type": "stream",
     "text": [
      "The answer is\n",
      "[2, 3, 4, 4, 18, 19]\n"
     ]
    }
   ],
   "source": [
    "def decorator_fun(f):\n",
    "    def wrapper(x):\n",
    "        print(\"The answer is\")\n",
    "        return f(x)\n",
    "    return wrapper\n",
    "g=decorator_fun(lambda x: x+2)\n",
    "g(8)\n",
    "a=[4,2,4,18,3,19]\n",
    "a.sort()\n",
    "print(a)"
   ]
  },
  {
   "cell_type": "markdown",
   "id": "b179e096",
   "metadata": {},
   "source": [
    "### Majority Element\n",
    "\n",
    "- Given a list of n numbers, A, return the value that occurs more than n/2 times\n",
    "- If it does not exist return None"
   ]
  },
  {
   "cell_type": "code",
   "execution_count": 55,
   "id": "0bf277d7",
   "metadata": {},
   "outputs": [
    {
     "name": "stdout",
     "output_type": "stream",
     "text": [
      "7\n"
     ]
    }
   ],
   "source": [
    "def majorityElement(nums):\n",
    "        nums.sort();\n",
    "        n=len(nums)\n",
    "        i=0\n",
    "        while i<n:\n",
    "            count=0\n",
    "            val=nums[i]\n",
    "            while i<n and nums[i]==val:\n",
    "                count+=1\n",
    "                i+=1\n",
    "            if count>(n//2):\n",
    "                return nums[i-1]\n",
    "            \n",
    "a=[2,7,7,35,7,8,7,10,7,7,8,7]\n",
    "m=majorityElement(a)\n",
    "print(m)"
   ]
  },
  {
   "cell_type": "markdown",
   "id": "3a97ddcd",
   "metadata": {},
   "source": [
    "### Bisection method revisited\n",
    "\n",
    "- We have used the bisection method to compute the pth root of a value.\n",
    "- We extend it to compute the root of any function. Given $f(x)$ find $x_0$ such that $f(x_0)=0$\n",
    "- Given $f$ and $c$ we want to compute $f(c)$\n",
    "- Our goal reduces to finding the root of\n",
    "$$ g(x)=x-f(c)$$\n",
    "- Let $f^{-1}$ be the inverse of $f$, i.e. $f^{-1}(f(x))=x$\n",
    "- Then we need to find the root of \n",
    "$$f^{-1}(x)-c=0$$\n",
    "- Example: compute $$\\log_a(c)$$\n",
    "- Is equivalent to finding the root of \n",
    "$$a^x-c=0$$"
   ]
  },
  {
   "cell_type": "code",
   "execution_count": 17,
   "id": "f1cfcdc7",
   "metadata": {},
   "outputs": [],
   "source": [
    "# Assuming the function is monotonically increasing\n",
    "\n",
    "\n",
    "def bisection(f,tolerance=0.001):\n",
    "    ''' Inner function to compute\n",
    "        initial bounds. Assumes f is \n",
    "        monotically increasing\n",
    "    '''\n",
    "    def find_bounds(f):\n",
    "        low=0.00001\n",
    "        high=low+1\n",
    "\n",
    "        while f(low)<0:\n",
    "            low+=1\n",
    "        low,high=low-1,low\n",
    "        return low,high\n",
    "    ''' End inner function'''\n",
    "    \n",
    "    low,high=find_bounds(f)\n",
    "    mid=(low+high)/2\n",
    "    while abs(f(mid))>tolerance:\n",
    "        if f(mid)<0:\n",
    "            low=mid\n",
    "        else:\n",
    "            high=mid\n",
    "        mid=(low+high)/2\n",
    "    return mid\n",
    "\n",
    "\n",
    "        \n"
   ]
  },
  {
   "cell_type": "markdown",
   "id": "bd957def",
   "metadata": {},
   "source": [
    "### Examples\n",
    "1. Solve $x^3-x^2-1=0$\n",
    "1. Compute $\\sqrt{3}$, i.e. solve $x^2-3=0$\n",
    "1. Compute $\\sqrt[4]{5}$, i.e. solve $x^4-5=0$\n",
    "1. Compute $\\log_2{10}$, i.e. solve $2^x-10=0$"
   ]
  },
  {
   "cell_type": "code",
   "execution_count": 18,
   "id": "f0404eae",
   "metadata": {},
   "outputs": [
    {
     "name": "stdout",
     "output_type": "stream",
     "text": [
      "1.4655712334609032\n",
      "1.7320508076047898\n",
      "1.4953487808054686\n",
      "3.3219280945307013\n"
     ]
    }
   ],
   "source": [
    "def f1(x):\n",
    "    return x**3-x**2-1\n",
    "def f2(x):\n",
    "    return x**2-3\n",
    "def f3(x):\n",
    "    return x**4-5\n",
    "def f4(x):\n",
    "    return 2**x-10\n",
    "\n",
    "tolerance=0.00000001\n",
    "y1=bisection(f1,tolerance)\n",
    "print(y1)\n",
    "y2=bisection(f2,tolerance)\n",
    "print(y2)\n",
    "y3=bisection(f3,tolerance)\n",
    "print(y3)\n",
    "y4=bisection(f4,tolerance)\n",
    "print(y4)"
   ]
  },
  {
   "cell_type": "markdown",
   "id": "9a769264",
   "metadata": {},
   "source": [
    "### Lambda's\n",
    "\n",
    "- Lambda functions or **anonymous** functions\n",
    "- defines a function without a name\n",
    "- lambda x1,x2,...: expression"
   ]
  },
  {
   "cell_type": "code",
   "execution_count": 116,
   "id": "f65589d4",
   "metadata": {},
   "outputs": [
    {
     "data": {
      "text/plain": [
       "5"
      ]
     },
     "execution_count": 116,
     "metadata": {},
     "output_type": "execute_result"
    }
   ],
   "source": [
    "f=lambda x,y: x+y\n",
    "f(2,3)"
   ]
  },
  {
   "cell_type": "code",
   "execution_count": null,
   "id": "7bf54de8",
   "metadata": {},
   "outputs": [],
   "source": [
    "y1=bisection(lambda x:x**3-x**2-1)\n",
    "y2=bisection(lambda x:x**2-3)\n",
    "y3=bisection(lambda x: 2**x-10)\n",
    "print(y1)\n",
    "print(y2)\n",
    "print(y3)"
   ]
  },
  {
   "cell_type": "markdown",
   "id": "a694e5c7",
   "metadata": {},
   "source": [
    "### Extra\n"
   ]
  },
  {
   "cell_type": "markdown",
   "id": "efaafbec",
   "metadata": {},
   "source": [
    "### Computing the sin function\n",
    "\n",
    "$$ sin(x)=x-\\frac{x^3}{3!}+\\frac{x^5}{5!}-\\frac{x^7}{7!}+\\ldots$$\n",
    "\n",
    "and \n",
    "$$(n+2)!=(n+2)\\times (n+1)\\times n!$$"
   ]
  },
  {
   "cell_type": "code",
   "execution_count": 91,
   "id": "ac2af7c9",
   "metadata": {},
   "outputs": [],
   "source": [
    "def sin(val,terms=5):\n",
    "   \n",
    "    result=val ## first term\n",
    "    numer=val*val*val ## numerator of second term i.e. x cube\n",
    "    denom=6           ## denominator of second term i.e. 3!\n",
    "    sign=-1           ## sign of second term\n",
    "    for j in range(1,terms+1):  ## 2j+1\n",
    "        result+=sign*numer/denom;\n",
    "        numer *=val*val\n",
    "        denom *=(2*j+2)*(2*j+3)  ## (2j+1+1)*(2j+1+2)*n\n",
    "        sign *=-1\n",
    "    return result"
   ]
  },
  {
   "cell_type": "code",
   "execution_count": 92,
   "id": "5eaa3e07",
   "metadata": {
    "scrolled": true
   },
   "outputs": [
    {
     "name": "stdout",
     "output_type": "stream",
     "text": [
      "0.14087459415584405\n"
     ]
    },
    {
     "data": {
      "text/plain": [
       "0.1411200080598672"
      ]
     },
     "execution_count": 92,
     "metadata": {},
     "output_type": "execute_result"
    }
   ],
   "source": [
    "import math\n",
    "print(sin(3))\n",
    "math.sin(3)"
   ]
  },
  {
   "cell_type": "markdown",
   "id": "103751d9",
   "metadata": {},
   "source": [
    "\n",
    "- Functional programming using map/reduce\n",
    "- In general anything that can be done with map can be done with list comprehensions\n",
    "- For more complicated data structures it is easier to use map"
   ]
  },
  {
   "cell_type": "code",
   "execution_count": 52,
   "id": "0482232d",
   "metadata": {},
   "outputs": [
    {
     "name": "stdout",
     "output_type": "stream",
     "text": [
      "[2, 3, 4, 5]\n"
     ]
    }
   ],
   "source": [
    "## apply function to each element of the list without using iterations\n",
    "## map (f,iterable) applies f to every element of iterable\n",
    "a=[1,2,3,4]\n",
    "b=map(lambda x: x+1,a)\n",
    "b=list(b)\n",
    "print(b)"
   ]
  },
  {
   "cell_type": "code",
   "execution_count": 41,
   "id": "206f1df4",
   "metadata": {},
   "outputs": [
    {
     "data": {
      "text/plain": [
       "24"
      ]
     },
     "execution_count": 41,
     "metadata": {},
     "output_type": "execute_result"
    }
   ],
   "source": [
    "from functools import *\n",
    "## return (accummulate) a single value from a list\n",
    "reduce(lambda x,y:x*y,[1,2,3,4])"
   ]
  },
  {
   "cell_type": "code",
   "execution_count": 100,
   "id": "1c8bd122",
   "metadata": {},
   "outputs": [
    {
     "data": {
      "text/plain": [
       "False"
      ]
     },
     "execution_count": 100,
     "metadata": {},
     "output_type": "execute_result"
    }
   ],
   "source": [
    "a=[0,0,0,0]\n",
    "reduce(lambda x,y: bool (x or y) ,a)"
   ]
  },
  {
   "cell_type": "code",
   "execution_count": 112,
   "id": "12a41f85",
   "metadata": {},
   "outputs": [
    {
     "data": {
      "text/plain": [
       "False"
      ]
     },
     "execution_count": 112,
     "metadata": {},
     "output_type": "execute_result"
    }
   ],
   "source": [
    "a=[3,3,3,5,3]\n",
    "reduce(lambda x,y:bool(x and y==3),a,True)"
   ]
  },
  {
   "cell_type": "code",
   "execution_count": 115,
   "id": "cfff170a",
   "metadata": {},
   "outputs": [
    {
     "data": {
      "text/plain": [
       "False"
      ]
     },
     "execution_count": 115,
     "metadata": {},
     "output_type": "execute_result"
    }
   ],
   "source": [
    "a=[0,1,2,2]\n",
    "reduce(lambda x,y:bool(x or y==3),a,False)"
   ]
  },
  {
   "cell_type": "code",
   "execution_count": null,
   "id": "de289948",
   "metadata": {},
   "outputs": [],
   "source": []
  }
 ],
 "metadata": {
  "kernelspec": {
   "display_name": "Python 3",
   "language": "python",
   "name": "python3"
  },
  "language_info": {
   "codemirror_mode": {
    "name": "ipython",
    "version": 3
   },
   "file_extension": ".py",
   "mimetype": "text/x-python",
   "name": "python",
   "nbconvert_exporter": "python",
   "pygments_lexer": "ipython3",
   "version": "3.9.6"
  }
 },
 "nbformat": 4,
 "nbformat_minor": 5
}
