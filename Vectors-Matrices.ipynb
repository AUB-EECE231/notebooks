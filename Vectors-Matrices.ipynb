{
 "cells": [
  {
   "cell_type": "markdown",
   "id": "ad3316c5",
   "metadata": {},
   "source": [
    "### Lists of lists"
   ]
  },
  {
   "cell_type": "code",
   "execution_count": 230,
   "id": "7deed4ec",
   "metadata": {},
   "outputs": [
    {
     "name": "stdout",
     "output_type": "stream",
     "text": [
      "[[1, 2, 3], [4, 5], [6, 7, 8, 9]]\n",
      "[1, 2]\n"
     ]
    }
   ],
   "source": [
    "m=[[1,2,3],[4,5],[6,7,8,9]]\n",
    "print(m)\n",
    "print(m[0][:2])"
   ]
  },
  {
   "cell_type": "code",
   "execution_count": 235,
   "id": "25d81d22",
   "metadata": {},
   "outputs": [
    {
     "name": "stdout",
     "output_type": "stream",
     "text": [
      "[[True, False, False], [True, True, False], [False, True, True]]\n"
     ]
    }
   ],
   "source": [
    "blocked=[[False,True,True],[False,False,True],[True,False,False]]\n",
    "def maze(M):\n",
    "    n=len(M)      ## number of rows\n",
    "    m=len(M[0])   ## numbers of columns\n",
    "    R=[[False for i in range(m)] for j in range(n)] #initially all cells are unreachable\n",
    "    R[0][0]=not M[0][0] # upper left corner is reachable iff it is open\n",
    "    for i in range(n):  # start from the top row and go down\n",
    "        for j in range(m): # start from the left column and go right\n",
    "            if R[i][j]:\n",
    "                if  i<n-1 and not M[i+1][j]:\n",
    "                    R[i+1][j]=True\n",
    "                if j<m-1 and not M[i][j+1]:\n",
    "                    R[i][j+1]=True\n",
    "    return R\n",
    "\n",
    "R=maze(blocked)\n",
    "print(R)\n",
    "    "
   ]
  },
  {
   "cell_type": "markdown",
   "id": "e855bcf9",
   "metadata": {},
   "source": [
    "### Lists vs Arrays\n",
    "\n",
    "- A list is an ordered sequence of objects, similar to arrays\n",
    "- Operations on lists, however, have **different** meaning than on arrays"
   ]
  },
  {
   "cell_type": "code",
   "execution_count": 219,
   "id": "104f364f",
   "metadata": {
    "scrolled": true
   },
   "outputs": [
    {
     "name": "stdout",
     "output_type": "stream",
     "text": [
      "[1, 2, 3, 4, 1, 2, 3, 4]\n"
     ]
    }
   ],
   "source": [
    "a=[1,2,3,4]\n",
    "print(a*2)\n"
   ]
  },
  {
   "cell_type": "code",
   "execution_count": 220,
   "id": "658ba83c",
   "metadata": {
    "scrolled": true
   },
   "outputs": [
    {
     "ename": "TypeError",
     "evalue": "can only concatenate list (not \"int\") to list",
     "output_type": "error",
     "traceback": [
      "\u001b[1;31m---------------------------------------------------------------------------\u001b[0m",
      "\u001b[1;31mTypeError\u001b[0m                                 Traceback (most recent call last)",
      "\u001b[1;32m<ipython-input-220-a932d81a430d>\u001b[0m in \u001b[0;36m<module>\u001b[1;34m\u001b[0m\n\u001b[1;32m----> 1\u001b[1;33m \u001b[0mprint\u001b[0m\u001b[1;33m(\u001b[0m\u001b[0ma\u001b[0m\u001b[1;33m+\u001b[0m\u001b[1;36m1\u001b[0m\u001b[1;33m)\u001b[0m\u001b[1;33m\u001b[0m\u001b[1;33m\u001b[0m\u001b[0m\n\u001b[0m",
      "\u001b[1;31mTypeError\u001b[0m: can only concatenate list (not \"int\") to list"
     ]
    }
   ],
   "source": [
    "print(a+1)"
   ]
  },
  {
   "cell_type": "markdown",
   "id": "394c69c6",
   "metadata": {},
   "source": [
    "#### Arrays\n",
    "- The Python package numpy is the most used package for numerical computation\n",
    "- We can use arrays (among others) using numpy\n",
    "- As one can see below, the same operations on lists and arrays have different meaning"
   ]
  },
  {
   "cell_type": "code",
   "execution_count": 221,
   "id": "c59949c6",
   "metadata": {},
   "outputs": [
    {
     "name": "stdout",
     "output_type": "stream",
     "text": [
      "[2 4 6 8]\n",
      "[2 3 4 5]\n",
      "[ 1  4  9 16]\n",
      "30\n"
     ]
    }
   ],
   "source": [
    "import numpy as np\n",
    "v=np.array([1,2,3,4])\n",
    "print(v*2) # multiple each element of the array by 2\n",
    "print(v+1) # add 1 to every element of the array\n",
    "print(v*v) # multiple each element of the array with itself\n",
    "print(v.dot(v))\n"
   ]
  },
  {
   "cell_type": "markdown",
   "id": "4ada6391",
   "metadata": {},
   "source": [
    "- Unlike lists, elements of an array **must** have the same type, up to casting"
   ]
  },
  {
   "cell_type": "code",
   "execution_count": 177,
   "id": "4e14ff18",
   "metadata": {
    "scrolled": true
   },
   "outputs": [
    {
     "name": "stdout",
     "output_type": "stream",
     "text": [
      "['a' '2']\n",
      "['2.2' 'a']\n",
      "[2.  2.2]\n",
      "<class 'numpy.str_'> <class 'numpy.str_'> <class 'numpy.float64'>\n"
     ]
    }
   ],
   "source": [
    "u=np.array(['a',2])\n",
    "v=np.array([2.2,'a'])\n",
    "w=np.array([2,2.2])\n",
    "print(u)\n",
    "print(v)\n",
    "print(w)\n",
    "print(type(u[0]),type(v[0]),type(w[0]))"
   ]
  },
  {
   "cell_type": "markdown",
   "id": "169e5a9d",
   "metadata": {},
   "source": [
    "#### Slicing as usual\n",
    "- numpy arrays support slicing, the same way lists do"
   ]
  },
  {
   "cell_type": "code",
   "execution_count": 179,
   "id": "36c33292",
   "metadata": {
    "scrolled": true
   },
   "outputs": [
    {
     "name": "stdout",
     "output_type": "stream",
     "text": [
      "['2.2' 'a']\n",
      "['2.2']\n"
     ]
    }
   ],
   "source": [
    "print(v)\n",
    "print(v[0:1])"
   ]
  },
  {
   "cell_type": "markdown",
   "id": "33b22cfa",
   "metadata": {},
   "source": [
    "### Lists of lists vs Matrices\n",
    "\n",
    "- We have seen before that the elements of a list can be any objects\n",
    "- In particular each element can be a list itself\n",
    "- Note that each \"inner\" list can have different type of elements and different sizes"
   ]
  },
  {
   "cell_type": "code",
   "execution_count": 180,
   "id": "d063c96b",
   "metadata": {},
   "outputs": [
    {
     "name": "stdout",
     "output_type": "stream",
     "text": [
      "c\n"
     ]
    },
    {
     "data": {
      "text/plain": [
       "['a', 'b']"
      ]
     },
     "execution_count": 180,
     "metadata": {},
     "output_type": "execute_result"
    }
   ],
   "source": [
    "listOfLists=[['a','b','c'],[4,5,6,7]]\n",
    "print(listOfLists[0][2])\n",
    "listOfLists[0][0:2]\n"
   ]
  },
  {
   "cell_type": "markdown",
   "id": "4100fa59",
   "metadata": {},
   "source": [
    "#### Matrices (numpy)\n",
    "- The numpy package (numerical Python) we use array, a d-dimensional object\n",
    "- list of lists and 2-d arrays might superficially look the same but they are not\n",
    "- All elements must have the same type, up to casting\n",
    "- For array \"inner\" arrays must have the same length\n",
    "- **NOTE** if we use _matrix_ instead of _array_ hey could have different sizes.\n",
    "- You are **DISCOURAGED** from using _matrix_"
   ]
  },
  {
   "cell_type": "code",
   "execution_count": 210,
   "id": "6854027c",
   "metadata": {},
   "outputs": [
    {
     "name": "stdout",
     "output_type": "stream",
     "text": [
      "[[1 2]\n",
      " [3 4]]\n"
     ]
    }
   ],
   "source": []
  },
  {
   "cell_type": "code",
   "execution_count": 249,
   "id": "5915ee47",
   "metadata": {},
   "outputs": [
    {
     "name": "stdout",
     "output_type": "stream",
     "text": [
      "[[1 2]\n",
      " [3 4]]\n",
      "---------\n",
      "[[11 12]\n",
      " [13 14]]\n",
      "--------\n",
      "[[[ 1  2]\n",
      "  [ 3  4]]\n",
      "\n",
      " [[11 12]\n",
      "  [13 14]]]\n",
      "---------\n",
      "[[1 2]\n",
      " [3 4]]\n"
     ]
    }
   ],
   "source": [
    "# 2-d array\n",
    "m=np.array([[1,2],[3,4]])\n",
    "print(m)\n",
    "print(\"---------\")\n",
    "# 3-d array\n",
    "n=np.array([[11,12],[13,14]])\n",
    "print(n)\n",
    "print(\"--------\")\n",
    "p=np.array([m,n])\n",
    "print(p)\n",
    "\n",
    "p.shape\n",
    "print(\"---------\")\n",
    "print(p[0])\n"
   ]
  },
  {
   "cell_type": "markdown",
   "id": "15c59953",
   "metadata": {},
   "source": [
    "#### Elements with different sizes\n",
    "\n",
    "- It is possible to have different sizes for the \"inner\" arrays\n",
    "- In that case numpy regards them as objects"
   ]
  },
  {
   "cell_type": "code",
   "execution_count": 262,
   "id": "b7265ced",
   "metadata": {
    "scrolled": true
   },
   "outputs": [
    {
     "name": "stdout",
     "output_type": "stream",
     "text": [
      "[[3 4]\n",
      " [1 2]] (2, 2)\n",
      "[list([3, 2, 1]) list(['a', 5]) list([1, 2, 3])] (3,)\n"
     ]
    }
   ],
   "source": [
    "n=np.array([1,2])\n",
    "m=np.array([3,4])\n",
    "# p is a 3-d array\n",
    "p=np.array([m,n])\n",
    "print(p,p.shape)\n",
    "q=np.array([[3,2,1],['a',5],[1,2,3]],dtype=object)\n",
    "print(q,q.shape)"
   ]
  },
  {
   "cell_type": "code",
   "execution_count": 269,
   "id": "71f72d4b",
   "metadata": {},
   "outputs": [
    {
     "data": {
      "text/plain": [
       "array([14, 32, 50])"
      ]
     },
     "execution_count": 269,
     "metadata": {},
     "output_type": "execute_result"
    }
   ],
   "source": [
    "v=np.array([1,2,3])\n",
    "np.dot(p,v)"
   ]
  },
  {
   "cell_type": "code",
   "execution_count": 270,
   "id": "b65c9dc4",
   "metadata": {
    "scrolled": false
   },
   "outputs": [
    {
     "name": "stdout",
     "output_type": "stream",
     "text": [
      "[[ 1.   0.   0. ]\n",
      " [ 0.   1.5 -1. ]\n",
      " [ 0.  -1.   1. ]]\n",
      "[[1. 0. 0.]\n",
      " [0. 1. 0.]\n",
      " [0. 0. 1.]]\n"
     ]
    },
    {
     "data": {
      "text/plain": [
       "True"
      ]
     },
     "execution_count": 270,
     "metadata": {},
     "output_type": "execute_result"
    }
   ],
   "source": [
    "m=np.matrix([[1,0,0],[0,2,2],[0,2,3]])\n",
    "n=np.linalg.inv(m)\n",
    "print(n)\n",
    "print(m.dot(n))\n",
    "n=m.T\n",
    "e=np.all(np.equal(m,n))\n",
    "e"
   ]
  },
  {
   "cell_type": "markdown",
   "id": "5ac19b06",
   "metadata": {},
   "source": [
    "## Solving a system of equations\n",
    "\n",
    "- Example:  $$\\begin{align*} a_{11}x_1 +\\ldots+a_{1n}x_n&=c_1\\\\ \\ldots \\ldots \\\\a_{n1}x_1+\\ldots a_{nn}x_n&=c_n\\end{align*}$$\n",
    "- Can be written as \n",
    "$$ AX=C$$\n",
    "- With solution\n",
    "$$ X=A^{-1}C$$\n",
    "\n",
    "- Example\n",
    "$$\\begin{align*} x_1+2x_2=3\\\\3x_1+4x_2=6\\end{align*}$$\n",
    "- Which can be written as\n",
    "$$\\left(\\begin{array}{cc}1 &2 \\\\ 3 & 4\\end{array}\\right)\\left(\\begin{array}{c}x_1\\\\x_2\\end{array}\\right)=\\left(\\begin{array}{c}3\\\\6\\end{array}\\right)$$\n",
    "-Therefore\n",
    "\n",
    "$$\\left(\\begin{array}{c}x_1\\\\x_2\\end{array}\\right)=\\left(\\begin{array}{cc}1 &2 \\\\ 3 & 4\\end{array}\\right)^{-1}\\left(\\begin{array}{c}3\\\\6\\end{array}\\right)$$"
   ]
  },
  {
   "cell_type": "code",
   "execution_count": 96,
   "id": "7f69d5e3",
   "metadata": {},
   "outputs": [
    {
     "name": "stdout",
     "output_type": "stream",
     "text": [
      "[[-2.   1. ]\n",
      " [ 1.5 -0.5]]\n",
      "[[-4.4408921e-16]\n",
      " [ 1.5000000e+00]]\n"
     ]
    }
   ],
   "source": [
    "m=np.array([[1,2],[3,4]])\n",
    "c=np.array([[3],[6]])\n",
    "r=None\n",
    "if np.linalg.det(m)==0:\n",
    "    print(\"No unique solution\")\n",
    "else:\n",
    "    inv=np.linalg.inv(m)\n",
    "    r=inv.dot(c)\n",
    "print(inv)\n",
    "print(r)"
   ]
  },
  {
   "cell_type": "markdown",
   "id": "485c94e1",
   "metadata": {},
   "source": [
    "### Dictionaries"
   ]
  },
  {
   "cell_type": "code",
   "execution_count": 191,
   "id": "6e44e364",
   "metadata": {},
   "outputs": [
    {
     "ename": "KeyError",
     "evalue": "'k4'",
     "output_type": "error",
     "traceback": [
      "\u001b[1;31m---------------------------------------------------------------------------\u001b[0m",
      "\u001b[1;31mKeyError\u001b[0m                                  Traceback (most recent call last)",
      "\u001b[1;32m<ipython-input-191-8753c22a5f1c>\u001b[0m in \u001b[0;36m<module>\u001b[1;34m\u001b[0m\n\u001b[0;32m      1\u001b[0m \u001b[0md\u001b[0m\u001b[1;33m=\u001b[0m\u001b[1;33m{\u001b[0m\u001b[1;34m'k1'\u001b[0m\u001b[1;33m:\u001b[0m\u001b[1;36m1\u001b[0m\u001b[1;33m,\u001b[0m\u001b[1;34m'k2'\u001b[0m\u001b[1;33m:\u001b[0m\u001b[1;36m2\u001b[0m\u001b[1;33m,\u001b[0m\u001b[1;34m'k3'\u001b[0m\u001b[1;33m:\u001b[0m\u001b[1;36m3\u001b[0m\u001b[1;33m}\u001b[0m\u001b[1;33m\u001b[0m\u001b[1;33m\u001b[0m\u001b[0m\n\u001b[1;32m----> 2\u001b[1;33m \u001b[0md\u001b[0m\u001b[1;33m[\u001b[0m\u001b[1;34m'k4'\u001b[0m\u001b[1;33m]\u001b[0m\u001b[1;33m\u001b[0m\u001b[1;33m\u001b[0m\u001b[0m\n\u001b[0m",
      "\u001b[1;31mKeyError\u001b[0m: 'k4'"
     ]
    }
   ],
   "source": [
    "d={'k1':1,'k2':2,'k3':3}\n",
    "d['k4']"
   ]
  },
  {
   "cell_type": "code",
   "execution_count": 85,
   "id": "0b96addc",
   "metadata": {},
   "outputs": [
    {
     "name": "stdout",
     "output_type": "stream",
     "text": [
      "{'ali': 100, 'joe': 99}\n"
     ]
    }
   ],
   "source": [
    "students=['ali','joe']\n",
    "grades=[100,99]\n",
    "roster={s:g for s,g in zip(students,grades)}\n",
    "print(roster)"
   ]
  },
  {
   "cell_type": "markdown",
   "id": "7768d0de",
   "metadata": {},
   "source": [
    "### Queues\n",
    "- Also know as First in First out (FIFO ) queue\n",
    "- Used to implement first come first served strategy"
   ]
  },
  {
   "cell_type": "code",
   "execution_count": 58,
   "id": "e176b0bb",
   "metadata": {},
   "outputs": [
    {
     "data": {
      "text/plain": [
       "[1, 2, 4, 8, 16, 32, 64, 128, 256, 512]"
      ]
     },
     "execution_count": 58,
     "metadata": {},
     "output_type": "execute_result"
    }
   ],
   "source": [
    "x=[2**i for i in range(10)]\n",
    "x"
   ]
  },
  {
   "cell_type": "code",
   "execution_count": 66,
   "id": "dd72dd17",
   "metadata": {
    "scrolled": true
   },
   "outputs": [],
   "source": [
    "x=[i for i in range(100000000)]\n"
   ]
  },
  {
   "cell_type": "code",
   "execution_count": 73,
   "id": "0db93fdd",
   "metadata": {},
   "outputs": [
    {
     "data": {
      "text/plain": [
       "1005"
      ]
     },
     "execution_count": 73,
     "metadata": {},
     "output_type": "execute_result"
    }
   ],
   "source": [
    "x.pop(1000)"
   ]
  },
  {
   "cell_type": "code",
   "execution_count": 68,
   "id": "4a841481",
   "metadata": {
    "scrolled": true
   },
   "outputs": [
    {
     "data": {
      "text/plain": [
       "99999999"
      ]
     },
     "execution_count": 68,
     "metadata": {},
     "output_type": "execute_result"
    }
   ],
   "source": [
    "x.pop()"
   ]
  },
  {
   "cell_type": "code",
   "execution_count": null,
   "id": "c9d2c241",
   "metadata": {},
   "outputs": [],
   "source": []
  },
  {
   "cell_type": "markdown",
   "id": "1b25ff5d",
   "metadata": {},
   "source": [
    "## Stacks\n",
    "\n"
   ]
  },
  {
   "cell_type": "markdown",
   "id": "803257eb",
   "metadata": {},
   "source": [
    "### balanced parentheses\n"
   ]
  },
  {
   "cell_type": "code",
   "execution_count": 83,
   "id": "106d7ebd",
   "metadata": {},
   "outputs": [
    {
     "name": "stdout",
     "output_type": "stream",
     "text": [
      "True\n"
     ]
    }
   ],
   "source": [
    "s=\"(()[])\"\n",
    "stack=[]\n",
    "for c in s:\n",
    "    if c==\")\":\n",
    "        if len(stack)!=0 and stack[-1]==\"(\":\n",
    "            stack.pop()\n",
    "        else:\n",
    "            stack.append(c)\n",
    "    elif c==\"]\":\n",
    "        if len(stack)!=0 and stack[-1]==\"[\":\n",
    "            stack.pop()\n",
    "        else:\n",
    "            stack.append(c)\n",
    "    else:\n",
    "        stack.append(c)\n",
    "print(len(stack)==0)\n",
    "    "
   ]
  },
  {
   "cell_type": "markdown",
   "id": "b8c47d5b",
   "metadata": {},
   "source": [
    "### Postfix Calculator"
   ]
  },
  {
   "cell_type": "code",
   "execution_count": 56,
   "id": "73db1823",
   "metadata": {},
   "outputs": [
    {
     "name": "stdout",
     "output_type": "stream",
     "text": [
      "9\n"
     ]
    }
   ],
   "source": [
    "command=\"3 1 2 + *\"  # mult(3,add(1,2)), 3*(1+2)\n",
    "ops=command.split()\n",
    "stack=[]\n",
    "for op in ops:\n",
    "    if op=='+':\n",
    "        a,b=stack.pop(),stack.pop()\n",
    "        stack.append(a+b)\n",
    "        \n",
    "    elif op=='*':\n",
    "        a,b=stack.pop(),stack.pop()\n",
    "        stack.append(a*b)\n",
    "    else:\n",
    "        stack.append(int(op))\n",
    "print(stack.pop())"
   ]
  },
  {
   "cell_type": "code",
   "execution_count": null,
   "id": "b3c54be0",
   "metadata": {},
   "outputs": [],
   "source": []
  }
 ],
 "metadata": {
  "kernelspec": {
   "display_name": "Python 3",
   "language": "python",
   "name": "python3"
  },
  "language_info": {
   "codemirror_mode": {
    "name": "ipython",
    "version": 3
   },
   "file_extension": ".py",
   "mimetype": "text/x-python",
   "name": "python",
   "nbconvert_exporter": "python",
   "pygments_lexer": "ipython3",
   "version": "3.9.6"
  }
 },
 "nbformat": 4,
 "nbformat_minor": 5
}
