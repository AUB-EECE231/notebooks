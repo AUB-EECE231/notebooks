{
 "cells": [
  {
   "cell_type": "markdown",
   "id": "ad3316c5",
   "metadata": {},
   "source": [
    "### Lists of lists"
   ]
  },
  {
   "cell_type": "code",
   "execution_count": 230,
   "id": "7deed4ec",
   "metadata": {},
   "outputs": [
    {
     "name": "stdout",
     "output_type": "stream",
     "text": [
      "[[1, 2, 3], [4, 5], [6, 7, 8, 9]]\n",
      "[1, 2]\n"
     ]
    }
   ],
   "source": [
    "m=[[1,2,3],[4,5],[6,7,8,9]]\n",
    "print(m)\n",
    "print(m[0][:2])"
   ]
  },
  {
   "cell_type": "code",
   "execution_count": 235,
   "id": "25d81d22",
   "metadata": {},
   "outputs": [
    {
     "name": "stdout",
     "output_type": "stream",
     "text": [
      "[[True, False, False], [True, True, False], [False, True, True]]\n"
     ]
    }
   ],
   "source": [
    "blocked=[[False,True,True],[False,False,True],[True,False,False]]\n",
    "def maze(M):\n",
    "    n=len(M)      ## number of rows\n",
    "    m=len(M[0])   ## numbers of columns\n",
    "    R=[[False for i in range(m)] for j in range(n)] #initially all cells are unreachable\n",
    "    R[0][0]=not M[0][0] # upper left corner is reachable iff it is open\n",
    "    for i in range(n):  # start from the top row and go down\n",
    "        for j in range(m): # start from the left column and go right\n",
    "            if R[i][j]:\n",
    "                if  i<n-1 and not M[i+1][j]:\n",
    "                    R[i+1][j]=True\n",
    "                if j<m-1 and not M[i][j+1]:\n",
    "                    R[i][j+1]=True\n",
    "    return R\n",
    "\n",
    "R=maze(blocked)\n",
    "print(R)\n",
    "    "
   ]
  },
  {
   "cell_type": "markdown",
   "id": "e855bcf9",
   "metadata": {},
   "source": [
    "### Lists vs Arrays\n",
    "\n",
    "- A list is an ordered sequence of objects, similar to arrays\n",
    "- Operations on lists, however, have **different** meaning than on arrays"
   ]
  },
  {
   "cell_type": "code",
   "execution_count": 219,
   "id": "104f364f",
   "metadata": {
    "scrolled": true
   },
   "outputs": [
    {
     "name": "stdout",
     "output_type": "stream",
     "text": [
      "[1, 2, 3, 4, 1, 2, 3, 4]\n"
     ]
    }
   ],
   "source": [
    "a=[1,2,3,4]\n",
    "print(a*2)\n"
   ]
  },
  {
   "cell_type": "code",
   "execution_count": 220,
   "id": "658ba83c",
   "metadata": {
    "scrolled": true
   },
   "outputs": [
    {
     "ename": "TypeError",
     "evalue": "can only concatenate list (not \"int\") to list",
     "output_type": "error",
     "traceback": [
      "\u001b[1;31m---------------------------------------------------------------------------\u001b[0m",
      "\u001b[1;31mTypeError\u001b[0m                                 Traceback (most recent call last)",
      "\u001b[1;32m<ipython-input-220-a932d81a430d>\u001b[0m in \u001b[0;36m<module>\u001b[1;34m\u001b[0m\n\u001b[1;32m----> 1\u001b[1;33m \u001b[0mprint\u001b[0m\u001b[1;33m(\u001b[0m\u001b[0ma\u001b[0m\u001b[1;33m+\u001b[0m\u001b[1;36m1\u001b[0m\u001b[1;33m)\u001b[0m\u001b[1;33m\u001b[0m\u001b[1;33m\u001b[0m\u001b[0m\n\u001b[0m",
      "\u001b[1;31mTypeError\u001b[0m: can only concatenate list (not \"int\") to list"
     ]
    }
   ],
   "source": [
    "print(a+1)"
   ]
  },
  {
   "cell_type": "markdown",
   "id": "394c69c6",
   "metadata": {},
   "source": [
    "#### Arrays\n",
    "- The Python package numpy is the most used package for numerical computation\n",
    "- We can use arrays (among others) using numpy\n",
    "- As one can see below, the same operations on lists and arrays have different meaning"
   ]
  },
  {
   "cell_type": "code",
   "execution_count": 221,
   "id": "c59949c6",
   "metadata": {},
   "outputs": [
    {
     "name": "stdout",
     "output_type": "stream",
     "text": [
      "[2 4 6 8]\n",
      "[2 3 4 5]\n",
      "[ 1  4  9 16]\n",
      "30\n"
     ]
    }
   ],
   "source": [
    "import numpy as np\n",
    "v=np.array([1,2,3,4])\n",
    "print(v*2) # multiple each element of the array by 2\n",
    "print(v+1) # add 1 to every element of the array\n",
    "print(v*v) # multiple each element of the array with itself\n",
    "print(v.dot(v))\n"
   ]
  },
  {
   "cell_type": "markdown",
   "id": "4ada6391",
   "metadata": {},
   "source": [
    "- Unlike lists, elements of an array **must** have the same type, up to casting"
   ]
  },
  {
   "cell_type": "code",
   "execution_count": 177,
   "id": "4e14ff18",
   "metadata": {
    "scrolled": true
   },
   "outputs": [
    {
     "name": "stdout",
     "output_type": "stream",
     "text": [
      "['a' '2']\n",
      "['2.2' 'a']\n",
      "[2.  2.2]\n",
      "<class 'numpy.str_'> <class 'numpy.str_'> <class 'numpy.float64'>\n"
     ]
    }
   ],
   "source": [
    "u=np.array(['a',2])\n",
    "v=np.array([2.2,'a'])\n",
    "w=np.array([2,2.2])\n",
    "print(u)\n",
    "print(v)\n",
    "print(w)\n",
    "print(type(u[0]),type(v[0]),type(w[0]))"
   ]
  },
  {
   "cell_type": "markdown",
   "id": "169e5a9d",
   "metadata": {},
   "source": [
    "#### Slicing as usual\n",
    "- numpy arrays support slicing, the same way lists do"
   ]
  },
  {
   "cell_type": "code",
   "execution_count": 179,
   "id": "36c33292",
   "metadata": {
    "scrolled": true
   },
   "outputs": [
    {
     "name": "stdout",
     "output_type": "stream",
     "text": [
      "['2.2' 'a']\n",
      "['2.2']\n"
     ]
    }
   ],
   "source": [
    "print(v)\n",
    "print(v[0:1])"
   ]
  },
  {
   "cell_type": "markdown",
   "id": "33b22cfa",
   "metadata": {},
   "source": [
    "### Lists of lists vs Matrices\n",
    "\n",
    "- We have seen before that the elements of a list can be any objects\n",
    "- In particular each element can be a list itself\n",
    "- Note that each \"inner\" list can have different type of elements and different sizes"
   ]
  },
  {
   "cell_type": "code",
   "execution_count": 180,
   "id": "d063c96b",
   "metadata": {},
   "outputs": [
    {
     "name": "stdout",
     "output_type": "stream",
     "text": [
      "c\n"
     ]
    },
    {
     "data": {
      "text/plain": [
       "['a', 'b']"
      ]
     },
     "execution_count": 180,
     "metadata": {},
     "output_type": "execute_result"
    }
   ],
   "source": [
    "listOfLists=[['a','b','c'],[4,5,6,7]]\n",
    "print(listOfLists[0][2])\n",
    "listOfLists[0][0:2]\n"
   ]
  },
  {
   "cell_type": "markdown",
   "id": "4100fa59",
   "metadata": {},
   "source": [
    "#### Matrices (numpy)\n",
    "- The numpy package (numerical Python) we use array, a d-dimensional object\n",
    "- list of lists and 2-d arrays might superficially look the same but they are not\n",
    "- All elements must have the same type, up to casting\n",
    "- For array \"inner\" arrays must have the same length\n",
    "- **NOTE** if we use _matrix_ instead of _array_ hey could have different sizes.\n",
    "- You are **DISCOURAGED** from using _matrix_"
   ]
  },
  {
   "cell_type": "code",
   "execution_count": 210,
   "id": "6854027c",
   "metadata": {},
   "outputs": [
    {
     "name": "stdout",
     "output_type": "stream",
     "text": [
      "[[1 2]\n",
      " [3 4]]\n"
     ]
    }
   ],
   "source": []
  },
  {
   "cell_type": "code",
   "execution_count": 249,
   "id": "5915ee47",
   "metadata": {},
   "outputs": [
    {
     "name": "stdout",
     "output_type": "stream",
     "text": [
      "[[1 2]\n",
      " [3 4]]\n",
      "---------\n",
      "[[11 12]\n",
      " [13 14]]\n",
      "--------\n",
      "[[[ 1  2]\n",
      "  [ 3  4]]\n",
      "\n",
      " [[11 12]\n",
      "  [13 14]]]\n",
      "---------\n",
      "[[1 2]\n",
      " [3 4]]\n"
     ]
    }
   ],
   "source": [
    "# 2-d array\n",
    "m=np.array([[1,2],[3,4]])\n",
    "print(m)\n",
    "print(\"---------\")\n",
    "# 3-d array\n",
    "n=np.array([[11,12],[13,14]])\n",
    "print(n)\n",
    "print(\"--------\")\n",
    "p=np.array([m,n])\n",
    "print(p)\n",
    "\n",
    "p.shape\n",
    "print(\"---------\")\n",
    "print(p[0])\n"
   ]
  },
  {
   "cell_type": "markdown",
   "id": "15c59953",
   "metadata": {},
   "source": [
    "#### Elements with different sizes\n",
    "\n",
    "- It is possible to have different sizes for the \"inner\" arrays\n",
    "- In that case numpy regards them as objects"
   ]
  },
  {
   "cell_type": "code",
   "execution_count": 262,
   "id": "b7265ced",
   "metadata": {
    "scrolled": true
   },
   "outputs": [
    {
     "name": "stdout",
     "output_type": "stream",
     "text": [
      "[[3 4]\n",
      " [1 2]] (2, 2)\n",
      "[list([3, 2, 1]) list(['a', 5]) list([1, 2, 3])] (3,)\n"
     ]
    }
   ],
   "source": [
    "n=np.array([1,2])\n",
    "m=np.array([3,4])\n",
    "# p is a 3-d array\n",
    "p=np.array([m,n])\n",
    "print(p,p.shape)\n",
    "q=np.array([[3,2,1],['a',5],[1,2,3]],dtype=object)\n",
    "print(q,q.shape)"
   ]
  },
  {
   "cell_type": "markdown",
   "id": "adc0b929",
   "metadata": {},
   "source": [
    "### Indexing is different"
   ]
  },
  {
   "cell_type": "code",
   "execution_count": 8,
   "id": "e3b3b746",
   "metadata": {},
   "outputs": [
    {
     "name": "stdout",
     "output_type": "stream",
     "text": [
      "[[1 2 3]\n",
      " [4 5 6]\n",
      " [7 8 9]]\n",
      "[[1 2 3]]\n",
      "[2]\n"
     ]
    },
    {
     "data": {
      "text/plain": [
       "2"
      ]
     },
     "execution_count": 8,
     "metadata": {},
     "output_type": "execute_result"
    }
   ],
   "source": [
    "import numpy as np\n",
    "ll=[[1,2,3],[4,5,6],[7,8,9]]\n",
    "m=np.array(ll)\n",
    "print(m)\n",
    "ll[0:2][0]\n",
    "print(m[0:1])\n",
    "# m[0:1][1] will cause an error\n",
    "print(m[0:1,1])\n",
    "m[0,1]"
   ]
  },
  {
   "cell_type": "code",
   "execution_count": 269,
   "id": "71f72d4b",
   "metadata": {},
   "outputs": [
    {
     "data": {
      "text/plain": [
       "array([14, 32, 50])"
      ]
     },
     "execution_count": 269,
     "metadata": {},
     "output_type": "execute_result"
    }
   ],
   "source": [
    "v=np.array([1,2,3])\n",
    "np.dot(p,v)"
   ]
  },
  {
   "cell_type": "code",
   "execution_count": 270,
   "id": "b65c9dc4",
   "metadata": {
    "scrolled": false
   },
   "outputs": [
    {
     "name": "stdout",
     "output_type": "stream",
     "text": [
      "[[ 1.   0.   0. ]\n",
      " [ 0.   1.5 -1. ]\n",
      " [ 0.  -1.   1. ]]\n",
      "[[1. 0. 0.]\n",
      " [0. 1. 0.]\n",
      " [0. 0. 1.]]\n"
     ]
    },
    {
     "data": {
      "text/plain": [
       "True"
      ]
     },
     "execution_count": 270,
     "metadata": {},
     "output_type": "execute_result"
    }
   ],
   "source": [
    "m=np.matrix([[1,0,0],[0,2,2],[0,2,3]])\n",
    "n=np.linalg.inv(m)\n",
    "print(n)\n",
    "print(m.dot(n))\n",
    "n=m.T\n",
    "e=np.all(np.equal(m,n))\n",
    "e"
   ]
  },
  {
   "cell_type": "markdown",
   "id": "5ac19b06",
   "metadata": {},
   "source": [
    "## Solving a system of equations\n",
    "\n",
    "- Example:  $$\\begin{align*} a_{11}x_1 +\\ldots+a_{1n}x_n&=c_1\\\\ \\ldots \\ldots \\\\a_{n1}x_1+\\ldots a_{nn}x_n&=c_n\\end{align*}$$\n",
    "- Can be written as \n",
    "$$ AX=C$$\n",
    "- With solution\n",
    "$$ X=A^{-1}C$$\n",
    "\n",
    "- Example\n",
    "$$\\begin{align*} x_1+2x_2=3\\\\3x_1+4x_2=6\\end{align*}$$\n",
    "- Which can be written as\n",
    "$$\\left(\\begin{array}{cc}1 &2 \\\\ 3 & 4\\end{array}\\right)\\left(\\begin{array}{c}x_1\\\\x_2\\end{array}\\right)=\\left(\\begin{array}{c}3\\\\6\\end{array}\\right)$$\n",
    "-Therefore\n",
    "\n",
    "$$\\left(\\begin{array}{c}x_1\\\\x_2\\end{array}\\right)=\\left(\\begin{array}{cc}1 &2 \\\\ 3 & 4\\end{array}\\right)^{-1}\\left(\\begin{array}{c}3\\\\6\\end{array}\\right)$$"
   ]
  },
  {
   "cell_type": "code",
   "execution_count": 96,
   "id": "7f69d5e3",
   "metadata": {},
   "outputs": [
    {
     "name": "stdout",
     "output_type": "stream",
     "text": [
      "[[-2.   1. ]\n",
      " [ 1.5 -0.5]]\n",
      "[[-4.4408921e-16]\n",
      " [ 1.5000000e+00]]\n"
     ]
    }
   ],
   "source": [
    "m=np.array([[1,2],[3,4]])\n",
    "c=np.array([[3],[6]])\n",
    "r=None\n",
    "if np.linalg.det(m)==0:\n",
    "    print(\"No unique solution\")\n",
    "else:\n",
    "    inv=np.linalg.inv(m)\n",
    "    r=inv.dot(c)\n",
    "print(inv)\n",
    "print(r)"
   ]
  },
  {
   "cell_type": "markdown",
   "id": "485c94e1",
   "metadata": {},
   "source": [
    "### Dictionaries\n",
    "\n",
    "- Dictionaries are a data structure that stores key/value pairs\n",
    "- Any situation that requires fast lookup/add/insert the best option is a dictionary"
   ]
  },
  {
   "cell_type": "markdown",
   "id": "c1bbb2fb",
   "metadata": {},
   "source": [
    "#### Creation"
   ]
  },
  {
   "cell_type": "code",
   "execution_count": 45,
   "id": "6e44e364",
   "metadata": {
    "scrolled": true
   },
   "outputs": [],
   "source": [
    "d={'k1':1,'k2':2,'k3':3}"
   ]
  },
  {
   "cell_type": "code",
   "execution_count": 39,
   "id": "061a55d3",
   "metadata": {},
   "outputs": [],
   "source": [
    "## dict comprehension, need zip to create pairs\n",
    "months=['January','February','March','April','May','June','July','August','September','October','November','December']\n",
    "days=[31,28,31,30,31,30,31,31,30,31,30,31]\n",
    "days_in_month={s:g for s,g in zip(months,days)}"
   ]
  },
  {
   "cell_type": "markdown",
   "id": "c932627b",
   "metadata": {},
   "source": [
    "#### lookup/Search"
   ]
  },
  {
   "cell_type": "code",
   "execution_count": 40,
   "id": "0b96addc",
   "metadata": {},
   "outputs": [
    {
     "data": {
      "text/plain": [
       "31"
      ]
     },
     "execution_count": 40,
     "metadata": {},
     "output_type": "execute_result"
    }
   ],
   "source": [
    "days_in_month['March']"
   ]
  },
  {
   "cell_type": "code",
   "execution_count": 44,
   "id": "0ad50534",
   "metadata": {},
   "outputs": [
    {
     "ename": "KeyError",
     "evalue": "'Maktag'",
     "output_type": "error",
     "traceback": [
      "\u001b[1;31m---------------------------------------------------------------------------\u001b[0m",
      "\u001b[1;31mKeyError\u001b[0m                                  Traceback (most recent call last)",
      "\u001b[1;32m<ipython-input-44-3e5031a424a7>\u001b[0m in \u001b[0;36m<module>\u001b[1;34m\u001b[0m\n\u001b[1;32m----> 1\u001b[1;33m \u001b[0mdays_in_month\u001b[0m\u001b[1;33m[\u001b[0m\u001b[1;34m'Maktag'\u001b[0m\u001b[1;33m]\u001b[0m\u001b[1;33m\u001b[0m\u001b[1;33m\u001b[0m\u001b[0m\n\u001b[0m",
      "\u001b[1;31mKeyError\u001b[0m: 'Maktag'"
     ]
    }
   ],
   "source": [
    "days_in_month['Maktag']"
   ]
  },
  {
   "cell_type": "code",
   "execution_count": 43,
   "id": "0795878d",
   "metadata": {},
   "outputs": [
    {
     "name": "stdout",
     "output_type": "stream",
     "text": [
      "31\n",
      "None\n"
     ]
    }
   ],
   "source": [
    "### Safer version\n",
    "val=days_in_month.get('March')\n",
    "print(val)\n",
    "val=days_in_month.get('Maktag')\n",
    "print(val)"
   ]
  },
  {
   "cell_type": "markdown",
   "id": "565d80c4",
   "metadata": {},
   "source": [
    "#### Checking the existence/no value is needed"
   ]
  },
  {
   "cell_type": "code",
   "execution_count": 47,
   "id": "ee2519d5",
   "metadata": {
    "scrolled": false
   },
   "outputs": [
    {
     "name": "stdout",
     "output_type": "stream",
     "text": [
      "True\n",
      "False\n"
     ]
    }
   ],
   "source": [
    "print('March' in days_in_month)\n",
    "print('Maktag' in days_in_month)"
   ]
  },
  {
   "cell_type": "markdown",
   "id": "2893f359",
   "metadata": {},
   "source": [
    "#### Adding/updating values"
   ]
  },
  {
   "cell_type": "code",
   "execution_count": 55,
   "id": "ae378884",
   "metadata": {},
   "outputs": [
    {
     "data": {
      "text/plain": [
       "{'Key1': 1, 'Key2': 'Changed', 'Key3': 3}"
      ]
     },
     "execution_count": 55,
     "metadata": {},
     "output_type": "execute_result"
    }
   ],
   "source": [
    "d={}\n",
    "d['Key1']=1\n",
    "d['Key2']=2\n",
    "d['Key3']=3\n",
    "d['Key2']=\"Changed\" # replaces the old value\n",
    "d"
   ]
  },
  {
   "cell_type": "markdown",
   "id": "dd71ac22",
   "metadata": {},
   "source": [
    "### Iterating over keys/values/both"
   ]
  },
  {
   "cell_type": "code",
   "execution_count": null,
   "id": "4fb302de",
   "metadata": {
    "scrolled": true
   },
   "outputs": [],
   "source": [
    "dx={\"a\":3,\"b\":5}\n",
    "for i in dx.items():\n",
    "    print(i)\n",
    "print(\"---------------\")\n",
    "for k in dx.keys():\n",
    "    print(k)\n",
    "print(\"---------------\")\n",
    "for v in dx.values():\n",
    "    print(v)\n"
   ]
  },
  {
   "cell_type": "markdown",
   "id": "d5654655",
   "metadata": {},
   "source": [
    "### Removing elements"
   ]
  },
  {
   "cell_type": "code",
   "execution_count": 51,
   "id": "7b8dd0e5",
   "metadata": {
    "scrolled": true
   },
   "outputs": [
    {
     "name": "stdout",
     "output_type": "stream",
     "text": [
      "3\n",
      "{'b': 5}\n"
     ]
    }
   ],
   "source": [
    "dx={\"a\":3,\"b\":5}\n",
    "r=dx.pop('a')\n",
    "print(r)\n",
    "print(dx)"
   ]
  },
  {
   "cell_type": "markdown",
   "id": "babfdebe",
   "metadata": {},
   "source": [
    "#### Adding elements in bulk"
   ]
  },
  {
   "cell_type": "code",
   "execution_count": 69,
   "id": "91208a51",
   "metadata": {},
   "outputs": [
    {
     "data": {
      "text/plain": [
       "{'a': 3, 'b': 5, 'c': 10, 'd': 20}"
      ]
     },
     "execution_count": 69,
     "metadata": {},
     "output_type": "execute_result"
    }
   ],
   "source": [
    "dx={\"a\":3,\"b\":5}\n",
    "dx.update({\"c\":10,\"d\":20})\n",
    "dx"
   ]
  },
  {
   "cell_type": "markdown",
   "id": "b0e5f970",
   "metadata": {},
   "source": [
    "#### Values can be any object, keys must be immutable"
   ]
  },
  {
   "cell_type": "code",
   "execution_count": 73,
   "id": "160bb697",
   "metadata": {},
   "outputs": [
    {
     "data": {
      "text/plain": [
       "1"
      ]
     },
     "execution_count": 73,
     "metadata": {},
     "output_type": "execute_result"
    }
   ],
   "source": [
    "d={\"record1\":{\"January\":1,\"February\":2},\"record2\":18}\n",
    "d[\"record1\"][\"January\"]"
   ]
  },
  {
   "cell_type": "markdown",
   "id": "423cd834",
   "metadata": {},
   "source": [
    "### Two sum"
   ]
  },
  {
   "cell_type": "code",
   "execution_count": 14,
   "id": "93860ab9",
   "metadata": {
    "scrolled": true
   },
   "outputs": [
    {
     "name": "stdout",
     "output_type": "stream",
     "text": [
      "[3, 5, 24, 31, 41, 38, 9, 44, 11, 30, 37, 31, 49, 6, 11, 38, 7, 2, 35, 24]\n",
      "{3: 0, 5: 1, 24: 19, 31: 11, 41: 4, 38: 15, 9: 6, 44: 7, 11: 14, 30: 9, 37: 10, 49: 12, 6: 13, 7: 16, 2: 17, 35: 18}\n",
      "1 14\n",
      "6 16\n",
      "8 1\n",
      "14 1\n",
      "16 6\n"
     ]
    }
   ],
   "source": [
    "from random import randint\n",
    "a=[randint(1,50) for i in range(20)]\n",
    "print(a)\n",
    "x=16\n",
    "d={k:v for v,k in enumerate(a)}\n",
    "print(d)\n",
    "for i,u in enumerate(a):\n",
    "    j=d.get(x-u)\n",
    "    if j!=None and i!=j:\n",
    "        print(i,j)"
   ]
  },
  {
   "cell_type": "markdown",
   "id": "def821d8",
   "metadata": {},
   "source": [
    "### Word count\n",
    "- Given a string _s_ return a dictionary that has the count of each character\n",
    "- Example: s=\"abccabc\" return d={'a':2,'b':2,'c':3}"
   ]
  },
  {
   "cell_type": "code",
   "execution_count": 32,
   "id": "e460ef12",
   "metadata": {},
   "outputs": [
    {
     "name": "stdout",
     "output_type": "stream",
     "text": [
      "{'a': 3, 'b': 5}\n"
     ]
    }
   ],
   "source": [
    "x=\"abbabbab\"\n",
    "dx={}\n",
    "for c in x:\n",
    "    if dx.get(c)==None:\n",
    "        dx[c]=1\n",
    "    else:\n",
    "        dx[c]+=1\n",
    "\n",
    "print(dx)"
   ]
  },
  {
   "cell_type": "markdown",
   "id": "67cddcf4",
   "metadata": {},
   "source": [
    "#### Longest non repeating substring"
   ]
  },
  {
   "cell_type": "code",
   "execution_count": 66,
   "id": "6961a07a",
   "metadata": {},
   "outputs": [
    {
     "data": {
      "text/plain": [
       "'bcdefauvw'"
      ]
     },
     "execution_count": 66,
     "metadata": {},
     "output_type": "execute_result"
    }
   ],
   "source": [
    "def lsnrc(s):\n",
    "    i,max,n=0,0,len(s)\n",
    "    start,end=0,0\n",
    "    while i<n:\n",
    "        d={}\n",
    "        j=i\n",
    "        while j<n and s[j] not in d:\n",
    "            d[s[j]]=j\n",
    "            j+=1\n",
    "        if j-i>max:\n",
    "            start,end,max=i,j,j-i\n",
    "        if j==n:\n",
    "            break\n",
    "        i=d[s[j]]+1\n",
    "    return max,start,end\n",
    "\n",
    "s=\"abcdefauvwcbuvw\"\n",
    "length,start,end=lsnrc(s)\n",
    "s[start:end]"
   ]
  },
  {
   "cell_type": "markdown",
   "id": "da8f7378",
   "metadata": {},
   "source": [
    "#### More efficient version"
   ]
  },
  {
   "cell_type": "code",
   "execution_count": 82,
   "id": "b32d0b9b",
   "metadata": {},
   "outputs": [
    {
     "data": {
      "text/plain": [
       "'cdefbauvwxt'"
      ]
     },
     "execution_count": 82,
     "metadata": {},
     "output_type": "execute_result"
    }
   ],
   "source": [
    "def lengthOfLongestSubstring(s):\n",
    "        last_seen = {}\n",
    "        max_len = 0\n",
    " \n",
    "        start = 0\n",
    "        for i in range(0, len(s)):\n",
    "             if s[i] in last_seen:\n",
    "                 start = max(start, last_seen[s[i]] + 1)\n",
    "                 \n",
    "             max_len = max(max_len, i-start + 1)\n",
    "             last_seen[s[i]] = i\n",
    " \n",
    "        return max_len\n",
    "s=\"abcdefbauvwxt\"\n",
    "length,start,end=lsnrc(s)\n",
    "s[start:end]"
   ]
  },
  {
   "cell_type": "markdown",
   "id": "1b25ff5d",
   "metadata": {},
   "source": [
    "## Stacks\n",
    "\n",
    "\n",
    "- Operations: **push** on top of the stack, and **pop** top of the stack\n",
    "- Simulate using a list: append and pop\n"
   ]
  },
  {
   "cell_type": "code",
   "execution_count": 91,
   "id": "b377708a",
   "metadata": {},
   "outputs": [
    {
     "name": "stdout",
     "output_type": "stream",
     "text": [
      "3\n",
      "2\n",
      "1\n",
      "-----------\n",
      "2\n",
      "1\n",
      "-----------\n"
     ]
    }
   ],
   "source": [
    "def print_stack(s):\n",
    "    for e in s[-1::-1]:\n",
    "        print(e)\n",
    "    print(\"-----------\")    \n",
    "stack=[]\n",
    "stack.append(1)\n",
    "stack.append(2)\n",
    "stack.append(3)\n",
    "print_stack(stack)\n",
    "stack.pop()\n",
    "print_stack(stack)\n"
   ]
  },
  {
   "cell_type": "markdown",
   "id": "803257eb",
   "metadata": {},
   "source": [
    "### balanced parentheses\n"
   ]
  },
  {
   "cell_type": "code",
   "execution_count": 83,
   "id": "106d7ebd",
   "metadata": {},
   "outputs": [
    {
     "name": "stdout",
     "output_type": "stream",
     "text": [
      "True\n"
     ]
    }
   ],
   "source": [
    "s=\"(()[])\"\n",
    "stack=[]\n",
    "for c in s:\n",
    "    if c==\")\":\n",
    "        if len(stack)!=0 and stack[-1]==\"(\":\n",
    "            stack.pop()\n",
    "        else:\n",
    "            stack.append(c)\n",
    "    elif c==\"]\":\n",
    "        if len(stack)!=0 and stack[-1]==\"[\":\n",
    "            stack.pop()\n",
    "        else:\n",
    "            stack.append(c)\n",
    "    else:\n",
    "        stack.append(c)\n",
    "print(len(stack)==0)\n",
    "    "
   ]
  },
  {
   "cell_type": "markdown",
   "id": "b8c47d5b",
   "metadata": {},
   "source": [
    "### Postfix Calculator"
   ]
  },
  {
   "cell_type": "code",
   "execution_count": 56,
   "id": "73db1823",
   "metadata": {},
   "outputs": [
    {
     "name": "stdout",
     "output_type": "stream",
     "text": [
      "9\n"
     ]
    }
   ],
   "source": [
    "command=\"3 1 2 + *\"  # mult(3,add(1,2)), 3*(1+2)\n",
    "ops=command.split()\n",
    "stack=[]\n",
    "for op in ops:\n",
    "    if op=='+':\n",
    "        a,b=stack.pop(),stack.pop()\n",
    "        stack.append(a+b)\n",
    "        \n",
    "    elif op=='*':\n",
    "        a,b=stack.pop(),stack.pop()\n",
    "        stack.append(a*b)\n",
    "    else:\n",
    "        stack.append(int(op))\n",
    "print(stack.pop())"
   ]
  },
  {
   "cell_type": "markdown",
   "id": "7768d0de",
   "metadata": {},
   "source": [
    "### Queues\n",
    "- Also know as First in First out (FIFO ) queue\n",
    "- Used to implement first come first served strategy\n",
    "- We implement it using lists\n",
    "    - enqueue--> append to the end of the list\n",
    "    - dequeue --> remove from the beginning"
   ]
  },
  {
   "cell_type": "code",
   "execution_count": 1,
   "id": "1953ea85",
   "metadata": {},
   "outputs": [],
   "source": [
    "def enqueue(Q,val):\n",
    "    Q.append(val)\n",
    "def dequeue(Q):\n",
    "    val=Q.pop(0)\n",
    "    return val\n",
    "def empty(Q):\n",
    "    return len(Q)==0\n",
    "\n",
    "input_as_string=\"18 3 17 2 22 25 45 89 6\"\n",
    "arrivals=[int(x) for x in input_as_string.split()]\n",
    "Q=[]\n",
    "for v in arrivals:\n",
    "    enqueue(Q,v)\n"
   ]
  },
  {
   "cell_type": "code",
   "execution_count": 12,
   "id": "e99d4163",
   "metadata": {},
   "outputs": [
    {
     "name": "stdout",
     "output_type": "stream",
     "text": [
      "Processing 18\n",
      "Processing 3\n",
      "Processing 17\n",
      "Processing 2\n",
      "Processing 22\n",
      "Processing 25\n",
      "Processing 45\n",
      "Processing 89\n",
      "Processing 6\n"
     ]
    }
   ],
   "source": [
    "## Process items first come first served\n",
    "while not empty(Q):\n",
    "    val=dequeue(Q)\n",
    "    print(f\"Processing {val}\")"
   ]
  },
  {
   "cell_type": "markdown",
   "id": "e623e2c1",
   "metadata": {},
   "source": [
    "### Breadth first search\n",
    "\n",
    "![bfs](bfs-small.png)"
   ]
  },
  {
   "cell_type": "code",
   "execution_count": 3,
   "id": "c566eefc",
   "metadata": {},
   "outputs": [
    {
     "name": "stdout",
     "output_type": "stream",
     "text": [
      "processing node 0 at distance 0\n",
      "processing node 1 at distance 1\n",
      "processing node 2 at distance 2\n",
      "processing node 6 at distance 3\n",
      "processing node 3 at distance 4\n",
      "processing node 4 at distance 5\n",
      "processing node 7 at distance 6\n",
      "processing node 8 at distance 7\n",
      "processing node 5 at distance 8\n"
     ]
    }
   ],
   "source": [
    "adj=[[1,2,6],[0,3],[0,4],[1,7],[2],[7],[0,7,8],[3,5,6],[6]]\n",
    "marked=9*[False]\n",
    "q=[0]\n",
    "marked[0]=True\n",
    "d=0\n",
    "while not empty(q):\n",
    "    node=dequeue(q)\n",
    "    print(f\"processing node {node} at distance {d}\")\n",
    "    d+=1\n",
    "    for n in adj[node]:\n",
    "        if not marked[n]:\n",
    "            enqueue(q,n)\n",
    "            marked[n]=True\n",
    "            \n",
    "        "
   ]
  },
  {
   "cell_type": "code",
   "execution_count": null,
   "id": "53fde1dc",
   "metadata": {},
   "outputs": [],
   "source": []
  }
 ],
 "metadata": {
  "kernelspec": {
   "display_name": "Python 3",
   "language": "python",
   "name": "python3"
  },
  "language_info": {
   "codemirror_mode": {
    "name": "ipython",
    "version": 3
   },
   "file_extension": ".py",
   "mimetype": "text/x-python",
   "name": "python",
   "nbconvert_exporter": "python",
   "pygments_lexer": "ipython3",
   "version": "3.9.6"
  }
 },
 "nbformat": 4,
 "nbformat_minor": 5
}
