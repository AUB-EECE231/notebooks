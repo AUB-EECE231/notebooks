{
 "cells": [
  {
   "cell_type": "markdown",
   "metadata": {},
   "source": [
    "### Objects and Classes\n",
    "\n",
    "1. An **object** is a collection of **data**  and **methods**.\n",
    "1. Typically\n",
    "    1. the data represent the **state** of an object\n",
    "    1. the methods inspect or change the state of the object\n",
    "\n",
    "1. A **class** declaration, or class definition, is like a blueprint for creating **objects**, called **instances** of the class"
   ]
  },
  {
   "cell_type": "markdown",
   "metadata": {},
   "source": [
    "### class definition and instantiation"
   ]
  },
  {
   "cell_type": "code",
   "execution_count": 20,
   "metadata": {},
   "outputs": [],
   "source": [
    "class basic:\n",
    "   pass\n",
    "## create two different instances (or objects) of type basic\n",
    "a=basic()\n",
    "b=basic()"
   ]
  },
  {
   "cell_type": "code",
   "execution_count": 22,
   "metadata": {},
   "outputs": [
    {
     "name": "stdout",
     "output_type": "stream",
     "text": [
      "<class 'type'>\n",
      "<class '__main__.basic'>\n",
      "<class '__main__.basic'>\n",
      "<class 'type'>\n"
     ]
    }
   ],
   "source": [
    "print(type(basic))\n",
    "print(type(a))\n",
    "print(type(b))\n",
    "print(type(int))\n"
   ]
  },
  {
   "cell_type": "markdown",
   "metadata": {},
   "source": [
    "### Member functions (methods) and variables\n",
    "\n",
    "1. Object variables maintain the state of an object\n",
    "1. Object method modifies or inspects the state of an object"
   ]
  },
  {
   "cell_type": "code",
   "execution_count": 24,
   "metadata": {},
   "outputs": [
    {
     "ename": "TypeError",
     "evalue": "print() takes 0 positional arguments but 1 was given",
     "output_type": "error",
     "traceback": [
      "\u001b[1;31m---------------------------------------------------------------------------\u001b[0m",
      "\u001b[1;31mTypeError\u001b[0m                                 Traceback (most recent call last)",
      "\u001b[1;32m<ipython-input-24-e16d3ad17f78>\u001b[0m in \u001b[0;36m<module>\u001b[1;34m\u001b[0m\n\u001b[0;32m      6\u001b[0m \u001b[1;33m\u001b[0m\u001b[0m\n\u001b[0;32m      7\u001b[0m \u001b[1;31m## Error\u001b[0m\u001b[1;33m\u001b[0m\u001b[1;33m\u001b[0m\u001b[1;33m\u001b[0m\u001b[0m\n\u001b[1;32m----> 8\u001b[1;33m \u001b[0ma\u001b[0m\u001b[1;33m.\u001b[0m\u001b[0mprint\u001b[0m\u001b[1;33m(\u001b[0m\u001b[1;33m)\u001b[0m\u001b[1;33m\u001b[0m\u001b[1;33m\u001b[0m\u001b[0m\n\u001b[0m",
      "\u001b[1;31mTypeError\u001b[0m: print() takes 0 positional arguments but 1 was given"
     ]
    }
   ],
   "source": [
    "class basic:\n",
    "    def print():\n",
    "        print(\"class basic\")\n",
    "\n",
    "a=basic()\n",
    "\n",
    "## Error\n",
    "a.print()"
   ]
  },
  {
   "cell_type": "markdown",
   "metadata": {},
   "source": [
    "### self\n",
    "\n",
    "1. Regardless of how many parameters a method has, there is always an **implicit first parameter**, called **self** passed to it.\n",
    "1. self is a reference to the object itself.\n"
   ]
  },
  {
   "cell_type": "code",
   "execution_count": null,
   "metadata": {},
   "outputs": [],
   "source": [
    "### methods\n",
    "\n",
    "class basic:\n",
    "    def method_one(self):\n",
    "        print(\"Method one\")\n",
    "    def method_two(self):\n",
    "        print(\"Method two\")\n",
    "\n",
    "print(type(basic.method_one))\n",
    "a=basic()\n",
    "print(type(a.method_one))\n",
    "a.method_one()\n"
   ]
  },
  {
   "cell_type": "markdown",
   "metadata": {},
   "source": [
    "### Constructor and instance variables\n",
    "\n",
    "1. When an object is created, a special method, \\_\\_init\\_\\_, is automatically called. \n",
    "1. The state of an object is stored in **instance variables**"
   ]
  },
  {
   "cell_type": "code",
   "execution_count": null,
   "metadata": {},
   "outputs": [],
   "source": [
    "class basic:\n",
    "    \n",
    "    def __init__(self):\n",
    "        ## self.x is an instance variable\n",
    "        self.x=0\n",
    "        print(\"init called\")\n",
    "    def inc(self):\n",
    "        self.x+=1\n",
    "    def print(self):\n",
    "        print(f\"Value of is x is {self.x}\")\n",
    "    \n",
    "a=basic()\n",
    "b=basic()\n",
    "a.inc()\n",
    "a.print()\n",
    "b.print()\n"
   ]
  },
  {
   "cell_type": "code",
   "execution_count": null,
   "metadata": {},
   "outputs": [],
   "source": [
    "class basic:\n",
    "    \n",
    "    def __init__(self,name):\n",
    "        ## self.x and self.name are instance variables\n",
    "        self.name=name\n",
    "        self.x=0\n",
    "        print(\"init called\")\n",
    "    def inc(self):\n",
    "        self.x+=1\n",
    "    def print(self):\n",
    "        print(f\"In {self.name}, the value of is x is {self.x}\")\n",
    "    \n",
    "a=basic(\"A\")\n",
    "b=basic(\"B\")\n",
    "a.inc()\n",
    "a.print()\n",
    "b.print()"
   ]
  },
  {
   "cell_type": "markdown",
   "metadata": {},
   "source": [
    "### Abstract types\n",
    "\n",
    "1. Classes and objects allow us to create new types"
   ]
  },
  {
   "cell_type": "code",
   "execution_count": 2,
   "metadata": {},
   "outputs": [
    {
     "name": "stdout",
     "output_type": "stream",
     "text": [
      "1/4\n",
      "1\n"
     ]
    }
   ],
   "source": [
    "from math import gcd\n",
    "class Rational:\n",
    "    def __init__(self,n,d):\n",
    "        self.n,self.d=n,d\n",
    "    def _reduce(self):\n",
    "        g=gcd(self.n,self.d)\n",
    "        self.n=self.n//g\n",
    "        self.d=self.d//g\n",
    "    def add(self,other):\n",
    "        self.n=self.n*other.d+self.d*other.n\n",
    "        self.d=self.d*other.d\n",
    "        self._reduce()\n",
    "    def print(self):\n",
    "        if self.n==self.d or self.d==1:\n",
    "            print(f'{self.n}')\n",
    "        else:\n",
    "            print(f'{self.n}/{self.d}')\n",
    "\n",
    "a=Rational(1,4)\n",
    "b=Rational(3,4)\n",
    "a.print()\n",
    "a.add(b)\n",
    "a.print()\n"
   ]
  },
  {
   "cell_type": "markdown",
   "metadata": {},
   "source": [
    "### Magic Methods\n",
    "\n",
    "1. Magic methods are enclosed with double underscore, like \\_\\_init\\_\\_\n",
    "1. Those methods are **not meant** to be invoked directly\n",
    "1. They are usually invoked **indirectly** by Python\n",
    "1. As an example, the previous class Rational had a print method\n",
    "1. The standard way to obtain a **string representation** of an object is to call the \\_\\_str\\_\\_ method"
   ]
  },
  {
   "cell_type": "code",
   "execution_count": null,
   "metadata": {},
   "outputs": [],
   "source": [
    "class Rational:\n",
    "    def __init__(self,n,d):\n",
    "        self.n,self.d=n,d\n",
    "    def _reduce(self):\n",
    "        g=gcd(self.n,self.d)\n",
    "        self.n=self.n//g\n",
    "        self.d=self.d//g\n",
    "    def add(self,other):\n",
    "        self.n=self.n*other.d+self.d*other.n\n",
    "        self.d=self.d*other.d\n",
    "        self._reduce()\n",
    "    def __str__(self):\n",
    "        if self.n==self.d or self.d==1:\n",
    "            return f'{self.n}'\n",
    "        else:\n",
    "            return f'{self.n}/{self.d}'\n",
    "\n",
    "a=Rational(1,2)\n",
    "print(a)\n"
   ]
  },
  {
   "cell_type": "markdown",
   "metadata": {},
   "source": [
    "### Other magic methods\n",
    "\n",
    "1. There are many other magic methods defined in Python\n",
    "1. For example, \\_\\_add\\_\\_ is invoked when the operator + is used"
   ]
  },
  {
   "cell_type": "code",
   "execution_count": null,
   "metadata": {},
   "outputs": [],
   "source": [
    "class Rational:\n",
    "    def __init__(self,n,d):\n",
    "        self.n,self.d=n,d\n",
    "    def _reduce(self):\n",
    "        g=gcd(self.n,self.d)\n",
    "        self.n=self.n//g\n",
    "        self.d=self.d//g\n",
    "    def __add__(self,other):\n",
    "        self.n=self.n*other.d+self.d*other.n\n",
    "        self.d=self.d*other.d\n",
    "        self._reduce()\n",
    "    \n",
    "    def __str__(self):\n",
    "        if self.n==self.d or d==1:\n",
    "            return f'{self.n}'\n",
    "        else:\n",
    "            return f'{self.n}/{self.d}'\n",
    "\n",
    "a=Rational(3,4)\n",
    "b=Rational(1,4)\n",
    "a+b\n",
    "print(a)"
   ]
  },
  {
   "cell_type": "markdown",
   "metadata": {},
   "source": [
    "1. This is not how we usually use the + operator\n",
    "1. What we want is for the addition of two rational numbers to result in a **new** rational number"
   ]
  },
  {
   "cell_type": "code",
   "execution_count": 19,
   "metadata": {},
   "outputs": [
    {
     "name": "stdout",
     "output_type": "stream",
     "text": [
      "2\n",
      "1\n"
     ]
    }
   ],
   "source": [
    "class Rational:\n",
    "    def __init__(self,n,d=1):\n",
    "        self.n,self.d=n,d\n",
    "    # Introduce a \"private\" method\n",
    "    # more on that later\n",
    "    def __reduce(self):\n",
    "        g=gcd(self.n,self.d)\n",
    "        self.n=self.n//g\n",
    "        self.d=self.d//g\n",
    "    def __add__(self,other):\n",
    "\n",
    "        n=self.n*other.d+self.d*other.n\n",
    "        d=self.d*other.d\n",
    "        r=Rational(n,d)\n",
    "        r.__reduce()\n",
    "        return r\n",
    "    def __mul__(self,other):\n",
    "\n",
    "        n=self.n*other.n\n",
    "        d=self.d*other.d\n",
    "        r=Rational(n,d)\n",
    "        r.__reduce()\n",
    "        return r\n",
    "    def __str__(self):\n",
    "        if self.n==self.d or self.d==1:\n",
    "            return f'{self.n}'\n",
    "        else:\n",
    "            return f'{self.n}/{self.d}'\n",
    "\n",
    "a=Rational(3,4)\n",
    "b=Rational(1)\n",
    "c=Rational(1,4)\n",
    "d=a+b+c\n",
    "print(d)\n",
    "e=Rational(4,3)*a\n",
    "print(e)"
   ]
  },
  {
   "cell_type": "markdown",
   "metadata": {},
   "source": [
    "### Comparing Rationals\n",
    "1. What about comparisons between Rationals?\n"
   ]
  },
  {
   "cell_type": "code",
   "execution_count": 8,
   "metadata": {},
   "outputs": [
    {
     "name": "stdout",
     "output_type": "stream",
     "text": [
      "True\n",
      "True\n"
     ]
    }
   ],
   "source": [
    "class Rational:\n",
    "    def __init__(self,n,d=1):\n",
    "        self.n,self.d=n,d\n",
    "    # Introduce a \"private\" method\n",
    "    # more on that later\n",
    "    def __reduce(self):\n",
    "        g=gcd(self.n,self.d)\n",
    "        self.n=self.n//g\n",
    "        self.d=self.d//g\n",
    "    def __add__(self,other):\n",
    "\n",
    "        n=self.n*other.d+self.d*other.n\n",
    "        d=self.d*other.d\n",
    "        r=Rational(n,d)\n",
    "        r.__reduce()\n",
    "        return r\n",
    "    def __mul__(self,other):\n",
    "\n",
    "        n=self.n*other.n\n",
    "        d=self.d*other.d\n",
    "        r=Rational(n,d)\n",
    "        r.__reduce()\n",
    "        return r\n",
    "    def __eq__(self,other):\n",
    "        self.__reduce()\n",
    "        other.__reduce()\n",
    "        return self.n==other.n and self.d==self.d\n",
    "    def __lt__(self,other):\n",
    "        return self.n*other.d <self.d*other.n\n",
    "\n",
    "    def __str__(self):\n",
    "        if self.n==self.d or self.d==1:\n",
    "            return f'{self.n}'\n",
    "        else:\n",
    "            return f'{self.n}/{self.d}'\n",
    "\n",
    "a=Rational(1,2)\n",
    "b=Rational(2,4)\n",
    "print(a==b)\n",
    "c=Rational(3,4)\n",
    "print(a<c)\n"
   ]
  },
  {
   "cell_type": "markdown",
   "metadata": {},
   "source": [
    "### Iterables\n",
    "\n",
    "1. We have been using iterables, such as lists and dictionaries, without calling them that\n",
    "1. An **iterable** is an object containing a collection of objects (container) that we can iterate over its elements\n",
    "1. To define an **iterable** we need the concept of \"next element\" which implies that we need to keep track of the \"current\" element.\n",
    "1. Also, if we want to iterate over the elements again, we need to be able to \"reset\" the \"current element\"\n",
    "1. Below we illustrate those concepts using a **set** class."
   ]
  },
  {
   "cell_type": "code",
   "execution_count": null,
   "metadata": {},
   "outputs": [],
   "source": [
    "class IntSet:\n",
    "    def __init__(self):\n",
    "        self.members=[]\n",
    "    def insert(self,e):\n",
    "        if e not in self.members:\n",
    "            self.members.append(e)\n",
    "    def __len__(self):\n",
    "        return len(self.members)\n",
    "    ## reset the position to the beginning\n",
    "    ## and return an iterator (self)\n",
    "    def __iter__(self):\n",
    "        self.index=0\n",
    "        return self\n",
    "    def __next__(self):\n",
    "        if self.index <len(self):\n",
    "            x=self.index\n",
    "            self.index+=1\n",
    "            return self.members[x]\n",
    "        else:\n",
    "            raise StopIteration\n",
    "\n",
    "\n",
    "s=IntSet()\n",
    "s.insert(1)\n",
    "s.insert(3)\n",
    "s.insert(1)\n",
    "for v in s:\n",
    "    print(v)\n",
    "len(s) \n",
    "\n",
    "print(\"Using an iterator explicitly\")\n",
    "i=iter(s)\n",
    "try:\n",
    "    while 1:\n",
    "        v=next(i)\n",
    "        print(v)\n",
    "except:\n",
    "    pass\n"
   ]
  },
  {
   "cell_type": "markdown",
   "metadata": {},
   "source": [
    "### Private Members    "
   ]
  },
  {
   "cell_type": "code",
   "execution_count": 15,
   "metadata": {},
   "outputs": [
    {
     "name": "stdout",
     "output_type": "stream",
     "text": [
      "20\n"
     ]
    },
    {
     "ename": "AttributeError",
     "evalue": "'basic' object has no attribute '__p'",
     "output_type": "error",
     "traceback": [
      "\u001b[1;31m---------------------------------------------------------------------------\u001b[0m",
      "\u001b[1;31mAttributeError\u001b[0m                            Traceback (most recent call last)",
      "\u001b[1;32m<ipython-input-15-5d645a05c2f3>\u001b[0m in \u001b[0;36m<module>\u001b[1;34m\u001b[0m\n\u001b[0;32m     10\u001b[0m \u001b[0ma\u001b[0m\u001b[1;33m=\u001b[0m\u001b[0mbasic\u001b[0m\u001b[1;33m(\u001b[0m\u001b[1;33m)\u001b[0m\u001b[1;33m\u001b[0m\u001b[1;33m\u001b[0m\u001b[0m\n\u001b[0;32m     11\u001b[0m \u001b[0mprint\u001b[0m\u001b[1;33m(\u001b[0m\u001b[0ma\u001b[0m\u001b[1;33m.\u001b[0m\u001b[0mpub\u001b[0m\u001b[1;33m)\u001b[0m\u001b[1;33m\u001b[0m\u001b[1;33m\u001b[0m\u001b[0m\n\u001b[1;32m---> 12\u001b[1;33m \u001b[0mprint\u001b[0m\u001b[1;33m(\u001b[0m\u001b[0ma\u001b[0m\u001b[1;33m.\u001b[0m\u001b[0m__p\u001b[0m\u001b[1;33m)\u001b[0m\u001b[1;33m\u001b[0m\u001b[1;33m\u001b[0m\u001b[0m\n\u001b[0m",
      "\u001b[1;31mAttributeError\u001b[0m: 'basic' object has no attribute '__p'"
     ]
    }
   ],
   "source": [
    "class basic:\n",
    "    def __init__(self):\n",
    "        self.pub=20\n",
    "        self.__p=10\n",
    "    def getVal(self):\n",
    "        return self.__p\n",
    "    def setVal(self,v):\n",
    "        self.__p=v\n",
    "\n",
    "a=basic()\n",
    "print(a.pub)\n",
    "print(a.__p)\n"
   ]
  },
  {
   "cell_type": "markdown",
   "metadata": {},
   "source": [
    "### Are private members really private?\n",
    "\n",
    "1. Python's implementation of private members prevents \"accidental\" access.\n",
    "1. They can still be accesses if we \"insist\".\n",
    "1. In reality Python changes the name of the variable\n",
    "1. In class basic above the variable ```__p``` is renamed ```_basic__p```"
   ]
  },
  {
   "cell_type": "code",
   "execution_count": 17,
   "metadata": {},
   "outputs": [
    {
     "data": {
      "text/plain": [
       "99"
      ]
     },
     "execution_count": 17,
     "metadata": {},
     "output_type": "execute_result"
    }
   ],
   "source": [
    "a._basic__p=99\n",
    "a.getVal()"
   ]
  },
  {
   "cell_type": "code",
   "execution_count": null,
   "metadata": {},
   "outputs": [],
   "source": []
  }
 ],
 "metadata": {
  "interpreter": {
   "hash": "63fd5069d213b44bf678585dea6b12cceca9941eaf7f819626cde1f2670de90d"
  },
  "kernelspec": {
   "display_name": "Python 3.9.6 64-bit",
   "name": "python3"
  },
  "language_info": {
   "codemirror_mode": {
    "name": "ipython",
    "version": 3
   },
   "file_extension": ".py",
   "mimetype": "text/x-python",
   "name": "python",
   "nbconvert_exporter": "python",
   "pygments_lexer": "ipython3",
   "version": "3.9.6"
  },
  "orig_nbformat": 4
 },
 "nbformat": 4,
 "nbformat_minor": 2
}
