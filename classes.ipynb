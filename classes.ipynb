{
 "cells": [
  {
   "cell_type": "markdown",
   "metadata": {},
   "source": [
    "### Objects and Classes\n",
    "\n",
    "1. An **object** is a collection of **data**  and **methods**.\n",
    "1. Typically\n",
    "    1. the data represent the **state** of an object\n",
    "    1. the methods inspect or change the state of the object\n",
    "\n",
    "1. A **class** declaration, or class definition, is like a blueprint for creating **objects**, called **instances** of the class"
   ]
  },
  {
   "cell_type": "markdown",
   "metadata": {},
   "source": [
    "### class definition and instantiation"
   ]
  },
  {
   "cell_type": "code",
   "execution_count": null,
   "metadata": {},
   "outputs": [],
   "source": [
    "class basic:\n",
    "   pass\n",
    "## create two different instances (or objects) of type basic\n",
    "a=basic()\n",
    "b=basic()"
   ]
  },
  {
   "cell_type": "code",
   "execution_count": null,
   "metadata": {},
   "outputs": [],
   "source": [
    "print(type(basic))\n",
    "print(type(a))\n",
    "print(type(b))\n",
    "print(type(int))\n"
   ]
  },
  {
   "cell_type": "markdown",
   "metadata": {},
   "source": [
    "### Member functions (methods) and variables\n",
    "\n",
    "1. Object variables maintain the state of an object\n",
    "1. Object method modifies or inspects the state of an object"
   ]
  },
  {
   "cell_type": "code",
   "execution_count": null,
   "metadata": {},
   "outputs": [],
   "source": [
    "class basic:\n",
    "    def print():\n",
    "        print(\"class basic\")\n",
    "\n",
    "a=basic()\n",
    "\n",
    "## Error\n",
    "a.print()"
   ]
  },
  {
   "cell_type": "markdown",
   "metadata": {},
   "source": [
    "### self\n",
    "\n",
    "1. Regardless of how many parameters a method has, there is always an **implicit first parameter**, called **self** passed to it.\n",
    "1. self is a reference to the object itself.\n"
   ]
  },
  {
   "cell_type": "code",
   "execution_count": null,
   "metadata": {},
   "outputs": [],
   "source": [
    "### methods\n",
    "\n",
    "class basic:\n",
    "    def method_one(self):\n",
    "        print(\"Method one\")\n",
    "    def method_two(self):\n",
    "        print(\"Method two\")\n",
    "\n",
    "print(type(basic.method_one))\n",
    "a=basic()\n",
    "print(type(a.method_one))\n",
    "a.method_one()\n"
   ]
  },
  {
   "cell_type": "markdown",
   "metadata": {},
   "source": [
    "### Constructor and instance variables\n",
    "\n",
    "1. When an object is created, a special method, \\_\\_init\\_\\_, is automatically called. \n",
    "1. The state of an object is stored in **instance variables**"
   ]
  },
  {
   "cell_type": "code",
   "execution_count": null,
   "metadata": {},
   "outputs": [],
   "source": [
    "class basic:\n",
    "    \n",
    "    def __init__(self):\n",
    "        ## self.x is an instance variable\n",
    "        self.x=0\n",
    "        print(\"init called\")\n",
    "    def inc(self):\n",
    "        self.x+=1\n",
    "    def print(self):\n",
    "        print(f\"Value of is x is {self.x}\")\n",
    "    \n",
    "a=basic()\n",
    "b=basic()\n",
    "a.inc()\n",
    "a.print()\n",
    "b.print()\n"
   ]
  },
  {
   "cell_type": "code",
   "execution_count": null,
   "metadata": {},
   "outputs": [],
   "source": [
    "class basic:\n",
    "    \n",
    "    def __init__(self,name):\n",
    "        ## self.x and self.name are instance variables\n",
    "        self.name=name\n",
    "        self.x=0\n",
    "        print(\"init called\")\n",
    "    def inc(self):\n",
    "        self.x+=1\n",
    "    def print(self):\n",
    "        print(f\"In {self.name}, the value of is x is {self.x}\")\n",
    "    \n",
    "a=basic(\"A\")\n",
    "b=basic(\"B\")\n",
    "a.inc()\n",
    "a.print()\n",
    "b.print()"
   ]
  },
  {
   "cell_type": "markdown",
   "metadata": {},
   "source": [
    "### Abstract types\n",
    "\n",
    "1. Classes and objects allow us to create new types"
   ]
  },
  {
   "cell_type": "code",
   "execution_count": null,
   "metadata": {},
   "outputs": [],
   "source": [
    "from math import gcd\n",
    "class Rational:\n",
    "    def __init__(self,n,d):\n",
    "        self.n,self.d=n,d\n",
    "    def _reduce(self):\n",
    "        g=gcd(self.n,self.d)\n",
    "        self.n=self.n//g\n",
    "        self.d=self.d//g\n",
    "    def add(self,other):\n",
    "        self.n=self.n*other.d+self.d*other.n\n",
    "        self.d=self.d*other.d\n",
    "        self._reduce()\n",
    "    def print(self):\n",
    "        if self.n==self.d or self.d==1:\n",
    "            print(f'{self.n}')\n",
    "        else:\n",
    "            print(f'{self.n}/{self.d}')\n",
    "\n",
    "a=Rational(1,4)\n",
    "b=Rational(3,4)\n",
    "a.print()\n",
    "a.add(b)\n",
    "a.print()\n"
   ]
  },
  {
   "cell_type": "markdown",
   "metadata": {},
   "source": [
    "### Magic Methods\n",
    "\n",
    "1. Magic methods are enclosed with double underscore, like \\_\\_init\\_\\_\n",
    "1. Those methods are **not meant** to be invoked directly\n",
    "1. They are usually invoked **indirectly** by Python\n",
    "1. As an example, the previous class Rational had a print method\n",
    "1. The standard way to obtain a **string representation** of an object is to call the \\_\\_str\\_\\_ method"
   ]
  },
  {
   "cell_type": "code",
   "execution_count": null,
   "metadata": {},
   "outputs": [],
   "source": [
    "class Rational:\n",
    "    def __init__(self,n,d):\n",
    "        self.n,self.d=n,d\n",
    "    def _reduce(self):\n",
    "        g=gcd(self.n,self.d)\n",
    "        self.n=self.n//g\n",
    "        self.d=self.d//g\n",
    "    def add(self,other):\n",
    "        self.n=self.n*other.d+self.d*other.n\n",
    "        self.d=self.d*other.d\n",
    "        self._reduce()\n",
    "    def __str__(self):\n",
    "        if self.n==self.d or self.d==1:\n",
    "            return f'{self.n}'\n",
    "        else:\n",
    "            return f'{self.n}/{self.d}'\n",
    "\n",
    "a=Rational(1,2)\n",
    "print(a)\n"
   ]
  },
  {
   "cell_type": "markdown",
   "metadata": {},
   "source": [
    "### Other magic methods\n",
    "\n",
    "1. There are many other magic methods defined in Python\n",
    "1. For example, \\_\\_add\\_\\_ is invoked when the operator + is used"
   ]
  },
  {
   "cell_type": "code",
   "execution_count": null,
   "metadata": {},
   "outputs": [],
   "source": [
    "class Rational:\n",
    "    def __init__(self,n,d):\n",
    "        self.n,self.d=n,d\n",
    "    def _reduce(self):\n",
    "        g=gcd(self.n,self.d)\n",
    "        self.n=self.n//g\n",
    "        self.d=self.d//g\n",
    "    def __add__(self,other):\n",
    "        self.n=self.n*other.d+self.d*other.n\n",
    "        self.d=self.d*other.d\n",
    "        self._reduce()\n",
    "    \n",
    "    def __str__(self):\n",
    "        if self.n==self.d or d==1:\n",
    "            return f'{self.n}'\n",
    "        else:\n",
    "            return f'{self.n}/{self.d}'\n",
    "\n",
    "a=Rational(3,4)\n",
    "b=Rational(1,4)\n",
    "a+b\n",
    "print(a)"
   ]
  },
  {
   "cell_type": "markdown",
   "metadata": {},
   "source": [
    "1. This is not how we usually use the + operator\n",
    "1. What we want is for the addition of two rational numbers to result in a **new** rational number"
   ]
  },
  {
   "cell_type": "code",
   "execution_count": null,
   "metadata": {},
   "outputs": [],
   "source": [
    "class Rational:\n",
    "    def __init__(self,n,d=1):\n",
    "        self.n,self.d=n,d\n",
    "    # Introduce a \"private\" method\n",
    "    # more on that later\n",
    "    def __reduce(self):\n",
    "        g=gcd(self.n,self.d)\n",
    "        self.n=self.n//g\n",
    "        self.d=self.d//g\n",
    "    def __add__(self,other):\n",
    "\n",
    "        n=self.n*other.d+self.d*other.n\n",
    "        d=self.d*other.d\n",
    "        r=Rational(n,d)\n",
    "        r.__reduce()\n",
    "        return r\n",
    "    def __mul__(self,other):\n",
    "\n",
    "        n=self.n*other.n\n",
    "        d=self.d*other.d\n",
    "        r=Rational(n,d)\n",
    "        r.__reduce()\n",
    "        return r\n",
    "    def __str__(self):\n",
    "        if self.n==self.d or self.d==1:\n",
    "            return f'{self.n}'\n",
    "        else:\n",
    "            return f'{self.n}/{self.d}'\n",
    "\n",
    "a=Rational(3,4)\n",
    "b=Rational(1)\n",
    "c=Rational(1,4)\n",
    "d=a+b+c\n",
    "print(d)\n",
    "e=Rational(4,3)*a\n",
    "print(e)"
   ]
  },
  {
   "cell_type": "markdown",
   "metadata": {},
   "source": [
    "### Comparing Rationals\n",
    "1. What about comparisons between Rationals?\n"
   ]
  },
  {
   "cell_type": "code",
   "execution_count": null,
   "metadata": {},
   "outputs": [],
   "source": [
    "class Rational:\n",
    "    def __init__(self,n,d=1):\n",
    "        self.n,self.d=n,d\n",
    "    # Introduce a \"private\" method\n",
    "    # more on that later\n",
    "    def __reduce(self):\n",
    "        g=gcd(self.n,self.d)\n",
    "        self.n=self.n//g\n",
    "        self.d=self.d//g\n",
    "    def __add__(self,other):\n",
    "\n",
    "        n=self.n*other.d+self.d*other.n\n",
    "        d=self.d*other.d\n",
    "        r=Rational(n,d)\n",
    "        r.__reduce()\n",
    "        return r\n",
    "    def __mul__(self,other):\n",
    "\n",
    "        n=self.n*other.n\n",
    "        d=self.d*other.d\n",
    "        r=Rational(n,d)\n",
    "        r.__reduce()\n",
    "        return r\n",
    "    def __eq__(self,other):\n",
    "        self.__reduce()\n",
    "        other.__reduce()\n",
    "        return self.n==other.n and self.d==self.d\n",
    "    def __lt__(self,other):\n",
    "        return self.n*other.d <self.d*other.n\n",
    "\n",
    "    def __str__(self):\n",
    "        if self.n==self.d or self.d==1:\n",
    "            return f'{self.n}'\n",
    "        else:\n",
    "            return f'{self.n}/{self.d}'\n",
    "\n",
    "a=Rational(1,2)\n",
    "b=Rational(2,4)\n",
    "print(a==b)\n",
    "c=Rational(3,4)\n",
    "print(a<c)\n"
   ]
  },
  {
   "cell_type": "markdown",
   "metadata": {},
   "source": [
    "### Iterables\n",
    "\n",
    "1. We have been using iterables, such as lists and dictionaries, without calling them that\n",
    "1. An **iterable** is an object containing a collection of objects (container) that we can iterate over its elements\n",
    "1. To define an **iterable** we need the concept of \"next element\" which implies that we need to keep track of the \"current\" element.\n",
    "1. Also, if we want to iterate over the elements again, we need to be able to \"reset\" the \"current element\"\n",
    "1. Below we illustrate those concepts using a **set** class."
   ]
  },
  {
   "cell_type": "code",
   "execution_count": 29,
   "metadata": {},
   "outputs": [
    {
     "name": "stdout",
     "output_type": "stream",
     "text": [
      "99 in s: True\n",
      "34 in s: False\n"
     ]
    }
   ],
   "source": [
    "class IntSet:\n",
    "    def __init__(self):\n",
    "        self.members=[]\n",
    "    def insert(self,e):\n",
    "        if e not in self.members:\n",
    "            self.members.append(e)\n",
    "    def __len__(self):\n",
    "        return len(self.members)\n",
    "    ## reset the position to the beginning\n",
    "    ## and return an iterator (self)\n",
    "    # def __iter__(self):\n",
    "    #     self.index=0\n",
    "    #     return self\n",
    "    # def __next__(self):\n",
    "    #     if self.index <len(self):\n",
    "    #         x=self.index\n",
    "    #         self.index+=1\n",
    "    #         return self.members[x]\n",
    "    #     else:\n",
    "    #         raise StopIteration\n",
    "    def __contains__(self,e):\n",
    "         return e in self.members\n",
    "    def __str__(self):\n",
    "        s=\",\".join(map(str,self.members))\n",
    "        return \"{\"+s+\"}\"\n",
    "\n",
    "\n",
    "s=IntSet()\n",
    "s.insert(1)\n",
    "s.insert(3)\n",
    "s.insert(99)\n",
    "s.insert(1)\n",
    "print(f'99 in s:',99 in s)\n",
    "print(f'34 in s:',34 in s)\n",
    "\n",
    "# print(\"iterating over elements\")\n",
    "# print(s)\n",
    "# for v in s:\n",
    "#     print(v)\n",
    "# len(s) \n",
    "\n",
    "# print(\"Using an iterator explicitly\")\n",
    "# i=iter(s)\n",
    "# try:\n",
    "#     while 1:\n",
    "#         v=next(i)\n",
    "#         print(v)\n",
    "# except:\n",
    "#     pass\n"
   ]
  },
  {
   "cell_type": "markdown",
   "metadata": {},
   "source": [
    "### Private Members \n",
    "\n",
    "1. A private member, variable or method, cannot be accessed from outside the class\n",
    "1. To declare a member private its identifier should start with '__'"
   ]
  },
  {
   "cell_type": "code",
   "execution_count": null,
   "metadata": {},
   "outputs": [],
   "source": [
    "class basic:\n",
    "    def __init__(self):\n",
    "        self.pub=20\n",
    "        self.__p=10\n",
    "    def getVal(self):\n",
    "        return self.__p\n",
    "    def setVal(self,v):\n",
    "        self.__p=v\n",
    "\n",
    "a=basic()\n",
    "print(a.pub)\n",
    "print(a.__p)\n"
   ]
  },
  {
   "cell_type": "markdown",
   "metadata": {},
   "source": [
    "### Are private members really private?\n",
    "\n",
    "1. Python's implementation of private members prevents \"accidental\" access.\n",
    "1. They can still be accesses if we \"insist\".\n",
    "1. In reality Python changes the name of the variable\n",
    "1. In class basic above the variable ```__p``` is renamed ```_basic__p```"
   ]
  },
  {
   "cell_type": "code",
   "execution_count": null,
   "metadata": {},
   "outputs": [],
   "source": [
    "a._basic__p=99\n",
    "a.getVal()"
   ]
  },
  {
   "cell_type": "markdown",
   "metadata": {},
   "source": [
    "### class variables (as opposed to instance variables)"
   ]
  },
  {
   "cell_type": "code",
   "execution_count": 21,
   "metadata": {},
   "outputs": [],
   "source": [
    "class Person:\n",
    "    ## id is a class variable, common to all instances\n",
    "    id=0\n",
    "    def __init__(self,first,last):\n",
    "        self.__first,self.__last=first,last\n",
    "        self.__id=Person.id\n",
    "        Person.id+=1\n",
    "    def getId(self):\n",
    "        return self.__id\n",
    "    def __str__(self):\n",
    "        return self.__first+\" \"+self.__last"
   ]
  },
  {
   "cell_type": "code",
   "execution_count": 22,
   "metadata": {},
   "outputs": [
    {
     "name": "stdout",
     "output_type": "stream",
     "text": [
      "0\n",
      "1\n"
     ]
    }
   ],
   "source": [
    "a=Person(\"john\",\"doe\")\n",
    "print(a.getId())\n",
    "\n",
    "b=Person(\"jane\",\"unknown\")\n",
    "print(b.getId())\n"
   ]
  },
  {
   "cell_type": "markdown",
   "metadata": {},
   "source": [
    "### Problem\n",
    "1. The class variable ```id``` is used internally by the class\n",
    "1. There is no use for it outside the class and therefore no need to be accessed from outside the class\n",
    "1. Otherwise it could be modified by mistake"
   ]
  },
  {
   "cell_type": "code",
   "execution_count": 20,
   "metadata": {},
   "outputs": [
    {
     "name": "stdout",
     "output_type": "stream",
     "text": [
      "17\n"
     ]
    }
   ],
   "source": [
    "Person.id=17\n",
    "c=Person(\"third\",\"person\")\n",
    "print(c.getId())"
   ]
  },
  {
   "cell_type": "markdown",
   "metadata": {},
   "source": [
    "#### Solution? Declare ```id``` to be private"
   ]
  },
  {
   "cell_type": "code",
   "execution_count": 24,
   "metadata": {},
   "outputs": [],
   "source": [
    "class Person:\n",
    "    __id=0\n",
    "    def __init__(self,first,last):\n",
    "        self.__first,self.__last=first,last\n",
    "        self.__id=Person.__id\n",
    "        Person.__id+=1\n",
    "    def getId(self):\n",
    "        return self.__id\n",
    "    def __str__(self):\n",
    "        return self.__first+\" \"+self.__last"
   ]
  },
  {
   "cell_type": "code",
   "execution_count": 25,
   "metadata": {},
   "outputs": [
    {
     "name": "stdout",
     "output_type": "stream",
     "text": [
      "0\n",
      "1\n"
     ]
    }
   ],
   "source": [
    "Person.__id=99\n",
    "a=Person(\"first\",\"person\")\n",
    "print(a.getId())\n",
    "b=Person(\"second\",\"person\")\n",
    "print(b.getId())"
   ]
  },
  {
   "cell_type": "markdown",
   "metadata": {},
   "source": [
    "### Inheritance\n",
    "\n",
    "1. One can define a new class to **derive** from some **base** class\n",
    "1. The **derived** class **inherits all** methods and variables of the **base** class"
   ]
  },
  {
   "cell_type": "code",
   "execution_count": 26,
   "metadata": {},
   "outputs": [],
   "source": [
    "class basic(object):\n",
    "    def __init__(self):\n",
    "        self.x=0\n",
    "    def getX(self):\n",
    "        return self.x\n",
    "    def setX(self,x):\n",
    "        self.x=x\n",
    "    def __str__(self):\n",
    "        return f'the value of x is {self.x}'\n",
    "\n"
   ]
  },
  {
   "cell_type": "code",
   "execution_count": 27,
   "metadata": {},
   "outputs": [
    {
     "name": "stdout",
     "output_type": "stream",
     "text": [
      "the value of x is 12\n"
     ]
    }
   ],
   "source": [
    "## derived class inherits \"everything\" from basic\n",
    "\n",
    "class derived(basic):\n",
    "  pass\n",
    "\n",
    "d=derived()\n",
    "d.setX(12)\n",
    "print(d)"
   ]
  },
  {
   "cell_type": "markdown",
   "metadata": {},
   "source": [
    "### Example"
   ]
  },
  {
   "cell_type": "code",
   "execution_count": 2,
   "metadata": {},
   "outputs": [
    {
     "name": "stdout",
     "output_type": "stream",
     "text": [
      "first person\n"
     ]
    }
   ],
   "source": [
    "class Person(object):\n",
    "    def __init__(self,first,last=None):\n",
    "        ## no last name was supplied\n",
    "        ## maybe both names were given in the 'first' parameter\n",
    "        if last==None:\n",
    "            try:\n",
    "                idx=first.index(\" \")\n",
    "                self.first=first[:idx]\n",
    "                self.last=first[idx:]\n",
    "            except:\n",
    "                self.first=first\n",
    "                self.last=None\n",
    "        else:\n",
    "            self.first=first\n",
    "            self.last=last\n",
    "    def getFirst(self):\n",
    "            return self.first\n",
    "    def getLast(self):\n",
    "            return self.last\n",
    "    def __str__(self):\n",
    "            return self.first if self.last==None else self.first+\" \"+self.last\n",
    "a=Person(\"first\",\"person\")\n",
    "a.getFirst()\n",
    "a.getLast()\n",
    "print(a)"
   ]
  },
  {
   "cell_type": "markdown",
   "metadata": {},
   "source": [
    "### A student is a person\n",
    "\n",
    "1. We would like to build on the class Person to define as student\n",
    "1. The natural way is to derive Student from Person\n",
    "1. But a Student is a Person with ```id``` ( at a minimum)"
   ]
  },
  {
   "cell_type": "code",
   "execution_count": 35,
   "metadata": {},
   "outputs": [
    {
     "data": {
      "text/plain": [
       "'first student id=0'"
      ]
     },
     "execution_count": 35,
     "metadata": {},
     "output_type": "execute_result"
    }
   ],
   "source": [
    "class Student(Person):\n",
    "    def setId(self,i):\n",
    "        self.id=i\n",
    "    def getId(self):\n",
    "        return self.id\n",
    "    def toString(self):\n",
    "        return self.__str__()+\" id=\"+str(self.id)\n",
    "\n",
    "\n",
    "s1=Student(\"first\",\"student\")\n",
    "s1.setId(0)\n",
    "s1.toString()\n"
   ]
  },
  {
   "cell_type": "markdown",
   "metadata": {},
   "source": [
    "### Overriding methods\n",
    "\n",
    "1. In the example above we had to \"manually\" set the id of a student.\n",
    "1. This is because if we define ```__init__``` for the student class it will **override** (hide) the ```__init__``` of class Person\n",
    "1. We had to define a new method ```toString```. This is because we didn't want to **overide** the ```__str__``` of Person\n"
   ]
  },
  {
   "cell_type": "code",
   "execution_count": 5,
   "metadata": {},
   "outputs": [
    {
     "name": "stdout",
     "output_type": "stream",
     "text": [
      " id=0\n"
     ]
    },
    {
     "ename": "AttributeError",
     "evalue": "'Student' object has no attribute 'first'",
     "output_type": "error",
     "traceback": [
      "\u001b[1;31m---------------------------------------------------------------------------\u001b[0m",
      "\u001b[1;31mAttributeError\u001b[0m                            Traceback (most recent call last)",
      "\u001b[1;32m<ipython-input-5-7030e52c6f85>\u001b[0m in \u001b[0;36m<module>\u001b[1;34m\u001b[0m\n\u001b[0;32m     13\u001b[0m \u001b[0ms1\u001b[0m\u001b[1;33m=\u001b[0m\u001b[0mStudent\u001b[0m\u001b[1;33m(\u001b[0m\u001b[1;36m0\u001b[0m\u001b[1;33m)\u001b[0m\u001b[1;33m\u001b[0m\u001b[1;33m\u001b[0m\u001b[0m\n\u001b[0;32m     14\u001b[0m \u001b[0mprint\u001b[0m\u001b[1;33m(\u001b[0m\u001b[0ms1\u001b[0m\u001b[1;33m)\u001b[0m\u001b[1;33m\u001b[0m\u001b[1;33m\u001b[0m\u001b[0m\n\u001b[1;32m---> 15\u001b[1;33m \u001b[0ms1\u001b[0m\u001b[1;33m.\u001b[0m\u001b[0mgetFirst\u001b[0m\u001b[1;33m(\u001b[0m\u001b[1;33m)\u001b[0m\u001b[1;33m\u001b[0m\u001b[1;33m\u001b[0m\u001b[0m\n\u001b[0m",
      "\u001b[1;32m<ipython-input-2-aa1c316b7f00>\u001b[0m in \u001b[0;36mgetFirst\u001b[1;34m(self)\u001b[0m\n\u001b[0;32m     15\u001b[0m             \u001b[0mself\u001b[0m\u001b[1;33m.\u001b[0m\u001b[0mlast\u001b[0m\u001b[1;33m=\u001b[0m\u001b[0mlast\u001b[0m\u001b[1;33m\u001b[0m\u001b[1;33m\u001b[0m\u001b[0m\n\u001b[0;32m     16\u001b[0m     \u001b[1;32mdef\u001b[0m \u001b[0mgetFirst\u001b[0m\u001b[1;33m(\u001b[0m\u001b[0mself\u001b[0m\u001b[1;33m)\u001b[0m\u001b[1;33m:\u001b[0m\u001b[1;33m\u001b[0m\u001b[1;33m\u001b[0m\u001b[0m\n\u001b[1;32m---> 17\u001b[1;33m             \u001b[1;32mreturn\u001b[0m \u001b[0mself\u001b[0m\u001b[1;33m.\u001b[0m\u001b[0mfirst\u001b[0m\u001b[1;33m\u001b[0m\u001b[1;33m\u001b[0m\u001b[0m\n\u001b[0m\u001b[0;32m     18\u001b[0m     \u001b[1;32mdef\u001b[0m \u001b[0mgetLast\u001b[0m\u001b[1;33m(\u001b[0m\u001b[0mself\u001b[0m\u001b[1;33m)\u001b[0m\u001b[1;33m:\u001b[0m\u001b[1;33m\u001b[0m\u001b[1;33m\u001b[0m\u001b[0m\n\u001b[0;32m     19\u001b[0m             \u001b[1;32mreturn\u001b[0m \u001b[0mself\u001b[0m\u001b[1;33m.\u001b[0m\u001b[0mlast\u001b[0m\u001b[1;33m\u001b[0m\u001b[1;33m\u001b[0m\u001b[0m\n",
      "\u001b[1;31mAttributeError\u001b[0m: 'Student' object has no attribute 'first'"
     ]
    }
   ],
   "source": [
    "class Student(Person):\n",
    "    ## this declaration will override, i.e. hide, the __init__\n",
    "    ## in Person\n",
    "    def __init__(self,id):\n",
    "        self.id=id\n",
    "    def setId(self,i):\n",
    "        self.id=i\n",
    "    def getId(self):\n",
    "        return self.id\n",
    "    def __str__(self):\n",
    "        return \" id=\"+str(self.id)\n",
    "\n",
    "s1=Student(0)\n",
    "print(s1)\n",
    "s1.getFirst()"
   ]
  },
  {
   "cell_type": "code",
   "execution_count": 4,
   "metadata": {},
   "outputs": [
    {
     "name": "stdout",
     "output_type": "stream",
     "text": [
      "first student id=0\n"
     ]
    },
    {
     "data": {
      "text/plain": [
       "'first'"
      ]
     },
     "execution_count": 4,
     "metadata": {},
     "output_type": "execute_result"
    }
   ],
   "source": [
    "class Student(Person):\n",
    "    __id=0\n",
    "    def __init__(self,first,last):\n",
    "        super().__init__(first,last)\n",
    "        self.id=Student.__id\n",
    "        Student.__id+=1\n",
    "    def __str__(self):\n",
    "        return super().__str__()+\" id=\"+str(self.id)\n",
    "\n",
    "s1=Student(\"first\",\"student\")\n",
    "print(s1)\n",
    "s1.getFirst()"
   ]
  },
  {
   "cell_type": "code",
   "execution_count": null,
   "metadata": {},
   "outputs": [],
   "source": [
    "class comparable(object):\n",
    "    def __init__(self,x):\n",
    "        self.x=x\n",
    "    def __lt__(self,other):\n",
    "        return self.x<other.x\n",
    "    def __str__(self):\n",
    "        return str(self.x)"
   ]
  },
  {
   "cell_type": "markdown",
   "metadata": {},
   "source": []
  },
  {
   "cell_type": "code",
   "execution_count": null,
   "metadata": {},
   "outputs": [],
   "source": [
    "a=[comparable(7),comparable(19),comparable(7),comparable(8)]\n",
    "for e in a:\n",
    "    print(e)\n",
    "a.sort()\n",
    "print(\"sorted\")\n",
    "for e in a:\n",
    "    print(e)"
   ]
  },
  {
   "cell_type": "code",
   "execution_count": null,
   "metadata": {},
   "outputs": [],
   "source": []
  }
 ],
 "metadata": {
  "interpreter": {
   "hash": "63fd5069d213b44bf678585dea6b12cceca9941eaf7f819626cde1f2670de90d"
  },
  "kernelspec": {
   "display_name": "Python 3.9.6 64-bit",
   "name": "python3"
  },
  "language_info": {
   "codemirror_mode": {
    "name": "ipython",
    "version": 3
   },
   "file_extension": ".py",
   "mimetype": "text/x-python",
   "name": "python",
   "nbconvert_exporter": "python",
   "pygments_lexer": "ipython3",
   "version": "3.9.6"
  },
  "orig_nbformat": 4
 },
 "nbformat": 4,
 "nbformat_minor": 2
}
