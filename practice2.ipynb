{
 "cells": [
  {
   "cell_type": "code",
   "execution_count": null,
   "metadata": {},
   "outputs": [],
   "source": [
    "class circle:\n",
    "    from math import pi\n",
    "    def __init__(self,rad,x=0,y=0):\n",
    "        self.rad,self.x,self.y=rad,x,y\n",
    "\n",
    "    def area(self):\n",
    "        return self.pi*self.rad*self.rad\n",
    "\n",
    "    def contains(self,px,py):\n",
    "        # compute position relative to center of circle\n",
    "        nx,ny=px-self.x,py-self.y\n",
    "        return nx**2+ny**2 <=self.rad\n",
    "    def __str__(self):\n",
    "        return f'c.x={self.x},c.y={self.y},c.r={self.rad}'\n",
    "\n",
    "c=circle(1,5,3)\n",
    "c.contains(4.5,2.5)\n",
    "print(c)"
   ]
  },
  {
   "cell_type": "code",
   "execution_count": null,
   "metadata": {},
   "outputs": [],
   "source": [
    "class PNDSF():\n",
    "    def __init__(self):\n",
    "        self.p=[2]\n",
    "        self.ub=2\n",
    "    def __prime(self,x):\n",
    "        ## Fundamental theorem of arithmetic\n",
    "        ## a number is prime or a product of primes (unique)\n",
    "        count=0\n",
    "        for i in self.p:\n",
    "            count+=1\n",
    "            if x%i==0:\n",
    "                return False,count\n",
    "        return True,count\n",
    "    def isPrime(self,x):\n",
    "        return x in self.p\n",
    "    def augment(self):\n",
    "        self.ub+=1\n",
    "        if self.__prime(self.ub):\n",
    "            self.p.append(self.ub)\n",
    "    def buildToB(self,n):\n",
    "        tmp=(n+1)*[True]\n",
    "        ## start from scratch. It simple and more efficient\n",
    "        self.p=[]\n",
    "        for j in range(2,n+1):\n",
    "            if tmp[j]==False:\n",
    "                continue\n",
    "            self.p.append(j)\n",
    "            for i in range(2*j,n+1,j):\n",
    "                tmp[i]=False\n",
    "        self.ub=n\n",
    "\n",
    "    def buildToB2(self,n):\n",
    "        ## simpler but less efficient method\n",
    "        for j in range(self.ub,n+1):\n",
    "            r,_=self.__prime(j)\n",
    "            if r:\n",
    "                self.p.append(j)\n",
    "        self.ub=n\n",
    "    def __eq__(self,other):\n",
    "        return self.p==other.p\n",
    "    def __str__(self):\n",
    "        return str(self.p)\n",
    "\n",
    "\n",
    "a=PNDSF()\n",
    "b=PNDSF()\n",
    "n=20\n",
    "a.buildToB2(n)\n",
    "b.buildToB(n)\n",
    "print(a)\n",
    "print(b)\n",
    "\n",
    "a==b\n",
    "#a.augment()\n",
    "#a.augment()\n",
    "#c=a.buildToB2(200000)\n",
    "#print(c)"
   ]
  },
  {
   "cell_type": "code",
   "execution_count": null,
   "metadata": {},
   "outputs": [],
   "source": [
    "def count(seq,x):\n",
    "    if len(seq)==0:\n",
    "        return 0\n",
    "    return 1+count(seq[:-1],x) if seq[-1]>=x else count(seq[:-1],x)\n",
    "\n",
    "a=[4,5,19,10,4,10,54,9,10,18,24,10]\n",
    "count(a,10)"
   ]
  },
  {
   "cell_type": "code",
   "execution_count": 1,
   "metadata": {},
   "outputs": [
    {
     "name": "stdout",
     "output_type": "stream",
     "text": [
      "(8, 4)\n",
      "[4, 4, 5, 9, 10, 10, 10, 10, 18, 19, 24, 54]\n"
     ]
    }
   ],
   "source": [
    "def count(seq,x):\n",
    "    if len(seq)==0:\n",
    "        return 0,0\n",
    "\n",
    "    larger,smaller=count(seq[:-1],x)\n",
    "    if seq[-1]>=x:\n",
    "        return larger+1,smaller\n",
    "    else:\n",
    "        return larger,smaller+1\n",
    "        \n",
    "\n",
    "a=[4,5,19,10,4,10,54,9,10,18,24,10]\n",
    "print(count(a,10))\n",
    "a.sort()\n",
    "print(a)\n"
   ]
  },
  {
   "cell_type": "code",
   "execution_count": 2,
   "metadata": {},
   "outputs": [
    {
     "data": {
      "text/plain": [
       "0"
      ]
     },
     "execution_count": 2,
     "metadata": {},
     "output_type": "execute_result"
    }
   ],
   "source": [
    "def binomial(n,k):\n",
    "    if k>n:\n",
    "        return 0\n",
    "    if n==k or k==0:\n",
    "        return 1\n",
    "\n",
    "    return binomial(n-1,k)+binomial(n-1,k-1)\n",
    "\n",
    "\n",
    "binomial(2,7)"
   ]
  },
  {
   "cell_type": "code",
   "execution_count": null,
   "metadata": {},
   "outputs": [],
   "source": []
  }
 ],
 "metadata": {
  "interpreter": {
   "hash": "63fd5069d213b44bf678585dea6b12cceca9941eaf7f819626cde1f2670de90d"
  },
  "kernelspec": {
   "display_name": "Python 3.9.6 64-bit",
   "name": "python3"
  },
  "language_info": {
   "codemirror_mode": {
    "name": "ipython",
    "version": 3
   },
   "file_extension": ".py",
   "mimetype": "text/x-python",
   "name": "python",
   "nbconvert_exporter": "python",
   "pygments_lexer": "ipython3",
   "version": "3.9.6"
  },
  "orig_nbformat": 4
 },
 "nbformat": 4,
 "nbformat_minor": 2
}
