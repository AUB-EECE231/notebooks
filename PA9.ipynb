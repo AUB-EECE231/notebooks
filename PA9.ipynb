{
 "cells": [
  {
   "cell_type": "code",
   "execution_count": 2,
   "metadata": {},
   "outputs": [
    {
     "name": "stdout",
     "output_type": "stream",
     "text": [
      "None\n",
      "None\n"
     ]
    }
   ],
   "source": [
    "def isWordInFile(fileName,word):\n",
    "    try:\n",
    "        f=open(fileName,'r')\n",
    "        content=f.read()\n",
    "    except FileNotFoundError:\n",
    "        return None\n",
    "    return word in content\n",
    "\n",
    "r1=isWordInFile(\"PA_9_test.txt\",\"Programming\")\n",
    "r2=isWordInFile(\"PA_9_test.txt\",\"programming\")\n",
    "print(r1)\n",
    "print(r2)"
   ]
  },
  {
   "cell_type": "code",
   "execution_count": 13,
   "metadata": {},
   "outputs": [
    {
     "name": "stdout",
     "output_type": "stream",
     "text": [
      "3\n",
      "0\n",
      "3\n",
      "0\n"
     ]
    }
   ],
   "source": [
    "def isWordInFile(fileName,word):\n",
    "    try:\n",
    "        f=open(fileName,'r')\n",
    "    except FileNotFoundError:\n",
    "        return None\n",
    "    i=0\n",
    "    while True:\n",
    "        line=f.readline()\n",
    "        if line==\"\":\n",
    "            break\n",
    "        if word in line:\n",
    "            f.close()\n",
    "            return i+1\n",
    "        i+=1 \n",
    "    return 0\n",
    "r1=isWordInFile(\"PA_9_test.txt\",\"Programming\")\n",
    "r2=isWordInFile(\"PA_9_test.txt\",\"programming\")\n",
    "print(r1)\n",
    "print(r2)\n",
    "def isWordInFile(fileName,word):\n",
    "    f=open(fileName,'r')\n",
    "    lines=f.readlines()\n",
    "    for i,line in enumerate(lines):\n",
    "        if word in line:\n",
    "            return i+1\n",
    "    return 0    \n",
    "    \n",
    "\n",
    "r1=isWordInFile(\"PA_9_test.txt\",\"Programming\")\n",
    "r2=isWordInFile(\"PA_9_test.txt\",\"programming\")\n",
    "\n",
    "print(r1)\n",
    "print(r2)"
   ]
  },
  {
   "cell_type": "code",
   "execution_count": 3,
   "metadata": {},
   "outputs": [
    {
     "name": "stdout",
     "output_type": "stream",
     "text": [
      "[ 8.95454545  7.95454545  7.59090909 14.81818182 16.68181818 15.63636364\n",
      " 71.63636364]\n"
     ]
    }
   ],
   "source": [
    "import numpy as np\n",
    "try:\n",
    "    f=open(\"PA_9_data.txt\")\n",
    "    lines=f.readlines()\n",
    "    # No need for the below\n",
    "    # numpy ignores the newline char when converting to int\n",
    "    #lines=list(\n",
    "    #    map(lambda x: x.replace(\"\\n\",\"\"),\n",
    "    #        lines\n",
    "    #    )\n",
    "    #)\n",
    "    lines=list(map(lambda x:x.split(','),lines))\n",
    "    #skip the header (first line) and the first two columns\n",
    "    lines=np.array(lines)[1:,2:].astype('int')\n",
    "    print(np.average(lines,0))\n",
    "except FileNotFoundError:\n",
    "    print(\"Cannot open file\")\n",
    "\n"
   ]
  },
  {
   "cell_type": "code",
   "execution_count": null,
   "metadata": {},
   "outputs": [],
   "source": [
    "\n",
    "try:\n",
    "    f=open(\"PA_9_data.txt\")\n",
    "    lines=f.readlines()\n",
    "    rows=len(lines)\n",
    "    cols=7\n",
    "    m=np.zeros((rows,cols))\n",
    "    for i,row in enumerate(lines):\n",
    "        row=row.split(',')\n",
    "        if i==0: continue\n",
    "        m[i]=np.array(row[2:]).astype('int')\n",
    "    ave=np.average(m,0)\n",
    "except FileNotFoundError:\n",
    "    print(\"Cannot open file\")\n",
    "\n"
   ]
  }
 ],
 "metadata": {
  "interpreter": {
   "hash": "63fd5069d213b44bf678585dea6b12cceca9941eaf7f819626cde1f2670de90d"
  },
  "kernelspec": {
   "display_name": "Python 3.9.6 64-bit",
   "language": "python",
   "name": "python3"
  },
  "language_info": {
   "codemirror_mode": {
    "name": "ipython",
    "version": 3
   },
   "file_extension": ".py",
   "mimetype": "text/x-python",
   "name": "python",
   "nbconvert_exporter": "python",
   "pygments_lexer": "ipython3",
   "version": "3.9.6"
  },
  "orig_nbformat": 4
 },
 "nbformat": 4,
 "nbformat_minor": 2
}
