{
 "cells": [
  {
   "cell_type": "code",
   "execution_count": 2,
   "metadata": {},
   "outputs": [
    {
     "name": "stdout",
     "output_type": "stream",
     "text": [
      "None\n",
      "None\n"
     ]
    }
   ],
   "source": [
    "def isWordInFile(fileName,word):\n",
    "    try:\n",
    "        f=open(fileName,'r')\n",
    "        content=f.read()\n",
    "    except FileNotFoundError:\n",
    "        return None\n",
    "    return word in content\n",
    "\n",
    "r1=isWordInFile(\"PA_9_test.txt\",\"Programming\")\n",
    "r2=isWordInFile(\"PA_9_test.txt\",\"programming\")\n",
    "print(r1)\n",
    "print(r2)"
   ]
  },
  {
   "cell_type": "code",
   "execution_count": 13,
   "metadata": {},
   "outputs": [
    {
     "name": "stdout",
     "output_type": "stream",
     "text": [
      "3\n",
      "0\n",
      "3\n",
      "0\n"
     ]
    }
   ],
   "source": [
    "def isWordInFile(fileName,word):\n",
    "    try:\n",
    "        f=open(fileName,'r')\n",
    "    except FileNotFoundError:\n",
    "        return None\n",
    "    i=0\n",
    "    while True:\n",
    "        line=f.readline()\n",
    "        if line==\"\":\n",
    "            break\n",
    "        if word in line:\n",
    "            f.close()\n",
    "            return i+1\n",
    "        i+=1 \n",
    "    return 0\n",
    "r1=isWordInFile(\"PA_9_test.txt\",\"Programming\")\n",
    "r2=isWordInFile(\"PA_9_test.txt\",\"programming\")\n",
    "print(r1)\n",
    "print(r2)\n",
    "def isWordInFile(fileName,word):\n",
    "    f=open(fileName,'r')\n",
    "    lines=f.readlines()\n",
    "    for i,line in enumerate(lines):\n",
    "        if word in line:\n",
    "            return i+1\n",
    "    return 0    \n",
    "    \n",
    "\n",
    "r1=isWordInFile(\"PA_9_test.txt\",\"Programming\")\n",
    "r2=isWordInFile(\"PA_9_test.txt\",\"programming\")\n",
    "\n",
    "print(r1)\n",
    "print(r2)"
   ]
  },
  {
   "cell_type": "code",
   "execution_count": 1,
   "metadata": {},
   "outputs": [
    {
     "name": "stdout",
     "output_type": "stream",
     "text": [
      "\t[' P1', ' P2', ' P3', ' P4', ' P5', ' P6', ' Grade']\n",
      "ave\t [ 8.95  7.95  7.59 14.82 16.68 15.64 71.64]\n",
      "median\t [ 9.   9.   8.5 16.  16.5 17.5 73. ]\n",
      "stdev\t [ 1.97  4.98  2.57  2.12  3.27  6.65 10.48]\n",
      "mode\t [11  0 10 16 15 23 61]\n",
      "Correlation [[ 1.   -0.21]\n",
      " [-0.21  1.  ]]\n"
     ]
    }
   ],
   "source": [
    "import numpy as np\n",
    "from scipy import stats\n",
    "try:\n",
    "    f=open(\"PA_9_data.txt\")\n",
    "    lines=f.readlines()\n",
    "    # No need for the below\n",
    "    # numpy ignores the newline char when converting to int\n",
    "    #lines=list(\n",
    "    #    map(lambda x: x.replace(\"\\n\",\"\"),\n",
    "    #        lines\n",
    "    #    )\n",
    "    #)\n",
    "    lines=list(map(lambda x:x.replace(\"\\n\",\"\").split(','),lines))\n",
    "    header=lines[0]\n",
    "    #skip the header (first line) and the first two columns\n",
    "    a=np.array(lines)[1:,2:].astype('int')\n",
    "    ave=np.average(a,0)\n",
    "    med=np.median(a,0)\n",
    "    d=np.std(a,0)\n",
    "    np.set_printoptions(2)\n",
    "\n",
    "    print(f'\\t{header[2:]}')\n",
    "    print(f'ave\\t {ave}')\n",
    "    print(f'median\\t {med}')\n",
    "    print(f'stdev\\t {d}')\n",
    "    mode=stats.mode(a,0)\n",
    "    print(f'mode\\t {mode[0].squeeze()}')\n",
    "    x=np.array(lines)[1:,1].astype('int')\n",
    "    y=np.array(lines)[1:,8].astype('int')\n",
    "    cc=np.corrcoef(x,y)\n",
    "    print(f'Correlation {cc}')\n",
    "except FileNotFoundError:\n",
    "    print(\"Cannot open file\")\n",
    "\n"
   ]
  },
  {
   "cell_type": "code",
   "execution_count": null,
   "metadata": {},
   "outputs": [],
   "source": [
    "try:\n",
    "    f=open(\"PA_9_data.txt\")\n",
    "    lines=f.readlines()\n",
    "    rows=len(lines)\n",
    "    cols=7\n",
    "    m=np.zeros((rows,cols))\n",
    "    for i,row in enumerate(lines):\n",
    "        row=row.split(',')\n",
    "        if i==0: continue\n",
    "        m[i]=np.array(row[2:]).astype('int')\n",
    "    ave=np.average(m,0)\n",
    "    med=np.median(m,0)\n",
    "    d=np.std(m,0)\n",
    "    \n",
    "\n",
    "except FileNotFoundError:\n",
    "    print(\"Cannot open file\")\n",
    "\n"
   ]
  }
 ],
 "metadata": {
  "interpreter": {
   "hash": "63fd5069d213b44bf678585dea6b12cceca9941eaf7f819626cde1f2670de90d"
  },
  "kernelspec": {
   "display_name": "Python 3",
   "language": "python",
   "name": "python3"
  },
  "language_info": {
   "codemirror_mode": {
    "name": "ipython",
    "version": 3
   },
   "file_extension": ".py",
   "mimetype": "text/x-python",
   "name": "python",
   "nbconvert_exporter": "python",
   "pygments_lexer": "ipython3",
   "version": "3.9.6"
  }
 },
 "nbformat": 4,
 "nbformat_minor": 2
}
