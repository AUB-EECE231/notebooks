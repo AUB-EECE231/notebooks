{
 "cells": [
  {
   "cell_type": "markdown",
   "id": "622107bc",
   "metadata": {},
   "source": [
    "# Recursion\n",
    "- A recursive function is a function that calls itself.\n",
    "- Typically, each new call of the function has a smaller input than the preceding one.\n",
    "- This way a **base** case is reached and the recursive calls stop.\n",
    "- Recusion is the natural way to solve a problem that is defined **inductively**"
   ]
  },
  {
   "cell_type": "markdown",
   "id": "0d0989df",
   "metadata": {},
   "source": [
    "#### Factorial\n",
    "- The factorial function, $f(n)$ is defined as $f(n)=1\\times 2\\times 3\\times\\ldots\\times n$\n",
    "- But it can also be defined **inductively** as $f(n)=n\\times f(n-1)$\n",
    "- The **inductive** definition lends itelf, easily, to a recursive computation\n",
    "     - To compute $f(n)$, first compute $f(n-1)$ then multiply the result by $n$\n",
    "     - But to compute $f(n-1)$ one has to compute $f(n-2)$ and multiply it by $n-1$\n",
    "     - ...\n",
    "     - $f(0)=1$ by definition\n",
    "- The above leads to the following recursive algorithm"
   ]
  },
  {
   "cell_type": "code",
   "execution_count": null,
   "id": "e379d0b2",
   "metadata": {},
   "outputs": [],
   "source": [
    "def factorial(n):\n",
    "    if n==0:\n",
    "        return 1\n",
    "    return n*factorial(n-1)\n",
    "r=factorial(5)\n",
    "r"
   ]
  },
  {
   "cell_type": "markdown",
   "id": "acb2c729",
   "metadata": {},
   "source": [
    "[visualize it](https://pythontutor.com/visualize.html#code=def%20factorial%28n%29%3A%0A%20%20%20%20if%20n%3D%3D0%3A%0A%20%20%20%20%20%20%20%20return%201%0A%20%20%20%20return%20n*factorial%28n-1%29%0Ar%3Dfactorial%285%29&cumulative=false&curInstr=0&heapPrimitives=nevernest&mode=display&origin=opt-frontend.js&py=3&rawInputLstJSON=%5B%5D&textReferences=false)"
   ]
  },
  {
   "cell_type": "markdown",
   "id": "fd00f9fe",
   "metadata": {},
   "source": [
    "#### Arithmetic sum\n",
    "- The arithmetic series is defined as  $$AS(n)=\\sum_{i=0}^n i$$\n",
    "- It has an **analytical** form $AS(n)=\\frac{n(n+1)}{2}$\n",
    "- The sum can be written **inductively** as\n",
    "$$\\begin{align*} \n",
    "AS(n)&=n+\\sum_{i=0}^{n-1} i\\\\\n",
    "&=n+AS(n-1)\n",
    "\\end{align*}\n",
    "$$\n",
    "-The above **inductive** definition leads to the following algorithm\n"
   ]
  },
  {
   "cell_type": "code",
   "execution_count": null,
   "id": "64260e2e",
   "metadata": {},
   "outputs": [],
   "source": [
    "def ar_series(x):\n",
    "    if x==0:\n",
    "        return 0\n",
    "    return x+ar_series(x-1) \n",
    "\n",
    "n=10\n",
    "AS=ar_series(n)\n",
    "print(AS,n*(n+1)/2)\n"
   ]
  },
  {
   "cell_type": "markdown",
   "id": "5fbb6d92",
   "metadata": {},
   "source": [
    "[visualize it](https://pythontutor.com/visualize.html#code=def%20ar_series%28x%29%3A%0A%20%20%20%20if%20x%3D%3D0%3A%0A%20%20%20%20%20%20%20%20return%200%0A%20%20%20%20return%20x%2Bar_series%28x-1%29%20%0A%0An%3D5%0AAS%3Dar_series%28n%29%0Aprint%28AS,n*%28n%2B1%29/2%29&cumulative=false&curInstr=0&heapPrimitives=nevernest&mode=display&origin=opt-frontend.js&py=3&rawInputLstJSON=%5B%5D&textReferences=false)"
   ]
  },
  {
   "cell_type": "markdown",
   "id": "48b9c9d0",
   "metadata": {},
   "source": [
    "### Geometric Sum\n",
    "- The geometric sum is defined as $GS(x,n)=\\sum_{i=0}^n x^i$\n",
    "- It has the analytical form for $GS(x,n)=\\frac{x^{n+1}-1}{x-1}$ for $x\\ne 1$\n",
    "- The sum can be written **inductively** as\n",
    "$$\\begin{align*}\n",
    "GS(x,n)&=x^n+\\sum_{i=0}^{n-1}x^i\\\\\n",
    "&=x^n+GS(x,n-1)\n",
    "\\end{align*}\n",
    "$$\n"
   ]
  },
  {
   "cell_type": "code",
   "execution_count": null,
   "id": "59e6afb4",
   "metadata": {},
   "outputs": [],
   "source": [
    "## Geometric series\n",
    "def geo_series(x,n):\n",
    "    if n==0:\n",
    "        return 1\n",
    "    return x**n+geo_series(x,n-1)\n",
    "\n",
    "n=3\n",
    "x=2\n",
    "r=geo_series(x,n)\n",
    "print(r,(x**(n+1)-1)/(x-1))"
   ]
  },
  {
   "cell_type": "markdown",
   "id": "ca55ab1c",
   "metadata": {},
   "source": [
    "### Palindromes\n",
    "- As you recall a palindrome is a string or a sequence that is equal to its reverse.\n",
    "- Let $s=c_0c_1\\ldots c_{n-1}$ be a string of $n$ characters. $s$ is a palindrome if $c_0=c_{n-1}$ **and** \n",
    "$c_1\\ldots c_{n-2}$ is a palindrome\n",
    "- The above leads to the following algorithm\n"
   ]
  },
  {
   "cell_type": "code",
   "execution_count": null,
   "id": "9e85eddf",
   "metadata": {},
   "outputs": [],
   "source": [
    "def is_palindrome(s):\n",
    "    if len(s)<=1:\n",
    "        return True\n",
    "    return s[0]==s[-1] and is_palindrome(s[1:-1])\n",
    "\n",
    "r=is_palindrome(\"racecar\")\n",
    "print(r)"
   ]
  },
  {
   "cell_type": "markdown",
   "id": "c6704fd3",
   "metadata": {},
   "source": [
    "[visualize it](https://pythontutor.com/visualize.html#code=def%20is_palindrome%28s%29%3A%0A%20%20%20%20if%20len%28s%29%3C%3D1%3A%0A%20%20%20%20%20%20%20%20return%20True%0A%20%20%20%20return%20s%5B0%5D%3D%3Ds%5B-1%5D%20and%20is_palindrome%28s%5B1%3A-1%5D%29%0A%0Ar%3Dis_palindrome%28%22racecar%22%29%0Aprint%28r%29&cumulative=false&curInstr=0&heapPrimitives=nevernest&mode=display&origin=opt-frontend.js&py=3&rawInputLstJSON=%5B%5D&textReferences=false)"
   ]
  },
  {
   "cell_type": "markdown",
   "id": "4fa069c7",
   "metadata": {},
   "source": [
    "#### Reverse a list\n",
    "- To obtain a general method for reversing a list we start with a few specific examples and then generalize\n",
    "- Clearly, when the list contains a single, or no, element, it is equal to its own reverse\n",
    "- If a list contains two elements $L=[x_0,x_1]$ then the reverse $L^R=[x_1,x_0]$\n",
    "- Let $L=[x_0,x_1,\\ldots,x_{n-1}]$ be a list of $n$ elements. We can write $L=[x_0]+[x_1,\\ldots,x_{n-2}]+[x_{n-1}]$\n",
    "- The reverse of $L$, denoted by $L^R$, can be written as $L^R=[x_{n-1},[x_1,\\ldots,x_{n-2}]^R,x_0]$\n",
    "- The above leads to the recursive algorithms below"
   ]
  },
  {
   "cell_type": "code",
   "execution_count": null,
   "id": "be5d3af0",
   "metadata": {},
   "outputs": [],
   "source": [
    "def reverse(s):\n",
    "    if len(s)<=1:\n",
    "        return\n",
    "    s[0],s[-1]=s[-1],s[0]\n",
    "    reverse(s[1:-1])\n",
    "\n",
    "a=[1,2,3,4,5]\n",
    "reverse(a)\n",
    "print(a)"
   ]
  },
  {
   "cell_type": "markdown",
   "id": "e9afbccc",
   "metadata": {},
   "source": [
    "#### Fibonacci sequence\n"
   ]
  },
  {
   "cell_type": "code",
   "execution_count": null,
   "id": "596a0c8e",
   "metadata": {},
   "outputs": [],
   "source": [
    "# Iterative version\n",
    "import timeit \n",
    "def fib(n):\n",
    "    f=(n+1)*[0]\n",
    "    f[0],f[1]=0,1\n",
    "    for i in range(2,n+1):\n",
    "        f[i]=f[i-1]+f[i-2]\n",
    "    return f[n]\n",
    "n=40\n",
    "a=timeit.timeit('fib(n)',\n",
    "         setup='from __main__ import fib',\n",
    "         number=1,globals=globals())\n",
    "fib(40)\n",
    "print(a)"
   ]
  },
  {
   "cell_type": "code",
   "execution_count": null,
   "id": "644265a0",
   "metadata": {},
   "outputs": [],
   "source": [
    "# recursive version\n",
    "def fibr(n):\n",
    "    if n==0 or n==1:\n",
    "        return n\n",
    "    return fibr(n-2)+fibr(n-1)\n",
    "n=40\n",
    "a=timeit.timeit('fibr(n)',\n",
    "         setup='from __main__ import fibr',\n",
    "         number=1,globals=globals())\n",
    "print(a)"
   ]
  },
  {
   "cell_type": "markdown",
   "id": "0374bf32",
   "metadata": {},
   "source": [
    "### Performance comparison\n",
    "- The iterative version is clearly $\\Theta(n)$\n",
    "- Let $T(n)$ be the complexity of the recursive version when the input is $n$\n",
    "- It can be shown that $T(n)\\ge\\phi^n$ i.e. $T(n)=\\Omega\\left(\\phi^n\\right)$ where $\\phi$ is the **golden ratio**\n",
    "- The reason of this exponential behavior is the that _fibr_ **recomputes** some of the values many times.\n"
   ]
  },
  {
   "cell_type": "markdown",
   "metadata": {},
   "source": [
    "#### Counting recursive calls\n",
    "- Using global variables"
   ]
  },
  {
   "cell_type": "code",
   "execution_count": null,
   "metadata": {},
   "outputs": [],
   "source": [
    "import matplotlib.pyplot as plt\n",
    "count=0\n",
    "phi=1.618\n",
    "def fibr(n):\n",
    "    global count\n",
    "    count+=1\n",
    "    if n==0 or n==1:\n",
    "        return n\n",
    "    return fibr(n-2)+fibr(n-1)\n",
    "vals=[1,1] # for fibr(0) and fibr(1)\n",
    "n=15\n",
    "for i in range(2,n):\n",
    "    fibr(i)\n",
    "    vals.append(count)\n",
    "    count=0\n",
    "\n",
    "x=[i for i in range(n)]\n",
    "golden_powers=[(phi)**i for i in range(n)]\n",
    "plt.plot(x,vals,golden_powers)\n",
    "plt.legend(['fib',r'$\\phi^n$'])\n",
    "plt.show()"
   ]
  },
  {
   "cell_type": "markdown",
   "metadata": {},
   "source": [
    "### Infinite recursion\n",
    "Typically there are two situations that lead to infinite recursion\n",
    "1. No base case\n",
    "1. Base case is never reached"
   ]
  },
  {
   "cell_type": "code",
   "execution_count": null,
   "metadata": {},
   "outputs": [],
   "source": [
    "# missing base case is easy to spot\n",
    "def fact(n):\n",
    "    print(n)\n",
    "    if n==0:\n",
    "        return 1\n",
    "    return n*fact(n-1)\n",
    "n=5\n",
    "fact(n)"
   ]
  },
  {
   "cell_type": "markdown",
   "id": "7cd1a25a",
   "metadata": {},
   "source": [
    "### Euclid's algorithm for gcd\n",
    "\n",
    "1. Given two integers $n>m$  we can write $n=km+r$. An integer $g$ is a common divisor for $n$ and $m$ iff $g$ is a \n",
    "common divisor for $m$ and $r$\n",
    "1. Therefore to find gcd of $n,m$ it is sufficient to find gcd for $m,r$. Note that $m>r$.\n",
    "1. The two observations above leads to a recursive algorithm to compute gcd(n,m)"
   ]
  },
  {
   "cell_type": "code",
   "execution_count": null,
   "id": "80d0b59b",
   "metadata": {},
   "outputs": [],
   "source": [
    "import math\n",
    "\n",
    "def gcd(a,b,count):\n",
    "    if b==0:\n",
    "        return a,count\n",
    "    return gcd(b,a%b,count+1)\n",
    "phi=1.618\n",
    "psi=1-phi\n",
    "a,b=2,1\n",
    "a,b=3,2\n",
    "a,b=5,3\n",
    "a,b=21,13\n",
    "#a,b=144,89\n",
    "#a,b=2584,1597 #F_19,F_18\n",
    "#a,b=2178309,1346269 # F_33, F_32\n",
    "\n",
    "# a,b=7778742049,4807526976 #F_50,F_49\n",
    "a,b=218922995834555169026,135301852344706746049 # F_100,F_99\n",
    "# a,b=a+b,a  # F_101,F_100\n",
    "# a,b=a+b,a  # F_102,F_101\n",
    "# a,b=a+b,a  # F_103,F_102\n",
    "r=gcd(a,b,0)\n",
    "print(r)\n",
    "est=math.log(a+b,phi)+math.log(math.sqrt(5),phi)-3\n",
    "print(est)\n",
    "a+=13\n",
    "b+=14\n",
    "r=gcd(a,b,0)\n",
    "print(r)\n",
    "\n"
   ]
  },
  {
   "cell_type": "markdown",
   "id": "ce9572bf",
   "metadata": {},
   "source": [
    "### Complexity\n",
    "- Let $n$ be the number of steps needed to compute gcd(a,b) using Euclid's algorithm.\n",
    "- We prove that the _smallest_ values of $a$ and $b$ that require gcd(a,b) to take $n$ steps are $a\\ge f_{n+2}$ and $b\\ge f_{n+1}$\n",
    "- Base case: gcd(a,b) is computed in one step, i.e. a%b=0. Then a=2, b=1. On the other hand $f_{3}=2$ and $f_2=1$ thus $a\\ge f_{3}$ and $b\\ge f_{2}$.\n",
    "- Hypothesis: assume that if gcd(a,b) is computed in $n-1$ steps then $a\\ge f_{n+2}$ and $b\\ge f_{n+1}$.\n",
    "- Induction step: suppose that gcd(a,b) was computed in $n$ steps. But, gcd(a,b)=gcd(b,a%b). Let $a=kb+r$ then \n",
    "$$a\\ge b+r\\ge f_{n+1}+f_{n}\\ge f_{n+2}$$\n",
    "- For large $n$, $f_n\\approx \\phi^n/\\sqrt{5}$ where $\\phi=\\frac{1+\\sqrt{5}}{2}\\approx 1.618$ is the golden ratio.\n",
    "- Therefore, $a+b\\ge f_{n+3}\\approx \\phi^{n+3}/\\sqrt{5}\\Rightarrow n\\le\\log_\\phi(a+b)-3+\\log_\\phi(\\sqrt{5})$ whence $n=O(\\log(a+b))$"
   ]
  }
 ],
 "metadata": {
  "interpreter": {
   "hash": "63fd5069d213b44bf678585dea6b12cceca9941eaf7f819626cde1f2670de90d"
  },
  "kernelspec": {
   "display_name": "Python 3.9.6 64-bit",
   "name": "python3"
  },
  "language_info": {
   "codemirror_mode": {
    "name": "ipython",
    "version": 3
   },
   "file_extension": ".py",
   "mimetype": "text/x-python",
   "name": "python",
   "nbconvert_exporter": "python",
   "pygments_lexer": "ipython3",
   "version": "3.9.6"
  }
 },
 "nbformat": 4,
 "nbformat_minor": 5
}
