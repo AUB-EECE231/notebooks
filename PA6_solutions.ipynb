{
 "cells": [
  {
   "cell_type": "markdown",
   "metadata": {},
   "source": [
    "## Problem 1"
   ]
  },
  {
   "cell_type": "markdown",
   "metadata": {},
   "source": [
    "### Part a"
   ]
  },
  {
   "cell_type": "code",
   "execution_count": 1,
   "metadata": {},
   "outputs": [
    {
     "name": "stdout",
     "output_type": "stream",
     "text": [
      "32 , 32\n",
      "32.76800000000001 , 32.76800000000001\n",
      "0.09765624999999999 , 0.09765624999999999\n",
      "1 , 1\n"
     ]
    }
   ],
   "source": [
    "def recPowerSlow(x,n):\n",
    "    if n==0:\n",
    "        return 1\n",
    "    if n<0:\n",
    "        return 1/recPowerSlow(x,-n)\n",
    "    return x*recPowerSlow(x,n-1)\n",
    "\n",
    "print(recPowerSlow(2,5),',', 2**5)\n",
    "print(recPowerSlow(3.2,3),',',  3.2**3)\n",
    "print(recPowerSlow(3.2,-2),',', 3.2**(-2))\n",
    "print(recPowerSlow(7,0),',', 7**0)\n"
   ]
  },
  {
   "cell_type": "markdown",
   "metadata": {},
   "source": [
    "### Part b"
   ]
  },
  {
   "cell_type": "code",
   "execution_count": 2,
   "metadata": {},
   "outputs": [
    {
     "name": "stdout",
     "output_type": "stream",
     "text": [
      "32 , 32\n",
      "32.76800000000001 , 32.76800000000001\n",
      "0.09765624999999999 , 0.09765624999999999\n",
      "1 , 1\n",
      "5.120000000000006e-07 , 5.120000000000002e-07\n"
     ]
    }
   ],
   "source": [
    "def recPowerFast(x,n):\n",
    "    if n==0:\n",
    "        return 1\n",
    "    if n<0:\n",
    "        return 1/recPowerSlow(x,-n)\n",
    "    temp = recPowerFast(x,n//2)\n",
    "    if n%2==0: \n",
    "        return temp*temp \n",
    "    return x*temp*temp\n",
    "\n",
    "print(recPowerFast(2,5),',', 2**5)\n",
    "print(recPowerFast(3.2,3),',',  3.2**3)\n",
    "print(recPowerFast(3.2,-2),',', 3.2**(-2))\n",
    "print(recPowerFast(7,0),',', 7**0)\n",
    "print(recPowerFast(0.2,9),',', 0.2**9)  # ignore the slight difference (float precision error)\n"
   ]
  },
  {
   "cell_type": "code",
   "execution_count": null,
   "metadata": {},
   "outputs": [],
   "source": [
    "# T(n) = theta(1)           if n=0\n",
    "#      = T(n/2) + theta(1)  otherwise"
   ]
  },
  {
   "cell_type": "markdown",
   "metadata": {},
   "source": [
    "## Problem 2"
   ]
  },
  {
   "cell_type": "markdown",
   "metadata": {},
   "source": [
    "### Part a"
   ]
  },
  {
   "cell_type": "code",
   "execution_count": 3,
   "metadata": {},
   "outputs": [
    {
     "name": "stdout",
     "output_type": "stream",
     "text": [
      "4\n",
      "3\n",
      "0\n",
      "0\n"
     ]
    }
   ],
   "source": [
    "def recursiveModeFinder(L,low, high):\n",
    "    if low==high:\n",
    "        return low\n",
    "    mid = (low+high)//2\n",
    "    if L[mid]<L[mid+1]:\n",
    "        return recursiveModeFinder(L,mid+1,high)\n",
    "    #else:\n",
    "    return recursiveModeFinder(L,low, mid)\n",
    "\n",
    "L = [1,2,4,7,11,10,8,4,-9]\n",
    "print(recursiveModeFinder(L,0,len(L)-1))\n",
    "L = [1,2,5,20]\n",
    "print(recursiveModeFinder(L,0,len(L)-1))\n",
    "L = [50,2,1]\n",
    "print(recursiveModeFinder(L,0,len(L)-1))\n",
    "L = [1]\n",
    "print(recursiveModeFinder(L,0,len(L)-1))"
   ]
  },
  {
   "cell_type": "markdown",
   "metadata": {},
   "source": [
    "### Part b"
   ]
  },
  {
   "cell_type": "code",
   "execution_count": 4,
   "metadata": {},
   "outputs": [
    {
     "name": "stdout",
     "output_type": "stream",
     "text": [
      "4\n",
      "3\n",
      "0\n",
      "0\n"
     ]
    }
   ],
   "source": [
    "def fastIterativeModeFinder(L):\n",
    "    low = 0\n",
    "    high = len(L)-1\n",
    "    \n",
    "    while low<high:\n",
    "        mid = (low+high)//2\n",
    "        if L[mid]<L[mid+1]:\n",
    "            low = mid+1\n",
    "        else:\n",
    "            high = mid\n",
    "            \n",
    "    return low\n",
    "\n",
    "L = [1,2,4,7,11,10,8,4,-9]\n",
    "print(recursiveModeFinder(L,0,len(L)-1))\n",
    "L = [1,2,5,20]\n",
    "print(recursiveModeFinder(L,0,len(L)-1))\n",
    "L = [50,2,1]\n",
    "print(recursiveModeFinder(L,0,len(L)-1))\n",
    "L = [1]\n",
    "print(recursiveModeFinder(L,0,len(L)-1))"
   ]
  },
  {
   "cell_type": "markdown",
   "metadata": {},
   "source": [
    "## Problem 3"
   ]
  },
  {
   "cell_type": "markdown",
   "metadata": {},
   "source": [
    "### Part a"
   ]
  },
  {
   "cell_type": "code",
   "execution_count": 5,
   "metadata": {},
   "outputs": [
    {
     "name": "stdout",
     "output_type": "stream",
     "text": [
      "['000']\n",
      "['001', '010', '100']\n",
      "['011', '101', '110']\n",
      "['111']\n",
      "['0011', '0101', '0110', '1001', '1010', '1100']\n",
      "['000001', '000010', '000100', '001000', '010000', '100000']\n"
     ]
    }
   ],
   "source": [
    "def genBinStr2(n,w):\n",
    "    if n<0 or w<0:\n",
    "        return []\n",
    "\n",
    "    if n==1 and w==1:\n",
    "        return ['1']\n",
    "    if n==1 and w==0:\n",
    "        return ['0']\n",
    "        \n",
    "    L1 = genBinStr2(n - 1,w)\n",
    "    L2 = genBinStr2(n - 1,w - 1)\n",
    "    \n",
    "    L1 = ['0' + L1[i] for i in range(len(L1))]\n",
    "    L2 = ['1' + L2[i] for i in range(len(L2))]\n",
    "    return L1+L2\n",
    "\n",
    "print(genBinStr2(3,0))\n",
    "print(genBinStr2(3,1))\n",
    "print(genBinStr2(3,2))\n",
    "print(genBinStr2(3,3))\n",
    "print(genBinStr2(4,2))\n",
    "print(genBinStr2(6,1))\n"
   ]
  },
  {
   "cell_type": "markdown",
   "metadata": {},
   "source": [
    "### Part b"
   ]
  },
  {
   "cell_type": "code",
   "execution_count": 10,
   "metadata": {},
   "outputs": [
    {
     "name": "stdout",
     "output_type": "stream",
     "text": [
      "['000']\n",
      "['001', '010', '100']\n",
      "['011', '101', '110']\n",
      "['111']\n",
      "['0011', '0101', '0110', '1001', '1010', '1100']\n",
      "['000001', '000010', '000100', '001000', '010000', '100000']\n"
     ]
    }
   ],
   "source": [
    "def genBinStr2_memoized(n,w):\n",
    "    def helper(n,w,d):\n",
    "        if (n,w) in d:\n",
    "            return d[(n,w)]\n",
    "        \n",
    "        if n<0 or w<0:\n",
    "            d[(n,w)] = []\n",
    "    \n",
    "        elif n==1 and w==1:\n",
    "            d[(n,w)] = ['1']\n",
    "        \n",
    "        elif n==1 and w==0:\n",
    "            d[(n,w)] = ['0']\n",
    "        \n",
    "        else:\n",
    "            L1 = helper(n - 1,w,d)\n",
    "            L2 = helper(n - 1,w - 1,d)\n",
    "        \n",
    "            L1 = ['0' + L1[i] for i in range(len(L1))]\n",
    "            L2 = ['1' + L2[i] for i in range(len(L2))]\n",
    "            \n",
    "            d[(n,w)] = L1+L2\n",
    "            \n",
    "        return d[(n,w)]\n",
    "    \n",
    "    d = {}\n",
    "    return helper(n,w,d)\n",
    "        \n",
    "print(genBinStr2_memoized(3,0))\n",
    "print(genBinStr2_memoized(3,1))\n",
    "print(genBinStr2_memoized(3,2))\n",
    "print(genBinStr2_memoized(3,3))\n",
    "print(genBinStr2_memoized(4,2))\n",
    "print(genBinStr2_memoized(6,1)) \n",
    "    "
   ]
  },
  {
   "cell_type": "code",
   "execution_count": null,
   "metadata": {},
   "outputs": [],
   "source": []
  }
 ],
 "metadata": {
  "kernelspec": {
   "display_name": "Python 3",
   "language": "python",
   "name": "python3"
  },
  "language_info": {
   "codemirror_mode": {
    "name": "ipython",
    "version": 3
   },
   "file_extension": ".py",
   "mimetype": "text/x-python",
   "name": "python",
   "nbconvert_exporter": "python",
   "pygments_lexer": "ipython3",
   "version": "3.8.5"
  }
 },
 "nbformat": 4,
 "nbformat_minor": 4
}
