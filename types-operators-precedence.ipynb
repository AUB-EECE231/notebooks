{
 "cells": [
  {
   "cell_type": "markdown",
   "id": "5550532f",
   "metadata": {
    "slideshow": {
     "slide_type": "slide"
    }
   },
   "source": [
    "## Jupyter Notebook (this document)\n",
    "\n",
    "1. Contains multiple  **cells**\n",
    "1. There are **two types** of cells\n",
    "    1. Markdown: in which one can use the markup language markdown to write text\n",
    "    1. Python: this is where you write Python code\n",
    "1. You can run each cells individually by pressing the arrow on the left of each cell\n",
    "1. Or typing shift-enter\n",
    "1. You can also run all or a subset of the cells (see the menu)"
   ]
  },
  {
   "cell_type": "code",
   "execution_count": null,
   "id": "8e0e41ea",
   "metadata": {
    "slideshow": {
     "slide_type": "skip"
    }
   },
   "outputs": [],
   "source": [
    "#Note. Add the code below to display the output of all statements not just the last one\n",
    "\n",
    "#from IPython.core.interactiveshell import InteractiveShell\n",
    "#InteractiveShell.ast_node_interactivity = \"all\""
   ]
  },
  {
   "cell_type": "markdown",
   "id": "58c19de2",
   "metadata": {
    "slideshow": {
     "slide_type": "slide"
    }
   },
   "source": [
    "### Literal Values and Types\n",
    "\n",
    "In Python there are different **types** of objects. In this lecture we will discuss **basic** types\n",
    "1. Numbers: integers and reals\n",
    "1. Strings: piece of text\n",
    "1. Booleans: True or False"
   ]
  },
  {
   "cell_type": "code",
   "execution_count": 2,
   "id": "591b724e",
   "metadata": {},
   "outputs": [
    {
     "data": {
      "text/plain": [
       "'this is a literal string'"
      ]
     },
     "execution_count": 2,
     "metadata": {},
     "output_type": "execute_result"
    }
   ],
   "source": [
    "\"this is a literal string\""
   ]
  },
  {
   "cell_type": "code",
   "execution_count": 1,
   "id": "8fb96610",
   "metadata": {},
   "outputs": [
    {
     "data": {
      "text/plain": [
       "True"
      ]
     },
     "execution_count": 1,
     "metadata": {},
     "output_type": "execute_result"
    }
   ],
   "source": [
    "# you start a comment with '#'. All the line after '#' is ignored by the interpreter\n",
    "\n",
    "\n",
    "2 # literal integer "
   ]
  },
  {
   "cell_type": "code",
   "execution_count": 3,
   "id": "2ea1f011",
   "metadata": {},
   "outputs": [
    {
     "data": {
      "text/plain": [
       "3.14"
      ]
     },
     "execution_count": 3,
     "metadata": {},
     "output_type": "execute_result"
    }
   ],
   "source": [
    "3.14 # literal float (real)"
   ]
  },
  {
   "cell_type": "code",
   "execution_count": 4,
   "id": "5ff7ba7f",
   "metadata": {},
   "outputs": [
    {
     "data": {
      "text/plain": [
       "True"
      ]
     },
     "execution_count": 4,
     "metadata": {},
     "output_type": "execute_result"
    }
   ],
   "source": [
    "True # literal boolean"
   ]
  },
  {
   "cell_type": "markdown",
   "id": "7b487f99",
   "metadata": {},
   "source": [
    "One can display the **type** of an object by using the _type_ builtin (predefined) **function**"
   ]
  },
  {
   "cell_type": "markdown",
   "id": "4cbf0d9b",
   "metadata": {},
   "source": [
    "<u> Integer</u>"
   ]
  },
  {
   "cell_type": "code",
   "execution_count": null,
   "id": "7a59c465",
   "metadata": {},
   "outputs": [],
   "source": [
    "type(2)"
   ]
  },
  {
   "cell_type": "markdown",
   "id": "65c653fc",
   "metadata": {},
   "source": [
    "<u>String</u>"
   ]
  },
  {
   "cell_type": "code",
   "execution_count": null,
   "id": "fdfe5e45",
   "metadata": {},
   "outputs": [],
   "source": [
    "type(\"this is a literal string\")"
   ]
  },
  {
   "cell_type": "markdown",
   "id": "30c33529",
   "metadata": {},
   "source": [
    "<u>Floating point</u>"
   ]
  },
  {
   "cell_type": "code",
   "execution_count": null,
   "id": "effd33d9",
   "metadata": {},
   "outputs": [],
   "source": [
    "type(3.14)"
   ]
  },
  {
   "cell_type": "markdown",
   "id": "199837af",
   "metadata": {},
   "source": [
    "<u>Boolean</u>"
   ]
  },
  {
   "cell_type": "code",
   "execution_count": 17,
   "id": "80393550",
   "metadata": {},
   "outputs": [
    {
     "data": {
      "text/plain": [
       "bool"
      ]
     },
     "execution_count": 17,
     "metadata": {},
     "output_type": "execute_result"
    }
   ],
   "source": [
    "type(True)"
   ]
  },
  {
   "cell_type": "markdown",
   "id": "f4932458",
   "metadata": {},
   "source": [
    "By default, **Only** the output of the last line is shown. If you want to change that behavior check the comments at the beginning of this notebook. "
   ]
  },
  {
   "cell_type": "code",
   "execution_count": 5,
   "id": "687f15a5",
   "metadata": {},
   "outputs": [
    {
     "data": {
      "text/plain": [
       "bool"
      ]
     },
     "execution_count": 5,
     "metadata": {},
     "output_type": "execute_result"
    }
   ],
   "source": [
    "type(2)\n",
    "type(\"this is a literal string\")\n",
    "type(3.14)\n",
    "type(True)"
   ]
  },
  {
   "cell_type": "markdown",
   "id": "6d55c40f",
   "metadata": {},
   "source": [
    "Or we can use the **print** builtin (predefined) function to display values"
   ]
  },
  {
   "cell_type": "code",
   "execution_count": 6,
   "id": "a1f4ad79",
   "metadata": {},
   "outputs": [
    {
     "name": "stdout",
     "output_type": "stream",
     "text": [
      "2\n",
      "some string\n",
      "<class 'str'>\n",
      "<class 'float'>\n",
      "<class 'bool'>\n"
     ]
    }
   ],
   "source": [
    "print(2)\n",
    "print('some string')\n",
    "print(type(\"this is a literal string\"))\n",
    "print(type(3.14))\n",
    "print(type(True))"
   ]
  },
  {
   "cell_type": "markdown",
   "id": "24e90b8f",
   "metadata": {},
   "source": [
    "## Variables\n",
    "\n",
    "The values we have seen so far are literals (constants) and we cannot **change** them.\n",
    "A variable is an identifier (string) that refers to a value stored in memory. The value could be a number, a string or any other object. And that value can be **changed**.\n",
    "A identifier could be any string in the set a-zA-Z0-9 and _ (**underscore**). It **CANNOT** start with a digit."
   ]
  },
  {
   "cell_type": "code",
   "execution_count": 64,
   "id": "4079813d",
   "metadata": {},
   "outputs": [
    {
     "data": {
      "text/plain": [
       "int"
      ]
     },
     "execution_count": 64,
     "metadata": {},
     "output_type": "execute_result"
    }
   ],
   "source": [
    "x=2    # store the value 2 in memory and give that location the label 'x'\n",
    "type(x)"
   ]
  },
  {
   "cell_type": "markdown",
   "id": "78a777a0",
   "metadata": {},
   "source": [
    "Python is dynamically typed. A variable's type is automatically determined depending on the value it is assigned. Also, when the value changes the type can change."
   ]
  },
  {
   "cell_type": "code",
   "execution_count": null,
   "id": "745494cd",
   "metadata": {},
   "outputs": [],
   "source": [
    "x='some string' # we can use double or single quotes for strings\n",
    "type(x)"
   ]
  },
  {
   "cell_type": "markdown",
   "id": "e3d95432",
   "metadata": {},
   "source": [
    "The name of a variable can contain any character from the set a-z, the set A-Z, the set 0-9, and '_' (underscore).\n",
    "But it **cannot** start with a digit."
   ]
  },
  {
   "cell_type": "code",
   "execution_count": null,
   "id": "674cfc43",
   "metadata": {},
   "outputs": [],
   "source": [
    "thisIsValidName=17\n",
    "this_is_a_valid_name=29"
   ]
  },
  {
   "cell_type": "markdown",
   "id": "cc6135f3",
   "metadata": {},
   "source": [
    "A variable name **cannot** start with a digit"
   ]
  },
  {
   "cell_type": "code",
   "execution_count": null,
   "id": "1d9f49be",
   "metadata": {},
   "outputs": [],
   "source": [
    "9Notvalid=23 "
   ]
  },
  {
   "cell_type": "markdown",
   "id": "baa21f2a",
   "metadata": {},
   "source": [
    "but it can **contain** digits"
   ]
  },
  {
   "cell_type": "code",
   "execution_count": null,
   "id": "0596fc80",
   "metadata": {},
   "outputs": [],
   "source": [
    "Valid8=12"
   ]
  },
  {
   "cell_type": "markdown",
   "id": "a0699bdf",
   "metadata": {},
   "source": [
    "The **print** can take multiple parameters (inputs) separated by **commas**."
   ]
  },
  {
   "cell_type": "code",
   "execution_count": null,
   "id": "56b4e104",
   "metadata": {},
   "outputs": [],
   "source": [
    "x=3.4\n",
    "y=17\n",
    "print(\"y has value\",y,\"and type\",type(y))\n",
    "print(\"x has value\",x,\"and type\",type(x))\n"
   ]
  },
  {
   "cell_type": "code",
   "execution_count": null,
   "id": "c43ead1e",
   "metadata": {},
   "outputs": [],
   "source": [
    "x=1+2j\n",
    "type(x)"
   ]
  },
  {
   "cell_type": "markdown",
   "id": "fa3b245e",
   "metadata": {},
   "source": [
    "A variable **MUST be defined** (assigned a value) before use"
   ]
  },
  {
   "cell_type": "code",
   "execution_count": null,
   "id": "2ff9c876",
   "metadata": {},
   "outputs": [],
   "source": [
    "x=y+1"
   ]
  },
  {
   "cell_type": "markdown",
   "id": "7bd14f44",
   "metadata": {},
   "source": [
    "#### Shortcut for assigning values to multiple variables"
   ]
  },
  {
   "cell_type": "code",
   "execution_count": null,
   "id": "77c33e43",
   "metadata": {},
   "outputs": [],
   "source": [
    "a,b,c=3.4,True,'string'\n",
    "print(type(a),type(b),type(c))"
   ]
  },
  {
   "cell_type": "markdown",
   "id": "7a8c3619",
   "metadata": {},
   "source": [
    "## Operators\n",
    "\n",
    "There are different operators for different types. Even if the same symbol is used for different types, the meaning usually is different"
   ]
  },
  {
   "cell_type": "markdown",
   "id": "bba9ce69",
   "metadata": {},
   "source": [
    "### Arithmetic Operators"
   ]
  },
  {
   "cell_type": "markdown",
   "id": "58f263a1",
   "metadata": {},
   "source": [
    "##### Addition"
   ]
  },
  {
   "cell_type": "code",
   "execution_count": null,
   "id": "ffbe7a94",
   "metadata": {},
   "outputs": [],
   "source": [
    "x,y=7,8\n",
    "x+y"
   ]
  },
  {
   "cell_type": "markdown",
   "id": "b389ec61",
   "metadata": {},
   "source": [
    "##### Multiplication"
   ]
  },
  {
   "cell_type": "code",
   "execution_count": null,
   "id": "dc748966",
   "metadata": {},
   "outputs": [],
   "source": [
    "x*y"
   ]
  },
  {
   "cell_type": "markdown",
   "id": "7a10ca49",
   "metadata": {},
   "source": [
    "##### Subtraction"
   ]
  },
  {
   "cell_type": "code",
   "execution_count": null,
   "id": "9960ea17",
   "metadata": {},
   "outputs": [],
   "source": [
    "x-y"
   ]
  },
  {
   "cell_type": "markdown",
   "id": "f41b7b6e",
   "metadata": {},
   "source": [
    "##### unitary minus"
   ]
  },
  {
   "cell_type": "code",
   "execution_count": null,
   "id": "bfd32f79",
   "metadata": {},
   "outputs": [],
   "source": [
    "-x*y"
   ]
  },
  {
   "cell_type": "markdown",
   "id": "60e0c25b",
   "metadata": {},
   "source": [
    "##### Minus sign is considered subtraction only if to its left and right are numbers"
   ]
  },
  {
   "cell_type": "code",
   "execution_count": null,
   "id": "194ffed4",
   "metadata": {},
   "outputs": [],
   "source": [
    "x,y=7,8\n",
    "print(x-y)\n",
    "print(x*-y)\n",
    "print(-x*---y)\n",
    "print(x--y)"
   ]
  },
  {
   "cell_type": "markdown",
   "id": "3f20691e",
   "metadata": {},
   "source": [
    "##### Division always produces float"
   ]
  },
  {
   "cell_type": "code",
   "execution_count": null,
   "id": "52cb5036",
   "metadata": {},
   "outputs": [],
   "source": [
    "x,y=6,3\n",
    "print(type(x),type(y))\n",
    "z=x/y\n",
    "type(z)"
   ]
  },
  {
   "cell_type": "markdown",
   "id": "22932a52",
   "metadata": {},
   "source": [
    "#### Integer division"
   ]
  },
  {
   "cell_type": "code",
   "execution_count": null,
   "id": "55da6114",
   "metadata": {},
   "outputs": [],
   "source": [
    "x,y=6,3\n",
    "z=x//y\n",
    "type(z)"
   ]
  },
  {
   "cell_type": "markdown",
   "id": "0fc6b9f1",
   "metadata": {},
   "source": [
    "##### Exponentiation"
   ]
  },
  {
   "cell_type": "code",
   "execution_count": 56,
   "id": "aa6551dd",
   "metadata": {},
   "outputs": [
    {
     "name": "stdout",
     "output_type": "stream",
     "text": [
      "x= 8 y= 9.006001\n"
     ]
    }
   ],
   "source": [
    "x=2\n",
    "y=3.001\n",
    "print(\"x=\",x**3,\"y=\",y**2)"
   ]
  },
  {
   "cell_type": "markdown",
   "id": "e4683b2b",
   "metadata": {},
   "source": [
    "##### Exponent can be a float"
   ]
  },
  {
   "cell_type": "code",
   "execution_count": 55,
   "id": "d389b36a",
   "metadata": {},
   "outputs": [
    {
     "name": "stdout",
     "output_type": "stream",
     "text": [
      "square root of 2 is  1.4142135623730951\n"
     ]
    }
   ],
   "source": [
    "x=2**0.5\n",
    "print(\"square root of 2 is \",x)"
   ]
  },
  {
   "cell_type": "markdown",
   "id": "0e1a3dba",
   "metadata": {},
   "source": [
    "##### Modulus\n",
    "\n",
    "The modulus operator computes the remainder of the division. An example is to determine if a number is even or odd"
   ]
  },
  {
   "cell_type": "code",
   "execution_count": null,
   "id": "f863ebfb",
   "metadata": {},
   "outputs": [],
   "source": [
    "x,y,z=7,8,14\n",
    "print(\"x is odd because x%2=\",x%2,\"while y is even because y%2=\",y%2)\n",
    "print(\"remainder of the division of z by 5 is\",z%5)"
   ]
  },
  {
   "cell_type": "markdown",
   "id": "20debd0d",
   "metadata": {},
   "source": [
    "### Logical Operators"
   ]
  },
  {
   "cell_type": "markdown",
   "id": "9548f6ad",
   "metadata": {},
   "source": [
    "##### Negations"
   ]
  },
  {
   "cell_type": "code",
   "execution_count": null,
   "id": "85e0c8b3",
   "metadata": {},
   "outputs": [],
   "source": [
    "x=True\n",
    "not x"
   ]
  },
  {
   "cell_type": "markdown",
   "id": "8847436c",
   "metadata": {},
   "source": [
    "remember Python is case sensitive"
   ]
  },
  {
   "cell_type": "code",
   "execution_count": null,
   "id": "1d5146ab",
   "metadata": {},
   "outputs": [],
   "source": [
    "x=true"
   ]
  },
  {
   "cell_type": "markdown",
   "id": "f3c89575",
   "metadata": {},
   "source": [
    "##### Logical \"and\", logical \"or\""
   ]
  },
  {
   "cell_type": "code",
   "execution_count": null,
   "id": "4fa3f525",
   "metadata": {},
   "outputs": [],
   "source": [
    "x,y=True,False\n",
    "print(x and y,x or y)"
   ]
  },
  {
   "cell_type": "markdown",
   "id": "5caabf75",
   "metadata": {},
   "source": [
    "### Relational Operators"
   ]
  },
  {
   "cell_type": "code",
   "execution_count": null,
   "id": "006c8596",
   "metadata": {},
   "outputs": [],
   "source": [
    "x,y=4,8\n",
    "# test equality\n",
    "print(x==y)\n",
    "# x greater or equal to y\n",
    "print(x>=y)\n",
    "# x less than y\n",
    "print(x<y)\n",
    "# x not equal to y\n",
    "print(x!=y)"
   ]
  },
  {
   "cell_type": "markdown",
   "id": "99c484df",
   "metadata": {},
   "source": [
    "### String operators"
   ]
  },
  {
   "cell_type": "markdown",
   "id": "cdaf247e",
   "metadata": {},
   "source": [
    "##### Concatenations"
   ]
  },
  {
   "cell_type": "code",
   "execution_count": null,
   "id": "1751e4e3",
   "metadata": {},
   "outputs": [],
   "source": [
    "left='hello '\n",
    "right='there'\n",
    "left+right"
   ]
  },
  {
   "cell_type": "markdown",
   "id": "40ed3a81",
   "metadata": {},
   "source": [
    "Note that we used the symbol '+' for operations on two different types. For numbers it is the usual addition operations. For strings it denotes the concatenation operator"
   ]
  },
  {
   "cell_type": "markdown",
   "id": "29199f91",
   "metadata": {},
   "source": [
    "### multiplication is not defined for strings"
   ]
  },
  {
   "cell_type": "code",
   "execution_count": null,
   "id": "6da07440",
   "metadata": {},
   "outputs": [],
   "source": [
    "'first'*'second'"
   ]
  },
  {
   "cell_type": "markdown",
   "id": "1268293e",
   "metadata": {},
   "source": [
    "##### Repetition\n",
    "The * operator denotes repetition for strings"
   ]
  },
  {
   "cell_type": "code",
   "execution_count": null,
   "id": "8178e499",
   "metadata": {},
   "outputs": [],
   "source": [
    "print('a'*3,4*'bab')"
   ]
  },
  {
   "cell_type": "markdown",
   "id": "b9682472",
   "metadata": {},
   "source": [
    "##### set membership"
   ]
  },
  {
   "cell_type": "code",
   "execution_count": null,
   "id": "3f774946",
   "metadata": {},
   "outputs": [],
   "source": [
    "x='needle in hay stack'\n",
    "y='hay'\n",
    "z='hat'\n",
    "print(y in x)\n",
    "print(z not in x)"
   ]
  },
  {
   "cell_type": "markdown",
   "id": "98ae5248",
   "metadata": {},
   "source": [
    "## Type Casting\n",
    "type casting is used to change the type of a variable"
   ]
  },
  {
   "cell_type": "markdown",
   "id": "be5612b5",
   "metadata": {},
   "source": [
    "##### Convert a number to string"
   ]
  },
  {
   "cell_type": "code",
   "execution_count": null,
   "id": "8085cdd2",
   "metadata": {},
   "outputs": [],
   "source": [
    "x=13.4\n",
    "y=65\n",
    "print(x+y)\n",
    "s=str(x)+str(y)\n",
    "print(s)"
   ]
  },
  {
   "cell_type": "markdown",
   "id": "86022dd1",
   "metadata": {},
   "source": [
    "##### Convert a string to int"
   ]
  },
  {
   "cell_type": "code",
   "execution_count": null,
   "id": "81c6ad28",
   "metadata": {},
   "outputs": [],
   "source": [
    "y=int('12')+3\n",
    "print(y)"
   ]
  },
  {
   "cell_type": "markdown",
   "id": "86afbf61",
   "metadata": {},
   "source": [
    "##### Convert string to float"
   ]
  },
  {
   "cell_type": "code",
   "execution_count": null,
   "id": "2c4b8cba",
   "metadata": {},
   "outputs": [],
   "source": [
    "z=float('3.33e-2')\n",
    "print(z)"
   ]
  },
  {
   "cell_type": "markdown",
   "id": "e37b9e58",
   "metadata": {},
   "source": [
    "##### Implicit Casting\n",
    "Sometimes the Python interpreter implicitly convert one type to another (when feasible)"
   ]
  },
  {
   "cell_type": "code",
   "execution_count": null,
   "id": "95902b6b",
   "metadata": {},
   "outputs": [],
   "source": [
    "x=2\n",
    "print(type(x))\n",
    "x=x+1.1           #Harmless\n",
    "print(type(x))"
   ]
  },
  {
   "cell_type": "code",
   "execution_count": null,
   "id": "a4f75d4d",
   "metadata": {},
   "outputs": [],
   "source": [
    "x=True+4       #not recommended\n",
    "print(x)\n",
    "print(type(x))"
   ]
  },
  {
   "cell_type": "code",
   "execution_count": null,
   "id": "4cf0a94d",
   "metadata": {},
   "outputs": [],
   "source": [
    "x=True+1.1\n",
    "print(type(x))"
   ]
  },
  {
   "cell_type": "markdown",
   "id": "e3b04547",
   "metadata": {},
   "source": [
    "#### Reading user input\n",
    "\n",
    "1. use the 'input' function to prompt the user to enter an input.\n",
    "1. If we are expecting a number we must cast it to int or float since the return value of the _input_ function is a string."
   ]
  },
  {
   "cell_type": "code",
   "execution_count": 57,
   "id": "e9fbbfe4",
   "metadata": {},
   "outputs": [
    {
     "name": "stdout",
     "output_type": "stream",
     "text": [
      "Enter an integer 12\n",
      "The user input is  12 its type is  <class 'str'>\n",
      "Converted the input to  <class 'int'>\n"
     ]
    }
   ],
   "source": [
    "user_input=input('Enter an integer ')\n",
    "print(\"The user input is \",user_input,\"its type is \",type(user_input))\n",
    "user_input_int=int(user_input)\n",
    "print(\"Converted the input to \",type(user_input_int))"
   ]
  },
  {
   "cell_type": "markdown",
   "id": "0622bd3c",
   "metadata": {},
   "source": [
    "### Example algorithm: Finding the square root\n",
    "\n",
    "Try the code below to find the square root of 1000 with an initial guess of 15"
   ]
  },
  {
   "cell_type": "code",
   "execution_count": 32,
   "id": "0c216e60",
   "metadata": {},
   "outputs": [
    {
     "name": "stdout",
     "output_type": "stream",
     "text": [
      "enter number 1000\n",
      "enter your guess for square root 15\n",
      "difference -775.0\n",
      "new guess 40.833333333333336 difference= 667.3611111111113 close enough? False\n",
      "new guess 32.66156462585034 difference= 66.77780380859826 close enough? False\n",
      "new guess 31.639295720891845 difference= 1.045033714044962 close enough? False\n",
      "new guess 31.622780914063277 difference= 0.0002727388447283374 close enough? False\n",
      "new guess 31.622776601684087 difference= 1.864464138634503e-11 close enough? True\n"
     ]
    }
   ],
   "source": [
    "x=float(input('enter number '))\n",
    "g=float(input('enter your guess for square root '))\n",
    "epsilon=0.0001\n",
    "r=g*g-x\n",
    "print(\"difference\",r)\n",
    "g=(g+x/g)/2\n",
    "print('new guess',g,'difference=',g*g-x,\"close enough?\",g*g-x<epsilon)\n",
    "g=(g+x/g)/2\n",
    "print('new guess',g,'difference=',g*g-x,\"close enough?\",g*g-x<epsilon)\n",
    "g=(g+x/g)/2\n",
    "print('new guess',g,'difference=',g*g-x,\"close enough?\",g*g-x<epsilon)\n",
    "g=(g+x/g)/2\n",
    "print('new guess',g,'difference=',g*g-x,\"close enough?\",g*g-x<epsilon)\n",
    "g=(g+x/g)/2\n",
    "print('new guess',g,'difference=',g*g-x,\"close enough?\",g*g-x<epsilon)\n"
   ]
  },
  {
   "cell_type": "markdown",
   "id": "ccfa7835",
   "metadata": {},
   "source": [
    "### Discussion of the algorithm\n",
    "\n",
    "In the above example we repeated (iterated) the formula g=(g+x/g)/2. In fact we manually repeated the code 5 times.\n",
    "Obviously this is not an efficient way to do it\n",
    "1. What if the algorithm needs 1000's of repetitions? We must have a way to 'automatically' repeat a piece of code\n",
    "1. How do we know a priori how many repetitions are need? We need to be able to check the difference and stop iterattion when the desired accuracy is reached.\n",
    "\n",
    "All the above question will be answered next week when we discuss control structures"
   ]
  },
  {
   "cell_type": "markdown",
   "id": "c51b58d3",
   "metadata": {},
   "source": [
    "### Another example: is the input a prime?\n",
    "\n",
    "One (inefficient) way of determining the primality of a number **n** is to test its divisibility by all the numbers from 2 to n-1.\n",
    "The code below works if the number is 7 because we are testing divisibily by 2...6.\n",
    "What if we input another number? Try 5 or 49 and you get the wrong answer.\n",
    "\n",
    "Obviously for each input we need to modify the code. To write a code that works for all input we need something like\n",
    "\n",
    "Input: **n**\n",
    "algorithm: \n",
    "1. **for each value i from 2 to n-1 do**\n",
    "1.   **if n is divisible by i then report not prime and exit**\n",
    "1. **when all tests are negative report prime**  \n"
   ]
  },
  {
   "cell_type": "code",
   "execution_count": 72,
   "id": "df732b8d",
   "metadata": {},
   "outputs": [
    {
     "name": "stdout",
     "output_type": "stream",
     "text": [
      "enter an integer 49\n",
      "divisible by 2? ---> False\n",
      "divisible by 3? ---> False\n",
      "divisible by 4? ---> False\n",
      "divisible by 5? ---> False\n",
      "divisible by 6? ---> False\n"
     ]
    }
   ],
   "source": [
    "x=int(input(\"enter an integer \"))\n",
    "print(\"divisible by 2? --->\",x%2==0)\n",
    "print(\"divisible by 3? --->\",x%3==0)\n",
    "print(\"divisible by 4? --->\",x%4==0)\n",
    "print(\"divisible by 5? --->\",x%5==0)\n",
    "print(\"divisible by 6? --->\",x%6==0)"
   ]
  },
  {
   "cell_type": "markdown",
   "id": "2006daf5",
   "metadata": {},
   "source": [
    "## Expressions\n",
    "\n",
    "An expression is a statement containing one or more variables with one or more operators"
   ]
  },
  {
   "cell_type": "code",
   "execution_count": null,
   "id": "933dd97b",
   "metadata": {},
   "outputs": [],
   "source": [
    "x,y=2,12\n",
    "-2*x+8==y/3"
   ]
  },
  {
   "cell_type": "markdown",
   "id": "a0df14b4",
   "metadata": {},
   "source": [
    "## Operator Precedence\n",
    "\n",
    "Here is a list of operator precedence starting from the highest (partial list)\n",
    "\n",
    "1. () parenthesis \n",
    "1. function call.\n",
    "1. exponentiation '**'\n",
    "1. unary minus '-'\n",
    "1. *,/,//,%\n",
    "1. +,-\n",
    "1. <,>,<=,>=,==,!=\n",
    "1. not\n",
    "1. and\n",
    "1. or\n",
    "1. =\n"
   ]
  },
  {
   "cell_type": "code",
   "execution_count": null,
   "id": "104a5488",
   "metadata": {
    "scrolled": true
   },
   "outputs": [],
   "source": [
    "x=2+2**2\n",
    "print(\"x=\",x,\"not 16\")"
   ]
  },
  {
   "cell_type": "code",
   "execution_count": 58,
   "id": "cbcab7a3",
   "metadata": {},
   "outputs": [
    {
     "name": "stdout",
     "output_type": "stream",
     "text": [
      "x= 4.0 i.e. 8/2 not square root of 8\n"
     ]
    }
   ],
   "source": [
    "x=8**1/2 # ** has higher precedence than /\n",
    "print(\"x=\",x,\"i.e. 8/2 not square root of 8\")"
   ]
  },
  {
   "cell_type": "code",
   "execution_count": null,
   "id": "11ff6fbb",
   "metadata": {
    "scrolled": true
   },
   "outputs": [],
   "source": [
    "x=3+4*2 # * has higher precedence than +\n",
    "print(\"x=\",x,\"not 14\")"
   ]
  },
  {
   "cell_type": "code",
   "execution_count": 60,
   "id": "b8ef4d58",
   "metadata": {},
   "outputs": [
    {
     "name": "stdout",
     "output_type": "stream",
     "text": [
      "x= -4 not 4\n"
     ]
    }
   ],
   "source": [
    "x=-2**2 # ** has higher precedence than unary minus\n",
    "print(\"x=\",x,\"not 4\")"
   ]
  },
  {
   "cell_type": "code",
   "execution_count": null,
   "id": "70d4ab77",
   "metadata": {},
   "outputs": [],
   "source": [
    "x=not 2>3 or 7>=3  # not has higher precedence than or\n",
    "y=not (2>3 or 7>=3)\n",
    "print(\"x=\",x,\".It is not\",y)"
   ]
  },
  {
   "cell_type": "code",
   "execution_count": 61,
   "id": "e0130b32",
   "metadata": {},
   "outputs": [
    {
     "name": "stdout",
     "output_type": "stream",
     "text": [
      "x= True .It is not False\n"
     ]
    }
   ],
   "source": [
    "x=6>5 or 12<10 and 10>12 # and has higher precedence than or\n",
    "y=(6>5 or 12<10) and 10>12\n",
    "print(\"x=\",x,\".It is not\",y)"
   ]
  },
  {
   "cell_type": "markdown",
   "id": "16298d17",
   "metadata": {},
   "source": [
    "### Importing modules"
   ]
  },
  {
   "cell_type": "markdown",
   "id": "b62972de",
   "metadata": {},
   "source": [
    "Use module 'math'"
   ]
  },
  {
   "cell_type": "code",
   "execution_count": null,
   "id": "ccdf1119",
   "metadata": {},
   "outputs": [],
   "source": [
    "import math"
   ]
  },
  {
   "cell_type": "markdown",
   "id": "a47f8a1a",
   "metadata": {},
   "source": [
    "From module 'math' use function **log**"
   ]
  },
  {
   "cell_type": "code",
   "execution_count": null,
   "id": "a0562352",
   "metadata": {},
   "outputs": [],
   "source": [
    "math.log(10)\n"
   ]
  },
  {
   "cell_type": "markdown",
   "id": "148ec7df",
   "metadata": {},
   "source": [
    "There is **no** function **log10**: it is **math.log10**"
   ]
  },
  {
   "cell_type": "code",
   "execution_count": null,
   "id": "d025a195",
   "metadata": {
    "scrolled": true
   },
   "outputs": [],
   "source": [
    "log10(10)"
   ]
  },
  {
   "cell_type": "code",
   "execution_count": null,
   "id": "8642c938",
   "metadata": {},
   "outputs": [],
   "source": [
    "math.log(math.e)"
   ]
  },
  {
   "cell_type": "markdown",
   "id": "c6257832",
   "metadata": {},
   "source": [
    "Instead of using the qualifier math.log,math.log10,...etc we can import as follows"
   ]
  },
  {
   "cell_type": "code",
   "execution_count": null,
   "id": "6b7ea768",
   "metadata": {},
   "outputs": [],
   "source": [
    "from math import log,log2,log10,e\n"
   ]
  },
  {
   "cell_type": "code",
   "execution_count": null,
   "id": "8dc3890e",
   "metadata": {},
   "outputs": [],
   "source": [
    "log10(10)"
   ]
  },
  {
   "cell_type": "code",
   "execution_count": null,
   "id": "a03b2b1f",
   "metadata": {},
   "outputs": [],
   "source": [
    "log2(2)"
   ]
  },
  {
   "cell_type": "code",
   "execution_count": null,
   "id": "26d6edc2",
   "metadata": {},
   "outputs": [],
   "source": [
    "log(e)"
   ]
  },
  {
   "cell_type": "markdown",
   "id": "58375cee",
   "metadata": {},
   "source": [
    "### Computing e\n",
    "By definition log(e)=1 or log(e)-1=0. Therefore e is the root of the function log(x)-1. A simple method for finding the root of a function is the Newton method (later in the course). For this example it is sufficient to know that the root of log(e)-1\n",
    "can be found by iterating (as we did for finding the square root):  g=g-(log(g)-1)*g.\n",
    "\n",
    "**NOTE** since the log of a negative number is undefined make sure you initial guess is strictly positive and less or equal to 7"
   ]
  },
  {
   "cell_type": "code",
   "execution_count": 63,
   "id": "db795e32",
   "metadata": {},
   "outputs": [
    {
     "name": "stdout",
     "output_type": "stream",
     "text": [
      "e is  2.718281828459045\n",
      "enter guess 5\n",
      "1.9528104378294984\n",
      "2.598664244074909\n",
      "2.7156104738951616\n",
      "2.718280515410132\n"
     ]
    }
   ],
   "source": [
    "from math import log,e\n",
    "x=1\n",
    "print(\"e is \",e)\n",
    "g=float(input(\"enter guess \"))\n",
    "g=g-(log(g)-1)*g\n",
    "print(g)\n",
    "g=g-(log(g)-1)*g\n",
    "print(g)\n",
    "g=g-(log(g)-1)*g\n",
    "print(g)\n",
    "g=g-(log(g)-1)*g\n",
    "print(g)"
   ]
  },
  {
   "cell_type": "code",
   "execution_count": null,
   "id": "18352d99",
   "metadata": {},
   "outputs": [],
   "source": []
  }
 ],
 "metadata": {
  "interpreter": {
   "hash": "63fd5069d213b44bf678585dea6b12cceca9941eaf7f819626cde1f2670de90d"
  },
  "kernelspec": {
   "display_name": "Python 3",
   "language": "python",
   "name": "python3"
  },
  "language_info": {
   "codemirror_mode": {
    "name": "ipython",
    "version": 3
   },
   "file_extension": ".py",
   "mimetype": "text/x-python",
   "name": "python",
   "nbconvert_exporter": "python",
   "pygments_lexer": "ipython3",
   "version": "3.9.6"
  }
 },
 "nbformat": 4,
 "nbformat_minor": 5
}
