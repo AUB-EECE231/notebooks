{
 "cells": [
  {
   "cell_type": "markdown",
   "id": "0537a616",
   "metadata": {},
   "source": [
    "## Juputer Notebook (this document)\n",
    "\n",
    "1. Contains multiple  **cells**\n",
    "1. There are **two types** of cells\n",
    "    1. Markdown: in which one can use the markup language markdown to write text\n",
    "    1. Python: this is where you write Python code\n",
    "1. You can run each cells individually by pressing the arrow on the left of each cell\n",
    "1. Or typing shift-enter\n",
    "1. You can also run all or a subset of the cells (see the menu)"
   ]
  },
  {
   "cell_type": "code",
   "execution_count": null,
   "id": "5d23f9b4",
   "metadata": {},
   "outputs": [],
   "source": [
    "#Note. Add the code below to display all the results not just the last one\n",
    "\n",
    "#from IPython.core.interactiveshell import InteractiveShell\n",
    "#InteractiveShell.ast_node_interactivity = \"all\""
   ]
  },
  {
   "cell_type": "markdown",
   "id": "b58533d7",
   "metadata": {},
   "source": [
    "## Variables and Types\n",
    "\n",
    "A variable is a string that refers to a value stored in memory. The value could be a number, a string or any other object.\n",
    "A name could be any string in the set a-zA-Z0-9 and _ (**underscore**). It **CANNOT** start with a digit.\n",
    "\n",
    "Python is dynamically typed. A variable's type is automatically determined depending on the value it is assigned. Also, when the value changes the type can change."
   ]
  },
  {
   "cell_type": "markdown",
   "id": "398eda1a",
   "metadata": {},
   "source": [
    "Notice that the last line has output"
   ]
  },
  {
   "cell_type": "code",
   "execution_count": null,
   "id": "dd79f2da",
   "metadata": {},
   "outputs": [],
   "source": [
    "x=2\n",
    "type(x)"
   ]
  },
  {
   "cell_type": "markdown",
   "id": "3e5c8546",
   "metadata": {},
   "source": [
    "Notice that there is **no** output"
   ]
  },
  {
   "cell_type": "code",
   "execution_count": null,
   "id": "9bbc1e51",
   "metadata": {},
   "outputs": [],
   "source": [
    "thisIsValidName=17\n",
    "this_is_a_valid_name=29"
   ]
  },
  {
   "cell_type": "markdown",
   "id": "8bef2337",
   "metadata": {},
   "source": [
    "A variable name **cannot** start with a digit"
   ]
  },
  {
   "cell_type": "code",
   "execution_count": null,
   "id": "db177bc3",
   "metadata": {},
   "outputs": [],
   "source": [
    "9Notvalid=23 "
   ]
  },
  {
   "cell_type": "markdown",
   "id": "27609fb1",
   "metadata": {},
   "source": [
    "but it can **contain** digits"
   ]
  },
  {
   "cell_type": "code",
   "execution_count": null,
   "id": "d0dcd817",
   "metadata": {},
   "outputs": [],
   "source": [
    "Valid8=12"
   ]
  },
  {
   "cell_type": "markdown",
   "id": "1638ccad",
   "metadata": {},
   "source": [
    "**Only** the output of the last line is shown"
   ]
  },
  {
   "cell_type": "code",
   "execution_count": null,
   "id": "2b98aad7",
   "metadata": {},
   "outputs": [],
   "source": [
    "x=3.4\n",
    "y=17\n",
    "type(y)\n",
    "type(x)"
   ]
  },
  {
   "cell_type": "markdown",
   "id": "4a16174f",
   "metadata": {},
   "source": [
    "use the **print** function to display an output"
   ]
  },
  {
   "cell_type": "code",
   "execution_count": null,
   "id": "b78c9563",
   "metadata": {},
   "outputs": [],
   "source": [
    "x=3.4\n",
    "y=17\n",
    "print(\"y has value\",y,\"and type\",type(y))\n",
    "print(\"x has value\",x,\"and type\",type(x))\n"
   ]
  },
  {
   "cell_type": "code",
   "execution_count": null,
   "id": "6c0f0d17",
   "metadata": {},
   "outputs": [],
   "source": [
    "x=1+2j\n",
    "type(x)"
   ]
  },
  {
   "cell_type": "code",
   "execution_count": null,
   "id": "cc67354f",
   "metadata": {},
   "outputs": [],
   "source": [
    "x='this is a string'\n",
    "type(x)"
   ]
  },
  {
   "cell_type": "code",
   "execution_count": null,
   "id": "28aa0545",
   "metadata": {},
   "outputs": [],
   "source": [
    "b=True\n",
    "type(b)"
   ]
  },
  {
   "cell_type": "markdown",
   "id": "cb61a086",
   "metadata": {},
   "source": [
    "A variable **MUST be defined** (assigned a value) before use"
   ]
  },
  {
   "cell_type": "code",
   "execution_count": null,
   "id": "118c6c50",
   "metadata": {},
   "outputs": [],
   "source": [
    "x=y+1"
   ]
  },
  {
   "cell_type": "markdown",
   "id": "7d7a2eaa",
   "metadata": {},
   "source": [
    "#### Shortcut for assigning values to multiple variables"
   ]
  },
  {
   "cell_type": "code",
   "execution_count": null,
   "id": "594503de",
   "metadata": {},
   "outputs": [],
   "source": [
    "a,b,c=3.4,True,'string'\n",
    "print(type(a),type(b),type(c))"
   ]
  },
  {
   "cell_type": "markdown",
   "id": "62d57d94",
   "metadata": {},
   "source": [
    "## Operators\n",
    "\n",
    "There are different operators for different types. Even if the same symbol is used for different types, the meaning usually is different"
   ]
  },
  {
   "cell_type": "markdown",
   "id": "61bdb878",
   "metadata": {},
   "source": [
    "### Arithmetic Operators"
   ]
  },
  {
   "cell_type": "markdown",
   "id": "36aa5aff",
   "metadata": {},
   "source": [
    "##### Addition"
   ]
  },
  {
   "cell_type": "code",
   "execution_count": null,
   "id": "fdc38f98",
   "metadata": {},
   "outputs": [],
   "source": [
    "x,y=7,8\n",
    "x+y"
   ]
  },
  {
   "cell_type": "markdown",
   "id": "66211391",
   "metadata": {},
   "source": [
    "##### Multiplication"
   ]
  },
  {
   "cell_type": "code",
   "execution_count": null,
   "id": "5432de50",
   "metadata": {},
   "outputs": [],
   "source": [
    "x*y"
   ]
  },
  {
   "cell_type": "markdown",
   "id": "aceace90",
   "metadata": {},
   "source": [
    "##### Subtraction"
   ]
  },
  {
   "cell_type": "code",
   "execution_count": null,
   "id": "d9ba060d",
   "metadata": {},
   "outputs": [],
   "source": [
    "x-y"
   ]
  },
  {
   "cell_type": "markdown",
   "id": "db3b3c1d",
   "metadata": {},
   "source": [
    "##### unitary minus"
   ]
  },
  {
   "cell_type": "code",
   "execution_count": null,
   "id": "5261bcc8",
   "metadata": {},
   "outputs": [],
   "source": [
    "-x*y"
   ]
  },
  {
   "cell_type": "markdown",
   "id": "8a43a5db",
   "metadata": {},
   "source": [
    "##### Minus sign is considered subtraction only if to its left and right are numbers"
   ]
  },
  {
   "cell_type": "code",
   "execution_count": null,
   "id": "319eb649",
   "metadata": {},
   "outputs": [],
   "source": [
    "x,y=7,8\n",
    "print(x-y)\n",
    "print(x*-y)\n",
    "print(-x*---y)\n",
    "print(x--y)"
   ]
  },
  {
   "cell_type": "markdown",
   "id": "f1ae4532",
   "metadata": {},
   "source": [
    "##### Division always produces float"
   ]
  },
  {
   "cell_type": "code",
   "execution_count": null,
   "id": "04fb4e4f",
   "metadata": {},
   "outputs": [],
   "source": [
    "x,y=6,3\n",
    "print(type(x),type(y))\n",
    "z=x/y\n",
    "type(z)"
   ]
  },
  {
   "cell_type": "markdown",
   "id": "33743832",
   "metadata": {},
   "source": [
    "#### Integer division"
   ]
  },
  {
   "cell_type": "code",
   "execution_count": null,
   "id": "acb66d8c",
   "metadata": {},
   "outputs": [],
   "source": [
    "x,y=6,3\n",
    "z=x//y\n",
    "type(z)"
   ]
  },
  {
   "cell_type": "markdown",
   "id": "ddaf83f6",
   "metadata": {},
   "source": [
    "##### Exponentiation"
   ]
  },
  {
   "cell_type": "code",
   "execution_count": null,
   "id": "b333678c",
   "metadata": {},
   "outputs": [],
   "source": [
    "x=2\n",
    "y=3.001\n",
    "print(\"x=\",x**3,\"y=\",y**2)"
   ]
  },
  {
   "cell_type": "markdown",
   "id": "3de8b2e0",
   "metadata": {},
   "source": [
    "##### Modulus\n",
    "\n",
    "The modulus operator computes the remainder of the division. An example is to determine if a number is even or odd"
   ]
  },
  {
   "cell_type": "code",
   "execution_count": null,
   "id": "a82c12ce",
   "metadata": {},
   "outputs": [],
   "source": [
    "x,y,z=7,8,14\n",
    "print(\"x is odd because x%2=\",x%2,\"while y is even because y%2=\",y%2)\n",
    "print(\"remainder of the division of z by 5 is\",z%5)"
   ]
  },
  {
   "cell_type": "markdown",
   "id": "29fb0e98",
   "metadata": {},
   "source": [
    "### Logical Operators"
   ]
  },
  {
   "cell_type": "markdown",
   "id": "a09bdbb7",
   "metadata": {},
   "source": [
    "##### Negations"
   ]
  },
  {
   "cell_type": "code",
   "execution_count": null,
   "id": "28e700a3",
   "metadata": {},
   "outputs": [],
   "source": [
    "x=True\n",
    "not x"
   ]
  },
  {
   "cell_type": "markdown",
   "id": "15879076",
   "metadata": {},
   "source": [
    "remember Python is case sensitive"
   ]
  },
  {
   "cell_type": "code",
   "execution_count": null,
   "id": "2a0100f6",
   "metadata": {},
   "outputs": [],
   "source": [
    "x=true"
   ]
  },
  {
   "cell_type": "markdown",
   "id": "b964f37b",
   "metadata": {},
   "source": [
    "##### Logical \"and\", logical \"or\""
   ]
  },
  {
   "cell_type": "code",
   "execution_count": null,
   "id": "e243a098",
   "metadata": {},
   "outputs": [],
   "source": [
    "x,y=True,False\n",
    "print(x and y,x or y)"
   ]
  },
  {
   "cell_type": "markdown",
   "id": "df41e165",
   "metadata": {},
   "source": [
    "### Relational Operators"
   ]
  },
  {
   "cell_type": "code",
   "execution_count": null,
   "id": "4238f1a2",
   "metadata": {},
   "outputs": [],
   "source": [
    "x,y=4,8\n",
    "# test equality\n",
    "print(x==y)\n",
    "# x greater or equal to y\n",
    "print(x>=y)\n",
    "# x less than y\n",
    "print(x<y)\n",
    "# x not equal to y\n",
    "print(x!=y)"
   ]
  },
  {
   "cell_type": "markdown",
   "id": "a172dde2",
   "metadata": {},
   "source": [
    "### String operators"
   ]
  },
  {
   "cell_type": "markdown",
   "id": "23580171",
   "metadata": {},
   "source": [
    "##### Concatenations"
   ]
  },
  {
   "cell_type": "code",
   "execution_count": null,
   "id": "bf192852",
   "metadata": {},
   "outputs": [],
   "source": [
    "left='hello '\n",
    "right='there'\n",
    "left+right"
   ]
  },
  {
   "cell_type": "markdown",
   "id": "02223813",
   "metadata": {},
   "source": [
    "Note that we used the symbol '+' for operations on two different types. For numbers it is the usual addition operations. For strings it denotes the concatenation operator"
   ]
  },
  {
   "cell_type": "markdown",
   "id": "3d776bda",
   "metadata": {},
   "source": [
    "### multiplication is not defined for strings"
   ]
  },
  {
   "cell_type": "code",
   "execution_count": null,
   "id": "91896d95",
   "metadata": {},
   "outputs": [],
   "source": [
    "'first'*'second'"
   ]
  },
  {
   "cell_type": "markdown",
   "id": "536fdd08",
   "metadata": {},
   "source": [
    "##### Repetition\n",
    "The * operator denotes repetition for strings"
   ]
  },
  {
   "cell_type": "code",
   "execution_count": null,
   "id": "48568da1",
   "metadata": {},
   "outputs": [],
   "source": [
    "print('a'*3,4*'bab')"
   ]
  },
  {
   "cell_type": "markdown",
   "id": "fb0fc41d",
   "metadata": {},
   "source": [
    "##### set membership"
   ]
  },
  {
   "cell_type": "code",
   "execution_count": null,
   "id": "1f392b55",
   "metadata": {},
   "outputs": [],
   "source": [
    "x='needle in hay stack'\n",
    "y='hay'\n",
    "z='hat'\n",
    "print(y in x)\n",
    "print(z not in x)"
   ]
  },
  {
   "cell_type": "markdown",
   "id": "4fa1c681",
   "metadata": {},
   "source": [
    "## Type Casting\n",
    "type casting is used to change the type of a variable"
   ]
  },
  {
   "cell_type": "markdown",
   "id": "6b287ed2",
   "metadata": {},
   "source": [
    "##### Convert a number to string"
   ]
  },
  {
   "cell_type": "code",
   "execution_count": null,
   "id": "ed0a127c",
   "metadata": {},
   "outputs": [],
   "source": [
    "x=13.4\n",
    "y=65\n",
    "print(x+y)\n",
    "s=str(x)+str(y)\n",
    "print(s)"
   ]
  },
  {
   "cell_type": "markdown",
   "id": "b31a7a69",
   "metadata": {},
   "source": [
    "##### Convert a string to int"
   ]
  },
  {
   "cell_type": "code",
   "execution_count": null,
   "id": "7f06b316",
   "metadata": {},
   "outputs": [],
   "source": [
    "y=int('12')+3\n",
    "print(y)"
   ]
  },
  {
   "cell_type": "markdown",
   "id": "102d4e85",
   "metadata": {},
   "source": [
    "##### Convert string to float"
   ]
  },
  {
   "cell_type": "code",
   "execution_count": null,
   "id": "caad566d",
   "metadata": {},
   "outputs": [],
   "source": [
    "z=float('3.33e-2')\n",
    "print(z)"
   ]
  },
  {
   "cell_type": "markdown",
   "id": "5d585c32",
   "metadata": {},
   "source": [
    "##### Implicit Casting\n",
    "Sometimes the Python interpreter implicitly convert one type to another (when feasible)"
   ]
  },
  {
   "cell_type": "code",
   "execution_count": null,
   "id": "7902bd53",
   "metadata": {},
   "outputs": [],
   "source": [
    "x=2\n",
    "print(type(x))\n",
    "x=x+1.1           #Harmless\n",
    "print(type(x))"
   ]
  },
  {
   "cell_type": "code",
   "execution_count": null,
   "id": "704fe49c",
   "metadata": {},
   "outputs": [],
   "source": [
    "x=True+4       #not recommended\n",
    "print(x)\n",
    "print(type(x))"
   ]
  },
  {
   "cell_type": "code",
   "execution_count": null,
   "id": "2c5fb419",
   "metadata": {},
   "outputs": [],
   "source": [
    "x=True+1.1\n",
    "print(type(x))"
   ]
  },
  {
   "cell_type": "markdown",
   "id": "f3f17bc7",
   "metadata": {},
   "source": [
    "## Expressions\n",
    "\n",
    "An expression is a statement containing one or more variables with one or more operators"
   ]
  },
  {
   "cell_type": "code",
   "execution_count": null,
   "id": "11c2b0ae",
   "metadata": {},
   "outputs": [],
   "source": [
    "x,y=2,12\n",
    "-2*x+8==y/3"
   ]
  },
  {
   "cell_type": "markdown",
   "id": "edebb95b",
   "metadata": {},
   "source": [
    "## Operator Precedence\n",
    "\n",
    "Here is a list of operator precedence starting from the highest (partial list)\n",
    "\n",
    "1. () parenthesis \n",
    "1. function call.\n",
    "1. exponentiation '**'\n",
    "1. unary minus '-'\n",
    "1. *,/,//,%\n",
    "1. +,-\n",
    "1. <,>,<=,>=,==,!=\n",
    "1. not\n",
    "1. and\n",
    "1. or\n",
    "1. =\n"
   ]
  },
  {
   "cell_type": "code",
   "execution_count": null,
   "id": "e4644ed4",
   "metadata": {
    "scrolled": true
   },
   "outputs": [],
   "source": [
    "x=2+2**2\n",
    "print(\"x=\",x,\"not 16\")"
   ]
  },
  {
   "cell_type": "code",
   "execution_count": null,
   "id": "ce8333d2",
   "metadata": {
    "scrolled": true
   },
   "outputs": [],
   "source": [
    "x=3+4*2\n",
    "print(\"x=\",x,\"not 14\")"
   ]
  },
  {
   "cell_type": "code",
   "execution_count": null,
   "id": "51fb10a4",
   "metadata": {},
   "outputs": [],
   "source": [
    "x=-2**2\n",
    "print(\"x=\",x,\"not 4\")"
   ]
  },
  {
   "cell_type": "code",
   "execution_count": null,
   "id": "8e8d7e7e",
   "metadata": {},
   "outputs": [],
   "source": [
    "x=not 2>3 or 7>=3 \n",
    "y=not (2>3 or 7>=3)\n",
    "print(\"x=\",x,\".It is not\",y)"
   ]
  },
  {
   "cell_type": "code",
   "execution_count": null,
   "id": "05446d3f",
   "metadata": {},
   "outputs": [],
   "source": [
    "x=6>5 or 12<10 and 10>12\n",
    "y=(6>5 or 12<10) and 10>12\n",
    "print(\"x=\",x,\".It is not\",y)"
   ]
  },
  {
   "cell_type": "markdown",
   "id": "6807825d",
   "metadata": {},
   "source": [
    "### Importing modules"
   ]
  },
  {
   "cell_type": "code",
   "execution_count": null,
   "id": "46b69632",
   "metadata": {},
   "outputs": [],
   "source": [
    "import math"
   ]
  },
  {
   "cell_type": "code",
   "execution_count": null,
   "id": "699cebdc",
   "metadata": {},
   "outputs": [],
   "source": [
    "math.log(10)\n"
   ]
  },
  {
   "cell_type": "code",
   "execution_count": null,
   "id": "ffffe5d0",
   "metadata": {
    "scrolled": true
   },
   "outputs": [],
   "source": [
    "log10(10)"
   ]
  },
  {
   "cell_type": "code",
   "execution_count": null,
   "id": "42355611",
   "metadata": {},
   "outputs": [],
   "source": [
    "math.log(math.e)"
   ]
  },
  {
   "cell_type": "code",
   "execution_count": null,
   "id": "13575daa",
   "metadata": {},
   "outputs": [],
   "source": [
    "from math import log,log2,log10,e\n"
   ]
  },
  {
   "cell_type": "code",
   "execution_count": null,
   "id": "eba52735",
   "metadata": {},
   "outputs": [],
   "source": [
    "log10(10)"
   ]
  },
  {
   "cell_type": "code",
   "execution_count": null,
   "id": "1a9a0a92",
   "metadata": {},
   "outputs": [],
   "source": [
    "log2(2)"
   ]
  },
  {
   "cell_type": "code",
   "execution_count": null,
   "id": "29f5cb74",
   "metadata": {},
   "outputs": [],
   "source": [
    "log(e)"
   ]
  },
  {
   "cell_type": "code",
   "execution_count": null,
   "id": "ac49e454",
   "metadata": {},
   "outputs": [],
   "source": []
  }
 ],
 "metadata": {
  "kernelspec": {
   "display_name": "Python 3",
   "language": "python",
   "name": "python3"
  },
  "language_info": {
   "codemirror_mode": {
    "name": "ipython",
    "version": 3
   },
   "file_extension": ".py",
   "mimetype": "text/x-python",
   "name": "python",
   "nbconvert_exporter": "python",
   "pygments_lexer": "ipython3",
   "version": "3.9.6"
  }
 },
 "nbformat": 4,
 "nbformat_minor": 5
}
