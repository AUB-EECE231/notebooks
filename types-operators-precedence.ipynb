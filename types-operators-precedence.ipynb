{
 "cells": [
  {
   "cell_type": "markdown",
   "id": "5550532f",
   "metadata": {
    "slideshow": {
     "slide_type": "slide"
    }
   },
   "source": [
    "## Jupyter Notebook (this document)\n",
    "\n",
    "1. Contains multiple  **cells**\n",
    "1. There are **two types** of cells\n",
    "    1. Markdown: in which one can use the markup language markdown to write text\n",
    "    1. Python: this is where you write Python code\n",
    "1. You can run each cells individually by pressing the arrow on the left of each cell\n",
    "1. Or typing shift-enter\n",
    "1. You can also run all or a subset of the cells (see the menu)"
   ]
  },
  {
   "cell_type": "code",
   "execution_count": null,
   "id": "8e0e41ea",
   "metadata": {
    "slideshow": {
     "slide_type": "skip"
    }
   },
   "outputs": [],
   "source": [
    "#Note. Add the code below to display the output of all statements not just the last one\n",
    "\n",
    "#from IPython.core.interactiveshell import InteractiveShell\n",
    "#InteractiveShell.ast_node_interactivity = \"all\""
   ]
  },
  {
   "cell_type": "markdown",
   "id": "58c19de2",
   "metadata": {
    "slideshow": {
     "slide_type": "slide"
    }
   },
   "source": [
    "### Literal Values and Types\n",
    "\n",
    "In Python there are different **types** of objects. In this lecture we will discuss **basic** types\n",
    "1. Numbers: integers and reals\n",
    "1. Strings: piece of text\n",
    "1. Booleans: True or False"
   ]
  },
  {
   "cell_type": "markdown",
   "id": "d1bb1a57",
   "metadata": {
    "slideshow": {
     "slide_type": "slide"
    }
   },
   "source": [
    "### Examples"
   ]
  },
  {
   "cell_type": "code",
   "execution_count": null,
   "id": "591b724e",
   "metadata": {
    "slideshow": {
     "slide_type": "fragment"
    }
   },
   "outputs": [],
   "source": [
    "\"this is a literal string\""
   ]
  },
  {
   "cell_type": "code",
   "execution_count": null,
   "id": "8fb96610",
   "metadata": {
    "slideshow": {
     "slide_type": "fragment"
    }
   },
   "outputs": [],
   "source": [
    "# you start a comment with '#'. All the line after '#' is ignored by the interpreter\n",
    "\n",
    "2 # literal integer "
   ]
  },
  {
   "cell_type": "code",
   "execution_count": null,
   "id": "2ea1f011",
   "metadata": {
    "slideshow": {
     "slide_type": "fragment"
    }
   },
   "outputs": [],
   "source": [
    "3.14 # literal float (real)"
   ]
  },
  {
   "cell_type": "code",
   "execution_count": null,
   "id": "5ff7ba7f",
   "metadata": {
    "scrolled": true,
    "slideshow": {
     "slide_type": "fragment"
    }
   },
   "outputs": [],
   "source": [
    "True # literal boolean"
   ]
  },
  {
   "cell_type": "markdown",
   "id": "7b487f99",
   "metadata": {
    "slideshow": {
     "slide_type": "slide"
    }
   },
   "source": [
    "One can display the **type** of an object by using the _type_ builtin (predefined) **function**"
   ]
  },
  {
   "cell_type": "code",
   "execution_count": null,
   "id": "7a59c465",
   "metadata": {
    "slideshow": {
     "slide_type": "fragment"
    }
   },
   "outputs": [],
   "source": [
    "type(2)"
   ]
  },
  {
   "cell_type": "code",
   "execution_count": null,
   "id": "fdfe5e45",
   "metadata": {
    "slideshow": {
     "slide_type": "fragment"
    }
   },
   "outputs": [],
   "source": [
    "type(\"this is a literal string\")"
   ]
  },
  {
   "cell_type": "code",
   "execution_count": null,
   "id": "effd33d9",
   "metadata": {
    "slideshow": {
     "slide_type": "fragment"
    }
   },
   "outputs": [],
   "source": [
    "type(3.14)"
   ]
  },
  {
   "cell_type": "code",
   "execution_count": null,
   "id": "80393550",
   "metadata": {
    "slideshow": {
     "slide_type": "fragment"
    }
   },
   "outputs": [],
   "source": [
    "type(True)"
   ]
  },
  {
   "cell_type": "markdown",
   "id": "f4932458",
   "metadata": {
    "slideshow": {
     "slide_type": "slide"
    }
   },
   "source": [
    "By default, **Only** the output of the last line is shown. If you want to change that behavior check the comments at the beginning of this notebook. "
   ]
  },
  {
   "cell_type": "code",
   "execution_count": null,
   "id": "687f15a5",
   "metadata": {
    "slideshow": {
     "slide_type": "fragment"
    }
   },
   "outputs": [],
   "source": [
    "type(2)\n",
    "type(\"this is a literal string\")\n",
    "type(3.14)\n",
    "type(True)"
   ]
  },
  {
   "cell_type": "markdown",
   "id": "6d55c40f",
   "metadata": {
    "slideshow": {
     "slide_type": "slide"
    }
   },
   "source": [
    "Or we can use the **print** builtin (predefined) function to display values"
   ]
  },
  {
   "cell_type": "code",
   "execution_count": null,
   "id": "a1f4ad79",
   "metadata": {
    "slideshow": {
     "slide_type": "fragment"
    }
   },
   "outputs": [],
   "source": [
    "print(2)\n",
    "print('some string')\n",
    "print(type(\"this is a literal string\"))\n",
    "print(type(3.14))\n",
    "print(type(True))"
   ]
  },
  {
   "cell_type": "markdown",
   "id": "24e90b8f",
   "metadata": {
    "slideshow": {
     "slide_type": "slide"
    }
   },
   "source": [
    "## Variables\n",
    "\n",
    "- The values we have seen so far are literals (constants) and we cannot **change** them.\n",
    "- A variable is an identifier (string) that refers to a value stored in memory. \n",
    "- The value could be a number, a string or any other object. And that value can be **changed**.\n",
    "- A identifier could be any string in the set a-zA-Z0-9 and _ (**underscore**). It **CANNOT** start with a digit."
   ]
  },
  {
   "cell_type": "code",
   "execution_count": null,
   "id": "4079813d",
   "metadata": {
    "slideshow": {
     "slide_type": "slide"
    }
   },
   "outputs": [],
   "source": [
    "x=2    # store the value 2 in memory and give that location the label 'x'\n",
    "type(x)"
   ]
  },
  {
   "cell_type": "markdown",
   "id": "78a777a0",
   "metadata": {
    "slideshow": {
     "slide_type": "fragment"
    }
   },
   "source": [
    "- Python is dynamically typed. \n",
    "- A variable's type is automatically determined depending on the value it is assigned.\n",
    "- When the value changes the type can change."
   ]
  },
  {
   "cell_type": "code",
   "execution_count": null,
   "id": "745494cd",
   "metadata": {
    "slideshow": {
     "slide_type": "fragment"
    }
   },
   "outputs": [],
   "source": [
    "x='some string' # we can use double or single quotes for strings\n",
    "type(x)"
   ]
  },
  {
   "cell_type": "markdown",
   "id": "e3d95432",
   "metadata": {
    "slideshow": {
     "slide_type": "slide"
    }
   },
   "source": [
    "The name of a variable can contain any character from the set a-z, the set A-Z, the set 0-9, and '_' (underscore).\n",
    "But it **cannot** start with a digit."
   ]
  },
  {
   "cell_type": "code",
   "execution_count": null,
   "id": "674cfc43",
   "metadata": {
    "slideshow": {
     "slide_type": "fragment"
    }
   },
   "outputs": [],
   "source": [
    "thisIsValidName=17\n",
    "this_is_a_valid_name=29"
   ]
  },
  {
   "cell_type": "markdown",
   "id": "cc6135f3",
   "metadata": {
    "slideshow": {
     "slide_type": "fragment"
    }
   },
   "source": [
    "A variable name **cannot** start with a digit"
   ]
  },
  {
   "cell_type": "code",
   "execution_count": null,
   "id": "1d9f49be",
   "metadata": {
    "scrolled": true,
    "slideshow": {
     "slide_type": "fragment"
    }
   },
   "outputs": [],
   "source": [
    "9Notvalid=23 "
   ]
  },
  {
   "cell_type": "markdown",
   "id": "baa21f2a",
   "metadata": {
    "slideshow": {
     "slide_type": "fragment"
    }
   },
   "source": [
    "but it can **contain** digits"
   ]
  },
  {
   "cell_type": "code",
   "execution_count": null,
   "id": "0596fc80",
   "metadata": {
    "slideshow": {
     "slide_type": "fragment"
    }
   },
   "outputs": [],
   "source": [
    "Valid8=12"
   ]
  },
  {
   "cell_type": "markdown",
   "id": "a0699bdf",
   "metadata": {
    "slideshow": {
     "slide_type": "slide"
    }
   },
   "source": [
    "#### Print function\n",
    "The **print** function can take multiple parameters (inputs) separated by **commas**."
   ]
  },
  {
   "cell_type": "code",
   "execution_count": null,
   "id": "56b4e104",
   "metadata": {},
   "outputs": [],
   "source": [
    "x=3.4\n",
    "y=17\n",
    "print(\"y has value\",y,\"and type\",type(y))\n",
    "print(\"x has value\",x,\"and type\",type(x))\n"
   ]
  },
  {
   "cell_type": "code",
   "execution_count": null,
   "id": "c43ead1e",
   "metadata": {
    "slideshow": {
     "slide_type": "skip"
    }
   },
   "outputs": [],
   "source": [
    "x=1+2j\n",
    "type(x)"
   ]
  },
  {
   "cell_type": "markdown",
   "id": "fa3b245e",
   "metadata": {
    "slideshow": {
     "slide_type": "slide"
    }
   },
   "source": [
    "A variable **MUST be defined** (assigned a value) before use"
   ]
  },
  {
   "cell_type": "code",
   "execution_count": null,
   "id": "2ff9c876",
   "metadata": {
    "slideshow": {
     "slide_type": "fragment"
    }
   },
   "outputs": [],
   "source": [
    "x=y+1"
   ]
  },
  {
   "cell_type": "markdown",
   "id": "7bd14f44",
   "metadata": {
    "slideshow": {
     "slide_type": "fragment"
    }
   },
   "source": [
    "#### Shortcut for assigning values to multiple variables"
   ]
  },
  {
   "cell_type": "code",
   "execution_count": null,
   "id": "77c33e43",
   "metadata": {
    "slideshow": {
     "slide_type": "fragment"
    }
   },
   "outputs": [],
   "source": [
    "a,b,c=3.4,True,'string'\n",
    "print(type(a),type(b),type(c))"
   ]
  },
  {
   "cell_type": "markdown",
   "id": "7a8c3619",
   "metadata": {
    "slideshow": {
     "slide_type": "slide"
    }
   },
   "source": [
    "## Operators\n",
    "\n",
    "- There are different operators for different types. \n",
    "- Even if the same symbol is used for different types, the meaning usually is different"
   ]
  },
  {
   "cell_type": "markdown",
   "id": "bba9ce69",
   "metadata": {
    "slideshow": {
     "slide_type": "slide"
    }
   },
   "source": [
    "### Arithmetic Operators"
   ]
  },
  {
   "cell_type": "markdown",
   "id": "58f263a1",
   "metadata": {
    "slideshow": {
     "slide_type": "subslide"
    }
   },
   "source": [
    "##### Addition"
   ]
  },
  {
   "cell_type": "code",
   "execution_count": null,
   "id": "ffbe7a94",
   "metadata": {
    "slideshow": {
     "slide_type": "fragment"
    }
   },
   "outputs": [],
   "source": [
    "x,y=7,8\n",
    "x+y"
   ]
  },
  {
   "cell_type": "markdown",
   "id": "b389ec61",
   "metadata": {
    "slideshow": {
     "slide_type": "subslide"
    }
   },
   "source": [
    "##### Multiplication"
   ]
  },
  {
   "cell_type": "code",
   "execution_count": null,
   "id": "dc748966",
   "metadata": {
    "slideshow": {
     "slide_type": "fragment"
    }
   },
   "outputs": [],
   "source": [
    "x*y"
   ]
  },
  {
   "cell_type": "markdown",
   "id": "7a10ca49",
   "metadata": {
    "slideshow": {
     "slide_type": "subslide"
    }
   },
   "source": [
    "##### Subtraction"
   ]
  },
  {
   "cell_type": "code",
   "execution_count": null,
   "id": "9960ea17",
   "metadata": {
    "slideshow": {
     "slide_type": "fragment"
    }
   },
   "outputs": [],
   "source": [
    "x-y"
   ]
  },
  {
   "cell_type": "markdown",
   "id": "f41b7b6e",
   "metadata": {
    "slideshow": {
     "slide_type": "subslide"
    }
   },
   "source": [
    "##### unitary minus"
   ]
  },
  {
   "cell_type": "code",
   "execution_count": null,
   "id": "bfd32f79",
   "metadata": {
    "slideshow": {
     "slide_type": "fragment"
    }
   },
   "outputs": [],
   "source": [
    "-x*y"
   ]
  },
  {
   "cell_type": "markdown",
   "id": "60e0c25b",
   "metadata": {
    "slideshow": {
     "slide_type": "subslide"
    }
   },
   "source": [
    "##### Minus sign is considered subtraction only if to its left and right are numbers"
   ]
  },
  {
   "cell_type": "code",
   "execution_count": null,
   "id": "194ffed4",
   "metadata": {
    "slideshow": {
     "slide_type": "fragment"
    }
   },
   "outputs": [],
   "source": [
    "x,y=7,8\n",
    "print(x-y)\n",
    "print(x*-y)\n",
    "print(-x*---y)\n",
    "print(x--y)"
   ]
  },
  {
   "cell_type": "markdown",
   "id": "3f20691e",
   "metadata": {
    "slideshow": {
     "slide_type": "subslide"
    }
   },
   "source": [
    "##### Division always produces float"
   ]
  },
  {
   "cell_type": "code",
   "execution_count": null,
   "id": "52cb5036",
   "metadata": {
    "slideshow": {
     "slide_type": "fragment"
    }
   },
   "outputs": [],
   "source": [
    "x,y=6,3\n",
    "print(type(x),type(y))\n",
    "z=x/y\n",
    "type(z)"
   ]
  },
  {
   "cell_type": "markdown",
   "id": "22932a52",
   "metadata": {
    "slideshow": {
     "slide_type": "subslide"
    }
   },
   "source": [
    "#### Integer division"
   ]
  },
  {
   "cell_type": "code",
   "execution_count": null,
   "id": "55da6114",
   "metadata": {
    "slideshow": {
     "slide_type": "fragment"
    }
   },
   "outputs": [],
   "source": [
    "x,y=6,3\n",
    "z=x//y\n",
    "type(z)"
   ]
  },
  {
   "cell_type": "markdown",
   "id": "0fc6b9f1",
   "metadata": {
    "slideshow": {
     "slide_type": "subslide"
    }
   },
   "source": [
    "##### Exponentiation"
   ]
  },
  {
   "cell_type": "code",
   "execution_count": null,
   "id": "aa6551dd",
   "metadata": {
    "slideshow": {
     "slide_type": "fragment"
    }
   },
   "outputs": [],
   "source": [
    "x=2\n",
    "y=3.001\n",
    "print(\"x=\",x**3,\"y=\",y**2)"
   ]
  },
  {
   "cell_type": "markdown",
   "id": "e4683b2b",
   "metadata": {
    "slideshow": {
     "slide_type": "subslide"
    }
   },
   "source": [
    "##### Exponent can be a float"
   ]
  },
  {
   "cell_type": "code",
   "execution_count": null,
   "id": "d389b36a",
   "metadata": {
    "slideshow": {
     "slide_type": "fragment"
    }
   },
   "outputs": [],
   "source": [
    "x=2**0.5\n",
    "print(\"square root of 2 is \",x)"
   ]
  },
  {
   "cell_type": "markdown",
   "id": "0e1a3dba",
   "metadata": {
    "slideshow": {
     "slide_type": "subslide"
    }
   },
   "source": [
    "##### Modulus\n",
    "\n",
    "The modulus operator computes the remainder of the division. An example is to determine if a number is even or odd"
   ]
  },
  {
   "cell_type": "code",
   "execution_count": null,
   "id": "f863ebfb",
   "metadata": {
    "slideshow": {
     "slide_type": "fragment"
    }
   },
   "outputs": [],
   "source": [
    "x,y,z=7,8,14\n",
    "print(\"x is odd because x%2=\",x%2,\"while y is even because y%2=\",y%2)\n",
    "print(\"remainder of the division of z by 5 is\",z%5)"
   ]
  },
  {
   "cell_type": "markdown",
   "id": "20debd0d",
   "metadata": {
    "slideshow": {
     "slide_type": "slide"
    }
   },
   "source": [
    "### Logical Operators"
   ]
  },
  {
   "cell_type": "markdown",
   "id": "9548f6ad",
   "metadata": {
    "slideshow": {
     "slide_type": "subslide"
    }
   },
   "source": [
    "##### Negations"
   ]
  },
  {
   "cell_type": "code",
   "execution_count": 10,
   "id": "85e0c8b3",
   "metadata": {
    "slideshow": {
     "slide_type": "fragment"
    }
   },
   "outputs": [
    {
     "data": {
      "text/plain": [
       "False"
      ]
     },
     "execution_count": 10,
     "metadata": {},
     "output_type": "execute_result"
    }
   ],
   "source": [
    "x=True\n",
    "not x"
   ]
  },
  {
   "cell_type": "markdown",
   "id": "8847436c",
   "metadata": {
    "slideshow": {
     "slide_type": "subslide"
    }
   },
   "source": [
    "remember Python is case sensitive"
   ]
  },
  {
   "cell_type": "code",
   "execution_count": null,
   "id": "1d5146ab",
   "metadata": {
    "slideshow": {
     "slide_type": "fragment"
    }
   },
   "outputs": [],
   "source": [
    "x=true"
   ]
  },
  {
   "cell_type": "markdown",
   "id": "f3c89575",
   "metadata": {
    "slideshow": {
     "slide_type": "subslide"
    }
   },
   "source": [
    "##### Logical \"and\", logical \"or\""
   ]
  },
  {
   "cell_type": "code",
   "execution_count": 12,
   "id": "4fa3f525",
   "metadata": {
    "slideshow": {
     "slide_type": "fragment"
    }
   },
   "outputs": [
    {
     "name": "stdout",
     "output_type": "stream",
     "text": [
      "False True\n"
     ]
    }
   ],
   "source": [
    "x,y=True,False\n",
    "print(x and y,x or y)"
   ]
  },
  {
   "cell_type": "markdown",
   "id": "5caabf75",
   "metadata": {
    "slideshow": {
     "slide_type": "slide"
    }
   },
   "source": [
    "### Relational Operators"
   ]
  },
  {
   "cell_type": "code",
   "execution_count": 13,
   "id": "006c8596",
   "metadata": {
    "slideshow": {
     "slide_type": "fragment"
    }
   },
   "outputs": [
    {
     "name": "stdout",
     "output_type": "stream",
     "text": [
      "False\n",
      "False\n",
      "True\n",
      "True\n"
     ]
    }
   ],
   "source": [
    "x,y=4,8\n",
    "# test equality\n",
    "print(x==y)\n",
    "# x greater or equal to y\n",
    "print(x>=y)\n",
    "# x less than y\n",
    "print(x<y)\n",
    "# x not equal to y\n",
    "print(x!=y)"
   ]
  },
  {
   "cell_type": "markdown",
   "id": "99c484df",
   "metadata": {
    "slideshow": {
     "slide_type": "slide"
    }
   },
   "source": [
    "### String operators"
   ]
  },
  {
   "cell_type": "markdown",
   "id": "cdaf247e",
   "metadata": {
    "slideshow": {
     "slide_type": "subslide"
    }
   },
   "source": [
    "##### Concatenations"
   ]
  },
  {
   "cell_type": "code",
   "execution_count": 14,
   "id": "1751e4e3",
   "metadata": {
    "slideshow": {
     "slide_type": "fragment"
    }
   },
   "outputs": [
    {
     "data": {
      "text/plain": [
       "'hello there'"
      ]
     },
     "execution_count": 14,
     "metadata": {},
     "output_type": "execute_result"
    }
   ],
   "source": [
    "left='hello '\n",
    "right='there'\n",
    "left+right"
   ]
  },
  {
   "cell_type": "markdown",
   "id": "40ed3a81",
   "metadata": {
    "slideshow": {
     "slide_type": "subslide"
    }
   },
   "source": [
    "Note that we used the symbol '+' for operations on two different types. For numbers it is the usual addition operations. For strings it denotes the concatenation operator"
   ]
  },
  {
   "cell_type": "markdown",
   "id": "29199f91",
   "metadata": {
    "slideshow": {
     "slide_type": "subslide"
    }
   },
   "source": [
    "### multiplication is not defined for strings"
   ]
  },
  {
   "cell_type": "code",
   "execution_count": 15,
   "id": "6da07440",
   "metadata": {
    "slideshow": {
     "slide_type": "fragment"
    }
   },
   "outputs": [
    {
     "ename": "TypeError",
     "evalue": "can't multiply sequence by non-int of type 'str'",
     "output_type": "error",
     "traceback": [
      "\u001b[1;31m---------------------------------------------------------------------------\u001b[0m",
      "\u001b[1;31mTypeError\u001b[0m                                 Traceback (most recent call last)",
      "\u001b[1;32m<ipython-input-15-afd1ad281f1a>\u001b[0m in \u001b[0;36m<module>\u001b[1;34m\u001b[0m\n\u001b[1;32m----> 1\u001b[1;33m \u001b[1;34m'first'\u001b[0m\u001b[1;33m*\u001b[0m\u001b[1;34m'second'\u001b[0m\u001b[1;33m\u001b[0m\u001b[1;33m\u001b[0m\u001b[0m\n\u001b[0m",
      "\u001b[1;31mTypeError\u001b[0m: can't multiply sequence by non-int of type 'str'"
     ]
    }
   ],
   "source": [
    "'first'*'second'"
   ]
  },
  {
   "cell_type": "markdown",
   "id": "1268293e",
   "metadata": {
    "slideshow": {
     "slide_type": "subslide"
    }
   },
   "source": [
    "##### Repetition\n",
    "The * operator denotes repetition for strings"
   ]
  },
  {
   "cell_type": "code",
   "execution_count": 16,
   "id": "8178e499",
   "metadata": {
    "slideshow": {
     "slide_type": "fragment"
    }
   },
   "outputs": [
    {
     "name": "stdout",
     "output_type": "stream",
     "text": [
      "aaa babbabbabbab\n"
     ]
    }
   ],
   "source": [
    "print('a'*3,4*'bab')"
   ]
  },
  {
   "cell_type": "markdown",
   "id": "b9682472",
   "metadata": {
    "slideshow": {
     "slide_type": "subslide"
    }
   },
   "source": [
    "##### set membership"
   ]
  },
  {
   "cell_type": "code",
   "execution_count": 17,
   "id": "3f774946",
   "metadata": {
    "slideshow": {
     "slide_type": "fragment"
    }
   },
   "outputs": [
    {
     "name": "stdout",
     "output_type": "stream",
     "text": [
      "True\n",
      "True\n"
     ]
    }
   ],
   "source": [
    "x='needle in hay stack'\n",
    "y='hay'\n",
    "z='hat'\n",
    "print(y in x)\n",
    "print(z not in x)"
   ]
  },
  {
   "cell_type": "markdown",
   "id": "98ae5248",
   "metadata": {
    "slideshow": {
     "slide_type": "slide"
    }
   },
   "source": [
    "## Type Casting\n",
    "type casting is used to change the type of a variable"
   ]
  },
  {
   "cell_type": "markdown",
   "id": "be5612b5",
   "metadata": {
    "slideshow": {
     "slide_type": "subslide"
    }
   },
   "source": [
    "##### Convert a number to string"
   ]
  },
  {
   "cell_type": "code",
   "execution_count": null,
   "id": "8085cdd2",
   "metadata": {
    "slideshow": {
     "slide_type": "fragment"
    }
   },
   "outputs": [],
   "source": [
    "x=13.4\n",
    "y=65\n",
    "print(x+y)\n",
    "s=str(x)+str(y)\n",
    "print(s)"
   ]
  },
  {
   "cell_type": "markdown",
   "id": "86022dd1",
   "metadata": {
    "slideshow": {
     "slide_type": "subslide"
    }
   },
   "source": [
    "##### Convert a string to int"
   ]
  },
  {
   "cell_type": "code",
   "execution_count": null,
   "id": "81c6ad28",
   "metadata": {
    "slideshow": {
     "slide_type": "fragment"
    }
   },
   "outputs": [],
   "source": [
    "y=int('12')+3\n",
    "print(y)  "
   ]
  },
  {
   "cell_type": "markdown",
   "id": "86afbf61",
   "metadata": {
    "slideshow": {
     "slide_type": "subslide"
    }
   },
   "source": [
    "##### Convert string to float"
   ]
  },
  {
   "cell_type": "code",
   "execution_count": null,
   "id": "2c4b8cba",
   "metadata": {
    "slideshow": {
     "slide_type": "fragment"
    }
   },
   "outputs": [],
   "source": [
    "z=float('3.33e-2')\n",
    "print(z)"
   ]
  },
  {
   "cell_type": "markdown",
   "id": "e37b9e58",
   "metadata": {
    "slideshow": {
     "slide_type": "subslide"
    }
   },
   "source": [
    "##### Implicit Casting\n",
    "Sometimes the Python interpreter implicitly convert one type to another (when feasible)"
   ]
  },
  {
   "cell_type": "code",
   "execution_count": null,
   "id": "95902b6b",
   "metadata": {
    "slideshow": {
     "slide_type": "fragment"
    }
   },
   "outputs": [],
   "source": [
    "x=2\n",
    "print(type(x))\n",
    "x=x+1.1           #Harmless\n",
    "print(type(x))"
   ]
  },
  {
   "cell_type": "code",
   "execution_count": null,
   "id": "a4f75d4d",
   "metadata": {
    "slideshow": {
     "slide_type": "fragment"
    }
   },
   "outputs": [],
   "source": [
    "x=True+4       #not recommended\n",
    "print(x)\n",
    "print(type(x))"
   ]
  },
  {
   "cell_type": "code",
   "execution_count": null,
   "id": "4cf0a94d",
   "metadata": {
    "slideshow": {
     "slide_type": "fragment"
    }
   },
   "outputs": [],
   "source": [
    "x=True+1.1\n",
    "print(type(x))"
   ]
  },
  {
   "cell_type": "markdown",
   "id": "e3b04547",
   "metadata": {
    "slideshow": {
     "slide_type": "slide"
    }
   },
   "source": [
    "#### Reading user input\n",
    "\n",
    "1. use the 'input' function to prompt the user to enter an input.\n",
    "1. If we are expecting a number we must cast it to int or float since the return value of the _input_ function is a string."
   ]
  },
  {
   "cell_type": "code",
   "execution_count": 18,
   "id": "e9fbbfe4",
   "metadata": {
    "slideshow": {
     "slide_type": "fragment"
    }
   },
   "outputs": [
    {
     "name": "stdout",
     "output_type": "stream",
     "text": [
      "Enter an integer 14\n",
      "The user input is  14 its type is  <class 'str'>\n",
      "Converted the input to  <class 'int'>\n"
     ]
    }
   ],
   "source": [
    "user_input=input('Enter an integer ')\n",
    "print(\"The user input is \",user_input,\"its type is \",type(user_input))\n",
    "user_input_int=int(user_input)\n",
    "print(\"Converted the input to \",type(user_input_int))"
   ]
  },
  {
   "cell_type": "markdown",
   "id": "0622bd3c",
   "metadata": {
    "slideshow": {
     "slide_type": "slide"
    }
   },
   "source": [
    "### Example algorithm: Finding the square root\n",
    "Suppose we want to find the square root of a number _x_\n",
    "\n",
    "1. Start with a guess _g_ \n",
    "1. update _g_ using the formula _g=(g+x/g)/2_\n",
    "\n"
   ]
  },
  {
   "cell_type": "code",
   "execution_count": 11,
   "id": "cd1769ed",
   "metadata": {
    "slideshow": {
     "slide_type": "slide"
    }
   },
   "outputs": [
    {
     "name": "stdout",
     "output_type": "stream",
     "text": [
      "enter number 1000\n",
      "enter your guess for square root 16\n"
     ]
    }
   ],
   "source": [
    "#Try the code below to find the square root of 1000 with an initial guess of 15\n",
    "x=float(input('enter number '))\n",
    "g=float(input('enter your guess for square root '))\n",
    "epsilon=0.0001"
   ]
  },
  {
   "cell_type": "code",
   "execution_count": 12,
   "id": "0c216e60",
   "metadata": {
    "slideshow": {
     "slide_type": "slide"
    }
   },
   "outputs": [
    {
     "name": "stdout",
     "output_type": "stream",
     "text": [
      "difference -744.0\n",
      "new guess 39.25 difference= 540.5625 close enough? False\n",
      "new guess 32.363853503184714 difference= 47.41901357560141 close enough? False\n",
      "new guess 31.631261298567683 difference= 0.5366913382656548 close enough? False\n",
      "new guess 31.622777739641595 difference= 7.197077195542079e-05 close enough? True\n",
      "new guess 31.622776601683814 difference= 1.2505552149377763e-12 close enough? True\n"
     ]
    }
   ],
   "source": [
    "r=g*g-x\n",
    "print(\"difference\",r)\n",
    "g=(g+x/g)/2\n",
    "print('new guess',g,'difference=',g*g-x,\"close enough?\",g*g-x<epsilon)\n",
    "g=(g+x/g)/2\n",
    "print('new guess',g,'difference=',g*g-x,\"close enough?\",g*g-x<epsilon)\n",
    "g=(g+x/g)/2\n",
    "print('new guess',g,'difference=',g*g-x,\"close enough?\",g*g-x<epsilon)\n",
    "g=(g+x/g)/2\n",
    "print('new guess',g,'difference=',g*g-x,\"close enough?\",g*g-x<epsilon)\n",
    "g=(g+x/g)/2\n",
    "print('new guess',g,'difference=',g*g-x,\"close enough?\",g*g-x<epsilon)\n"
   ]
  },
  {
   "cell_type": "markdown",
   "id": "ccfa7835",
   "metadata": {
    "slideshow": {
     "slide_type": "slide"
    }
   },
   "source": [
    "### Discussion of the algorithm\n",
    "\n",
    "In the above example we repeated (iterated) the formula g=(g+x/g)/2. In fact we manually repeated the code 5 times.\n",
    "Obviously this is not an efficient way to do it\n",
    "1. What if the algorithm needs 1000's of repetitions? We must have a way to 'automatically' repeat a piece of code\n",
    "1. How do we know a priori how many repetitions are need? We need to be able to check the difference and stop iterattion when the desired accuracy is reached.\n",
    "\n",
    "All the above question will be answered next week when we discuss control structures"
   ]
  },
  {
   "cell_type": "markdown",
   "id": "c51b58d3",
   "metadata": {
    "slideshow": {
     "slide_type": "slide"
    }
   },
   "source": [
    "### Another example: is the input a prime?\n",
    "1. Given a number _n_ we want to check if it is a prime number\n",
    "1. One (inefficient) way of determining the primality of a number **n** is to test its divisibility by all the numbers from 2 to n-1.\n"
   ]
  },
  {
   "cell_type": "markdown",
   "id": "c20f6e18",
   "metadata": {
    "slideshow": {
     "slide_type": "slide"
    }
   },
   "source": [
    "The code below works if the number is 7 because we are testing divisibily by 2...6."
   ]
  },
  {
   "cell_type": "code",
   "execution_count": 13,
   "id": "df732b8d",
   "metadata": {
    "scrolled": true,
    "slideshow": {
     "slide_type": "fragment"
    }
   },
   "outputs": [
    {
     "name": "stdout",
     "output_type": "stream",
     "text": [
      "enter an integer 7\n",
      "divisible by 2? ---> False\n",
      "divisible by 3? ---> False\n",
      "divisible by 4? ---> False\n",
      "divisible by 5? ---> False\n",
      "divisible by 6? ---> False\n"
     ]
    }
   ],
   "source": [
    "x=int(input(\"enter an integer \"))\n",
    "print(\"divisible by 2? --->\",x%2==0)\n",
    "print(\"divisible by 3? --->\",x%3==0)\n",
    "print(\"divisible by 4? --->\",x%4==0)\n",
    "print(\"divisible by 5? --->\",x%5==0)\n",
    "print(\"divisible by 6? --->\",x%6==0)"
   ]
  },
  {
   "cell_type": "markdown",
   "id": "8c76fc80",
   "metadata": {
    "slideshow": {
     "slide_type": "slide"
    }
   },
   "source": [
    "\n",
    "Obviously for each input we need to modify the code. To write a code that works for all input we need something like\n",
    "\n",
    "Input: **n**\n",
    "algorithm: \n",
    "1. **for each value i from 2 to n-1 do**\n",
    "1.   **if n is divisible by i then report not prime and exit**\n",
    "1. **when all tests are negative report prime**  \n"
   ]
  },
  {
   "cell_type": "markdown",
   "id": "2006daf5",
   "metadata": {
    "slideshow": {
     "slide_type": "slide"
    }
   },
   "source": [
    "## Expressions\n",
    "\n",
    "An expression is a statement containing one or more variables with one or more operators"
   ]
  },
  {
   "cell_type": "code",
   "execution_count": null,
   "id": "933dd97b",
   "metadata": {
    "slideshow": {
     "slide_type": "fragment"
    }
   },
   "outputs": [],
   "source": [
    "x,y=2,12\n",
    "-2*x+8==y/3"
   ]
  },
  {
   "cell_type": "markdown",
   "id": "af244c24",
   "metadata": {
    "slideshow": {
     "slide_type": "fragment"
    }
   },
   "source": [
    "How is an expression evaluated when there are multiple operators?"
   ]
  },
  {
   "cell_type": "markdown",
   "id": "a0df14b4",
   "metadata": {
    "slideshow": {
     "slide_type": "slide"
    }
   },
   "source": [
    "## Operator Precedence\n",
    "\n",
    "Here is a list of operator precedence starting from the highest (partial list)\n",
    "\n",
    "1. () parenthesis \n",
    "1. function call.\n",
    "1. exponentiation '**'\n",
    "1. unary minus '-'\n",
    "1. *,/,//,%\n",
    "1. +,-\n",
    "1. <,>,<=,>=,==,!=\n",
    "1. not\n",
    "1. and\n",
    "1. or\n",
    "1. =\n"
   ]
  },
  {
   "cell_type": "code",
   "execution_count": null,
   "id": "104a5488",
   "metadata": {
    "scrolled": true,
    "slideshow": {
     "slide_type": "subslide"
    }
   },
   "outputs": [],
   "source": [
    "x=2+2**2\n",
    "print(\"x=\",x,\"not 16\")"
   ]
  },
  {
   "cell_type": "code",
   "execution_count": null,
   "id": "cbcab7a3",
   "metadata": {
    "slideshow": {
     "slide_type": "subslide"
    }
   },
   "outputs": [],
   "source": [
    "x=8**1/2 # ** has higher precedence than /\n",
    "print(\"x=\",x,\"i.e. 8/2 not square root of 8\")"
   ]
  },
  {
   "cell_type": "code",
   "execution_count": null,
   "id": "11ff6fbb",
   "metadata": {
    "scrolled": true,
    "slideshow": {
     "slide_type": "subslide"
    }
   },
   "outputs": [],
   "source": [
    "x=3+4*2 # * has higher precedence than +\n",
    "print(\"x=\",x,\"not 14\")"
   ]
  },
  {
   "cell_type": "code",
   "execution_count": null,
   "id": "b8ef4d58",
   "metadata": {
    "slideshow": {
     "slide_type": "subslide"
    }
   },
   "outputs": [],
   "source": [
    "x=-2**2 # ** has higher precedence than unary minus\n",
    "print(\"x=\",x,\"not 4\")"
   ]
  },
  {
   "cell_type": "code",
   "execution_count": null,
   "id": "70d4ab77",
   "metadata": {
    "slideshow": {
     "slide_type": "subslide"
    }
   },
   "outputs": [],
   "source": [
    "x=not 2>3 or 7>=3  # not has higher precedence than or\n",
    "y=not (2>3 or 7>=3)\n",
    "print(\"x=\",x,\".It is not\",y)"
   ]
  },
  {
   "cell_type": "code",
   "execution_count": null,
   "id": "e0130b32",
   "metadata": {
    "slideshow": {
     "slide_type": "subslide"
    }
   },
   "outputs": [],
   "source": [
    "x=6>5 or 12<10 and 10>12 # and has higher precedence than or\n",
    "y=(6>5 or 12<10) and 10>12\n",
    "print(\"x=\",x,\".It is not\",y)"
   ]
  },
  {
   "cell_type": "markdown",
   "id": "16298d17",
   "metadata": {
    "slideshow": {
     "slide_type": "slide"
    }
   },
   "source": [
    "### Importing modules"
   ]
  },
  {
   "cell_type": "code",
   "execution_count": 4,
   "id": "ccdf1119",
   "metadata": {
    "slideshow": {
     "slide_type": "subslide"
    }
   },
   "outputs": [
    {
     "data": {
      "text/plain": [
       "2.302585092994046"
      ]
     },
     "execution_count": 4,
     "metadata": {},
     "output_type": "execute_result"
    }
   ],
   "source": [
    "import math\n",
    "\n",
    "math.log(10)\n"
   ]
  },
  {
   "cell_type": "markdown",
   "id": "148ec7df",
   "metadata": {
    "slideshow": {
     "slide_type": "subslide"
    }
   },
   "source": [
    "There is **no** function **log10**: it is **math.log10**"
   ]
  },
  {
   "cell_type": "code",
   "execution_count": 5,
   "id": "d025a195",
   "metadata": {
    "scrolled": false,
    "slideshow": {
     "slide_type": "fragment"
    }
   },
   "outputs": [
    {
     "ename": "NameError",
     "evalue": "name 'log10' is not defined",
     "output_type": "error",
     "traceback": [
      "\u001b[1;31m---------------------------------------------------------------------------\u001b[0m",
      "\u001b[1;31mNameError\u001b[0m                                 Traceback (most recent call last)",
      "\u001b[1;32m<ipython-input-5-c3de3ee32f62>\u001b[0m in \u001b[0;36m<module>\u001b[1;34m\u001b[0m\n\u001b[1;32m----> 1\u001b[1;33m \u001b[0mlog10\u001b[0m\u001b[1;33m(\u001b[0m\u001b[1;36m10\u001b[0m\u001b[1;33m)\u001b[0m\u001b[1;33m\u001b[0m\u001b[1;33m\u001b[0m\u001b[0m\n\u001b[0m",
      "\u001b[1;31mNameError\u001b[0m: name 'log10' is not defined"
     ]
    }
   ],
   "source": [
    "log10(10)\n"
   ]
  },
  {
   "cell_type": "code",
   "execution_count": 6,
   "id": "2c9403c9",
   "metadata": {
    "slideshow": {
     "slide_type": "fragment"
    }
   },
   "outputs": [
    {
     "data": {
      "text/plain": [
       "1.0"
      ]
     },
     "execution_count": 6,
     "metadata": {},
     "output_type": "execute_result"
    }
   ],
   "source": [
    "math.log10(10)"
   ]
  },
  {
   "cell_type": "code",
   "execution_count": 7,
   "id": "8642c938",
   "metadata": {
    "slideshow": {
     "slide_type": "fragment"
    }
   },
   "outputs": [
    {
     "data": {
      "text/plain": [
       "1.0"
      ]
     },
     "execution_count": 7,
     "metadata": {},
     "output_type": "execute_result"
    }
   ],
   "source": [
    "math.log(math.e)"
   ]
  },
  {
   "cell_type": "markdown",
   "id": "c6257832",
   "metadata": {
    "slideshow": {
     "slide_type": "slide"
    }
   },
   "source": [
    "Instead of using the qualifier math.log,math.log10,...etc we can import as follows"
   ]
  },
  {
   "cell_type": "code",
   "execution_count": 8,
   "id": "6b7ea768",
   "metadata": {
    "slideshow": {
     "slide_type": "fragment"
    }
   },
   "outputs": [
    {
     "data": {
      "text/plain": [
       "1.0"
      ]
     },
     "execution_count": 8,
     "metadata": {},
     "output_type": "execute_result"
    }
   ],
   "source": [
    "from math import log,log2,log10,e\n",
    "log10(10)\n",
    "log2(2)\n",
    "log(e)"
   ]
  },
  {
   "cell_type": "markdown",
   "id": "58375cee",
   "metadata": {
    "slideshow": {
     "slide_type": "slide"
    }
   },
   "source": [
    "### Computing e\n",
    "By definition log(e)=1 or log(e)-1=0. Therefore e is the root of the function log(x)-1. A simple method for finding the root of a function is the Newton method (later in the course). For this example it is sufficient to know that the root of log(e)-1\n",
    "can be found by iterating (as we did for finding the square root):  g=g-(log(g)-1)*g.\n",
    "\n",
    "**NOTE** since the log of a negative number is undefined make sure you initial guess is strictly positive and less or equal to 7"
   ]
  },
  {
   "cell_type": "code",
   "execution_count": 9,
   "id": "db795e32",
   "metadata": {
    "slideshow": {
     "slide_type": "slide"
    }
   },
   "outputs": [
    {
     "name": "stdout",
     "output_type": "stream",
     "text": [
      "e is  2.718281828459045\n",
      "enter guess 5\n",
      "1.9528104378294984\n",
      "2.598664244074909\n",
      "2.7156104738951616\n",
      "2.718280515410132\n"
     ]
    }
   ],
   "source": [
    "from math import log,e\n",
    "x=1\n",
    "print(\"e is \",e)\n",
    "g=float(input(\"enter guess \"))\n",
    "g=g-(log(g)-1)*g\n",
    "print(g)\n",
    "g=g-(log(g)-1)*g\n",
    "print(g)\n",
    "g=g-(log(g)-1)*g\n",
    "print(g)\n",
    "g=g-(log(g)-1)*g\n",
    "print(g)"
   ]
  }
 ],
 "metadata": {
  "celltoolbar": "Slideshow",
  "interpreter": {
   "hash": "63fd5069d213b44bf678585dea6b12cceca9941eaf7f819626cde1f2670de90d"
  },
  "kernelspec": {
   "display_name": "Python 3",
   "language": "python",
   "name": "python3"
  },
  "language_info": {
   "codemirror_mode": {
    "name": "ipython",
    "version": 3
   },
   "file_extension": ".py",
   "mimetype": "text/x-python",
   "name": "python",
   "nbconvert_exporter": "python",
   "pygments_lexer": "ipython3",
   "version": "3.9.6"
  }
 },
 "nbformat": 4,
 "nbformat_minor": 5
}
