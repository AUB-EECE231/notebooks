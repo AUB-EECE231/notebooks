{
 "cells": [
  {
   "cell_type": "markdown",
   "id": "d2cac224",
   "metadata": {},
   "source": [
    "### Problem 1"
   ]
  },
  {
   "cell_type": "code",
   "execution_count": null,
   "id": "fae9a60a",
   "metadata": {},
   "outputs": [],
   "source": [
    "def update(positive,negative):\n",
    "    print(f'The number of non-neg numbers is {len(positive)}')\n",
    "    print(f'The sum of those non-neg numbers is {sum(positive)}')\n",
    "    if len(positive)>0:\n",
    "        print(f'The average of non-neg numbers is {sum(positive)/len(positive)}')\n",
    "    else:\n",
    "        print(f'The average of non-neg numbers is 0')\n",
    "\n",
    "    print(f'The number of neg numbers is {len(negative)}')\n",
    "    print(f'The sum of those neg numbers is {sum(negative)}')\n",
    "    if len(negative)>0:\n",
    "        print(f'The average of neg numbers is {sum(negative)/len(negative)}')\n",
    "    else:\n",
    "        print(f'The average of neg numbers is 0')\n",
    "\n",
    "def problem1():  \n",
    "    positive=[]\n",
    "    negative=[]\n",
    "    while True:\n",
    "        user_input=input(\"Please enter a new data point: \")\n",
    "        if user_input==\"*\":\n",
    "            break\n",
    "        val=int(user_input)\n",
    "        if val>=0:\n",
    "            positive.append(val)\n",
    "            update(positive,negative)\n",
    "        else:\n",
    "            negative.append(val)\n",
    "            update(positive,negative)\n",
    "problem1()"
   ]
  },
  {
   "cell_type": "markdown",
   "id": "74245178",
   "metadata": {},
   "source": [
    "### Problem2"
   ]
  },
  {
   "cell_type": "code",
   "execution_count": 75,
   "id": "bb13c101",
   "metadata": {},
   "outputs": [
    {
     "name": "stdout",
     "output_type": "stream",
     "text": [
      "Please enter a PMF: 4 3 2 1\n",
      "it has been normalized to \n",
      "0.400 0.300 0.200 0.100 \n",
      "The median of the array is 1\n",
      "The array is not unimodal\n"
     ]
    }
   ],
   "source": [
    "def problem2():\n",
    "    def normalize(vals):\n",
    "        total=sum(vals)\n",
    "        if total!=1:\n",
    "            print(\"it has been normalized to \")\n",
    "            for i in range(len(vals)):\n",
    "                vals[i]=vals[i]/total\n",
    "                print(f\"{vals[i]:0.3f}\",end=' ')\n",
    "            print(\"\")\n",
    "        return vals\n",
    "    def median(vals):\n",
    "        acc,i=0,-1\n",
    "        while acc<0.5:\n",
    "            i+=1\n",
    "            acc+=vals[i]\n",
    "        return i\n",
    "    def unimodal(vals):\n",
    "        i,n=0,len(vals)\n",
    "        r=True\n",
    "        while i<n-1 and vals[i+1]>=vals[i]:\n",
    "            i+=1\n",
    "        start=i\n",
    "        if start==n-1 or start==0:\n",
    "            return start,False\n",
    "        for i in range(start,n-1):\n",
    "            if vals[i+1]>vals[i]:\n",
    "                r=False\n",
    "                break\n",
    "        \n",
    "        return start,r\n",
    "\n",
    "    str=input(\"Please enter a PMF: \")\n",
    "    vals=[float(x) for x in str.split()]\n",
    "    neg=[ x<0 for x in vals]\n",
    "    if any(neg):\n",
    "        print(\"The data is not valid PMF\")\n",
    "        return\n",
    "    \n",
    "    vals=normalize(vals)\n",
    "    m=median(vals)\n",
    "    print(f\"The median of the array is {m}\")\n",
    "    r=unimodal(vals)\n",
    "    if r[1]==False:\n",
    "        print(\"The array is not unimodal\")\n",
    "    else:\n",
    "        print(f\"The array is unimodal, its mode is {r[0]}\")\n",
    "problem2()"
   ]
  },
  {
   "cell_type": "code",
   "execution_count": 27,
   "id": "6288cf27",
   "metadata": {
    "scrolled": true
   },
   "outputs": [
    {
     "name": "stdout",
     "output_type": "stream",
     "text": [
      "Please enter PMF: 1 2 3 4 2 2\n",
      "not normalized\n",
      "normalized is \n",
      "0.071 0.143 0.214 0.286 0.143 0.143 \n",
      "The median of the array is 3\n",
      "unimodal with mode 3\n"
     ]
    }
   ],
   "source": [
    "pmf()"
   ]
  },
  {
   "cell_type": "markdown",
   "id": "4f6c4a3e",
   "metadata": {},
   "source": [
    "### Problem3"
   ]
  },
  {
   "cell_type": "code",
   "execution_count": 30,
   "id": "b5fe3961",
   "metadata": {},
   "outputs": [
    {
     "data": {
      "text/plain": [
       "True"
      ]
     },
     "execution_count": 30,
     "metadata": {},
     "output_type": "execute_result"
    }
   ],
   "source": [
    "## part a\n",
    "def problem3(seq):\n",
    "    if 1 in seq and 2 in seq and 3 in seq:\n",
    "        return True\n",
    "    else:\n",
    "        return False\n",
    "problem3([9,8,2,33,1,9,4,3,56])"
   ]
  },
  {
   "cell_type": "code",
   "execution_count": 76,
   "id": "8127c26f",
   "metadata": {},
   "outputs": [],
   "source": [
    "# part b\n",
    "a=[7,3,18,3,6,99,8,6,88,4]\n",
    "def consec(a):\n",
    "    a.sort()\n",
    "    val,count=a[0],1\n",
    "    print(a)\n",
    "    for i,v in enumerate(a):\n",
    "        if v==val:\n",
    "            continue\n",
    "        if v==val+1:\n",
    "            count+=1\n",
    "        else:\n",
    "            count=1\n",
    "        if count==3:\n",
    "            return a[i-2:i+1],True\n",
    "        val=v\n",
    "    return None,False"
   ]
  },
  {
   "cell_type": "code",
   "execution_count": 77,
   "id": "92cd8a96",
   "metadata": {
    "scrolled": true
   },
   "outputs": [
    {
     "name": "stdout",
     "output_type": "stream",
     "text": [
      "[3, 3, 6, 6, 8, 8, 19, 20, 88, 99]\n"
     ]
    },
    {
     "data": {
      "text/plain": [
       "(None, False)"
      ]
     },
     "execution_count": 77,
     "metadata": {},
     "output_type": "execute_result"
    }
   ],
   "source": [
    "consec([19,3,8,3,6,99,8,6,88,20])"
   ]
  },
  {
   "cell_type": "markdown",
   "id": "6dc67526",
   "metadata": {},
   "source": [
    "### Problem4"
   ]
  },
  {
   "cell_type": "code",
   "execution_count": 78,
   "id": "cf245d4d",
   "metadata": {},
   "outputs": [],
   "source": [
    "def f(x):\n",
    "    return x**2\n",
    "\n",
    "def integral(a,b,step,f):\n",
    "    start,end,acc=a,a,0\n",
    "    while end <b:\n",
    "        end=start+step\n",
    "        mid=start+step/2\n",
    "        val=f(mid)\n",
    "        acc=acc+val*step\n",
    "        start=end\n",
    "    return acc\n",
    "def fine(a,b,f):\n",
    "    step=b-a\n",
    "    previous=integral(a,b,step,f)\n",
    "    step/=2\n",
    "    next=integral(a,b,step,f)\n",
    "    while abs(previous-next)>1e-6:\n",
    "        step/=2\n",
    "        previous=next\n",
    "        next=integral(a,b,step,f)\n",
    "    print(step)\n",
    "    return next"
   ]
  },
  {
   "cell_type": "code",
   "execution_count": 79,
   "id": "2b885598",
   "metadata": {},
   "outputs": [
    {
     "name": "stdout",
     "output_type": "stream",
     "text": [
      "0.000732421875\n"
     ]
    },
    {
     "data": {
      "text/plain": [
       "8.99999986588955"
      ]
     },
     "execution_count": 79,
     "metadata": {},
     "output_type": "execute_result"
    }
   ],
   "source": [
    "fine(0,3,f)"
   ]
  },
  {
   "cell_type": "code",
   "execution_count": null,
   "id": "b295e825",
   "metadata": {},
   "outputs": [],
   "source": []
  }
 ],
 "metadata": {
  "kernelspec": {
   "display_name": "Python 3",
   "language": "python",
   "name": "python3"
  },
  "language_info": {
   "codemirror_mode": {
    "name": "ipython",
    "version": 3
   },
   "file_extension": ".py",
   "mimetype": "text/x-python",
   "name": "python",
   "nbconvert_exporter": "python",
   "pygments_lexer": "ipython3",
   "version": "3.9.6"
  }
 },
 "nbformat": 4,
 "nbformat_minor": 5
}
