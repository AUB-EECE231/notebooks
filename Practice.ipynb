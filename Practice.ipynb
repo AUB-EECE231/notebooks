{
 "cells": [
  {
   "cell_type": "markdown",
   "source": [
    "### Problem 1"
   ],
   "metadata": {}
  },
  {
   "cell_type": "code",
   "execution_count": null,
   "source": [
    "## collect all the print statements in one function\r\n",
    "def update(positive,negative):\r\n",
    "    print(f'The number of non-neg numbers is {len(positive)}')\r\n",
    "    print(f'The sum of those non-neg numbers is {sum(positive)}')\r\n",
    "    # beware of division by 0\r\n",
    "    if len(positive)>0:\r\n",
    "        print(f'The average of non-neg numbers is {sum(positive)/len(positive)}')\r\n",
    "    else:\r\n",
    "        print(f'The average of non-neg numbers is 0')\r\n",
    "\r\n",
    "    print(f'The number of neg numbers is {len(negative)}')\r\n",
    "    print(f'The sum of those neg numbers is {sum(negative)}')\r\n",
    "    if len(negative)>0:\r\n",
    "        print(f'The average of neg numbers is {sum(negative)/len(negative)}')\r\n",
    "    else:\r\n",
    "        print(f'The average of neg numbers is 0')\r\n",
    "\r\n",
    "def problem1():  \r\n",
    "    positive=[]\r\n",
    "    negative=[]\r\n",
    "    while True:\r\n",
    "        user_input=input(\"Please enter a new data point: \")\r\n",
    "        if user_input==\"*\":\r\n",
    "            break\r\n",
    "        val=int(user_input)\r\n",
    "        if val>=0:\r\n",
    "            positive.append(val)\r\n",
    "            update(positive,negative)\r\n",
    "        else:\r\n",
    "            negative.append(val)\r\n",
    "            update(positive,negative)\r\n",
    "problem1()"
   ],
   "outputs": [],
   "metadata": {}
  },
  {
   "cell_type": "markdown",
   "source": [
    "### Problem2"
   ],
   "metadata": {}
  },
  {
   "cell_type": "code",
   "execution_count": null,
   "source": [
    "## The problem has many requirements\r\n",
    "## divide each requirement as a inner function\r\n",
    "## not necessary but leads to cleaner code\r\n",
    "## and easier to debug\r\n",
    "def problem2():\r\n",
    "    def normalize(vals):\r\n",
    "        total=sum(vals)\r\n",
    "        if total!=1:\r\n",
    "            print(\"it has been normalized to \")\r\n",
    "            for i in range(len(vals)):\r\n",
    "                vals[i]=vals[i]/total\r\n",
    "                print(f\"{vals[i]:0.3f}\",end=' ')\r\n",
    "            print(\"\")\r\n",
    "        return vals\r\n",
    "    def median(vals):\r\n",
    "        acc,i=0,-1\r\n",
    "        while acc<0.5:\r\n",
    "            i+=1\r\n",
    "            acc+=vals[i]\r\n",
    "        return i\r\n",
    "    def unimodal(vals):\r\n",
    "        i,n=0,len(vals)\r\n",
    "        r=True\r\n",
    "        while i<n-1 and vals[i+1]>=vals[i]:\r\n",
    "            i+=1\r\n",
    "        start=i\r\n",
    "        if start==n-1 or start==0:\r\n",
    "            return start,False\r\n",
    "        for i in range(start,n-1):\r\n",
    "            if vals[i+1]>vals[i]:\r\n",
    "                r=False\r\n",
    "                break\r\n",
    "        \r\n",
    "        return start,r\r\n",
    "\r\n",
    "    str=input(\"Please enter a PMF: \")\r\n",
    "    vals=[float(x) for x in str.split()]\r\n",
    "    neg=[ x<0 for x in vals]\r\n",
    "    if any(neg):\r\n",
    "        print(\"The data is not valid PMF\")\r\n",
    "        return\r\n",
    "    \r\n",
    "    vals=normalize(vals)\r\n",
    "    m=median(vals)\r\n",
    "    print(f\"The median of the array is {m}\")\r\n",
    "    r=unimodal(vals)\r\n",
    "    if r[1]==False:\r\n",
    "        print(\"The array is not unimodal\")\r\n",
    "    else:\r\n",
    "        print(f\"The array is unimodal, its mode is {r[0]}\")\r\n",
    "problem2()"
   ],
   "outputs": [],
   "metadata": {}
  },
  {
   "cell_type": "code",
   "execution_count": null,
   "source": [
    "pmf()"
   ],
   "outputs": [],
   "metadata": {
    "scrolled": true
   }
  },
  {
   "cell_type": "markdown",
   "source": [
    "### Problem3"
   ],
   "metadata": {}
  },
  {
   "cell_type": "code",
   "execution_count": null,
   "source": [
    "## part a\r\n",
    "def problem3(seq):\r\n",
    "    if 1 in seq and 2 in seq and 3 in seq:\r\n",
    "        return True\r\n",
    "    else:\r\n",
    "        return False\r\n",
    "problem3([9,8,2,33,1,9,4,3,56])"
   ],
   "outputs": [],
   "metadata": {}
  },
  {
   "cell_type": "code",
   "execution_count": 19,
   "source": [
    "## part b,no sorting\r\n",
    "## O(n^2) very slow\r\n",
    "def consec(a):\r\n",
    "    for v in a: # O(n)\r\n",
    "        if (v+1) in a and (v+2) in a: # value in list expression is O(n)\r\n",
    "            return [v,v+1,v+2]\r\n",
    "    return []\r\n",
    "\r\n",
    "# test for correctness using a simple case\r\n",
    "a=[7,19,38,45,6,18,23,8,14]\r\n",
    "r=consec(a)\r\n",
    "print(r)\r\n",
    "# test the worst case, no triplet in list a satisfied the criterion \r\n",
    "a=[x for x in range(0,70000,2)]\r\n",
    "r=consec(a)\r\n",
    "print(r)"
   ],
   "outputs": [
    {
     "output_type": "stream",
     "name": "stdout",
     "text": [
      "[6, 7, 8]\n",
      "[]\n"
     ]
    }
   ],
   "metadata": {}
  },
  {
   "cell_type": "code",
   "execution_count": 17,
   "source": [
    "# part b\r\n",
    "# O(n log n) much faster\r\n",
    "# returns an empty list if no triplet is found, otherwise return a list of the three values\r\n",
    "# NOTE: using this method we can no longer determine the indices of the triplet.\r\n",
    "a=[7,3,18,3,6,99,8,6,88,4]\r\n",
    "def consec(a):\r\n",
    "    a.sort()    # O(n log n)\r\n",
    "    val,count=a[0],1\r\n",
    "    for i,v in enumerate(a): # O(n)\r\n",
    "        if v==val:\r\n",
    "            continue\r\n",
    "        if v==val+1:\r\n",
    "            count+=1\r\n",
    "        else:\r\n",
    "            count=1\r\n",
    "        if count==3:\r\n",
    "            return a[i-2:i+1]\r\n",
    "        val=v\r\n",
    "    return []\r\n",
    "# test a simple case for correctness\r\n",
    "a=[7,19,38,45,6,18,23,8,14]\r\n",
    "r=consec(a)\r\n",
    "print(r)\r\n",
    "# test the worst case and compare the running time with previous solution, no triplet in list a satisfies the criterion \r\n",
    "a=[x for x in range(0,70000,2)]\r\n",
    "r=consec(a)\r\n",
    "print(r)"
   ],
   "outputs": [
    {
     "output_type": "stream",
     "name": "stdout",
     "text": [
      "[6, 7, 8]\n",
      "[]\n"
     ]
    }
   ],
   "metadata": {}
  },
  {
   "cell_type": "markdown",
   "source": [
    "### Problem4"
   ],
   "metadata": {}
  },
  {
   "cell_type": "code",
   "execution_count": null,
   "source": [
    "def f(x):\r\n",
    "    return x**2\r\n",
    "\r\n",
    "def integral(a,b,step,f):\r\n",
    "    start,end,acc=a,a,0\r\n",
    "    while end <b:\r\n",
    "        end=start+step\r\n",
    "        mid=start+step/2\r\n",
    "        val=f(mid)\r\n",
    "        acc=acc+val*step\r\n",
    "        start=end\r\n",
    "    return acc\r\n",
    "def fine(a,b,f):\r\n",
    "    step=b-a\r\n",
    "    previous=integral(a,b,step,f)\r\n",
    "    step/=2\r\n",
    "    next=integral(a,b,step,f)\r\n",
    "    while abs(previous-next)>1e-6:\r\n",
    "        step/=2\r\n",
    "        previous=next\r\n",
    "        next=integral(a,b,step,f)\r\n",
    "    print(step)\r\n",
    "    return next"
   ],
   "outputs": [],
   "metadata": {}
  },
  {
   "cell_type": "code",
   "execution_count": null,
   "source": [
    "fine(0,3,f)"
   ],
   "outputs": [],
   "metadata": {}
  },
  {
   "cell_type": "code",
   "execution_count": null,
   "source": [],
   "outputs": [],
   "metadata": {}
  }
 ],
 "metadata": {
  "kernelspec": {
   "name": "python3",
   "display_name": "Python 3.9.6 64-bit"
  },
  "language_info": {
   "codemirror_mode": {
    "name": "ipython",
    "version": 3
   },
   "file_extension": ".py",
   "mimetype": "text/x-python",
   "name": "python",
   "nbconvert_exporter": "python",
   "pygments_lexer": "ipython3",
   "version": "3.9.6"
  },
  "interpreter": {
   "hash": "63fd5069d213b44bf678585dea6b12cceca9941eaf7f819626cde1f2670de90d"
  }
 },
 "nbformat": 4,
 "nbformat_minor": 5
}