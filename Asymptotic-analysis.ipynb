{
 "cells": [
  {
   "cell_type": "markdown",
   "id": "2d4dee57",
   "metadata": {},
   "source": [
    "# Time Complexity and Asymptotic Analysis"
   ]
  },
  {
   "cell_type": "markdown",
   "id": "8c32a225",
   "metadata": {},
   "source": [
    "### Max  subarray sum"
   ]
  },
  {
   "cell_type": "code",
   "execution_count": 2,
   "id": "9b98b295",
   "metadata": {},
   "outputs": [],
   "source": [
    "# First version of max_subarray sum\n",
    "# from your previous homework\n",
    "\n",
    "from random import randint\n",
    "def max_subarray1(seq):\n",
    "    n=len(seq)\n",
    "    start,end=0,0\n",
    "    max=seq[0]\n",
    "    for i in range(n):\n",
    "        for j in range(i,n):\n",
    "            sum=0\n",
    "            for k in range(i,j+1):\n",
    "                sum+=seq[k]\n",
    "            if sum >max:\n",
    "                start,end=i,j\n",
    "                max=sum\n",
    "    return max,start,end\n"
   ]
  },
  {
   "cell_type": "markdown",
   "id": "5e2f5030",
   "metadata": {},
   "source": [
    "### Complexity\n",
    "\n",
    "- **First note** that does not stop early under any condition\n",
    "- So the first/best/average case complexity is the same\n",
    "- There are 3 nested loops:\n",
    "    - $0\\le i < n$  **exactly** $n$ times\n",
    "    - $i\\le j< n$   **at most** $n$ times\n",
    "    - $i\\le k\\le j$ **at most** $n$ times\n",
    "- Since there is constant work inside the $k$ loop the complexity os bounded from above by $n\\cdot n\\cdot n$.\n",
    "    - i.e. $O(n^3)$\n",
    "- Could it be $\\Theta(n^3)$, $\\Theta(n^2)$, or even $\\Theta(n)$?\n",
    "- In fact it is $\\Theta(n^3)$. \n",
    "- For an exact derivation check the end of this document under the section **Extra**"
   ]
  },
  {
   "cell_type": "markdown",
   "id": "dad0280c",
   "metadata": {},
   "source": [
    "### Second version"
   ]
  },
  {
   "cell_type": "code",
   "execution_count": 4,
   "id": "fe6c3e1e",
   "metadata": {},
   "outputs": [],
   "source": [
    "def max_subarray2(seq):\n",
    "    n=len(seq)\n",
    "    start,end=0,0\n",
    "    max=seq[0]\n",
    "    for i in range(n):\n",
    "        sum=0\n",
    "        for j in range(i,n):\n",
    "            sum+=seq[j]\n",
    "            if sum >max:\n",
    "                start,end=i,j\n",
    "                max=sum\n",
    "    return max,start,end\n"
   ]
  },
  {
   "cell_type": "markdown",
   "id": "deac666d",
   "metadata": {},
   "source": [
    "### Complexity\n",
    "\n",
    "- IT is clear that the outer loop is performed $\\Theta(n)$ times.\n",
    "- But the inner loops is **not** from 0 to n-1, it is from $i$ to $n-1$\n",
    "- This case is simple enough to derive an exact expression\n",
    "- Since the work done inside the $j$ loop is constant we can write\n",
    "$$\\begin{align*}\n",
    "cost&=\\sum_{i=0}^{n-1}\\sum_{j=i}^{n-1}  C \\\\\n",
    "     &=C\\sum_{i=0}^{n-1}(n-i)=C\\left[n^2-\\sum_{i=0}^{n-1}i\\right]=C\\frac{n^2+n}{2}\\\\\n",
    "     &=\\Theta(n^2)\n",
    "\\end{align*}\n",
    "$$"
   ]
  },
  {
   "cell_type": "markdown",
   "id": "621af8e6",
   "metadata": {},
   "source": [
    "### In reality"
   ]
  },
  {
   "cell_type": "code",
   "execution_count": 5,
   "id": "81ba2181",
   "metadata": {},
   "outputs": [
    {
     "name": "stdout",
     "output_type": "stream",
     "text": [
      "200\n",
      "400\n",
      "600\n",
      "800\n",
      "1000\n",
      "1200\n"
     ]
    }
   ],
   "source": [
    "\n",
    "import timeit as t\n",
    "repeat=1\n",
    "square=[]\n",
    "cube=[]\n",
    "xaxis=[]\n",
    "for i in range(200,1400,200):\n",
    "    size=i\n",
    "    a=t.timeit('seq=[randint(-30,50) for i in range(size)];max_subarray1(seq)',\n",
    "         setup='from __main__ import max_subarray1;from random import randint',\n",
    "         number=repeat,globals=globals())\n",
    "    b=t.timeit('seq=[randint(-30,50) for i in range(size)];max_subarray2(seq)',\n",
    "         setup='from __main__ import max_subarray2;from random import randint',\n",
    "        number=repeat,globals=globals())\n",
    "    cube.append(a)\n",
    "    xaxis.append(i)\n",
    "    print(i)\n",
    "    square.append(b)\n",
    "    "
   ]
  },
  {
   "cell_type": "code",
   "execution_count": 7,
   "id": "9c38283e",
   "metadata": {
    "scrolled": true
   },
   "outputs": [
    {
     "name": "stdout",
     "output_type": "stream",
     "text": [
      "[0.00137520000000535, 0.005511699999999564, 0.02114790000000255, 0.021264799999997308, 0.03507150000000081, 0.04731660000000204]\n",
      "[0.11732210000000265, 0.5869609000000011, 2.124633600000003, 5.052306999999999, 9.749894000000005, 16.901245099999997]\n"
     ]
    },
    {
     "data": {
      "image/png": "[encoded data removed]",
      "text/plain": [
       "<Figure size 432x288 with 1 Axes>"
      ]
     },
     "metadata": {
      "needs_background": "light"
     },
     "output_type": "display_data"
    }
   ],
   "source": [
    "import matplotlib.pyplot as plt\n",
    "plt.plot(xaxis,square)\n",
    "plt.plot(xaxis,cube)\n",
    "plt.show()"
   ]
  },
  {
   "cell_type": "markdown",
   "id": "a79f147e",
   "metadata": {},
   "source": [
    "### Comparing with $n^3$"
   ]
  },
  {
   "cell_type": "code",
   "execution_count": 8,
   "id": "c610f211",
   "metadata": {
    "scrolled": true
   },
   "outputs": [
    {
     "name": "stdout",
     "output_type": "stream",
     "text": [
      "[1.4665262500000331e-08, 9.171264062500018e-09, 9.83626666666668e-09, 9.867787109374998e-09, 9.749894000000006e-09, 9.780813136574072e-09]\n"
     ]
    },
    {
     "data": {
      "image/png": "[encoded data removed]",
      "text/plain": [
       "<Figure size 432x288 with 1 Axes>"
      ]
     },
     "metadata": {
      "needs_background": "light"
     },
     "output_type": "display_data"
    }
   ],
   "source": [
    "#print(cube[-3:])\n",
    "ratio=[x/(y**3) for x,y in zip(cube,xaxis) ]\n",
    "print(ratio)\n",
    "plt.plot(xaxis,ratio)\n",
    "plt.show()"
   ]
  },
  {
   "cell_type": "markdown",
   "id": "acdebe65",
   "metadata": {},
   "source": [
    "### Comparing with $n^2$"
   ]
  },
  {
   "cell_type": "code",
   "execution_count": 19,
   "id": "01e6912d",
   "metadata": {},
   "outputs": [],
   "source": [
    "import timeit as t\n",
    "repeat=5\n",
    "square=[]\n",
    "xaxis=[]\n",
    "for i in range(200,5000,200):\n",
    "    size=i\n",
    "    b=t.timeit('seq=[randint(-30,50) for i in range(size)];max_subarray2(seq)',\n",
    "         setup='from __main__ import max_subarray2;from random import randint',\n",
    "        number=repeat,globals=globals())\n",
    "    xaxis.append(i)\n",
    "    square.append(b)\n",
    "    "
   ]
  },
  {
   "cell_type": "code",
   "execution_count": 20,
   "id": "aca627f5",
   "metadata": {},
   "outputs": [
    {
     "data": {
      "text/plain": [
       "[<matplotlib.lines.Line2D at 0x22f7d153640>]"
      ]
     },
     "execution_count": 20,
     "metadata": {},
     "output_type": "execute_result"
    },
    {
     "data": {
      "image/png": "[encoded data removed]",
      "text/plain": [
       "<Figure size 432x288 with 1 Axes>"
      ]
     },
     "metadata": {
      "needs_background": "light"
     },
     "output_type": "display_data"
    }
   ],
   "source": [
    "ratio=[x/(y**2) for x,y in zip(square,xaxis) ]\n",
    "plt.plot(xaxis,ratio)"
   ]
  },
  {
   "cell_type": "markdown",
   "id": "a90351ec",
   "metadata": {},
   "source": [
    "[compare](https://www.online-python.com/AkjW7gsBvI)"
   ]
  },
  {
   "cell_type": "code",
   "execution_count": 23,
   "id": "b413ad3b",
   "metadata": {},
   "outputs": [
    {
     "name": "stdout",
     "output_type": "stream",
     "text": [
      "[1.8615877252159408e-06, 7.928348122732132e-08, 2.4538426389173966e-07, 3.092666781185471e-07, 1.3676484899770002e-07, 2.001051687532001e-07, 1.9849460000024957e-07, 1.967228933608567e-07, 2.517743746904199e-07]\n"
     ]
    },
    {
     "data": {
      "image/png": "[encoded data removed]",
      "text/plain": [
       "<Figure size 432x288 with 1 Axes>"
      ]
     },
     "metadata": {
      "needs_background": "light"
     },
     "output_type": "display_data"
    }
   ],
   "source": [
    "import matplotlib.pyplot as plt\n",
    "other=[0.07446350900863763, 0.01268535699637141, 0.08833833500102628, 0.19793067399587017, 0.13676484899770003, 0.28815144300460815, 0.38904941600048915, 0.5036106070037931, 0.8157489739969606]\n",
    "\n",
    "ratio=[x/(y**2) for x,y in zip(other,xaxis[0:len(other)])]\n",
    "k=len(other)\n",
    "print(ratio)\n",
    "plt.plot(xaxis[0:k],other)\n",
    "plt.plot(xaxis[0:k],square[0:k])\n",
    "plt.show()"
   ]
  },
  {
   "cell_type": "code",
   "execution_count": null,
   "id": "986dffd5",
   "metadata": {},
   "outputs": [],
   "source": []
  },
  {
   "cell_type": "markdown",
   "id": "7e842ece",
   "metadata": {},
   "source": [
    "### Pre-run results\n",
    "\n",
    "The above code might take some time to complete. Below is a saved result\n",
    "![cube-vs-square](square-cube-max-subarray.png)"
   ]
  },
  {
   "cell_type": "markdown",
   "id": "c1fb9704",
   "metadata": {},
   "source": [
    "### Logarithms\n",
    "\n",
    "- One way to raise a number $x$ to the power $n$ \n",
    "- $x^n=x*x*\\ldots *x$ where the product is done $n-1$ times\n",
    "- Clearly the above is $\\Theta(n)$\n",
    "- When $n$ is a a power of 2, i.e. $n=2^k$ (for simplicity but this method can be generalized for any $n$)\n",
    "- We can write $x^n=x^{2^k}=\\left(\\left(\\left(x^2\\right)^2\\right)^{2}\\right)^{\\ldots}$\n",
    "- Using that fact we write the algorithm below\n",
    "\n",
    "       "
   ]
  },
  {
   "cell_type": "code",
   "execution_count": 46,
   "id": "c8166000",
   "metadata": {},
   "outputs": [
    {
     "name": "stdout",
     "output_type": "stream",
     "text": [
      "65536 65536\n"
     ]
    }
   ],
   "source": [
    "from math import log2\n",
    "def power(x,n):\n",
    "    i=n\n",
    "    p=x\n",
    "    while i>1:\n",
    "        p=p*p\n",
    "        i//=2\n",
    "    return p\n",
    "\n",
    "x=2\n",
    "n=16\n",
    "print(power(x,n),x**n)"
   ]
  },
  {
   "cell_type": "markdown",
   "id": "feee7681",
   "metadata": {},
   "source": [
    "### Analysis\n",
    "\n",
    "- The value if $i$ doubles for every iteration therefore it stops when $i=2^k>n$ for some $k$\n",
    "- Therefore it stops when the number of iterations is $k>\\log n$\n",
    "- Thus the complexity of the above algorithm is $\\Theta(\\log n)$"
   ]
  },
  {
   "cell_type": "code",
   "execution_count": null,
   "id": "3430057b",
   "metadata": {},
   "outputs": [],
   "source": [
    "def power_set(seq):\n",
    "    p=[[]]         #power set always contains the empty set\n",
    "    n=len(seq)\n",
    "    for i in range(n):\n",
    "        toadd=[]\n",
    "        for s in p:          # to add has the same size as p\n",
    "            new=s+[seq[i]]\n",
    "            toadd.append(new)\n",
    "        p=p+toadd            # p doubles in size after each i iteration\n",
    "    return p  \n",
    "s=['a','b','c','d']\n",
    "p=power_set(s)\n",
    "print(p)"
   ]
  },
  {
   "cell_type": "markdown",
   "id": "abc0a287",
   "metadata": {},
   "source": [
    "### Binary search\n",
    "\n"
   ]
  },
  {
   "cell_type": "code",
   "execution_count": 66,
   "id": "865aa5e6",
   "metadata": {},
   "outputs": [
    {
     "name": "stdout",
     "output_type": "stream",
     "text": [
      "(None, 6)\n"
     ]
    }
   ],
   "source": [
    "from random import randint\n",
    "def bsearch(seq,x):\n",
    "    start,end=0,len(seq)-1\n",
    "    count=0\n",
    "    while start<=end:\n",
    "        count+=1\n",
    "        mid=(start+end)//2\n",
    "        if seq[mid]==x:\n",
    "            return mid,count\n",
    "        elif seq[mid]>x:\n",
    "            end=mid-1\n",
    "        else:\n",
    "            start=mid+1\n",
    "    return None,count\n",
    "n=50\n",
    "seq=[randint(1,100) for i in range(n)]\n",
    "seq.sort()\n",
    "x=1000\n",
    "r=bsearch(seq,x)\n",
    "print(r)      "
   ]
  },
  {
   "cell_type": "markdown",
   "id": "bc853199",
   "metadata": {},
   "source": [
    "### Analyis\n",
    "\n",
    "- In worst case the element is not found\n",
    "- It means the while loop exist when end>start\n",
    "- It means at the penultimate iteration end==start or the interval size is 1\n",
    "- Since at every iteration the interval is halved \n",
    "- We ask how many times is n is halved to reach 1? $\\log_2(n)+1$"
   ]
  },
  {
   "cell_type": "code",
   "execution_count": 67,
   "id": "cb3ac2d1",
   "metadata": {},
   "outputs": [
    {
     "data": {
      "text/plain": [
       "6"
      ]
     },
     "execution_count": 67,
     "metadata": {},
     "output_type": "execute_result"
    }
   ],
   "source": [
    "from math import log2\n",
    "n=len(seq)\n",
    "int(log2(n))+1"
   ]
  },
  {
   "cell_type": "code",
   "execution_count": null,
   "id": "51a90170",
   "metadata": {},
   "outputs": [],
   "source": []
  }
 ],
 "metadata": {
  "kernelspec": {
   "display_name": "Python 3",
   "language": "python",
   "name": "python3"
  },
  "language_info": {
   "codemirror_mode": {
    "name": "ipython",
    "version": 3
   },
   "file_extension": ".py",
   "mimetype": "text/x-python",
   "name": "python",
   "nbconvert_exporter": "python",
   "pygments_lexer": "ipython3",
   "version": "3.9.6"
  }
 },
 "nbformat": 4,
 "nbformat_minor": 5
}
