{
 "cells": [
  {
   "cell_type": "markdown",
   "metadata": {
    "cell_style": "center",
    "slideshow": {
     "slide_type": "slide"
    }
   },
   "source": [
    "# Control Structures\n",
    "\n",
    "1. Decisions\n",
    "1. Repetition (Looping)\n"
   ]
  },
  {
   "cell_type": "markdown",
   "metadata": {
    "cell_style": "center",
    "slideshow": {
     "slide_type": "fragment"
    }
   },
   "source": [
    "## Decisions"
   ]
  },
  {
   "cell_type": "markdown",
   "metadata": {
    "slideshow": {
     "slide_type": "subslide"
    }
   },
   "source": [
    "\n",
    "### if statement\n",
    "\n",
    "**if**  boolean expression **:**\n",
    "\n",
    "    stmt1\n",
    "    stmt2\n",
    "stmt3"
   ]
  },
  {
   "cell_type": "code",
   "execution_count": 44,
   "metadata": {
    "slideshow": {
     "slide_type": "slide"
    }
   },
   "outputs": [
    {
     "name": "stdout",
     "output_type": "stream",
     "text": [
      "Enter an interger:12\n",
      "You have entered an even number\n",
      "-----------------\n",
      "New value of x is 6\n"
     ]
    }
   ],
   "source": [
    "x=int(input('Enter an interger:'))\n",
    "if x%2==0:\n",
    "    print(\"You have entered an even number\")\n",
    "    x=x//2\n",
    "print(\"-----------------\")\n",
    "if x%2==1:\n",
    "    print(\"You have entered an odd number\")\n",
    "    x=3*x+1\n",
    "print(\"New value of x is\",x)"
   ]
  },
  {
   "cell_type": "markdown",
   "metadata": {
    "slideshow": {
     "slide_type": "slide"
    }
   },
   "source": [
    "All statements in the same block **MUST** have same indentation"
   ]
  },
  {
   "cell_type": "code",
   "execution_count": 49,
   "metadata": {
    "scrolled": false,
    "slideshow": {
     "slide_type": "fragment"
    }
   },
   "outputs": [
    {
     "name": "stdout",
     "output_type": "stream",
     "text": [
      "Enter an interger:13\n",
      "New value of x is 6.5\n"
     ]
    }
   ],
   "source": [
    "x=int(input(\"Enter an interger:\"))\n",
    "if x%2==0:\n",
    " print(\"You have entered an even number\")\n",
    "x=x/2\n",
    "print(\"New value of x is\",x)"
   ]
  },
  {
   "cell_type": "markdown",
   "metadata": {
    "slideshow": {
     "slide_type": "slide"
    }
   },
   "source": [
    "### if statements can be nested (as many times as we want)"
   ]
  },
  {
   "cell_type": "code",
   "execution_count": 52,
   "metadata": {
    "scrolled": true,
    "slideshow": {
     "slide_type": "subslide"
    }
   },
   "outputs": [
    {
     "name": "stdout",
     "output_type": "stream",
     "text": [
      "enter an integer12\n",
      "enter operation(mult or div)mult\n",
      "New value of x is 24\n"
     ]
    }
   ],
   "source": [
    "x=int(input(\"enter an integer\"))\n",
    "op=input(\"enter operation(mult or div)\")\n",
    "if x%2==0:\n",
    "    if op==\"mult\":\n",
    "        x=2*x\n",
    "    if op==\"div\":\n",
    "        x=x//2\n",
    "print(\"New value of x is\",x)"
   ]
  },
  {
   "cell_type": "markdown",
   "metadata": {
    "slideshow": {
     "slide_type": "slide"
    }
   },
   "source": [
    "### if-else statement\n",
    "\n",
    "**if** expr:\n",
    "\n",
    "    stmt1      executes if expr is True\n",
    "    stmt2      executes if expr is True\n",
    "    etc        executes if expr is True\n",
    "    \n",
    "**else**:\n",
    "\n",
    "    stmt3      executes if expr is False\n",
    "    stmt4      executes if expr is False\n",
    "    etc        executes if expr is False\n",
    "    \n",
    "stmt5   executes **regardless** if expr is True or False"
   ]
  },
  {
   "cell_type": "code",
   "execution_count": 53,
   "metadata": {
    "scrolled": true,
    "slideshow": {
     "slide_type": "subslide"
    }
   },
   "outputs": [
    {
     "name": "stdout",
     "output_type": "stream",
     "text": [
      "Enter an integer5\n",
      "You have entered an odd number\n",
      "the new value of x is 16\n"
     ]
    }
   ],
   "source": [
    "x=int(input(\"Enter an integer\"))\n",
    "\n",
    "if x%2==0:\n",
    "    print(\"You have entered an even number\")\n",
    "    x=x//2\n",
    "else:\n",
    "    print(\"You have entered an odd number\")\n",
    "    x=3*x+1\n",
    "print(\"the new value of x is\",x)"
   ]
  },
  {
   "cell_type": "markdown",
   "metadata": {
    "slideshow": {
     "slide_type": "slide"
    }
   },
   "source": [
    "### if-elif-else statement"
   ]
  },
  {
   "cell_type": "markdown",
   "metadata": {
    "slideshow": {
     "slide_type": "slide"
    }
   },
   "source": [
    "**if** expr1:\n",
    "\n",
    "    stmt block1     executesd if expr1=True\n",
    "**elif** expr2:\n",
    "\n",
    "    stmt block2     executes if expr1=False and expr2=True\n",
    "    \n",
    "**else**:\n",
    "\n",
    "    stmt block3 executes if both expr1 and expr2 are False\n",
    "    \n",
    "stmt block4 #executes in **ALL** cases"
   ]
  },
  {
   "cell_type": "markdown",
   "metadata": {
    "slideshow": {
     "slide_type": "slide"
    }
   },
   "source": [
    "### Order Matters !!"
   ]
  },
  {
   "cell_type": "code",
   "execution_count": 56,
   "metadata": {
    "slideshow": {
     "slide_type": "subslide"
    }
   },
   "outputs": [
    {
     "name": "stdout",
     "output_type": "stream",
     "text": [
      "Enter an interger:16\n",
      "multiple of 16\n",
      "new value of x is 4\n"
     ]
    }
   ],
   "source": [
    "x=int(input(\"Enter an interger:\"))\n",
    "if x%16==0:\n",
    "    print(\"multiple of 16\")\n",
    "    x=x//4\n",
    "elif x%8==0:\n",
    "       print(\"multiple of 8\")\n",
    "       x=x//8\n",
    "elif x%4==0:\n",
    "      print(\"multiple of 4\")\n",
    "      x=x//16\n",
    "else:\n",
    "            print(\"None of the above\")\n",
    "        \n",
    "print(\"new value of x is\",x)"
   ]
  },
  {
   "cell_type": "markdown",
   "metadata": {
    "slideshow": {
     "slide_type": "slide"
    }
   },
   "source": [
    "### Sorting three numbers\n",
    "\n",
    "\n",
    "- Simple example.\n",
    "- Does not work for an arbitrary set of numbers\n",
    "- Inefficient: tries all 3 factorial = 6 possibilities\n"
   ]
  },
  {
   "cell_type": "code",
   "execution_count": 58,
   "metadata": {
    "slideshow": {
     "slide_type": "subslide"
    }
   },
   "outputs": [
    {
     "name": "stdout",
     "output_type": "stream",
     "text": [
      "Enter x:99\n",
      "Enter y:5\n",
      "Enter z:60\n",
      "5.0 60.0 99.0\n"
     ]
    }
   ],
   "source": [
    "x=float(input('Enter x:'))\n",
    "y=float(input('Enter y:'))\n",
    "z=float(input('Enter z:'))\n",
    "\n",
    "if x<=y and y<=z: #no need for x<=z-> x<=y<=z\n",
    "    print(x,y,z)\n",
    "elif x<=z and z<=y: #no need for x<=y:\n",
    "    print(x,z,y)\n",
    "elif y<=x and x<=z:#no need for y<=z\n",
    "    print(y,x,z)\n",
    "elif y<=z and z<=x: #no need for y<=x\n",
    "    print(y,z,x)\n",
    "elif z<=x and x<=y:#no need z<=y\n",
    "    print(z,x,y)\n",
    "else:            #z<=y and y<=x \n",
    "    print(z,y,x)\n"
   ]
  },
  {
   "cell_type": "markdown",
   "metadata": {
    "slideshow": {
     "slide_type": "slide"
    }
   },
   "source": [
    "#### Exercise: Compute the largest of three numbers\n"
   ]
  },
  {
   "cell_type": "code",
   "execution_count": null,
   "metadata": {
    "cell_style": "split",
    "slideshow": {
     "slide_type": "subslide"
    }
   },
   "outputs": [],
   "source": [
    "x=float(input('Enter x:'))\n",
    "y=float(input('Enter y:'))\n",
    "z=float(input('Enter z:'))\n",
    "if x>y:\n",
    "    if x>z:\n",
    "        largest=x\n",
    "    else:\n",
    "        largest=z\n",
    "else:\n",
    "    if y>z:\n",
    "        largest=y\n",
    "    else:\n",
    "        largest=z\n",
    "print(f'largest={largest}')        "
   ]
  },
  {
   "cell_type": "code",
   "execution_count": null,
   "metadata": {
    "cell_style": "split",
    "scrolled": true,
    "slideshow": {
     "slide_type": "subslide"
    }
   },
   "outputs": [],
   "source": [
    "x=float(input('Enter x:'))\n",
    "y=float(input('Enter y:'))\n",
    "z=float(input('Enter z:'))\n",
    "if x>y:\n",
    "    if x>z:\n",
    "        print(y if y<z else z,y if y>z else z,x)\n",
    "    else:\n",
    "        print(y,x,z)\n",
    "else:\n",
    "    if y>z:\n",
    "        print(x if x<z else z,x if x>z else z,y)\n",
    "    else:\n",
    "        print(x,y,z)\n",
    "  "
   ]
  },
  {
   "cell_type": "markdown",
   "metadata": {
    "slideshow": {
     "slide_type": "slide"
    }
   },
   "source": [
    "- Actually, the previous code (_almost_) **sorts** the sequence.\n",
    "- We are doing more work than we need\n",
    "- A different approach (that works when we have a large list of numbers)"
   ]
  },
  {
   "cell_type": "code",
   "execution_count": 62,
   "metadata": {
    "slideshow": {
     "slide_type": "subslide"
    }
   },
   "outputs": [
    {
     "name": "stdout",
     "output_type": "stream",
     "text": [
      "Enter x:50\n",
      "Enter y:6\n",
      "Enter z:78\n",
      "78.0\n"
     ]
    }
   ],
   "source": [
    "x=float(input('Enter x:'))\n",
    "y=float(input('Enter y:'))\n",
    "z=float(input('Enter z:'))\n",
    "largest=x\n",
    "if y>largest:\n",
    "    largest=y\n",
    "if z>largest:\n",
    "    largest=z\n",
    "print(largest)    "
   ]
  },
  {
   "cell_type": "markdown",
   "metadata": {
    "slideshow": {
     "slide_type": "subslide"
    }
   },
   "source": [
    "What do you mean (_almost_) **sorts** the input?"
   ]
  },
  {
   "cell_type": "markdown",
   "metadata": {
    "slideshow": {
     "slide_type": "subslide"
    }
   },
   "source": [
    "Let us discuss conditional expressions (rather than conditional statements) first\n",
    "\n",
    "expr1 **if** _condition_ **else** expr2\n",
    "- The above evaluates to expr1 if the condition is true and to expr2 if the condition is false"
   ]
  },
  {
   "cell_type": "code",
   "execution_count": 64,
   "metadata": {
    "scrolled": true,
    "slideshow": {
     "slide_type": "slide"
    }
   },
   "outputs": [
    {
     "name": "stdout",
     "output_type": "stream",
     "text": [
      "Enter an integer13\n"
     ]
    },
    {
     "data": {
      "text/plain": [
       "40"
      ]
     },
     "execution_count": 64,
     "metadata": {},
     "output_type": "execute_result"
    }
   ],
   "source": [
    "x=int(input('Enter an integer'))\n",
    "x//2 if x%2==0 else 3*x+1"
   ]
  },
  {
   "cell_type": "code",
   "execution_count": 65,
   "metadata": {
    "scrolled": true,
    "slideshow": {
     "slide_type": "fragment"
    }
   },
   "outputs": [
    {
     "name": "stdout",
     "output_type": "stream",
     "text": [
      "40\n"
     ]
    }
   ],
   "source": [
    "y=  (x//2 if x%2==0 else 3*x+1)\n",
    "print(y)"
   ]
  },
  {
   "cell_type": "markdown",
   "metadata": {
    "slideshow": {
     "slide_type": "fragment"
    }
   },
   "source": [
    "- **NOT**"
   ]
  },
  {
   "cell_type": "code",
   "execution_count": 66,
   "metadata": {
    "scrolled": false,
    "slideshow": {
     "slide_type": "fragment"
    }
   },
   "outputs": [
    {
     "ename": "SyntaxError",
     "evalue": "cannot assign to conditional expression (<ipython-input-66-6526d6fa6f78>, line 1)",
     "output_type": "error",
     "traceback": [
      "\u001b[1;36m  File \u001b[1;32m\"<ipython-input-66-6526d6fa6f78>\"\u001b[1;36m, line \u001b[1;32m1\u001b[0m\n\u001b[1;33m    y=  x//2 if x%2==0 else y=3*x+1\u001b[0m\n\u001b[1;37m        ^\u001b[0m\n\u001b[1;31mSyntaxError\u001b[0m\u001b[1;31m:\u001b[0m cannot assign to conditional expression\n"
     ]
    }
   ],
   "source": [
    "y=  x//2 if x%2==0 else y=3*x+1"
   ]
  },
  {
   "cell_type": "markdown",
   "metadata": {
    "slideshow": {
     "slide_type": "slide"
    }
   },
   "source": [
    "Another example (conditional expresion)"
   ]
  },
  {
   "cell_type": "code",
   "execution_count": 68,
   "metadata": {
    "slideshow": {
     "slide_type": "fragment"
    }
   },
   "outputs": [
    {
     "name": "stdout",
     "output_type": "stream",
     "text": [
      "37\n"
     ]
    },
    {
     "data": {
      "text/plain": [
       "81"
      ]
     },
     "execution_count": 68,
     "metadata": {},
     "output_type": "execute_result"
    }
   ],
   "source": [
    "x=3\n",
    "y= (x//2 if x%2==0 else 3*x+1)+(x**3 if x<10 else x**2)\n",
    "print(y)"
   ]
  },
  {
   "cell_type": "markdown",
   "metadata": {
    "slideshow": {
     "slide_type": "slide"
    }
   },
   "source": [
    "#### Sorting 3 numbers"
   ]
  },
  {
   "cell_type": "markdown",
   "metadata": {
    "slideshow": {
     "slide_type": "slide"
    }
   },
   "source": [
    "#### Exercise\n",
    "\n",
    "1. Read 3 integers x,y, and z\n",
    "1. If all are even choose the smallest\n",
    "1. Otherwise choose the largest"
   ]
  },
  {
   "cell_type": "code",
   "execution_count": null,
   "metadata": {
    "slideshow": {
     "slide_type": "skip"
    }
   },
   "outputs": [],
   "source": [
    "#from IPython.display import IFrame\n",
    "\n",
    "#url = 'https://aub-eece231.github.io/files/control/index.html'\n",
    "#IFrame(url, width=1000, height=600)\n"
   ]
  },
  {
   "cell_type": "code",
   "execution_count": null,
   "metadata": {
    "slideshow": {
     "slide_type": "subslide"
    }
   },
   "outputs": [],
   "source": [
    "x=int(input('Enter integer x: '))\n",
    "y=int(input('Enter integer y: '))\n",
    "z=int(input('Enter integer z: '))"
   ]
  },
  {
   "cell_type": "code",
   "execution_count": null,
   "metadata": {
    "slideshow": {
     "slide_type": "subslide"
    }
   },
   "outputs": [],
   "source": [
    "if x%2==0 and y%2==0 and z%2==0:\n",
    "    # choose the smallest\n",
    "    if x<y:\n",
    "        if x<z:\n",
    "            print('the smallest is',x)\n",
    "        else:\n",
    "            print('the smallest is',z)\n",
    "    else: #y<=x\n",
    "        if y<z:\n",
    "            print('the smallest is',y)\n",
    "        else:\n",
    "            print('the smallest is',z)    \n",
    "else:\n",
    "    # choose the largest\n",
    "    if x>y:\n",
    "        if x>z:\n",
    "            print('the largest is',x)\n",
    "        else:\n",
    "            print('the largest is',z)\n",
    "    else: #y>=x\n",
    "        if y>z:\n",
    "            print('the largest is',y)\n",
    "        else:\n",
    "            print('the largest is',z)\n",
    "        "
   ]
  },
  {
   "cell_type": "markdown",
   "metadata": {
    "slideshow": {
     "slide_type": "slide"
    }
   },
   "source": [
    "#### Different approach\n"
   ]
  },
  {
   "cell_type": "code",
   "execution_count": 71,
   "metadata": {
    "slideshow": {
     "slide_type": "subslide"
    }
   },
   "outputs": [
    {
     "name": "stdout",
     "output_type": "stream",
     "text": [
      "Enter x: 19\n",
      "Enter y: 30\n",
      "Enter z: 25\n",
      "result= 25\n"
     ]
    }
   ],
   "source": [
    "x=int(input('Enter x: '))\n",
    "y=int(input('Enter y: '))\n",
    "z=int(input('Enter z: '))\n",
    "# Assume all are even. It could change later\n",
    "result=min(x,y,z)\n",
    "\n",
    "\n",
    "if x%2==1: # if x is odd temporarily assume it is the largest\n",
    "    result=x\n",
    "if y%2==1 and y>result: #if y is also odd AND greater than result\n",
    "    result=y\n",
    "if z%2==1 and z>result: #if z is also odd AND greater than result\n",
    "    result=z\n",
    "print(\"result=\",result)"
   ]
  },
  {
   "cell_type": "markdown",
   "metadata": {
    "slideshow": {
     "slide_type": "slide"
    }
   },
   "source": [
    "## Repetition (looping)"
   ]
  },
  {
   "cell_type": "markdown",
   "metadata": {
    "slideshow": {
     "slide_type": "slide"
    }
   },
   "source": [
    "## while loop\n",
    "\n",
    "- General structure\n",
    "\n",
    "**while** condition :\n",
    "\n",
    "       block        executed as long as condition is True\n",
    "Remainder of code"
   ]
  },
  {
   "cell_type": "markdown",
   "metadata": {
    "slideshow": {
     "slide_type": "subslide"
    }
   },
   "source": [
    "#### Example"
   ]
  },
  {
   "cell_type": "code",
   "execution_count": 74,
   "metadata": {
    "scrolled": true,
    "slideshow": {
     "slide_type": "fragment"
    }
   },
   "outputs": [
    {
     "name": "stdout",
     "output_type": "stream",
     "text": [
      "2\n",
      "done\n"
     ]
    }
   ],
   "source": [
    "x=2\n",
    "if x<10:\n",
    "    print(x)\n",
    "print('done')"
   ]
  },
  {
   "cell_type": "markdown",
   "metadata": {
    "slideshow": {
     "slide_type": "slide"
    }
   },
   "source": [
    "### Example: Computing the square root (Revisited)"
   ]
  },
  {
   "cell_type": "code",
   "execution_count": 3,
   "metadata": {
    "slideshow": {
     "slide_type": "subslide"
    }
   },
   "outputs": [
    {
     "name": "stdout",
     "output_type": "stream",
     "text": [
      "Enter a number:12\n",
      "Enter a guess:4\n",
      "Enter required accuracy (i.e. % difference)0.01\n",
      "Square root of 12.0 is 3.4641016200294548. Difference is 3.389069291870328e-08\n"
     ]
    }
   ],
   "source": [
    "x=float(input('Enter a number:'))\n",
    "g=float(input('Enter a guess:'))\n",
    "epsilon=float(input('Enter required accuracy (i.e. % difference)'))\n",
    "while abs(g*g-x)*100/x> epsilon:\n",
    "  g=(g+x/g)/2\n",
    "print(f'Square root of {x} is {g}. Difference is {abs(x-g*g)}')"
   ]
  },
  {
   "cell_type": "markdown",
   "metadata": {
    "slideshow": {
     "slide_type": "slide"
    }
   },
   "source": [
    "### Example (determine if a number is prime)"
   ]
  },
  {
   "cell_type": "code",
   "execution_count": 25,
   "metadata": {
    "slideshow": {
     "slide_type": "fragment"
    }
   },
   "outputs": [
    {
     "name": "stdout",
     "output_type": "stream",
     "text": [
      "Enter a number:19\n",
      "19 is prime\n"
     ]
    }
   ],
   "source": [
    "x=int(input(\"Enter a number:\"))\n",
    "count=2\n",
    "isPrime=True\n",
    "while count<x-1:\n",
    "    if x%count==0:\n",
    "        isPrime=False\n",
    "    count+=1       # same as count=count+1\n",
    "if isPrime:\n",
    "    print(x,\"is prime\")\n",
    "else:\n",
    "    print(x,\"is not prime\")\n"
   ]
  },
  {
   "cell_type": "markdown",
   "metadata": {
    "slideshow": {
     "slide_type": "slide"
    }
   },
   "source": [
    "### Observation\n",
    "\n",
    "- Suppose the input was 98\n",
    "- The algorithm tests divisibility by 2,3,4,...,97\n",
    "- Even though from the first test (division by 2) we now it is not prime\n",
    "- Wasted time doing the division by 3,4,5,...,97\n",
    "- Can we break (exit) the loop early?\n",
    "- YES!! using the **break** keyword one can exit the loop"
   ]
  },
  {
   "cell_type": "code",
   "execution_count": null,
   "metadata": {
    "slideshow": {
     "slide_type": "slide"
    }
   },
   "outputs": [],
   "source": [
    "x=int(input(\"Enter a number:\"))\n",
    "count=2\n",
    "isPrime=True\n",
    "divBy=None\n",
    "while count<x-1:\n",
    "    if x%count==0:\n",
    "        isPrime=False\n",
    "        divBy=count\n",
    "        break\n",
    "    count+=1       # same as count=count+1\n",
    "print(f'{x} {\"is prime \" if isPrime else \"is not prime. It is divisible by \"+str(divBy)}')"
   ]
  },
  {
   "cell_type": "markdown",
   "metadata": {
    "slideshow": {
     "slide_type": "slide"
    }
   },
   "source": [
    "- But, do we really need the **break** keyword?\n",
    "- The following code, **without break** does the same thing"
   ]
  },
  {
   "cell_type": "code",
   "execution_count": 26,
   "metadata": {
    "slideshow": {
     "slide_type": "fragment"
    }
   },
   "outputs": [
    {
     "name": "stdout",
     "output_type": "stream",
     "text": [
      "Enter a number:99\n",
      "99 is not prime. It is divisible by 3\n"
     ]
    }
   ],
   "source": [
    "x=int(input(\"Enter a number:\"))\n",
    "count=2\n",
    "isPrime=True\n",
    "divBy=None\n",
    "while isPrime and count<x-1:\n",
    "    if x%count==0:\n",
    "        isPrime=False\n",
    "        divBy=count\n",
    "    count+=1       # same as count=count+1\n",
    "print(f'{x} {\"is prime \" if isPrime else \"is not prime. It is divisible by \"+str(divBy)}')"
   ]
  },
  {
   "cell_type": "markdown",
   "metadata": {
    "slideshow": {
     "slide_type": "slide"
    }
   },
   "source": [
    "- The answer is **NO**.\n",
    "- **break** forces the loop to exit at the break statement **without finishing** the remaining statements in the loop\n",
    "- The other option exits the loop at the **next iteration**"
   ]
  },
  {
   "cell_type": "code",
   "execution_count": 6,
   "metadata": {
    "cell_style": "split",
    "scrolled": true,
    "slideshow": {
     "slide_type": "slide"
    }
   },
   "outputs": [
    {
     "name": "stdout",
     "output_type": "stream",
     "text": [
      "Enter a number:10\n",
      "3\n"
     ]
    }
   ],
   "source": [
    "x=int(input(\"Enter a number:\"))\n",
    "count=2\n",
    "isPrime=True\n",
    "divBy=None\n",
    "while isPrime and count<x-1:\n",
    "    if x%count==0:\n",
    "        isPrime=False\n",
    "        divBy=count\n",
    "    count+=1       # same as count=count+1\n",
    "print(count)"
   ]
  },
  {
   "cell_type": "code",
   "execution_count": 7,
   "metadata": {
    "cell_style": "split",
    "slideshow": {
     "slide_type": "fragment"
    }
   },
   "outputs": [
    {
     "name": "stdout",
     "output_type": "stream",
     "text": [
      "Enter a number:10\n",
      "2\n"
     ]
    }
   ],
   "source": [
    "x=int(input(\"Enter a number:\"))\n",
    "count=2\n",
    "isPrime=True\n",
    "divBy=None\n",
    "while count<x-1:\n",
    "    if x%count==0:\n",
    "        isPrime=False\n",
    "        divBy=count\n",
    "        break\n",
    "    count+=1       # same as count=count+1\n",
    "print(count)"
   ]
  },
  {
   "cell_type": "markdown",
   "metadata": {
    "slideshow": {
     "slide_type": "slide"
    }
   },
   "source": [
    "### for loop\n",
    "\n",
    "**for** _var_ **in** _sequence_:\n",
    "\n",
    "     code block\n",
    "     \n",
    "- Sequences will be discussed later in the course\n",
    "- For now it is sufficient to use the **range** function"
   ]
  },
  {
   "cell_type": "markdown",
   "metadata": {
    "slideshow": {
     "slide_type": "slide"
    }
   },
   "source": [
    "### Examples"
   ]
  },
  {
   "cell_type": "code",
   "execution_count": null,
   "metadata": {
    "scrolled": true,
    "slideshow": {
     "slide_type": "fragment"
    }
   },
   "outputs": [],
   "source": [
    "for v in (1,'a',3.4):\n",
    "    print(v)"
   ]
  },
  {
   "cell_type": "code",
   "execution_count": 24,
   "metadata": {
    "slideshow": {
     "slide_type": "fragment"
    }
   },
   "outputs": [
    {
     "name": "stdout",
     "output_type": "stream",
     "text": [
      "h\n",
      "e\n",
      "l\n",
      "l\n",
      "o\n",
      " \n",
      "W\n"
     ]
    }
   ],
   "source": [
    "for c in \"hello W\":\n",
    "    print(c)"
   ]
  },
  {
   "cell_type": "code",
   "execution_count": 26,
   "metadata": {
    "slideshow": {
     "slide_type": "fragment"
    }
   },
   "outputs": [
    {
     "name": "stdout",
     "output_type": "stream",
     "text": [
      "1\n",
      "2\n",
      "3\n",
      "4\n"
     ]
    }
   ],
   "source": [
    "# Note: the lower limit is inclusive \n",
    "# whereas the upper is exclusive\n",
    "# default step=1\n",
    "for i in range(1,5):\n",
    "    print(i)"
   ]
  },
  {
   "cell_type": "code",
   "execution_count": 27,
   "metadata": {
    "slideshow": {
     "slide_type": "fragment"
    }
   },
   "outputs": [
    {
     "name": "stdout",
     "output_type": "stream",
     "text": [
      "0\n",
      "2\n",
      "4\n",
      "6\n",
      "8\n"
     ]
    }
   ],
   "source": [
    "for i in range(0,10,2):\n",
    "    print(i)"
   ]
  },
  {
   "cell_type": "markdown",
   "metadata": {
    "slideshow": {
     "slide_type": "slide"
    }
   },
   "source": [
    "### Example:  (nested loops)\n",
    "\n",
    "- print all prime numbers smaller than a given x\n",
    "- for each value <x test if it is prime\n"
   ]
  },
  {
   "cell_type": "code",
   "execution_count": 30,
   "metadata": {},
   "outputs": [
    {
     "name": "stdout",
     "output_type": "stream",
     "text": [
      "Enter a number:40\n",
      "3 is prime\n",
      "5 is prime\n",
      "7 is prime\n",
      "11 is prime\n",
      "13 is prime\n",
      "17 is prime\n",
      "19 is prime\n",
      "23 is prime\n",
      "29 is prime\n",
      "31 is prime\n",
      "37 is prime\n"
     ]
    }
   ],
   "source": [
    "x=int(input('Enter a number:'))\n",
    "for i in range(3,x):\n",
    "    count=2\n",
    "    isPrime=True\n",
    "    while count<i-1:\n",
    "        if i%count==0:\n",
    "            isPrime=False\n",
    "            divBy=count\n",
    "            break\n",
    "        count+=1       \n",
    "    if isPrime:\n",
    "        print(f'{i} is prime')\n",
    "    "
   ]
  },
  {
   "cell_type": "code",
   "execution_count": null,
   "metadata": {},
   "outputs": [],
   "source": []
  }
 ],
 "metadata": {
  "celltoolbar": "Slideshow",
  "kernelspec": {
   "display_name": "Python 3",
   "language": "python",
   "name": "python3"
  },
  "language_info": {
   "codemirror_mode": {
    "name": "ipython",
    "version": 3
   },
   "file_extension": ".py",
   "mimetype": "text/x-python",
   "name": "python",
   "nbconvert_exporter": "python",
   "pygments_lexer": "ipython3",
   "version": "3.9.6"
  },
  "rise": {
   "enable_chalkboard": true
  }
 },
 "nbformat": 4,
 "nbformat_minor": 2
}
