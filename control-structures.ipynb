{
 "cells": [
  {
   "cell_type": "markdown",
   "metadata": {
    "cell_style": "center",
    "slideshow": {
     "slide_type": "slide"
    }
   },
   "source": [
    "# Control Structures\n",
    "\n",
    "1. Decisions\n",
    "1. Repetition (Looping)\n"
   ]
  },
  {
   "cell_type": "markdown",
   "metadata": {
    "cell_style": "center",
    "slideshow": {
     "slide_type": "fragment"
    }
   },
   "source": [
    "## Decisions"
   ]
  },
  {
   "cell_type": "markdown",
   "metadata": {
    "slideshow": {
     "slide_type": "subslide"
    }
   },
   "source": [
    "\n",
    "### if statement\n",
    "\n",
    "**if**  boolean expression **:**\n",
    "\n",
    "    stmt1\n",
    "    stmt2\n",
    "stmt3"
   ]
  },
  {
   "cell_type": "code",
   "execution_count": null,
   "metadata": {
    "slideshow": {
     "slide_type": "slide"
    }
   },
   "outputs": [],
   "source": [
    "x=int(input('Enter an interger:'))\n",
    "if x%2==0:\n",
    "    print(\"You have entered an even number\")\n",
    "    x=x//2\n",
    "print(\"-----------------\")\n",
    "if x%2==1:\n",
    "    print(\"You have entered an odd number\")\n",
    "    x=3*x+1\n",
    "print(\"New value of x is\",x)"
   ]
  },
  {
   "cell_type": "markdown",
   "metadata": {
    "slideshow": {
     "slide_type": "slide"
    }
   },
   "source": [
    "All statements in the same block **MUST** have same indentation"
   ]
  },
  {
   "cell_type": "code",
   "execution_count": null,
   "metadata": {
    "scrolled": false,
    "slideshow": {
     "slide_type": "fragment"
    }
   },
   "outputs": [],
   "source": [
    "x=int(input(\"Enter an interger:\"))\n",
    "if x%2==0:\n",
    " print(\"You have entered an even number\")\n",
    "x=x/2\n",
    "print(\"New value of x is\",x)"
   ]
  },
  {
   "cell_type": "markdown",
   "metadata": {
    "slideshow": {
     "slide_type": "slide"
    }
   },
   "source": [
    "### if statements can be nested (as many times as we want)"
   ]
  },
  {
   "cell_type": "code",
   "execution_count": null,
   "metadata": {
    "scrolled": true,
    "slideshow": {
     "slide_type": "subslide"
    }
   },
   "outputs": [],
   "source": [
    "x=int(input(\"enter an integer\"))\n",
    "op=input(\"enter operation(mult or div)\")\n",
    "if x%2==0:\n",
    "    if op==\"mult\":\n",
    "        x=2*x\n",
    "    if op==\"div\":\n",
    "        x=x//2\n",
    "print(\"New value of x is\",x)"
   ]
  },
  {
   "cell_type": "markdown",
   "metadata": {
    "slideshow": {
     "slide_type": "slide"
    }
   },
   "source": [
    "### if-else statement\n",
    "\n",
    "**if** expr:\n",
    "\n",
    "    stmt1      executes if expr is True\n",
    "    stmt2      executes if expr is True\n",
    "    etc        executes if expr is True\n",
    "    \n",
    "**else**:\n",
    "\n",
    "    stmt3      executes if expr is False\n",
    "    stmt4      executes if expr is False\n",
    "    etc        executes if expr is False\n",
    "    \n",
    "stmt5   executes **regardless** if expr is True or False"
   ]
  },
  {
   "cell_type": "code",
   "execution_count": null,
   "metadata": {
    "scrolled": true,
    "slideshow": {
     "slide_type": "subslide"
    }
   },
   "outputs": [],
   "source": [
    "x=int(input(\"Enter an integer\"))\n",
    "\n",
    "if x%2==0:\n",
    "    print(\"You have entered an even number\")\n",
    "    x=x//2\n",
    "else:\n",
    "    print(\"You have entered an odd number\")\n",
    "    x=3*x+1\n",
    "print(\"the new value of x is\",x)"
   ]
  },
  {
   "cell_type": "markdown",
   "metadata": {
    "slideshow": {
     "slide_type": "slide"
    }
   },
   "source": [
    "### if-elif-else statement"
   ]
  },
  {
   "cell_type": "markdown",
   "metadata": {
    "slideshow": {
     "slide_type": "slide"
    }
   },
   "source": [
    "**if** expr1:\n",
    "\n",
    "    stmt block1     executesd if expr1=True\n",
    "**elif** expr2:\n",
    "\n",
    "    stmt block2     executes if expr1=False and expr2=True\n",
    "    \n",
    "**else**:\n",
    "\n",
    "    stmt block3 executes if both expr1 and expr2 are False\n",
    "    \n",
    "stmt block4 #executes in **ALL** cases"
   ]
  },
  {
   "cell_type": "markdown",
   "metadata": {
    "slideshow": {
     "slide_type": "slide"
    }
   },
   "source": [
    "### Order Matters !!"
   ]
  },
  {
   "cell_type": "code",
   "execution_count": null,
   "metadata": {
    "slideshow": {
     "slide_type": "subslide"
    }
   },
   "outputs": [],
   "source": [
    "x=int(input(\"Enter an interger:\"))\n",
    "if x%16==0:\n",
    "    print(\"multiple of 16\")\n",
    "    x=x//4\n",
    "elif x%8==0:\n",
    "       print(\"multiple of 8\")\n",
    "       x=x//8\n",
    "elif x%4==0:\n",
    "      print(\"multiple of 4\")\n",
    "      x=x//16\n",
    "else:\n",
    "            print(\"None of the above\")\n",
    "        \n",
    "print(\"new value of x is\",x)"
   ]
  },
  {
   "cell_type": "markdown",
   "metadata": {
    "slideshow": {
     "slide_type": "slide"
    }
   },
   "source": [
    "### Sorting three numbers\n",
    "\n",
    "\n",
    "- Simple example.\n",
    "- Does not work for an arbitrary set of numbers\n",
    "- Inefficient: tries all 3 factorial = 6 possibilities\n"
   ]
  },
  {
   "cell_type": "code",
   "execution_count": null,
   "metadata": {
    "slideshow": {
     "slide_type": "subslide"
    }
   },
   "outputs": [],
   "source": [
    "x=float(input('Enter x:'))\n",
    "y=float(input('Enter y:'))\n",
    "z=float(input('Enter z:'))\n",
    "\n",
    "if x<=y and y<=z: #no need for x<=z-> x<=y<=z\n",
    "    print(x,y,z)\n",
    "elif x<=z and z<=y: #no need for x<=y:\n",
    "    print(x,z,y)\n",
    "elif y<=x and x<=z:#no need for y<=z\n",
    "    print(y,x,z)\n",
    "elif y<=z and z<=x: #no need for y<=x\n",
    "    print(y,z,x)\n",
    "elif z<=x and x<=y:#no need z<=y\n",
    "    print(z,x,y)\n",
    "else:            #z<=y and y<=x \n",
    "    print(z,y,x)\n"
   ]
  },
  {
   "cell_type": "markdown",
   "metadata": {
    "slideshow": {
     "slide_type": "slide"
    }
   },
   "source": [
    "#### Exercise: Compute the largest of three numbers\n"
   ]
  },
  {
   "cell_type": "code",
   "execution_count": null,
   "metadata": {
    "cell_style": "split",
    "slideshow": {
     "slide_type": "subslide"
    }
   },
   "outputs": [],
   "source": [
    "x=float(input('Enter x:'))\n",
    "y=float(input('Enter y:'))\n",
    "z=float(input('Enter z:'))\n",
    "if x>y:\n",
    "    if x>z:\n",
    "        largest=x\n",
    "    else:\n",
    "        largest=z\n",
    "else:\n",
    "    if y>z:\n",
    "        largest=y\n",
    "    else:\n",
    "        largest=z\n",
    "print(f'largest={largest}')        "
   ]
  },
  {
   "cell_type": "code",
   "execution_count": null,
   "metadata": {
    "cell_style": "split",
    "scrolled": true,
    "slideshow": {
     "slide_type": "subslide"
    }
   },
   "outputs": [],
   "source": [
    "x=float(input('Enter x:'))\n",
    "y=float(input('Enter y:'))\n",
    "z=float(input('Enter z:'))\n",
    "if x>y:\n",
    "    if x>z:\n",
    "        print(y if y<z else z,y if y>z else z,x)\n",
    "    else:\n",
    "        print(y,x,z)\n",
    "else:\n",
    "    if y>z:\n",
    "        print(x if x<z else z,x if x>z else z,y)\n",
    "    else:\n",
    "        print(x,y,z)\n",
    "  "
   ]
  },
  {
   "cell_type": "markdown",
   "metadata": {
    "slideshow": {
     "slide_type": "slide"
    }
   },
   "source": [
    "- Actually, the previous code (_almost_) **sorts** the sequence.\n",
    "- We are doing more work than we need\n",
    "- A different approach (that works when we have a large list of numbers)"
   ]
  },
  {
   "cell_type": "code",
   "execution_count": null,
   "metadata": {
    "slideshow": {
     "slide_type": "subslide"
    }
   },
   "outputs": [],
   "source": [
    "x=float(input('Enter x:'))\n",
    "y=float(input('Enter y:'))\n",
    "z=float(input('Enter z:'))\n",
    "largest=x\n",
    "if y>largest:\n",
    "    largest=y\n",
    "if z>largest:\n",
    "    largest=z\n",
    "print(largest)    "
   ]
  },
  {
   "cell_type": "markdown",
   "metadata": {
    "slideshow": {
     "slide_type": "subslide"
    }
   },
   "source": [
    "What do you mean (_almost_) **sorts** the input?"
   ]
  },
  {
   "cell_type": "markdown",
   "metadata": {
    "slideshow": {
     "slide_type": "subslide"
    }
   },
   "source": [
    "Let us discuss conditional expressions (rather than conditional statements) first\n",
    "\n",
    "expr1 **if** _condition_ **else** expr2\n",
    "- The above evaluates to expr1 if the condition is true and to expr2 if the condition is false"
   ]
  },
  {
   "cell_type": "code",
   "execution_count": null,
   "metadata": {
    "scrolled": true,
    "slideshow": {
     "slide_type": "slide"
    }
   },
   "outputs": [],
   "source": [
    "x=int(input('Enter an integer'))\n",
    "x//2 if x%2==0 else 3*x+1"
   ]
  },
  {
   "cell_type": "code",
   "execution_count": null,
   "metadata": {
    "scrolled": true,
    "slideshow": {
     "slide_type": "fragment"
    }
   },
   "outputs": [],
   "source": [
    "y=  (x//2 if x%2==0 else 3*x+1)\n",
    "print(y)"
   ]
  },
  {
   "cell_type": "markdown",
   "metadata": {
    "slideshow": {
     "slide_type": "fragment"
    }
   },
   "source": [
    "- **NOT**"
   ]
  },
  {
   "cell_type": "code",
   "execution_count": null,
   "metadata": {
    "scrolled": false,
    "slideshow": {
     "slide_type": "fragment"
    }
   },
   "outputs": [],
   "source": [
    "y=  x//2 if x%2==0 else y=3*x+1"
   ]
  },
  {
   "cell_type": "markdown",
   "metadata": {
    "slideshow": {
     "slide_type": "slide"
    }
   },
   "source": [
    "Another example (conditional expresion)"
   ]
  },
  {
   "cell_type": "code",
   "execution_count": null,
   "metadata": {
    "slideshow": {
     "slide_type": "fragment"
    }
   },
   "outputs": [],
   "source": [
    "x=3\n",
    "y= (x//2 if x%2==0 else 3*x+1)+(x**3 if x<10 else x**2)\n",
    "print(y)"
   ]
  },
  {
   "cell_type": "markdown",
   "metadata": {
    "slideshow": {
     "slide_type": "slide"
    }
   },
   "source": [
    "#### Sorting 3 numbers"
   ]
  },
  {
   "cell_type": "markdown",
   "metadata": {
    "slideshow": {
     "slide_type": "slide"
    }
   },
   "source": [
    "#### Exercise\n",
    "\n",
    "1. Read 3 integers x,y, and z\n",
    "1. If all are even choose the smallest\n",
    "1. Otherwise choose the largest"
   ]
  },
  {
   "cell_type": "code",
   "execution_count": null,
   "metadata": {
    "slideshow": {
     "slide_type": "skip"
    }
   },
   "outputs": [],
   "source": [
    "#from IPython.display import IFrame\n",
    "\n",
    "#url = 'https://aub-eece231.github.io/files/control/index.html'\n",
    "#IFrame(url, width=1000, height=600)\n"
   ]
  },
  {
   "cell_type": "code",
   "execution_count": null,
   "metadata": {
    "slideshow": {
     "slide_type": "subslide"
    }
   },
   "outputs": [],
   "source": [
    "x=int(input('Enter integer x: '))\n",
    "y=int(input('Enter integer y: '))\n",
    "z=int(input('Enter integer z: '))"
   ]
  },
  {
   "cell_type": "code",
   "execution_count": null,
   "metadata": {
    "slideshow": {
     "slide_type": "subslide"
    }
   },
   "outputs": [],
   "source": [
    "if x%2==0 and y%2==0 and z%2==0:\n",
    "    # choose the smallest\n",
    "    if x<y:\n",
    "        if x<z:\n",
    "            print('the smallest is',x)\n",
    "        else:\n",
    "            print('the smallest is',z)\n",
    "    else: #y<=x\n",
    "        if y<z:\n",
    "            print('the smallest is',y)\n",
    "        else:\n",
    "            print('the smallest is',z)    \n",
    "else:\n",
    "    # choose the largest\n",
    "    if x>y:\n",
    "        if x>z:\n",
    "            print('the largest is',x)\n",
    "        else:\n",
    "            print('the largest is',z)\n",
    "    else: #y>=x\n",
    "        if y>z:\n",
    "            print('the largest is',y)\n",
    "        else:\n",
    "            print('the largest is',z)\n",
    "        "
   ]
  },
  {
   "cell_type": "markdown",
   "metadata": {
    "slideshow": {
     "slide_type": "slide"
    }
   },
   "source": [
    "#### Different approach\n"
   ]
  },
  {
   "cell_type": "code",
   "execution_count": null,
   "metadata": {
    "slideshow": {
     "slide_type": "subslide"
    }
   },
   "outputs": [],
   "source": [
    "x=int(input('Enter x: '))\n",
    "y=int(input('Enter y: '))\n",
    "z=int(input('Enter z: '))\n",
    "# Assume all are even. It could change later\n",
    "result=min(x,y,z)\n",
    "\n",
    "\n",
    "if x%2==1: # if x is odd temporarily assume it is the largest\n",
    "    result=x\n",
    "if y%2==1 and y>result: #if y is also odd AND greater than result\n",
    "    result=y\n",
    "if z%2==1 and z>result: #if z is also odd AND greater than result\n",
    "    result=z\n",
    "print(\"result=\",result)"
   ]
  },
  {
   "cell_type": "markdown",
   "metadata": {
    "slideshow": {
     "slide_type": "slide"
    }
   },
   "source": [
    "## Repetition (looping)"
   ]
  },
  {
   "cell_type": "markdown",
   "metadata": {
    "slideshow": {
     "slide_type": "slide"
    }
   },
   "source": [
    "## while loop\n",
    "\n",
    "- General structure\n",
    "\n",
    "**while** condition :\n",
    "\n",
    "       block        executed as long as condition is True\n",
    "Remainder of code"
   ]
  },
  {
   "cell_type": "markdown",
   "metadata": {
    "slideshow": {
     "slide_type": "subslide"
    }
   },
   "source": [
    "#### Example"
   ]
  },
  {
   "cell_type": "code",
   "execution_count": null,
   "metadata": {
    "scrolled": true,
    "slideshow": {
     "slide_type": "fragment"
    }
   },
   "outputs": [],
   "source": [
    "x=2\n",
    "while x<10:\n",
    "    print(x)\n",
    "print('done')"
   ]
  },
  {
   "cell_type": "markdown",
   "metadata": {
    "slideshow": {
     "slide_type": "slide"
    }
   },
   "source": [
    "### Example: Computing the square root (Revisited)\n",
    "\n",
    "- Given a number x we want to compute $x_0=\\sqrt{x}$\n",
    "- Consider the function $f(g)=g^2-x$. Obviously $x_0$ is the root of $f(g)$ i.e. $f(x_0)=0$\n",
    "- We use Newton's root finding method (Later in the course)\n",
    "- for this case we iterate\n",
    "$$g_{n+1}=(g_n+x/g_n)/2 $$\n",
    "\n",
    "- Where $g_0$ is an initial guess"
   ]
  },
  {
   "cell_type": "code",
   "execution_count": null,
   "metadata": {
    "slideshow": {
     "slide_type": "subslide"
    }
   },
   "outputs": [],
   "source": [
    "x=float(input('Enter a number:'))\n",
    "g=float(input('Enter a guess:'))\n",
    "epsilon=float(input('Enter required accuracy (i.e. % difference)'))\n",
    "while abs(g*g-x)*100/x> epsilon:\n",
    "  g=(g+x/g)/2\n",
    "print(f'Square root of {x} is {g}. Difference is {abs(x-g*g)}')"
   ]
  },
  {
   "cell_type": "code",
   "execution_count": null,
   "metadata": {},
   "outputs": [],
   "source": [
    "from math import sqrt\n",
    "sqrt(2)"
   ]
  },
  {
   "cell_type": "markdown",
   "metadata": {
    "slideshow": {
     "slide_type": "slide"
    }
   },
   "source": [
    "### Example (determine if a number is prime)\n",
    "\n",
    "- A number $x$ is prime if it is divisible **only** by 1 and itself\n",
    "- To determine if $x$ is prime we test wether it is divisible by $2,3,4,\\ldots,x-1$\n"
   ]
  },
  {
   "cell_type": "code",
   "execution_count": null,
   "metadata": {
    "slideshow": {
     "slide_type": "fragment"
    }
   },
   "outputs": [],
   "source": [
    "x=int(input(\"Enter a number:\"))\n",
    "divisor=2\n",
    "isPrime=True\n",
    "while divisor<=x-1:\n",
    "    if x%divisor==0:\n",
    "        isPrime=False\n",
    "    divisor+=1       # same as divisor=divisor+1\n",
    "if isPrime:\n",
    "    print(x,\"is prime\")\n",
    "else:\n",
    "    print(x,\"is not prime\")\n"
   ]
  },
  {
   "cell_type": "markdown",
   "metadata": {
    "slideshow": {
     "slide_type": "slide"
    }
   },
   "source": [
    "### Observation\n",
    "\n",
    "- Suppose the input was 98\n",
    "- The algorithm tests divisibility by 2,3,4,...,97\n",
    "- Even though from the first test (division by 2) we know it is not prime\n",
    "- Wasted time doing the division by 3,4,5,...,97\n",
    "- Can we break (exit) the loop early?\n",
    "- YES!! using the **break** keyword one can exit the loop"
   ]
  },
  {
   "cell_type": "code",
   "execution_count": null,
   "metadata": {
    "slideshow": {
     "slide_type": "slide"
    }
   },
   "outputs": [],
   "source": [
    "x=int(input(\"Enter a number:\"))\n",
    "count=2\n",
    "isPrime=True\n",
    "divBy=None\n",
    "while isPrime and  count<x-1:\n",
    "    if x%count==0:\n",
    "        isPrime=False\n",
    "        divBy=count\n",
    "    print(count)\n",
    "    \n",
    "    count+=1       # same as count=count+1\n",
    "\n",
    "    \n",
    "    \n",
    "print(f'{x} {\"is prime \" if isPrime else \"is not prime. It is divisible by \"+str(divBy)}')"
   ]
  },
  {
   "cell_type": "code",
   "execution_count": null,
   "metadata": {},
   "outputs": [],
   "source": [
    "25:  2 no  isPrime=True\n",
    "     3 no  isPrime=True\n",
    "     4 no  isPrime=True\n",
    "     5 yes isPrime=False , divBy=5"
   ]
  },
  {
   "cell_type": "code",
   "execution_count": null,
   "metadata": {},
   "outputs": [],
   "source": [
    "a=17.5567678889\n",
    "b=13\n",
    "c='This is a test'\n",
    "print(f'This is literally printed {a:.3f} meaning {b} and a string {c}')"
   ]
  },
  {
   "cell_type": "markdown",
   "metadata": {
    "slideshow": {
     "slide_type": "slide"
    }
   },
   "source": [
    "- But, do we really need the **break** keyword?\n",
    "- The following code, **without break** does the same thing"
   ]
  },
  {
   "cell_type": "code",
   "execution_count": null,
   "metadata": {
    "slideshow": {
     "slide_type": "fragment"
    }
   },
   "outputs": [],
   "source": [
    "x=int(input(\"Enter a number:\"))\n",
    "count=2\n",
    "isPrime=True\n",
    "divBy=None\n",
    "while isPrime and count<x-1:\n",
    "    if x%count==0:\n",
    "        isPrime=False\n",
    "        divBy=count\n",
    "    count+=1       # same as count=count+1\n",
    "print(f'{x} {\"is prime \" if isPrime else \"is not prime. It is divisible by \"+str(divBy)}')"
   ]
  },
  {
   "cell_type": "markdown",
   "metadata": {
    "slideshow": {
     "slide_type": "slide"
    }
   },
   "source": [
    "- The answer is **NO**.\n",
    "- **break** forces the loop to exit at the break statement **without finishing** the remaining statements in the loop\n",
    "- The other option exits the loop at the **next iteration**"
   ]
  },
  {
   "cell_type": "code",
   "execution_count": null,
   "metadata": {
    "cell_style": "split",
    "scrolled": true,
    "slideshow": {
     "slide_type": "slide"
    }
   },
   "outputs": [],
   "source": [
    "x=int(input(\"Enter a number:\"))\n",
    "count=2\n",
    "isPrime=True\n",
    "divBy=None\n",
    "while isPrime and count<x-1:\n",
    "    if x%count==0:\n",
    "        isPrime=False\n",
    "        divBy=count\n",
    "    count+=1       # same as count=count+1\n",
    "print(count)"
   ]
  },
  {
   "cell_type": "code",
   "execution_count": null,
   "metadata": {
    "cell_style": "split",
    "slideshow": {
     "slide_type": "fragment"
    }
   },
   "outputs": [],
   "source": [
    "x=int(input(\"Enter a number:\"))\n",
    "count=2\n",
    "isPrime=True\n",
    "divBy=None\n",
    "while count<x-1:\n",
    "    if x%count==0:\n",
    "        isPrime=False\n",
    "        divBy=count\n",
    "        break\n",
    "    count+=1       # same as count=count+1\n",
    "print(count)"
   ]
  },
  {
   "cell_type": "markdown",
   "metadata": {
    "slideshow": {
     "slide_type": "slide"
    }
   },
   "source": [
    "### for loop\n",
    "\n",
    "**for** _var_ **in** _sequence_:\n",
    "\n",
    "     code block\n",
    "     \n",
    "- Sequences will be discussed later in the course\n",
    "- For now it is sufficient to use the **range** function"
   ]
  },
  {
   "cell_type": "markdown",
   "metadata": {
    "slideshow": {
     "slide_type": "slide"
    }
   },
   "source": [
    "### Examples"
   ]
  },
  {
   "cell_type": "code",
   "execution_count": null,
   "metadata": {
    "scrolled": true,
    "slideshow": {
     "slide_type": "fragment"
    }
   },
   "outputs": [],
   "source": [
    "for x in (1,2,3,4,....,1000):\n",
    "    print(x)"
   ]
  },
  {
   "cell_type": "code",
   "execution_count": null,
   "metadata": {
    "scrolled": true,
    "slideshow": {
     "slide_type": "fragment"
    }
   },
   "outputs": [],
   "source": [
    "for c in \"hello W\":\n",
    "    print(c)"
   ]
  },
  {
   "cell_type": "code",
   "execution_count": null,
   "metadata": {
    "slideshow": {
     "slide_type": "fragment"
    }
   },
   "outputs": [],
   "source": [
    "# Note: the lower limit is inclusive \n",
    "# whereas the upper is exclusive\n",
    "# range(x,y)== range(x,y,1)\n",
    "# default step=1\n",
    "for i in range(3,11,3):\n",
    "    print(i)"
   ]
  },
  {
   "cell_type": "code",
   "execution_count": null,
   "metadata": {
    "slideshow": {
     "slide_type": "fragment"
    }
   },
   "outputs": [],
   "source": [
    "# using step of 2\n",
    "x=int(input('Enter an integer:'))\n",
    "sum=0\n",
    "for i in range(1,x+1):\n",
    "    sum=sum+1/i\n",
    "    \n",
    "sum=sum+C"
   ]
  },
  {
   "cell_type": "markdown",
   "metadata": {
    "slideshow": {
     "slide_type": "slide"
    }
   },
   "source": [
    "#### Approximating natural logarithm\n",
    "\n",
    "$$\\ln x=H_x-C+O\\left(\\frac{1}{x}\\right)$$\n",
    "\n",
    "- where $H_n$ is the harmonic sum: $H_x=\\sum_{n=1}^x\\frac{1}{n}$\n",
    "- C=0.0.5772156649. The Euler-Mascheroni constant\n",
    "- $O\\left(\\frac{1}{x}\\right)$ means at most $\\frac{1}{x}$ (later in the course) \n",
    "- From the above formula we deduce that the approximation is more accurate when x is large"
   ]
  },
  {
   "cell_type": "code",
   "execution_count": null,
   "metadata": {
    "slideshow": {
     "slide_type": "slide"
    }
   },
   "outputs": [],
   "source": [
    "C=0.5772156649\n",
    "x=int(input('Enter an integer >1:'))\n",
    "H=0\n",
    "for i in range(1,x+1):\n",
    "    H+=1/i\n",
    "logarithm=H-C\n",
    "print(f'log({x})={logarithm}')    \n"
   ]
  },
  {
   "cell_type": "markdown",
   "metadata": {
    "slideshow": {
     "slide_type": "slide"
    }
   },
   "source": [
    "#### Accuracy"
   ]
  },
  {
   "cell_type": "code",
   "execution_count": null,
   "metadata": {
    "scrolled": true,
    "slideshow": {
     "slide_type": "fragment"
    }
   },
   "outputs": [],
   "source": [
    "## How accurate is it?\n",
    "from math import log\n",
    "\n",
    "print(f'difference is {abs((log(x)-logarithm)/log(x))*100:.2f}%')\n",
    "## {value:format specifier} here .2f= 2 decimal digits"
   ]
  },
  {
   "cell_type": "markdown",
   "metadata": {
    "slideshow": {
     "slide_type": "slide"
    }
   },
   "source": [
    "### Example:  (nested loops)\n",
    "\n",
    "- Print all prime numbers smaller than a given x\n",
    "- We already know how to test for primality for a given input\n",
    "- So, for each value <x test for primality\n"
   ]
  },
  {
   "cell_type": "code",
   "execution_count": null,
   "metadata": {
    "slideshow": {
     "slide_type": "slide"
    }
   },
   "outputs": [],
   "source": [
    "x=int(input('Enter a number:'))\n",
    "for i in range(3,x):\n",
    "    count=2\n",
    "    isPrime=True\n",
    "    while count<i-1:\n",
    "        if i%count==0:\n",
    "            isPrime=False\n",
    "            divBy=count\n",
    "            break      # break out of the while loop. NOT the for\n",
    "        count+=1       \n",
    "    if isPrime:\n",
    "        print(f'{i} is prime')\n",
    "    "
   ]
  },
  {
   "cell_type": "markdown",
   "metadata": {
    "slideshow": {
     "slide_type": "slide"
    }
   },
   "source": [
    "### Computing square root using bisection\n",
    "\n",
    "- Given c compute $c_0=\\sqrt{c}$, for $c>1$. We are effectively finding the root of the function $f(x)=x^2-c$\n",
    "- In other words find the value of $x$ for which $f(x)=0$\n",
    "- Because we are dealing with floating numbers we will never get $f(x)=0$ exactly\n",
    "- It is sufficient to find $f(x)<\\epsilon$ for a desired (small) $\\epsilon$\n",
    "- We know that for $x=0,f(0)=-c<0$ and for $x=c,f(x)=c^2-c>0$.\n",
    "- Therefore the value we are looking for is between 0 and $c$\n",
    "- We keep doing (iterating) the above computation until we get the desired accuracy"
   ]
  },
  {
   "cell_type": "markdown",
   "metadata": {
    "slideshow": {
     "slide_type": "slide"
    }
   },
   "source": [
    "<img src=\"./anim.gif\"> </img>"
   ]
  },
  {
   "cell_type": "code",
   "execution_count": null,
   "metadata": {
    "scrolled": true,
    "slideshow": {
     "slide_type": "slide"
    }
   },
   "outputs": [],
   "source": [
    "c=float(input(\"Enter a number:\"))\n",
    "epsilon=0.0001\n",
    "low=0\n",
    "high=c\n",
    "x=(low+high)/2\n",
    "while abs(x**2-c)>epsilon:\n",
    "    if x**2-c>0:\n",
    "        high=x\n",
    "    else:\n",
    "        low=x\n",
    "    x=(high+low)/2\n",
    "print(x)\n"
   ]
  },
  {
   "cell_type": "markdown",
   "metadata": {},
   "source": [
    "### Guessing the number game\n",
    "- Write a program to \n",
    "  1. Generate a random number from 1 to 10\n",
    "  1. Ask the user to guess that number\n",
    "  1. Keep track if the guess is correct or not\n",
    "  1. Do that 10 times and at the end print the number of correct guesses"
   ]
  },
  {
   "cell_type": "code",
   "execution_count": null,
   "metadata": {
    "scrolled": true
   },
   "outputs": [],
   "source": [
    "import random as rd\n",
    "print(rd.randint(1,10))\n"
   ]
  },
  {
   "cell_type": "code",
   "execution_count": null,
   "metadata": {
    "scrolled": false
   },
   "outputs": [],
   "source": [
    "import random as rd\n",
    "count=0\n",
    "quit=False\n",
    "numTries=5\n",
    "while not quit:\n",
    "    for i in range(numTries):\n",
    "        x=rd.randint(1,10)\n",
    "        a=int(input(\"Guess the number:\"))\n",
    "        if a==x:\n",
    "            count+=1\n",
    "    print(f\"You made {count} correct guesses\")\n",
    "    answer=input(\"Do you want to continue [Y/n]\")\n",
    "    if answer==\"N\" or answer=='n':\n",
    "        quit=True\n",
    "print(\"Bye\")        "
   ]
  },
  {
   "cell_type": "markdown",
   "metadata": {},
   "source": [
    "### Printing the multiplication table\n",
    "\n",
    "1  2  3  ... \n",
    "\n",
    "2  4  6  ... \n",
    "\n",
    "3  6  9  ... \n",
    "\n",
    ".  .  .  ... \n",
    "\n"
   ]
  },
  {
   "cell_type": "code",
   "execution_count": null,
   "metadata": {
    "scrolled": true
   },
   "outputs": [],
   "source": [
    "for i in range(1, 11):\n",
    "    # nested loop\n",
    "    # to iterate from 1 to 10\n",
    "    for j in range(1, 11):\n",
    "        # print multiplication\n",
    "        print(i * j, end=' ')\n",
    "    print()"
   ]
  },
  {
   "cell_type": "markdown",
   "metadata": {},
   "source": [
    "### continue statement\n",
    "\n",
    "- continue skips the remaining statements in a loop\n",
    "- Example: remove white space from a string\n",
    "\n"
   ]
  },
  {
   "cell_type": "code",
   "execution_count": null,
   "metadata": {},
   "outputs": [],
   "source": [
    "st=\"I need to remove white space      from this     string\"\n",
    "for c in st:\n",
    "    if c==' ':\n",
    "        continue\n",
    "    print(c,end='')"
   ]
  }
 ],
 "metadata": {
  "celltoolbar": "Slideshow",
  "kernelspec": {
   "display_name": "Python 3",
   "language": "python",
   "name": "python3"
  },
  "language_info": {
   "codemirror_mode": {
    "name": "ipython",
    "version": 3
   },
   "file_extension": ".py",
   "mimetype": "text/x-python",
   "name": "python",
   "nbconvert_exporter": "python",
   "pygments_lexer": "ipython3",
   "version": "3.9.6"
  },
  "rise": {
   "enable_chalkboard": true
  }
 },
 "nbformat": 4,
 "nbformat_minor": 2
}
