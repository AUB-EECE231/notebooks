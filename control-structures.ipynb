{
 "cells": [
  {
   "cell_type": "markdown",
   "metadata": {
    "cell_style": "center",
    "slideshow": {
     "slide_type": "slide"
    }
   },
   "source": [
    "# Control Structures\n",
    "\n",
    "1. Decisions\n",
    "1. Repetition (Looping)\n"
   ]
  },
  {
   "cell_type": "markdown",
   "metadata": {
    "cell_style": "center",
    "slideshow": {
     "slide_type": "fragment"
    }
   },
   "source": [
    "## Decisions"
   ]
  },
  {
   "cell_type": "markdown",
   "metadata": {
    "slideshow": {
     "slide_type": "subslide"
    }
   },
   "source": [
    "\n",
    "### if statement\n",
    "\n",
    "**if**  boolean expression **:**\n",
    "\n",
    "    stmt1\n",
    "    stmt2\n",
    "stmt3"
   ]
  },
  {
   "cell_type": "code",
   "execution_count": null,
   "metadata": {
    "slideshow": {
     "slide_type": "slide"
    }
   },
   "outputs": [],
   "source": [
    "x=int(input('Enter an interger:'))\n",
    "if x%2==0:\n",
    "    print(\"You have entered an even number\")\n",
    "    x=x//2\n",
    "print(\"-----------------\")\n",
    "if x%2==1:\n",
    "    print(\"You have entered an odd number\")\n",
    "    x=3*x+1\n",
    "print(\"New value of x is\",x)"
   ]
  },
  {
   "cell_type": "markdown",
   "metadata": {
    "slideshow": {
     "slide_type": "slide"
    }
   },
   "source": [
    "All statements in the same block **MUST** have same indentation"
   ]
  },
  {
   "cell_type": "code",
   "execution_count": null,
   "metadata": {
    "scrolled": false,
    "slideshow": {
     "slide_type": "fragment"
    }
   },
   "outputs": [],
   "source": [
    "x=int(input(\"Enter an interger:\"))\n",
    "if x%2==0:\n",
    "    print(\"You have entered an even number\")\n",
    "      x=x/2\n",
    "print(\"New value of x is\",x)"
   ]
  },
  {
   "cell_type": "markdown",
   "metadata": {
    "slideshow": {
     "slide_type": "slide"
    }
   },
   "source": [
    "### if statements can be nested (as many times as we want)"
   ]
  },
  {
   "cell_type": "code",
   "execution_count": null,
   "metadata": {
    "slideshow": {
     "slide_type": "subslide"
    }
   },
   "outputs": [],
   "source": [
    "x=int(input(\"enter an integer\"))\n",
    "op=input(\"enter operation(mult or div)\")\n",
    "if x%2==0:\n",
    "    if op==\"mult\":\n",
    "        x=2*x\n",
    "    if op==\"div\":\n",
    "        x=x//2\n",
    "print(\"New value of x is\",x)"
   ]
  },
  {
   "cell_type": "markdown",
   "metadata": {
    "slideshow": {
     "slide_type": "slide"
    }
   },
   "source": [
    "### if-else statement\n",
    "\n",
    "**if** expr:\n",
    "\n",
    "    stmt1      executes if expr is True\n",
    "    stmt2      executes if expr is True\n",
    "    etc        executes if expr is True\n",
    "    \n",
    "**else**:\n",
    "\n",
    "    stmt3      executes if expr is False\n",
    "    stmt4      executes if expr is False\n",
    "    etc        executes if expr is False\n",
    "    \n",
    "stmt5   executes **regardless** if expr is True or False"
   ]
  },
  {
   "cell_type": "code",
   "execution_count": null,
   "metadata": {
    "scrolled": true,
    "slideshow": {
     "slide_type": "subslide"
    }
   },
   "outputs": [],
   "source": [
    "x=int(input(\"Enter an integer\"))\n",
    "\n",
    "if x%2==0:\n",
    "    print(\"You have entered an even number\")\n",
    "    x=x/2\n",
    "else:\n",
    "    print(\"You have entered an odd number\")\n",
    "print(\"the new value of x is\",x)"
   ]
  },
  {
   "cell_type": "markdown",
   "metadata": {
    "slideshow": {
     "slide_type": "slide"
    }
   },
   "source": [
    "### if-elif-else statement"
   ]
  },
  {
   "cell_type": "markdown",
   "metadata": {
    "slideshow": {
     "slide_type": "slide"
    }
   },
   "source": [
    "**if** expr1:\n",
    "\n",
    "    stmt block1     executesd if expr1=True\n",
    "**elif** expr2:\n",
    "\n",
    "    stmt block2     executes if expr1=False and expr2=True\n",
    "    \n",
    "**else**:\n",
    "\n",
    "    stmt block3 executes if both expr1 and expr2 are False\n",
    "    \n",
    "stmt block4 #executes in **ALL** cases"
   ]
  },
  {
   "cell_type": "markdown",
   "metadata": {
    "slideshow": {
     "slide_type": "slide"
    }
   },
   "source": [
    "### Order Matters !!"
   ]
  },
  {
   "cell_type": "code",
   "execution_count": null,
   "metadata": {
    "slideshow": {
     "slide_type": "subslide"
    }
   },
   "outputs": [],
   "source": [
    "x=int(input(\"Enter an interger:\"))\n",
    "if x%4==0:\n",
    "    print(\"multiple of 4\")\n",
    "    x=x//4\n",
    "elif x%8==0:\n",
    "       print(\"multiple of 8\")\n",
    "       x=x//8\n",
    "elif x%16==0:\n",
    "      print(\"multiple of 16\")\n",
    "      x=x//16\n",
    "else:\n",
    "            print(\"None of the above\")\n",
    "        \n",
    "print(\"new value of x is\",x)"
   ]
  },
  {
   "cell_type": "markdown",
   "metadata": {
    "slideshow": {
     "slide_type": "slide"
    }
   },
   "source": [
    "#### Exercise: Compute the largest of three numbers"
   ]
  },
  {
   "cell_type": "code",
   "execution_count": null,
   "metadata": {
    "slideshow": {
     "slide_type": "subslide"
    }
   },
   "outputs": [],
   "source": [
    "x=float(input('Enter x:'))\n",
    "y=float(input('Enter y:'))\n",
    "z=float(input('Enter z:'))\n",
    "if x>y:\n",
    "    if x>z:\n",
    "        largest=x\n",
    "    else:\n",
    "        largest=z\n",
    "else:\n",
    "    if y>z:\n",
    "        largest=y\n",
    "    else:\n",
    "        largest=z\n",
    "print(f'largest={largest}')        "
   ]
  },
  {
   "cell_type": "markdown",
   "metadata": {
    "slideshow": {
     "slide_type": "slide"
    }
   },
   "source": [
    "- Actually, the previous code (_almost_) **sorts** the sequence.\n",
    "- We are doing more work than we need\n",
    "- A different approach (that works when we have a large list of numbers)"
   ]
  },
  {
   "cell_type": "code",
   "execution_count": null,
   "metadata": {
    "slideshow": {
     "slide_type": "subslide"
    }
   },
   "outputs": [],
   "source": [
    "x=float(input('Enter x:'))\n",
    "y=float(input('Enter y:'))\n",
    "z=float(input('Enter z:'))\n",
    "largest=x\n",
    "if y>largest:\n",
    "    largest=y\n",
    "if z>largest:\n",
    "    largest=z\n",
    "print(largest)    "
   ]
  },
  {
   "cell_type": "markdown",
   "metadata": {
    "slideshow": {
     "slide_type": "subslide"
    }
   },
   "source": [
    "What do you mean (_almost_) **sorts** the input?"
   ]
  },
  {
   "cell_type": "markdown",
   "metadata": {
    "slideshow": {
     "slide_type": "subslide"
    }
   },
   "source": [
    "Let us discuss conditional expressions (rather than conditional statements) first\n",
    "\n",
    "expr1 **if** _condition_ **else** expr2\n",
    "- The above evaluates to expr1 if the condition is true and to expr2 if the condition is false"
   ]
  },
  {
   "cell_type": "code",
   "execution_count": null,
   "metadata": {
    "scrolled": true,
    "slideshow": {
     "slide_type": "slide"
    }
   },
   "outputs": [],
   "source": [
    "x=int(input('Enter an integer'))\n",
    "x//2 if x%2==0 else 3*x+1"
   ]
  },
  {
   "cell_type": "code",
   "execution_count": null,
   "metadata": {
    "scrolled": true,
    "slideshow": {
     "slide_type": "fragment"
    }
   },
   "outputs": [],
   "source": [
    "y=  x//2 if x%2==0 else 3*x+1\n",
    "print(y)"
   ]
  },
  {
   "cell_type": "markdown",
   "metadata": {
    "slideshow": {
     "slide_type": "fragment"
    }
   },
   "source": [
    "- **NOT**"
   ]
  },
  {
   "cell_type": "code",
   "execution_count": null,
   "metadata": {
    "scrolled": false,
    "slideshow": {
     "slide_type": "fragment"
    }
   },
   "outputs": [],
   "source": [
    "y=  x//2 if x%2==0 else y=3*x+1"
   ]
  },
  {
   "cell_type": "markdown",
   "metadata": {
    "slideshow": {
     "slide_type": "slide"
    }
   },
   "source": [
    "Another example (conditional expresion)"
   ]
  },
  {
   "cell_type": "code",
   "execution_count": null,
   "metadata": {
    "slideshow": {
     "slide_type": "fragment"
    }
   },
   "outputs": [],
   "source": [
    "y= (x//2 if x%2==0 else 3*x+1)+(x**3 if x<10 else x**2)\n",
    "print(y)"
   ]
  },
  {
   "cell_type": "markdown",
   "metadata": {
    "slideshow": {
     "slide_type": "slide"
    }
   },
   "source": [
    "#### Sorting 3 numbers"
   ]
  },
  {
   "cell_type": "code",
   "execution_count": null,
   "metadata": {
    "scrolled": true,
    "slideshow": {
     "slide_type": "subslide"
    }
   },
   "outputs": [],
   "source": [
    "x=float(input('Enter x:'))\n",
    "y=float(input('Enter y:'))\n",
    "z=float(input('Enter z:'))\n",
    "if x>y:\n",
    "    if x>z:\n",
    "        print(y if y<z else z,y if y>z else z,x)\n",
    "    else:\n",
    "        print(y,x,z)\n",
    "else:\n",
    "    if y>z:\n",
    "        print(x if x<z else z,x if x>z else z,y)\n",
    "    else:\n",
    "        print(x,y,z)\n",
    "  "
   ]
  },
  {
   "cell_type": "markdown",
   "metadata": {
    "slideshow": {
     "slide_type": "slide"
    }
   },
   "source": [
    "#### Exercise\n",
    "\n",
    "1. Read 3 integers x,y, and z\n",
    "1. If all are even choose the smallest\n",
    "1. Otherwise choose the largest"
   ]
  },
  {
   "cell_type": "code",
   "execution_count": null,
   "metadata": {
    "slideshow": {
     "slide_type": "skip"
    }
   },
   "outputs": [],
   "source": [
    "#from IPython.display import IFrame\n",
    "\n",
    "#url = 'https://aub-eece231.github.io/files/control/index.html'\n",
    "#IFrame(url, width=1000, height=600)\n"
   ]
  },
  {
   "cell_type": "code",
   "execution_count": null,
   "metadata": {
    "slideshow": {
     "slide_type": "subslide"
    }
   },
   "outputs": [],
   "source": [
    "x=int(input('Enter integer x: '))\n",
    "y=int(input('Enter integer y: '))\n",
    "z=int(input('Enter integer z: '))"
   ]
  },
  {
   "cell_type": "code",
   "execution_count": null,
   "metadata": {
    "slideshow": {
     "slide_type": "subslide"
    }
   },
   "outputs": [],
   "source": [
    "if x%2==0 and y%2==0 and z%2==0:\n",
    "    # choose the smallest\n",
    "    if x<y:\n",
    "        if x<z:\n",
    "            print('the smallest is',x)\n",
    "        else:\n",
    "            print('the smallest is',z)\n",
    "    else: #y<=x\n",
    "        if y<z:\n",
    "            print('the smallest is',y)\n",
    "        else:\n",
    "            print('the smallest is',z)    \n",
    "else:\n",
    "    # choose the largest\n",
    "    if x>y:\n",
    "        if x>z:\n",
    "            print('the largest is',x)\n",
    "        else:\n",
    "            print('the largest is',z)\n",
    "    else: #y>=x\n",
    "        if y>z:\n",
    "            print('the largest is',y)\n",
    "        else:\n",
    "            print('the largest is',z)\n",
    "        "
   ]
  },
  {
   "cell_type": "markdown",
   "metadata": {
    "slideshow": {
     "slide_type": "slide"
    }
   },
   "source": [
    "#### Different approach\n"
   ]
  },
  {
   "cell_type": "code",
   "execution_count": null,
   "metadata": {
    "slideshow": {
     "slide_type": "subslide"
    }
   },
   "outputs": [],
   "source": [
    "x=int(input('Enter x: '))\n",
    "y=int(input('Enter y: '))\n",
    "z=int(input('Enter z: '))\n",
    "# Assume all are even. It could change later\n",
    "result=min(x,y,z)\n",
    "if x%2==1: # if x is odd temporarily assume it is the largest\n",
    "    result=x\n",
    "if y%2==1 and y>result: #if y is also odd AND greater than result\n",
    "    result=y\n",
    "if z%2==1 and z>result: #if z is also odd AND greater than result\n",
    "    result=z\n",
    "print(\"result=\",result)"
   ]
  },
  {
   "cell_type": "markdown",
   "metadata": {
    "slideshow": {
     "slide_type": "slide"
    }
   },
   "source": [
    "## Repetition (looping)"
   ]
  },
  {
   "cell_type": "markdown",
   "metadata": {
    "slideshow": {
     "slide_type": "slide"
    }
   },
   "source": [
    "## while loop\n",
    "\n",
    "- General structure\n",
    "\n",
    "**while** condition :\n",
    "\n",
    "       block        executed as long as condition is True\n",
    "Remainder of code"
   ]
  },
  {
   "cell_type": "markdown",
   "metadata": {
    "slideshow": {
     "slide_type": "subslide"
    }
   },
   "source": [
    "#### Example"
   ]
  },
  {
   "cell_type": "code",
   "execution_count": null,
   "metadata": {
    "slideshow": {
     "slide_type": "fragment"
    }
   },
   "outputs": [],
   "source": [
    "x=2\n",
    "while x<10:\n",
    "    print(x)\n",
    "    x+=1\n",
    "print('done')"
   ]
  },
  {
   "cell_type": "markdown",
   "metadata": {
    "slideshow": {
     "slide_type": "slide"
    }
   },
   "source": [
    "### Example (determine if a number is prime)"
   ]
  },
  {
   "cell_type": "code",
   "execution_count": 25,
   "metadata": {
    "slideshow": {
     "slide_type": "fragment"
    }
   },
   "outputs": [
    {
     "name": "stdout",
     "output_type": "stream",
     "text": [
      "Enter a number:19\n",
      "19 is prime\n"
     ]
    }
   ],
   "source": [
    "x=int(input(\"Enter a number:\"))\n",
    "count=2\n",
    "isPrime=True\n",
    "while count<x-1:\n",
    "    if x%count==0:\n",
    "        isPrime=False\n",
    "    count+=1       # same as count=count+1\n",
    "if isPrime:\n",
    "    print(x,\"is prime\")\n",
    "else:\n",
    "    print(x,\"is not prime\")\n"
   ]
  },
  {
   "cell_type": "markdown",
   "metadata": {
    "slideshow": {
     "slide_type": "slide"
    }
   },
   "source": [
    "### Observation\n",
    "\n",
    "- Suppose the input was 98\n",
    "- The algorithm tests divisibility by 2,3,4,...,97\n",
    "- Even though from the first test (division by 2) we now it is not prime\n",
    "- Wasted time doing the division by 3,4,5,...,97\n",
    "- Can we break (exit) the loop early?\n",
    "- YES!! using the **break** keyword one can exit the loop"
   ]
  },
  {
   "cell_type": "code",
   "execution_count": 24,
   "metadata": {
    "slideshow": {
     "slide_type": "slide"
    }
   },
   "outputs": [
    {
     "name": "stdout",
     "output_type": "stream",
     "text": [
      "Enter a number:9\n",
      "9 is not prime. It is divisible by 3\n"
     ]
    }
   ],
   "source": [
    "x=int(input(\"Enter a number:\"))\n",
    "count=2\n",
    "isPrime=True\n",
    "divBy=None\n",
    "while count<x-1:\n",
    "    if x%count==0:\n",
    "        isPrime=False\n",
    "        divBy=count\n",
    "        break\n",
    "    count+=1       # same as count=count+1\n",
    "print(f'{x} {\"is prime \" if isPrime else \"is not prime. It is divisible by \"+str(divBy)}')"
   ]
  },
  {
   "cell_type": "markdown",
   "metadata": {
    "slideshow": {
     "slide_type": "slide"
    }
   },
   "source": [
    "- But, do we really need the **break** keyword?\n",
    "- The following code, **without break** does the same thing"
   ]
  },
  {
   "cell_type": "code",
   "execution_count": 26,
   "metadata": {
    "slideshow": {
     "slide_type": "fragment"
    }
   },
   "outputs": [
    {
     "name": "stdout",
     "output_type": "stream",
     "text": [
      "Enter a number:99\n",
      "99 is not prime. It is divisible by 3\n"
     ]
    }
   ],
   "source": [
    "x=int(input(\"Enter a number:\"))\n",
    "count=2\n",
    "isPrime=True\n",
    "divBy=None\n",
    "while isPrime and count<x-1:\n",
    "    if x%count==0:\n",
    "        isPrime=False\n",
    "        divBy=count\n",
    "    count+=1       # same as count=count+1\n",
    "print(f'{x} {\"is prime \" if isPrime else \"is not prime. It is divisible by \"+str(divBy)}')"
   ]
  },
  {
   "cell_type": "markdown",
   "metadata": {
    "slideshow": {
     "slide_type": "slide"
    }
   },
   "source": [
    "- The answer is **NO**.\n",
    "- **break** forces the loop to exit at the break statement **without finishing** the remaining statements in the loop\n",
    "- The other option exits the loop at the **next iteration**"
   ]
  },
  {
   "cell_type": "code",
   "execution_count": 6,
   "metadata": {
    "cell_style": "split",
    "scrolled": true,
    "slideshow": {
     "slide_type": "slide"
    }
   },
   "outputs": [
    {
     "name": "stdout",
     "output_type": "stream",
     "text": [
      "Enter a number:10\n",
      "3\n"
     ]
    }
   ],
   "source": [
    "x=int(input(\"Enter a number:\"))\n",
    "count=2\n",
    "isPrime=True\n",
    "divBy=None\n",
    "while isPrime and count<x-1:\n",
    "    if x%count==0:\n",
    "        isPrime=False\n",
    "        divBy=count\n",
    "    count+=1       # same as count=count+1\n",
    "print(count)"
   ]
  },
  {
   "cell_type": "code",
   "execution_count": 7,
   "metadata": {
    "cell_style": "split",
    "slideshow": {
     "slide_type": "fragment"
    }
   },
   "outputs": [
    {
     "name": "stdout",
     "output_type": "stream",
     "text": [
      "Enter a number:10\n",
      "2\n"
     ]
    }
   ],
   "source": [
    "x=int(input(\"Enter a number:\"))\n",
    "count=2\n",
    "isPrime=True\n",
    "divBy=None\n",
    "while count<x-1:\n",
    "    if x%count==0:\n",
    "        isPrime=False\n",
    "        divBy=count\n",
    "        break\n",
    "    count+=1       # same as count=count+1\n",
    "print(count)"
   ]
  },
  {
   "cell_type": "markdown",
   "metadata": {},
   "source": [
    "### for loop\n",
    "\n",
    "**for** _var_ **in** _sequence_:\n",
    "\n",
    "     code block"
   ]
  },
  {
   "cell_type": "code",
   "execution_count": null,
   "metadata": {},
   "outputs": [],
   "source": []
  }
 ],
 "metadata": {
  "celltoolbar": "Slideshow",
  "kernelspec": {
   "display_name": "Python 3",
   "language": "python",
   "name": "python3"
  },
  "language_info": {
   "codemirror_mode": {
    "name": "ipython",
    "version": 3
   },
   "file_extension": ".py",
   "mimetype": "text/x-python",
   "name": "python",
   "nbconvert_exporter": "python",
   "pygments_lexer": "ipython3",
   "version": "3.9.6"
  },
  "rise": {
   "enable_chalkboard": true
  }
 },
 "nbformat": 4,
 "nbformat_minor": 2
}
