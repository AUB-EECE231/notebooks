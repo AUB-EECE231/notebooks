{
 "cells": [
  {
   "cell_type": "code",
   "execution_count": 12,
   "metadata": {},
   "outputs": [
    {
     "name": "stdout",
     "output_type": "stream",
     "text": [
      "5 10 15 20 30 False\n"
     ]
    }
   ],
   "source": [
    "class Node:\n",
    "    def __init__(self,val,left=None,right=None):\n",
    "        self.val=val\n",
    "        self.left=left\n",
    "        self.right=right\n",
    "class Tree:\n",
    "\n",
    "    def __init__(self,rootVal):\n",
    "        self.root=Node(rootVal)\n",
    "\n",
    "    def _insert(self,node,val):\n",
    "        if node==None:\n",
    "            return\n",
    "        if val>=node.val:\n",
    "            if node.right==None:\n",
    "                node.right=Node(val)\n",
    "            else:\n",
    "                self._insert(node.right,val)\n",
    "        else:\n",
    "            if node.left==None:\n",
    "                node.left=Node(val)\n",
    "            else:\n",
    "                self._insert(node.left,val)\n",
    "        pass\n",
    "    def _inorder(self,node):\n",
    "        if node==None:\n",
    "            return\n",
    "        self._inorder(node.left)\n",
    "        print(node.val,end=' ')\n",
    "        self._inorder(node.right)\n",
    "    def insert(self,val):\n",
    "        if self.root==None:\n",
    "            self.root=val\n",
    "        else:\n",
    "            self._insert(self.root,val)\n",
    "\n",
    "    def inorder(self):\n",
    "        self._inorder(self.root)\n",
    "    def _find(self,node,val):\n",
    "\n",
    "        if node.val==val:\n",
    "            return True\n",
    "        if val>=node.val:\n",
    "            if node.right==None:\n",
    "                return False\n",
    "            else:\n",
    "                return self._find(node.right,val)\n",
    "        else:\n",
    "            if node.left==None:\n",
    "                return False\n",
    "            else:\n",
    "                return self._find(node.left.val)\n",
    "\n",
    "    def find(self,val):\n",
    "        return self._find(self.root,val)\n",
    "\n",
    "    def __str__(self):\n",
    "        pass\n",
    "t=Tree(10)\n",
    "t.insert(5)\n",
    "t.insert(15)\n",
    "t.insert(20)\n",
    "t.insert(30)\n",
    "t.inorder()\n",
    "print(t.find(23))"
   ]
  },
  {
   "cell_type": "markdown",
   "metadata": {},
   "source": [
    "Write the function `strSearchV2(L, inStr)`, which solves the same problem but in $O(n \\log n)$ time. You can achieve this by using a sorted copy of `L`, and then for each `str1` in `L`, use binary search to find the complement `str2`. Note that the list `L` should not be modified, and the returned tuple should hold the indices relevant to the original unordered `L` (i.e., not relevant to the sorted copy); thus, the output of `strSearchV2` should match that of `strSearchV1`."
   ]
  },
  {
   "cell_type": "code",
   "execution_count": null,
   "metadata": {},
   "outputs": [],
   "source": [
    "def binary_search(L,target): #assumes L is sorted\n",
    "    lower=0            \n",
    "    upper=len(L)-1\n",
    "    while lower<=upper:\n",
    "        mid = (lower+upper)//2\n",
    "        if L[mid]==target:  \n",
    "            return mid\n",
    "        if target<L[mid]:\n",
    "            upper = mid-1\n",
    "        else:\n",
    "            lower=mid+1\n",
    "            \n",
    "def strSearchV2(L, inStr):\n",
    "    L2 = sorted(L) \n",
    "    \n",
    "    for i, str1 in enumerate(L2):  \n",
    "        s_len = len(str1)\n",
    "        if str1 == inStr[:s_len]: ## str1 is a prefix of inStr\n",
    "            str2 = inStr[s_len:]   \n",
    "            idx = binary_search(L2,str2)   \n",
    "            if idx is not None:\n",
    "                return (L.index(str1), L.index(str2)) "
   ]
  },
  {
   "cell_type": "markdown",
   "metadata": {},
   "source": [
    "In `strSearchV3(L, inStr)`, use a dictionary to solve the same problem in linear expected time."
   ]
  },
  {
   "cell_type": "code",
   "execution_count": null,
   "metadata": {},
   "outputs": [],
   "source": [
    "\n",
    "\n",
    "def strSearchV3(L, inStr): \n",
    "    d = {} \n",
    "    for i, s in enumerate(L):\n",
    "        d[s] = i\n",
    "        \n",
    "    for j, str1 in enumerate(L):\n",
    "        s_len = len(str1)\n",
    "        if str1 == inStr[:s_len]:  # if str1 is a prefix of input_str\n",
    "            str2 = inStr[s_len:] \n",
    "            if str2 in d:\n",
    "                idx = d[str2]\n",
    "                return(j,idx)\n",
    "        \n",
    "L = ['head','shoulders ','knees and ','toes!']"
   ]
  }
 ],
 "metadata": {
  "interpreter": {
   "hash": "63fd5069d213b44bf678585dea6b12cceca9941eaf7f819626cde1f2670de90d"
  },
  "kernelspec": {
   "display_name": "Python 3.9.6 64-bit",
   "language": "python",
   "name": "python3"
  },
  "language_info": {
   "codemirror_mode": {
    "name": "ipython",
    "version": 3
   },
   "file_extension": ".py",
   "mimetype": "text/x-python",
   "name": "python",
   "nbconvert_exporter": "python",
   "pygments_lexer": "ipython3",
   "version": "3.9.6"
  },
  "orig_nbformat": 4
 },
 "nbformat": 4,
 "nbformat_minor": 2
}
