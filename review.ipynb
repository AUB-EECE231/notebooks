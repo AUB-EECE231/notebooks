{
 "cells": [
  {
   "cell_type": "code",
   "execution_count": 12,
   "metadata": {},
   "outputs": [
    {
     "name": "stdout",
     "output_type": "stream",
     "text": [
      "5 10 15 20 30 False\n"
     ]
    }
   ],
   "source": [
    "class Node:\n",
    "    def __init__(self,val,left=None,right=None):\n",
    "        self.val=val\n",
    "        self.left=left\n",
    "        self.right=right\n",
    "class Tree:\n",
    "\n",
    "    def __init__(self,rootVal):\n",
    "        self.root=Node(rootVal)\n",
    "\n",
    "    def _insert(self,node,val):\n",
    "        if node==None:\n",
    "            return\n",
    "        if val>=node.val:\n",
    "            if node.right==None:\n",
    "                node.right=Node(val)\n",
    "            else:\n",
    "                self._insert(node.right,val)\n",
    "        else:\n",
    "            if node.left==None:\n",
    "                node.left=Node(val)\n",
    "            else:\n",
    "                self._insert(node.left,val)\n",
    "        pass\n",
    "    def _inorder(self,node):\n",
    "        if node==None:\n",
    "            return\n",
    "        self._inorder(node.left)\n",
    "        print(node.val,end=' ')\n",
    "        self._inorder(node.right)\n",
    "    def insert(self,val):\n",
    "        if self.root==None:\n",
    "            self.root=val\n",
    "        else:\n",
    "            self._insert(self.root,val)\n",
    "\n",
    "    def inorder(self):\n",
    "        self._inorder(self.root)\n",
    "    def _find(self,node,val):\n",
    "\n",
    "        if node.val==val:\n",
    "            return True\n",
    "        if val>=node.val:\n",
    "            if node.right==None:\n",
    "                return False\n",
    "            else:\n",
    "                return self._find(node.right,val)\n",
    "        else:\n",
    "            if node.left==None:\n",
    "                return False\n",
    "            else:\n",
    "                return self._find(node.left.val)\n",
    "\n",
    "    def find(self,val):\n",
    "        return self._find(self.root,val)\n",
    "\n",
    "    def __str__(self):\n",
    "        pass\n",
    "t=Tree(10)\n",
    "t.insert(5)\n",
    "t.insert(15)\n",
    "t.insert(20)\n",
    "t.insert(30)\n",
    "t.inorder()\n",
    "print(t.find(23))"
   ]
  },
  {
   "cell_type": "code",
   "execution_count": null,
   "metadata": {},
   "outputs": [],
   "source": []
  }
 ],
 "metadata": {
  "interpreter": {
   "hash": "63fd5069d213b44bf678585dea6b12cceca9941eaf7f819626cde1f2670de90d"
  },
  "kernelspec": {
   "display_name": "Python 3.9.6 64-bit",
   "language": "python",
   "name": "python3"
  },
  "language_info": {
   "codemirror_mode": {
    "name": "ipython",
    "version": 3
   },
   "file_extension": ".py",
   "mimetype": "text/x-python",
   "name": "python",
   "nbconvert_exporter": "python",
   "pygments_lexer": "ipython3",
   "version": "3.9.6"
  },
  "orig_nbformat": 4
 },
 "nbformat": 4,
 "nbformat_minor": 2
}
