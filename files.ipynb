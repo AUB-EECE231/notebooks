{
 "cells": [
  {
   "cell_type": "markdown",
   "metadata": {},
   "source": [
    "### File I/O\n",
    "Typically, a file is handled in three steps\n",
    "1. Open the file\n",
    "1. Read/Write to the file\n",
    "1. Close the file"
   ]
  },
  {
   "cell_type": "markdown",
   "metadata": {},
   "source": [
    "### Jupyter Magic Commands\n",
    "1. These are commands **NOT** related to the Python language\n",
    "1. There are two types\n",
    "    1. Line commands: starts with a single %\n",
    "    1. Cell commands: starts with two %%\n",
    "\n",
    "1. Below we use the %%writefile command to write to a file in the current directory\n",
    "1. **NOTE** This is done for **convenience**. We could have used  notepad or similar to create the file.\n",
    "1. Again this is **NOT** related in any way to Python"
   ]
  },
  {
   "cell_type": "code",
   "execution_count": null,
   "metadata": {},
   "outputs": [],
   "source": [
    "%%writefile somefile.txt\n",
    "Line one\n",
    "second line\n",
    "Last line  "
   ]
  },
  {
   "cell_type": "markdown",
   "metadata": {},
   "source": [
    "### Simple Example\n",
    "1. Read the content of the file we have created in the previous cell\n",
    "1. Since it is a text file (line oriented) we can\n",
    "    1. read the whole file into a string\n",
    "    1. read the file as **lines**"
   ]
  },
  {
   "cell_type": "code",
   "execution_count": null,
   "metadata": {},
   "outputs": [],
   "source": [
    "# reading the whole file into a string\n",
    "f=open(\"somefile.txt\")\n",
    "content=f.read()\n",
    "print(type(content))\n",
    "print(content)\n",
    "f.close()"
   ]
  },
  {
   "cell_type": "code",
   "execution_count": null,
   "metadata": {},
   "outputs": [],
   "source": [
    "f=open(\"somefile.txt\",\"r\")\n",
    "for line in f:\n",
    "    print(line)"
   ]
  },
  {
   "cell_type": "markdown",
   "metadata": {},
   "source": [
    "### Alternatively"
   ]
  },
  {
   "cell_type": "code",
   "execution_count": null,
   "metadata": {},
   "outputs": [],
   "source": [
    "## reading the file as separate lines\n",
    "f=open(\"somefile.txt\")\n",
    "lines=f.readlines()\n",
    "print(f'return value of readlines is {type(lines)}')\n",
    "# compute the length of each line\n",
    "length=list(map(len,lines))\n",
    "# print each line, preceded by a number, omitting the last newline character '\\n'\n",
    "for i,line in enumerate(lines):\n",
    "    print(f'{i} {line[:-1]}')\n",
    "    # alternatively keep the \\n but do not add an extra pne via print\n",
    "    #print(f'{i} {line}',end='')\n",
    "print(length)"
   ]
  },
  {
   "cell_type": "markdown",
   "metadata": {},
   "source": [
    "### Word count utility (wc)\n",
    "\n",
    "- Unix has a utility ```wc``` that when passed a file as input it outputs\n",
    "    1. the number of lines\n",
    "    1. the number of words\n",
    "    1. the number of characters\n",
    "- We will write a Python function to implement ```wc```"
   ]
  },
  {
   "cell_type": "code",
   "execution_count": null,
   "metadata": {},
   "outputs": [],
   "source": [
    "f=open(\"somefile.txt\")\n",
    "lines=f.readlines()\n",
    "nl,nw,nc=len(lines),0,0\n",
    "for line in lines:\n",
    "    nc+=len(line)\n",
    "    tmp=line.split()\n",
    "    nw+=len(tmp)\n",
    "print(f'n lines={nl},n words={nw},n char={nc}')\n"
   ]
  },
  {
   "cell_type": "markdown",
   "metadata": {},
   "source": [
    "### Writing to files\n",
    "\n",
    "- To open file ```newFile.txt``` we need to specify mode \"w\"\n",
    "- If **no other** option is specified\n",
    "    1. The file is **created** if it does not exist\n",
    "    1. The file is **truncated** if it exists\n",
    "- We can modify the **default** behavior as follows\n",
    "    1. To **append** to the file (prevent truncation) we add \"a\", i.e. \"wa\""
   ]
  },
  {
   "cell_type": "code",
   "execution_count": null,
   "metadata": {},
   "outputs": [],
   "source": [
    "## If \"newFile.txt\" does not exist it will be created\n",
    "## If it does it will be truncated\n",
    "f=open(\"newFile.txt\",\"w\")\n",
    "f.writelines([\"one\\t\",\"two\\t\"])\n",
    "f.write(\"\\nsecond line\")\n",
    "f.close()\n",
    "\n",
    "f=open(\"newFile.txt\",\"r\")\n",
    "s=f.read()\n",
    "print(s)\n",
    "f.close()"
   ]
  },
  {
   "cell_type": "code",
   "execution_count": null,
   "metadata": {},
   "outputs": [],
   "source": [
    "## newFile will not be truncated \n",
    "## Anything we write is appended to the end\n",
    "f=open(\"newFile.txt\",\"a\")\n",
    "f.write(\"\\nthird line\")\n",
    "f.close()\n",
    "with open(\"newFile.txt\") as f:\n",
    "    s=f.read()\n",
    "print(s)"
   ]
  },
  {
   "cell_type": "markdown",
   "metadata": {},
   "source": [
    "## Exceptions\n",
    "\n",
    "- When runtime errors occur the Python interpreter stops execution and reports the error\n",
    "- Sometimes we would like to handle the error gracefully and continue the execution\n",
    "- This can be done using the ```try...except``` block\n",
    "- If an exception (error) occurs at a certain line in the ```try``` block the flow of execution continues in **corresponding**  ```except``` block\n",
    "- An ```except``` block with **unspecified** exception type is **a catch all block**: it will catch all types of exceptions"
   ]
  },
  {
   "cell_type": "code",
   "execution_count": 119,
   "metadata": {},
   "outputs": [
    {
     "name": "stdout",
     "output_type": "stream",
     "text": [
      "An error occurred\n",
      "An error occurred\n"
     ]
    }
   ],
   "source": [
    "a=[1,2,3]\n",
    "\n",
    "## Index out of range error\n",
    "try:\n",
    "    a[3]\n",
    "except:\n",
    "    print(\"An error occurred\")\n",
    "\n",
    "## File not found errorb\n",
    "try:\n",
    "    f=open(\"nonExistantFile\")\n",
    "except:\n",
    "    print(\"An error occurred\")"
   ]
  },
  {
   "cell_type": "markdown",
   "metadata": {},
   "source": [
    "#### Handling different exceptions differently"
   ]
  },
  {
   "cell_type": "code",
   "execution_count": null,
   "metadata": {},
   "outputs": [],
   "source": [
    "try:\n",
    "    filename=\"nonExistantFile\"\n",
    "    f=open(filename,\"r\")\n",
    "except FileNotFoundError:\n",
    "    print(f'file {filename} cannot be found')\n",
    "except:\n",
    "    pass\n"
   ]
  },
  {
   "cell_type": "markdown",
   "metadata": {},
   "source": [
    "### Another example\n",
    "\n",
    "- We would like to open a file and convert the string representation of numbers into integers\n",
    "- There are two types of exceptions that could occur\n",
    "    1. The file is not found\n",
    "    2. Some of the strings cannot be converted to integers"
   ]
  },
  {
   "cell_type": "code",
   "execution_count": 120,
   "metadata": {},
   "outputs": [
    {
     "name": "stdout",
     "output_type": "stream",
     "text": [
      "Overwriting wrongNumbers.txt\n"
     ]
    }
   ],
   "source": [
    "%%writefile wrongNumbers.txt\n",
    "1 2 3 4 y"
   ]
  },
  {
   "cell_type": "code",
   "execution_count": 121,
   "metadata": {},
   "outputs": [
    {
     "name": "stdout",
     "output_type": "stream",
     "text": [
      "Overwriting readNumbers.txt\n"
     ]
    }
   ],
   "source": [
    "%%writefile readNumbers.txt\n",
    "1 2 3 4 5"
   ]
  },
  {
   "cell_type": "code",
   "execution_count": 112,
   "metadata": {},
   "outputs": [
    {
     "name": "stdout",
     "output_type": "stream",
     "text": [
      "[1, 2, 3, 4, 5]\n"
     ]
    }
   ],
   "source": [
    "def readNums(filename):\n",
    "    try:\n",
    "        f=open(filename,\"r\")\n",
    "        line=f.readline().split()\n",
    "        nums=list(map(int,line))\n",
    "    except FileNotFoundError:\n",
    "        print(f'file {filename} cannot be found')\n",
    "        return \n",
    "    except ValueError:\n",
    "        print(f'{filename} contains invalid values')\n",
    "        return \n",
    "    except:\n",
    "        print('Unknown error cannot proceed')\n",
    "        return \n",
    "    return nums\n",
    "nums=None\n",
    "while nums==None: \n",
    "    filename=input(\"please enter the name of a file or Q to quit\")\n",
    "    if filename==\"Q\":\n",
    "        break\n",
    "    nums=readNums(filename)\n",
    "    print(nums)\n",
    "\n"
   ]
  },
  {
   "cell_type": "markdown",
   "metadata": {},
   "source": [
    "### Some Details about file IO\n",
    "1. A file object in Python can be thought of as a **stream** (an ordered sequence) of characters in case of text files and a stream of bytes in the case of binary files\n",
    "1. Python keeps the **current** position in the stream"
   ]
  },
  {
   "cell_type": "code",
   "execution_count": null,
   "metadata": {},
   "outputs": [],
   "source": [
    "f=open(\"somefile.txt\",\"r\")\n",
    "## initially the position is 0, the beginning\n",
    "print(f.tell())\n",
    "first_line=f.readline()\n",
    "print(first_line)\n",
    "## line one has 9 characters, including the \\n character\n",
    "print(f.tell())\n",
    "c=f.read(1)\n",
    "print(f'read {c} now the position is at {f.tell()}')\n",
    "f.seek(0)\n",
    "print(f.readline())"
   ]
  },
  {
   "cell_type": "code",
   "execution_count": null,
   "metadata": {},
   "outputs": [],
   "source": [
    "f=open(\"newFile.txt\",\"r+\")\n",
    "f.write(\"first column\\t\")\n",
    "p=f.tell()\n",
    "print(p)\n",
    "f.write(\"second column\")\n",
    "f.seek(p-1)\n",
    "f.write(',')\n",
    "f.seek(0)\n",
    "s=f.read()\n",
    "for c in s:\n",
    "    print(ord(c),end=' ')\n",
    "print()\n",
    "print(s)"
   ]
  },
  {
   "cell_type": "markdown",
   "metadata": {},
   "source": [
    "## "
   ]
  },
  {
   "cell_type": "code",
   "execution_count": 123,
   "metadata": {},
   "outputs": [
    {
     "data": {
      "text/plain": [
       "-0.40797181193583265"
      ]
     },
     "execution_count": 123,
     "metadata": {},
     "output_type": "execute_result"
    }
   ],
   "source": [
    "from random import gauss\n",
    "gauss(1,3)"
   ]
  },
  {
   "cell_type": "code",
   "execution_count": 216,
   "metadata": {},
   "outputs": [
    {
     "name": "stdout",
     "output_type": "stream",
     "text": [
      "2.2682106532922823\n",
      "2.302585092994046\n",
      "2.3346710627693485\n"
     ]
    }
   ],
   "source": [
    "from math import sin,cos,pi,log\n",
    "from random import uniform,triangular\n",
    "## integral of sin(x) from 0 to pi is 2\n",
    "sum=0\n",
    "x=10\n",
    "trials=100\n",
    "for i in range(trials):\n",
    "    r=uniform(1,x)\n",
    "    #r=triangular(1,x)\n",
    "    sum+=1/r\n",
    "print(9*sum/trials)\n",
    "print(log(10))\n",
    "points=100\n",
    "dx=9/points\n",
    "sum=0\n",
    "x=1\n",
    "for i in range(1,points):\n",
    "    sum+=1/x\n",
    "    x+=dx\n",
    "print(sum*dx)\n",
    "\n",
    "\n"
   ]
  },
  {
   "cell_type": "code",
   "execution_count": 254,
   "metadata": {},
   "outputs": [
    {
     "name": "stdout",
     "output_type": "stream",
     "text": [
      "0 0\n",
      "0.25 0.5\n",
      "0.5 1.0\n",
      "0.75 0.5\n",
      "1.0 0.0\n",
      "0.5\n",
      "[0, 3, 5, 1, 1]\n",
      "0.9724056689502977\n"
     ]
    }
   ],
   "source": [
    "def tr(x):\n",
    "    if x<=0.5:\n",
    "        return 2*x\n",
    "    else:\n",
    "        return 2-2*x\n",
    "\n",
    "n=4\n",
    "dx=1/n\n",
    "x=0\n",
    "sum=0\n",
    "for i in range(n+1):\n",
    "    print(x,tr(x))\n",
    "    sum+=tr(x)*dx\n",
    "    x+=dx\n",
    "print(sum)\n",
    "dist=5*[0]\n",
    "sum=0\n",
    "trials=10\n",
    "for i in range(trials):\n",
    "    r=triangular()\n",
    "    sum+=r\n",
    "    dist[int(round(r*4))]+=1\n",
    "\n",
    "print(dist)\n",
    "print(2*sum/trials)"
   ]
  },
  {
   "cell_type": "code",
   "execution_count": null,
   "metadata": {},
   "outputs": [],
   "source": []
  }
 ],
 "metadata": {
  "interpreter": {
   "hash": "63fd5069d213b44bf678585dea6b12cceca9941eaf7f819626cde1f2670de90d"
  },
  "kernelspec": {
   "display_name": "Python 3.9.6 64-bit",
   "name": "python3"
  },
  "language_info": {
   "codemirror_mode": {
    "name": "ipython",
    "version": 3
   },
   "file_extension": ".py",
   "mimetype": "text/x-python",
   "name": "python",
   "nbconvert_exporter": "python",
   "pygments_lexer": "ipython3",
   "version": "3.9.6"
  },
  "orig_nbformat": 4
 },
 "nbformat": 4,
 "nbformat_minor": 2
}
