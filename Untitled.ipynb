{
 "cells": [
  {
   "cell_type": "markdown",
   "id": "6355d7e2",
   "metadata": {},
   "source": [
    "##### Max subarray sum\n",
    "- Give an array of numbers, e.g. A=[9,-12,5,17,4,-6,2,3]\n",
    "- Find the **largest sum** that could be obtained from a subarray of A\n",
    "- In the above the answer is 26 which is the sum of [5,17,4]\n",
    "- Note: We way the sum only, not the actual subarray"
   ]
  },
  {
   "cell_type": "markdown",
   "id": "24f84b1a",
   "metadata": {},
   "source": [
    "#### Strategy\n",
    "- iterate over all possible subarrays\n",
    "- for each one compute the sum\n",
    "- select the largest one\n",
    "- very similar to finding the largest number in a sequence\n",
    "   - Assume the first number is max\n",
    "   - iterate over the remaining numbers\n",
    "   - for each such number x if x> max then max=x"
   ]
  },
  {
   "cell_type": "code",
   "execution_count": null,
   "id": "7d8788aa",
   "metadata": {},
   "outputs": [],
   "source": [
    "A=[9,-12,5,17,4,-6,2,3]\n",
    "max=A[0]\n",
    "for i in range(0,len(A)-1):\n",
    "    for j in range(i,len(A)-1):\n",
    "        sum=0\n",
    "        for k in range(i,j+1):\n",
    "            sum+=A[k]\n",
    "        if sum>max:\n",
    "            max=sum\n",
    "print(max)\n",
    "print(a,b)"
   ]
  },
  {
   "cell_type": "markdown",
   "id": "8719515b",
   "metadata": {},
   "source": [
    "#### Variant\n",
    "- Can we find the actual subarray not just the sum?\n",
    "- Can we read the input from the user?"
   ]
  },
  {
   "cell_type": "code",
   "execution_count": null,
   "id": "b17b3321",
   "metadata": {},
   "outputs": [],
   "source": [
    "n=int(input(\"Enter the number of values:\"))\n",
    "A=[]\n",
    "for i in range(n):\n",
    "    x=int(input(\"Enter the next number:\"))\n",
    "    A.append(x)\n",
    "max=A[0]\n",
    "for i in range(0,len(A)-1):\n",
    "    for j in range(i,len(A)-1):\n",
    "        sum=0\n",
    "        for k in range(i,j+1):\n",
    "            sum+=A[k]\n",
    "        if sum>max:\n",
    "            a,b,max=i,j,sum\n",
    "print(f'max subarray sum is {max}')\n",
    "print(f'the array is {A[a:b+1]}')"
   ]
  }
 ],
 "metadata": {
  "kernelspec": {
   "display_name": "Python 3",
   "language": "python",
   "name": "python3"
  },
  "language_info": {
   "codemirror_mode": {
    "name": "ipython",
    "version": 3
   },
   "file_extension": ".py",
   "mimetype": "text/x-python",
   "name": "python",
   "nbconvert_exporter": "python",
   "pygments_lexer": "ipython3",
   "version": "3.9.6"
  }
 },
 "nbformat": 4,
 "nbformat_minor": 5
}
