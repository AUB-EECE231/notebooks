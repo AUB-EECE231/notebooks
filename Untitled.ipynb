{
 "cells": [
  {
   "cell_type": "code",
   "execution_count": 2,
   "id": "d4f5a65c",
   "metadata": {},
   "outputs": [],
   "source": [
    "class basic:\n",
    "    pass\n",
    "    "
   ]
  },
  {
   "cell_type": "code",
   "execution_count": 5,
   "id": "994c327f",
   "metadata": {},
   "outputs": [
    {
     "name": "stdout",
     "output_type": "stream",
     "text": [
      "<class 'type'>\n",
      "<class 'type'>\n"
     ]
    }
   ],
   "source": [
    "print(type(basic))\n",
    "print(type(int))"
   ]
  },
  {
   "cell_type": "code",
   "execution_count": 9,
   "id": "20415668",
   "metadata": {},
   "outputs": [],
   "source": [
    "a=basic()\n",
    "x=2"
   ]
  },
  {
   "cell_type": "code",
   "execution_count": 10,
   "id": "8450c39b",
   "metadata": {},
   "outputs": [
    {
     "data": {
      "text/plain": [
       "int"
      ]
     },
     "execution_count": 10,
     "metadata": {},
     "output_type": "execute_result"
    }
   ],
   "source": [
    "type(a)\n",
    "type(x)"
   ]
  },
  {
   "cell_type": "code",
   "execution_count": 25,
   "id": "53b69993",
   "metadata": {},
   "outputs": [
    {
     "name": "stdout",
     "output_type": "stream",
     "text": [
      "x=1\n",
      "x=0\n"
     ]
    }
   ],
   "source": [
    "## object is an \"instance\" of a class\n",
    "class basic:\n",
    "    def __init__(self):\n",
    "        self.x=0\n",
    "    def inc(self):\n",
    "        self.x+=1\n",
    "    def print(self):\n",
    "        print(f'x={self.x}')\n",
    "    \n",
    "\n",
    "a=basic()\n",
    "b=basic()\n",
    "a.inc()\n",
    "a.print()\n",
    "b.print()"
   ]
  },
  {
   "cell_type": "code",
   "execution_count": 70,
   "id": "c047ed04",
   "metadata": {},
   "outputs": [
    {
     "name": "stdout",
     "output_type": "stream",
     "text": [
      "1/8\n"
     ]
    }
   ],
   "source": [
    "## r is 1/4\n",
    "from math import gcd\n",
    "class Rational:\n",
    "    def __init__(self,n,d):\n",
    "        self.n,self.d=n,d\n",
    "        \n",
    "    def __reduce(self):\n",
    "        g=gcd(self.n,self.d)\n",
    "        self.n=self.n//g\n",
    "        self.d=self.d//g\n",
    "        \n",
    "    def mult(self,other):\n",
    "        self.n=self.n*other.n\n",
    "        self.d=self.d*other.d\n",
    "        __reduce()\n",
    "        \n",
    "    def __mul__(self,other):\n",
    "        n=self.n*other.n\n",
    "        d=self.d*other.d\n",
    "        r=Rational(n,d)\n",
    "        r.__reduce()\n",
    "        return r\n",
    "    \n",
    "    def __eq__(self,other):\n",
    "        self.__reduce()\n",
    "        other.__reduce()\n",
    "        return self.n==other.n and self.d==other.d\n",
    "        \n",
    "    def __lt__(self,other):\n",
    "        return self.n*other.d <self.d*other.n\n",
    "    \n",
    "    def mult(self,other):\n",
    "        self.n=self.n*other.n\n",
    "        self.d=self.d*other.d\n",
    "    def __str__(self):\n",
    "        return f'{self.n}/{self.d}'\n",
    "        \n",
    "a=Rational(1,2)\n",
    "b=Rational(1,4)\n",
    "# * is mapped to __mul__\n",
    "c=a*b\n",
    "print(c)    "
   ]
  },
  {
   "cell_type": "code",
   "execution_count": 71,
   "id": "c18391c2",
   "metadata": {},
   "outputs": [
    {
     "data": {
      "text/plain": [
       "False"
      ]
     },
     "execution_count": 71,
     "metadata": {},
     "output_type": "execute_result"
    }
   ],
   "source": [
    "a<b"
   ]
  },
  {
   "cell_type": "markdown",
   "id": "8af205d8",
   "metadata": {},
   "source": [
    "### Encapsulation"
   ]
  },
  {
   "cell_type": "code",
   "execution_count": 88,
   "id": "1a2cea29",
   "metadata": {},
   "outputs": [],
   "source": [
    "class basic:\n",
    "    def __init__(self):\n",
    "        self.__x=0\n",
    "    def setX(self,v):\n",
    "        self.__x=v\n",
    "    def getX(self):\n",
    "        return self.__x\n",
    "    def __str__(self):\n",
    "        return f'{self.__x}'"
   ]
  },
  {
   "cell_type": "code",
   "execution_count": 94,
   "id": "7eb59227",
   "metadata": {},
   "outputs": [
    {
     "name": "stdout",
     "output_type": "stream",
     "text": [
      "17\n"
     ]
    }
   ],
   "source": [
    "a=basic()\n",
    "a.setX(17)\n",
    "a.__x=18\n",
    "print(a)"
   ]
  },
  {
   "cell_type": "code",
   "execution_count": null,
   "id": "9022c107",
   "metadata": {},
   "outputs": [],
   "source": []
  },
  {
   "cell_type": "code",
   "execution_count": 86,
   "id": "09b0568f",
   "metadata": {},
   "outputs": [
    {
     "name": "stdout",
     "output_type": "stream",
     "text": [
      "0\n"
     ]
    }
   ],
   "source": []
  },
  {
   "cell_type": "code",
   "execution_count": null,
   "id": "30247bc3",
   "metadata": {},
   "outputs": [],
   "source": []
  }
 ],
 "metadata": {
  "kernelspec": {
   "display_name": "Python 3",
   "language": "python",
   "name": "python3"
  },
  "language_info": {
   "codemirror_mode": {
    "name": "ipython",
    "version": 3
   },
   "file_extension": ".py",
   "mimetype": "text/x-python",
   "name": "python",
   "nbconvert_exporter": "python",
   "pygments_lexer": "ipython3",
   "version": "3.9.6"
  }
 },
 "nbformat": 4,
 "nbformat_minor": 5
}
