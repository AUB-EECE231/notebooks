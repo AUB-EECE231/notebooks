{
 "cells": [
  {
   "cell_type": "markdown",
   "metadata": {},
   "source": [
    "# Problem 1"
   ]
  },
  {
   "cell_type": "code",
   "execution_count": 1,
   "metadata": {
    "collapsed": true
   },
   "outputs": [
    {
     "name": "stdout",
     "output_type": "stream",
     "text": [
      "True\n",
      "True\n",
      "True\n",
      "False\n",
      "False\n"
     ]
    }
   ],
   "source": [
    "def loginSuccess(users,username, password):\n",
    "    return (username in users) and (users[username]==password)\n",
    "\n",
    "d = {'user1':'pass1', 'user2':'pass2', 'user3':'pass3'}\n",
    "\n",
    "print(loginSuccess(d,'user1','pass1')) #success\n",
    "print(loginSuccess(d,'user2','pass2')) #success\n",
    "print(loginSuccess(d,'user3','pass3')) #success\n",
    "print(loginSuccess(d,'user1','pass2')) #wrong password\n",
    "print(loginSuccess(d,'user5','pass1')) #non-existing user"
   ]
  },
  {
   "cell_type": "markdown",
   "metadata": {},
   "source": [
    "# Problem 2"
   ]
  },
  {
   "cell_type": "code",
   "execution_count": 6,
   "metadata": {
    "collapsed": true
   },
   "outputs": [
    {
     "name": "stdout",
     "output_type": "stream",
     "text": [
      "RATHER GEEKY BUT THIS COURSE IS KIND OF FUN\n"
     ]
    }
   ],
   "source": [
    "def convertToMorse(s,morse_dictionary):  \n",
    "    L = s.split()\n",
    "    output = ''\n",
    "    for word in L:\n",
    "        for c in word:\n",
    "            output += morse_dictionary[c] + ' '\n",
    "        output +='|'\n",
    "        \n",
    "    return output[:-1]\n",
    "        \n",
    "\n",
    "def codeReversal(morse_dictionary):\n",
    "    d = {}\n",
    "    for k,v in morse_dictionary.items():\n",
    "        d[v] = k\n",
    "    return d\n",
    "        \n",
    "\n",
    "def convertFromMorse(s, morse_dictionary): \n",
    "    rev_morse = codeReversal(morse_dictionary)\n",
    "    L = s.split('|')\n",
    "    output = ''\n",
    "    for word in L:\n",
    "        w = word.split()\n",
    "        for c in w:\n",
    "            output += rev_morse[c]\n",
    "        output+=' '\n",
    "        \n",
    "    return output[:-1]\n",
    "            \n",
    "\n",
    "morse = {\n",
    "\"A\" : \".-\", \n",
    "\"B\" : \"-...\", \n",
    "\"C\" : \"-.-.\", \n",
    "\"D\" : \"-..\", \n",
    "\"E\" : \".\", \n",
    "\"F\" : \"..-.\", \n",
    "\"G\" : \"--.\", \n",
    "\"H\" : \"....\", \n",
    "\"I\" : \"..\", \n",
    "\"J\" : \".---\", \n",
    "\"K\" : \"-.-\", \n",
    "\"L\" : \".-..\", \n",
    "\"M\" : \"--\", \n",
    "\"N\" : \"-.\", \n",
    "\"O\" : \"---\", \n",
    "\"P\" : \".--.\", \n",
    "\"Q\" : \"--.-\", \n",
    "\"R\" : \".-.\", \n",
    "\"S\" : \"...\", \n",
    "\"T\" : \"-\", \n",
    "\"U\" : \"..-\", \n",
    "\"V\" : \"...-\", \n",
    "\"W\" : \".--\", \n",
    "\"X\" : \"-..-\", \n",
    "\"Y\" : \"-.--\", \n",
    "\"Z\" : \"--..\", \n",
    "\"0\" : \"-----\", \n",
    "\"1\" : \".----\", \n",
    "\"2\" : \"..---\", \n",
    "\"3\" : \"...--\", \n",
    "\"4\" : \"....-\", \n",
    "\"5\" : \".....\", \n",
    "\"6\" : \"-....\", \n",
    "\"7\" : \"--...\", \n",
    "\"8\" : \"---..\", \n",
    "\"9\" : \"----.\", \n",
    "\".\" : \".-.-.-\", \n",
    "\",\" : \"--..--\"\n",
    "}\n",
    "\n",
    "#print(convertToMorse('HELLO THERE, I AM OVER HERE.',morse))\n",
    "#print(codeReversal(morse))\n",
    "print(convertFromMorse('.-. .- - .... . .-. | --. . . -.- -.-- | -... ..- - | - .... .. ... |-.-. --- ..- .-. ... . | .. ... | -.- .. -. -.. | --- ..-. | ..-. ..- -.',morse))"
   ]
  },
  {
   "cell_type": "markdown",
   "metadata": {},
   "source": [
    "# Problem 3"
   ]
  },
  {
   "cell_type": "code",
   "execution_count": 8,
   "metadata": {
    "collapsed": true
   },
   "outputs": [
    {
     "name": "stdout",
     "output_type": "stream",
     "text": [
      "True\n",
      "True\n",
      "True\n",
      "False\n",
      "False\n",
      "False\n",
      "False\n",
      "True\n",
      "True\n",
      "False\n"
     ]
    }
   ],
   "source": [
    "def parenthesesAndBracesChecker(s):\n",
    "    stack = []\n",
    "    for c in s:\n",
    "        if c=='(' or c=='[':\n",
    "            stack.append(c)\n",
    "        elif c==')' or c==']':\n",
    "            if len(stack)==0:\n",
    "                return False\n",
    "            op = stack.pop()\n",
    "            if c==')' and op!='(':\n",
    "                return False\n",
    "            if c==']' and op!='[':\n",
    "                return False\n",
    "            \n",
    "    return len(stack)==0\n",
    "            \n",
    "            \n",
    "print(parenthesesAndBracesChecker(\"a(aa)aa\"))\n",
    "print(parenthesesAndBracesChecker(\"aa(b(cd))e[ab]\"))                  \n",
    "print(parenthesesAndBracesChecker(\"([aa(b)c[[aaaaa]]r(d)])\"))\n",
    "print(parenthesesAndBracesChecker(\"a([b)]\"))\n",
    "print(parenthesesAndBracesChecker(\"((aab)d\"))\n",
    "print(parenthesesAndBracesChecker(\"((\"))\n",
    "print(parenthesesAndBracesChecker(\"ef)]\"))\n",
    "print(parenthesesAndBracesChecker(\"\"))\n",
    "print(parenthesesAndBracesChecker(\"abcd\"))\n",
    "print(parenthesesAndBracesChecker(\"abcd[\"))\n",
    "       "
   ]
  },
  {
   "cell_type": "markdown",
   "metadata": {},
   "source": [
    "# Problem 4"
   ]
  },
  {
   "cell_type": "markdown",
   "metadata": {},
   "source": [
    "### Part a"
   ]
  },
  {
   "cell_type": "code",
   "execution_count": 9,
   "metadata": {
    "collapsed": true
   },
   "outputs": [
    {
     "name": "stdout",
     "output_type": "stream",
     "text": [
      "True\n",
      "True\n",
      "True\n",
      "True\n",
      "False\n",
      "True\n",
      "True\n",
      "True\n",
      "False\n"
     ]
    }
   ],
   "source": [
    "def anagrams(s1,s2):\n",
    "    d1 = {}\n",
    "    d2 = {}\n",
    "    \n",
    "    for c in s1:\n",
    "        if c in d1:\n",
    "            d1[c]+= 1\n",
    "        else:\n",
    "            d1[c] = 1\n",
    "            \n",
    "    for c in s2:\n",
    "        if c in d2:\n",
    "            d2[c]+= 1\n",
    "        else:\n",
    "            d2[c] = 1   \n",
    "    \n",
    "    return d1==d2\n",
    "        \n",
    "print(anagrams(\"\",\"\"))\n",
    "print(anagrams(\"i\",\"i\"))\n",
    "print(anagrams(\"is\",\"si\"))\n",
    "print(anagrams(\"fun\",\"nfu\"))\n",
    "print(anagrams(\"aaabaab\",\"abba\"))\n",
    "print(anagrams(\"aaabaab\",\"baabaaa\"))\n",
    "print(anagrams(\"EECE231\",\"EECE231\"))\n",
    "print(anagrams(\"EECE231\",\"3EE12CE\"))\n",
    "print(anagrams(\"EECE231\",\"3EEE12E\"))           "
   ]
  },
  {
   "cell_type": "markdown",
   "metadata": {},
   "source": [
    "### Part b"
   ]
  },
  {
   "cell_type": "code",
   "execution_count": 16,
   "metadata": {
    "collapsed": true
   },
   "outputs": [
    {
     "name": "stdout",
     "output_type": "stream",
     "text": [
      "[-1, -1, 2]\n",
      "[-1, -1, 4, 3, -5]\n",
      "[1, -1]\n",
      "[0]\n",
      "[]\n",
      "[-1, -1, 2]\n",
      "[2, -1, 0, -1]\n",
      "[0, -2, 1, 0, 1, -1, 0, -1, 2]\n"
     ]
    }
   ],
   "source": [
    "def longestZeroSumSubList(L):\n",
    "    d = {}\n",
    "    iMax = 0\n",
    "    jMax = -1\n",
    "    \n",
    "    curr_sum=0\n",
    "    \n",
    "    for j in range(len(L)):\n",
    "        curr_sum+=L[j]\n",
    "        \n",
    "        if curr_sum == 0:\n",
    "            iMax = 0\n",
    "            jMax = j\n",
    "        \n",
    "        if curr_sum in d:    \n",
    "            if jMax==-1 or j-(d[curr_sum]+1) > jMax - iMax:\n",
    "                iMax = d[curr_sum]+1\n",
    "                jMax = j\n",
    "        else:\n",
    "            d[curr_sum] = j\n",
    "        \n",
    "    return L[iMax: jMax+1]\n",
    "            \n",
    "\n",
    "print(longestZeroSumSubList([1, 10, -1, -1, 2, 3, -5, 26]))\n",
    "print(longestZeroSumSubList([1 ,10, -1, -1, 4, 3, -5, 26]))\n",
    "print(longestZeroSumSubList([1, 10, 1, -1, 4, 3, -5, 26]))\n",
    "print(longestZeroSumSubList([1, 10, 1, 0, 4, 3, -5, 26]))\n",
    "print(longestZeroSumSubList([1, 10, 1, 1, 4, 3, -5, 26]))\n",
    "print(longestZeroSumSubList([-1, -1, 2, 3, -5, 26]))\n",
    "print(longestZeroSumSubList([2, 2, -1, 0, -1, 2]))\n",
    "print(longestZeroSumSubList([1, 0, -2, 1, 0, 1, -1, 0, -1, 2, -2, -2]))"
   ]
  }
 ],
 "metadata": {
  "kernelspec": {
   "display_name": "Python 3",
   "language": "python",
   "name": "python3"
  },
  "language_info": {
   "codemirror_mode": {
    "name": "ipython",
    "version": 3
   },
   "file_extension": ".py",
   "mimetype": "text/x-python",
   "name": "python",
   "nbconvert_exporter": "python",
   "pygments_lexer": "ipython3",
   "version": "3.8.5"
  }
 },
 "nbformat": 4,
 "nbformat_minor": 4
}
