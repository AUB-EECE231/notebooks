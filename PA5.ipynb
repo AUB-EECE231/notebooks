{
 "cells": [
  {
   "cell_type": "code",
   "execution_count": null,
   "metadata": {},
   "outputs": [],
   "source": [
    "### problem 1\n",
    "d={\"one\":\"pone\",\"two\":\"ptwo\",\"three\":\"pthree\"}\n",
    "def loginSuccess(users:dict,username:str,password:str):\n",
    "    pwd=users.get(username,False)\n",
    "    return pwd and pwd==password\n",
    "\n",
    "r=loginSuccess(d,\"one\",\"pone\")\n",
    "print(r)\n",
    "r=loginSuccess(d,\"tone\",\"pone\")\n",
    "print(r)\n",
    "r=loginSuccess(d,\"one\",\"tone\")\n",
    "print(r)"
   ]
  },
  {
   "cell_type": "code",
   "execution_count": null,
   "metadata": {},
   "outputs": [],
   "source": [
    "### Problem 2\n",
    "morse = {\"A\" : \".-\", \"B\" : \"-...\", \"C\" : \"-.-.\", \"D\" : \"-..\", \"E\" : \".\", \"F\" : \"..-.\", \"G\" : \"--.\", \"H\" : \"....\", \n",
    "\"I\" : \"..\", \"J\" : \".---\", \"K\" : \"-.-\", \"L\" : \".-..\", \"M\" : \"--\", \"N\" : \"-.\", \"O\" : \"---\", \"P\" : \".--.\", \"Q\" : \"--.-\", \n",
    "\"R\" : \".-.\", \"S\" : \"...\", \"T\" : \"-\", \"U\" : \"..-\", \"V\" : \"...-\", \"W\" : \".--\", \"X\" : \"-..-\", \"Y\" : \"-.--\", \"Z\" : \"--..\", \n",
    "\"0\" : \"-----\", \"1\" : \".----\", \"2\" : \"..---\", \"3\" : \"...--\", \"4\" : \"....-\", \"5\" : \".....\", \"6\" : \"-....\", \"7\" : \"--...\", \n",
    "\"8\" : \"---..\", \"9\" : \"----.\", \".\" : \".-.-.-\", \",\" : \"--..--\"\n",
    "}"
   ]
  },
  {
   "cell_type": "code",
   "execution_count": null,
   "metadata": {},
   "outputs": [],
   "source": [
    "def convertToMorse(code,string):\n",
    "    seq=[]\n",
    "    n=len(string)\n",
    "    for i in range(n-1):# process all except the last character\n",
    "        if string[i]==\" \":\n",
    "            seq.append(\" | \")\n",
    "        elif string[i+1]==\" \":\n",
    "            seq.append(morse[string[i]])\n",
    "        else:\n",
    "            seq.append(morse[string[i]])\n",
    "            seq.append(\" \")\n",
    "    seq.append(morse[string[n-1]])\n",
    "    return \"\".join(seq)\n",
    "\n",
    "r=convertToMorse(d,\"EECE 231\")\n",
    "print(r)\n",
    "def codeReversal(d):\n",
    "    return {val:key for key,val in d.items()}\n",
    "\n",
    "r=codeReversal(morse)\n",
    "print(r)"
   ]
  },
  {
   "cell_type": "code",
   "execution_count": 27,
   "metadata": {},
   "outputs": [
    {
     "name": "stdout",
     "output_type": "stream",
     "text": [
      "RATHER GEEKY BUT THIS COURSE IS KIND OF FUN "
     ]
    }
   ],
   "source": [
    "def convertFromMore(string):\n",
    "    seq=string.split(\" | \")\n",
    "    conv=[]\n",
    "    reverseMorse=codeReversal(morse)\n",
    "    for s in seq:\n",
    "        chars=s.split(\" \")\n",
    "        c=\"\".join([reverseMorse[c] for c in chars ])\n",
    "        print(c,end=\" \")\n",
    "\n",
    "r=convertToMorse(d,\"EECE 231\")\n",
    "r=\".-. .- - .... . .-. | --. . . -.- -.-- | -... ..- - | - .... .. ... | -.-. --- ..- .-. ... . | .. ... | -.- .. -. -.. | --- ..-. | ..-. ..- -.\"\n",
    "\n",
    "convertFromMore(r)"
   ]
  },
  {
   "cell_type": "code",
   "execution_count": null,
   "metadata": {},
   "outputs": [],
   "source": []
  }
 ],
 "metadata": {
  "interpreter": {
   "hash": "63fd5069d213b44bf678585dea6b12cceca9941eaf7f819626cde1f2670de90d"
  },
  "kernelspec": {
   "display_name": "Python 3.9.6 64-bit",
   "name": "python3"
  },
  "language_info": {
   "codemirror_mode": {
    "name": "ipython",
    "version": 3
   },
   "file_extension": ".py",
   "mimetype": "text/x-python",
   "name": "python",
   "nbconvert_exporter": "python",
   "pygments_lexer": "ipython3",
   "version": "3.9.6"
  },
  "orig_nbformat": 4
 },
 "nbformat": 4,
 "nbformat_minor": 2
}
