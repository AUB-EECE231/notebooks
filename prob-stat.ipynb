{
 "cells": [
  {
   "cell_type": "markdown",
   "metadata": {},
   "source": [
    "### Monte Carlo\n",
    "\n",
    "- Monte Carlo is a stochastic method to approximate results by using random numbers\n",
    "- A simple application is the approximation of $\\pi$.\n",
    "- We \"draw\" a unit circle inside a unit square: the area of the square is 4 and that of the\n",
    "  circle is $\\pi$ with a ratio of $\\frac{\\pi}{4}$.\n",
    "- If we generate $n$ truly random numbers in the 2-d interval and $m$ of them fall inside the circle then $\\frac{m}{n}\\approx \\frac{\\pi}{4}$"
   ]
  },
  {
   "cell_type": "code",
   "execution_count": 1,
   "metadata": {},
   "outputs": [],
   "source": [
    "import numpy.random as rand\n",
    "from math import pi\n",
    "import matplotlib.pyplot as plt\n",
    "def approximatePi(n):\n",
    "    m = 0\n",
    "    for i in range(n):\n",
    "        x = rand.uniform(-1,1)\n",
    "        y = rand.uniform(-1,1)\n",
    "        if x**2+y**2<=1:\n",
    "            m+=1\n",
    "    return 4*m/n\n",
    "ests = []\n",
    "for n in range(10, 10001, 10):\n",
    "    est = approximatePi(n)\n",
    "    ests.append(est)"
   ]
  },
  {
   "cell_type": "code",
   "execution_count": 2,
   "metadata": {},
   "outputs": [
    {
     "data": {
      "text/plain": [
       "[<matplotlib.lines.Line2D at 0x22b6b39f760>]"
      ]
     },
     "execution_count": 2,
     "metadata": {},
     "output_type": "execute_result"
    },
    {
     "data": {
      "image/png": "[encoded data removed]",
      "text/plain": [
       "<Figure size 432x288 with 1 Axes>"
      ]
     },
     "metadata": {
      "needs_background": "light"
     },
     "output_type": "display_data"
    }
   ],
   "source": [
    "plt.plot(range(10,10001,10),ests)"
   ]
  },
  {
   "cell_type": "markdown",
   "metadata": {},
   "source": [
    "### Coin toss\n",
    "\n",
    "- Given a experiment with a set of possible outcomes $O$\n",
    "- We would like to determine the **probability** of the occurrence of outcome $o\\in O$\n",
    "- There are two school in the field of probability/statistics:\n",
    "    1. Bayesian\n",
    "    1. Frequentist\n",
    "- For simplicity we will use the frquentist interpretation: if an experiment is repeated $n$ times and outcome $o$ occurred $m$ times then in the limit of very large $n$ \n",
    "$$\\frac{m}{n}\\rightarrow Pr(o)$$"
   ]
  },
  {
   "cell_type": "markdown",
   "metadata": {},
   "source": [
    "### Example: Coin toss\n",
    "\n",
    "- In this experiment we toss two coins with possible outcomes: TT,TH,HT,HH\n",
    "- Since we are assuming an unbiased coin we expect the probability of each outcome to be the same $\\frac{1}{4}$\n",
    "- Note that since each toss is independent of the others, tossing two coins at the same time or in sequence is the same"
   ]
  },
  {
   "cell_type": "code",
   "execution_count": 27,
   "metadata": {},
   "outputs": [
    {
     "name": "stdout",
     "output_type": "stream",
     "text": [
      "[0.25013  0.250296 0.250213 0.249361]\n"
     ]
    }
   ],
   "source": [
    "import numpy as np\n",
    "\n",
    "trials=1000000\n",
    "events=np.zeros((4))\n",
    "for i in range(trials):\n",
    "    t1=np.random.randint(0,2)\n",
    "    t2=np.random.randint(0,2)\n",
    "    if t1==0 and t2==0:\n",
    "        events[0]+=1\n",
    "    elif t1==0 and t2==1:\n",
    "        events[1]+=1\n",
    "    elif t1==1 and t2==0:\n",
    "        events[2]+=1\n",
    "    else:\n",
    "        events[3]+=1\n",
    "\n",
    "print(events/trials)"
   ]
  },
  {
   "cell_type": "markdown",
   "metadata": {},
   "source": [
    "### Statistics\n",
    "\n",
    "- Given a set of, seemingly random, data one would like to extract \"meaningful\" values from the data\n",
    "- Some of such values are : mean ,median,variance, standard deviation,..."
   ]
  },
  {
   "cell_type": "code",
   "execution_count": 4,
   "metadata": {},
   "outputs": [
    {
     "name": "stdout",
     "output_type": "stream",
     "text": [
      "12 217\n"
     ]
    }
   ],
   "source": [
    "## 50,000 employees with salaries in \n",
    "## the range 12 to 36 MLL\n",
    "incomes=np.random.randint(12,36+1,50000)\n",
    "#add the income of 1000 members of parliament \n",
    "## between 120 adn 153 MLL\n",
    "incomes=np.append(incomes,np.random.randint(120,153+1,1000))\n",
    "## add the income of 5 presidents between 202 and 225\n",
    "incomes=np.append(incomes,np.random.randint(202,225+1,5))\n",
    "## add the incomes of 1 Speaker 208 \n",
    "incomes=np.append(incomes,208)\n",
    "## add the incomes of 7 primes ministers between 189 and 208\n",
    "incomes=np.append(incomes,np.random.randint(189,208+1,7))\n",
    "# Minimum income\n",
    "print(np.min(incomes),np.max(incomes))"
   ]
  },
  {
   "cell_type": "code",
   "execution_count": 13,
   "metadata": {},
   "outputs": [
    {
     "data": {
      "image/png": "[encoded data removed]",
      "text/plain": [
       "<Figure size 432x288 with 1 Axes>"
      ]
     },
     "metadata": {
      "needs_background": "light"
     },
     "output_type": "display_data"
    }
   ],
   "source": [
    "import matplotlib.pyplot as plt\n",
    "plt.hist(incomes,bins=113,rwidth=0.5)\n",
    "#plt.xlim(200,250)\n",
    "#plt.ylim(0,20)\n",
    "plt.show()"
   ]
  },
  {
   "cell_type": "code",
   "execution_count": 6,
   "metadata": {},
   "outputs": [
    {
     "name": "stdout",
     "output_type": "stream",
     "text": [
      "26.264756042577382\n",
      "24.0\n",
      "24.0\n"
     ]
    }
   ],
   "source": [
    "print(np.mean(incomes))\n",
    "print(np.median(incomes))\n",
    "print(np.percentile(incomes,50))"
   ]
  },
  {
   "cell_type": "markdown",
   "metadata": {},
   "source": [
    "### Computing the mode\n",
    "\n",
    "- The most frequently occurring value"
   ]
  },
  {
   "cell_type": "code",
   "execution_count": 7,
   "metadata": {},
   "outputs": [
    {
     "data": {
      "text/plain": [
       "ModeResult(mode=array([29]), count=array([2061]))"
      ]
     },
     "execution_count": 7,
     "metadata": {},
     "output_type": "execute_result"
    }
   ],
   "source": [
    "from scipy import stats\n",
    "stats.mode(incomes)"
   ]
  },
  {
   "cell_type": "code",
   "execution_count": 14,
   "metadata": {},
   "outputs": [
    {
     "data": {
      "text/plain": [
       "2061"
      ]
     },
     "execution_count": 14,
     "metadata": {},
     "output_type": "execute_result"
    }
   ],
   "source": [
    "a=list(filter(lambda x: x==29,incomes))\n",
    "len(a)"
   ]
  },
  {
   "cell_type": "markdown",
   "metadata": {},
   "source": [
    "### Average, variance, standard deviation\n",
    "\n",
    "- Mean $$\\mu=\\frac{1}{n}\\sum_i v_i$$\n",
    "- Variance $$Var=\\frac{1}{n}\\sum_i (v_i-\\mu)^2$$\n",
    "- Standard deviation $$\\sigma=\\sqrt{Var}$$"
   ]
  },
  {
   "cell_type": "code",
   "execution_count": 10,
   "metadata": {},
   "outputs": [
    {
     "name": "stdout",
     "output_type": "stream",
     "text": [
      "305.8964617820742 17.48989599117371\n"
     ]
    }
   ],
   "source": [
    "print(np.var(incomes),np.std(incomes))\n"
   ]
  },
  {
   "cell_type": "markdown",
   "metadata": {},
   "source": [
    "### Adding a few billionaires \n",
    "\n",
    "- Now we add a few billionaires to the mix\n",
    "- 6 people with random income in the range 1,125,000 to 1,500,000 MLL\n",
    "- Compare the average and median before and after the additions"
   ]
  },
  {
   "cell_type": "code",
   "execution_count": 11,
   "metadata": {},
   "outputs": [
    {
     "name": "stdout",
     "output_type": "stream",
     "text": [
      "mean=26.26, median=24.0\n",
      "mean=196.26, median=24.0\n",
      "60% of the sample has income less than 27.0\n",
      "Var=305.8964617820742\n"
     ]
    }
   ],
   "source": [
    "print(f'mean={np.mean(incomes):.2f}, median={np.median(incomes)}')\n",
    "new_incomes=np.append(incomes,np.random.randint(1125000,1500000+1,6))\n",
    "print(f'mean={np.mean(new_incomes):.2f}, median={np.median(new_incomes)}')\n",
    "print(f'60% of the sample has income less than {np.percentile(new_incomes,60)}')\n",
    "print(f'Var={np.var(incomes)}')"
   ]
  },
  {
   "cell_type": "markdown",
   "metadata": {},
   "source": [
    "### Outliers\n",
    "\n",
    "- One why of filtering outliers is to retain the results that are within two std of the median"
   ]
  },
  {
   "cell_type": "code",
   "execution_count": 21,
   "metadata": {},
   "outputs": [
    {
     "name": "stdout",
     "output_type": "stream",
     "text": [
      "median=24.0,std=15677.31\n"
     ]
    },
    {
     "data": {
      "image/png": "[encoded data removed]",
      "text/plain": [
       "<Figure size 432x288 with 1 Axes>"
      ]
     },
     "metadata": {
      "needs_background": "light"
     },
     "output_type": "display_data"
    }
   ],
   "source": [
    "def reject_outliers(data):\n",
    "    u = np.median(data)\n",
    "    s = np.std(data)\n",
    "    filtered = [e for e in data if (u - s < e < u + s)]\n",
    "    return u,s,filtered\n",
    "m,s,filtered = reject_outliers(new_incomes)\n",
    "print(f'median={m},std={s:.2f}')\n",
    "#plt.ylim(0,20)\n",
    "plt.hist(filtered,50)\n",
    "plt.show()"
   ]
  },
  {
   "cell_type": "markdown",
   "metadata": {},
   "source": [
    "### Covariance and correlation coefficient\n",
    "\n",
    "- Covariance of two random variables $X,Y$ is given by (where E is the expectation value)\n",
    "$$cov(X,Y)=E[(X-E(X)(Y-E[Y])]$$\n",
    "Alternatively\n",
    "\n",
    "$$cov(X,Y)=E[XY]-E[X]E[Y]$$\n",
    "- If $X$ and $Y$ are **independent** then $E[XY]=E[X]E[Y]$ and thus the covariance is zero\n",
    "- A **normalized** measure of the covariance is the **correlation coefficient** with a value between -1 and 1"
   ]
  },
  {
   "cell_type": "code",
   "execution_count": 94,
   "metadata": {},
   "outputs": [
    {
     "name": "stdout",
     "output_type": "stream",
     "text": [
      "110.269\n",
      "Covariance matrix\n",
      "[[ 0.25012913 -0.00263463]\n",
      " [-0.00263463  0.25010611]]\n",
      "Correlation coefficient\n",
      "[[ 1.         -0.01053358]\n",
      " [-0.01053358  1.        ]]\n"
     ]
    }
   ],
   "source": [
    "x=np.random.randint(10,11+1,1000)\n",
    "y=np.random.randint(10,11+1,1000)\n",
    "print(\"Covariance matrix\")\n",
    "print(np.cov(x,y))\n",
    "print(\"Correlation coefficient\")\n",
    "print(np.corrcoef(x,y))\n"
   ]
  },
  {
   "cell_type": "code",
   "execution_count": 89,
   "metadata": {},
   "outputs": [
    {
     "data": {
      "text/plain": [
       "array([[ 1., -1.],\n",
       "       [-1.,  1.]])"
      ]
     },
     "execution_count": 89,
     "metadata": {},
     "output_type": "execute_result"
    }
   ],
   "source": [
    "x=[1,2,3]\n",
    "y=[3,2,1]\n",
    "np.corrcoef(x,y)"
   ]
  },
  {
   "cell_type": "code",
   "execution_count": 105,
   "metadata": {},
   "outputs": [
    {
     "data": {
      "text/plain": [
       "array([[1., 1.],\n",
       "       [1., 1.]])"
      ]
     },
     "execution_count": 105,
     "metadata": {},
     "output_type": "execute_result"
    }
   ],
   "source": [
    "z=[v+23 for v in x]\n",
    "np.corrcoef(x,z)"
   ]
  },
  {
   "cell_type": "code",
   "execution_count": null,
   "metadata": {},
   "outputs": [],
   "source": []
  }
 ],
 "metadata": {
  "interpreter": {
   "hash": "63fd5069d213b44bf678585dea6b12cceca9941eaf7f819626cde1f2670de90d"
  },
  "kernelspec": {
   "display_name": "Python 3",
   "language": "python",
   "name": "python3"
  },
  "language_info": {
   "codemirror_mode": {
    "name": "ipython",
    "version": 3
   },
   "file_extension": ".py",
   "mimetype": "text/x-python",
   "name": "python",
   "nbconvert_exporter": "python",
   "pygments_lexer": "ipython3",
   "version": "3.9.6"
  }
 },
 "nbformat": 4,
 "nbformat_minor": 2
}
